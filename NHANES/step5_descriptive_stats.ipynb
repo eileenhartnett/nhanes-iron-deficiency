{
 "cells": [
  {
   "cell_type": "markdown",
   "id": "f9e89d06",
   "metadata": {},
   "source": [
    "# NHANES - Descriptive statistics"
   ]
  },
  {
   "cell_type": "markdown",
   "id": "8a8b1b36",
   "metadata": {},
   "source": [
    "Purpose of this notebook: Create \"Table 1\""
   ]
  },
  {
   "cell_type": "markdown",
   "id": "8b3a92f5",
   "metadata": {},
   "source": [
    "## Load libraries"
   ]
  },
  {
   "cell_type": "code",
   "execution_count": 3,
   "id": "016f699d",
   "metadata": {},
   "outputs": [],
   "source": [
    "library(dplyr)\n",
    "library(ggplot2)\n",
    "library(survey)\n",
    "library(table1);"
   ]
  },
  {
   "cell_type": "markdown",
   "id": "b361778a",
   "metadata": {},
   "source": [
    "## Load data"
   ]
  },
  {
   "cell_type": "code",
   "execution_count": 4,
   "id": "7db6a975",
   "metadata": {},
   "outputs": [],
   "source": [
    "nhanes <- read.csv(\"data/nhanes.csv\")"
   ]
  },
  {
   "cell_type": "markdown",
   "id": "d04c9411",
   "metadata": {},
   "source": [
    "## Set up survey design object"
   ]
  },
  {
   "cell_type": "code",
   "execution_count": null,
   "id": "c50d0617",
   "metadata": {},
   "outputs": [],
   "source": [
    "nhanes_design <- svydesign(ids = ~masked.variance.psu, \n",
    "                           strata = ~masked.variance.stratum, \n",
    "                           weights = ~MEC10YR,\n",
    "                           nest=TRUE,\n",
    "                           data = nhanes)"
   ]
  },
  {
   "cell_type": "code",
   "execution_count": null,
   "id": "61be2481",
   "metadata": {},
   "outputs": [],
   "source": [
    "# View the survey design object\n",
    "print(nhanes_design)"
   ]
  },
  {
   "cell_type": "code",
   "execution_count": null,
   "id": "a3397b3b",
   "metadata": {},
   "outputs": [],
   "source": [
    "age_mean_estimate <- svymean(~age, design = nhanes_design)"
   ]
  },
  {
   "cell_type": "code",
   "execution_count": null,
   "id": "a20fa008",
   "metadata": {},
   "outputs": [],
   "source": [
    "mean_estimate"
   ]
  },
  {
   "cell_type": "code",
   "execution_count": null,
   "id": "5071712b",
   "metadata": {},
   "outputs": [],
   "source": []
  }
 ],
 "metadata": {
  "kernelspec": {
   "display_name": "R",
   "language": "R",
   "name": "ir"
  },
  "language_info": {
   "codemirror_mode": "r",
   "file_extension": ".r",
   "mimetype": "text/x-r-source",
   "name": "R",
   "pygments_lexer": "r",
   "version": "4.3.2"
  }
 },
 "nbformat": 4,
 "nbformat_minor": 5
}
