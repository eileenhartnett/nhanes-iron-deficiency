{
 "cells": [
  {
   "cell_type": "markdown",
   "id": "91692f34",
   "metadata": {},
   "source": [
    "# NHANES - Logistic Regression"
   ]
  },
  {
   "cell_type": "markdown",
   "id": "992d3b47",
   "metadata": {},
   "source": [
    "## Load libraries"
   ]
  },
  {
   "cell_type": "code",
   "execution_count": 1,
   "id": "344d1c67",
   "metadata": {},
   "outputs": [
    {
     "name": "stderr",
     "output_type": "stream",
     "text": [
      "\n",
      "Attaching package: ‘dplyr’\n",
      "\n",
      "\n",
      "The following objects are masked from ‘package:stats’:\n",
      "\n",
      "    filter, lag\n",
      "\n",
      "\n",
      "The following objects are masked from ‘package:base’:\n",
      "\n",
      "    intersect, setdiff, setequal, union\n",
      "\n",
      "\n",
      "Loading required package: grid\n",
      "\n",
      "Loading required package: Matrix\n",
      "\n",
      "Loading required package: survival\n",
      "\n",
      "\n",
      "Attaching package: ‘survey’\n",
      "\n",
      "\n",
      "The following object is masked from ‘package:graphics’:\n",
      "\n",
      "    dotchart\n",
      "\n",
      "\n",
      "\n",
      "Attaching package: ‘kableExtra’\n",
      "\n",
      "\n",
      "The following object is masked from ‘package:dplyr’:\n",
      "\n",
      "    group_rows\n",
      "\n",
      "\n"
     ]
    }
   ],
   "source": [
    "library(dplyr)\n",
    "library(ggplot2)\n",
    "library(survey)\n",
    "library(knitr)\n",
    "library(kableExtra)\n",
    "library(IRdisplay)\n",
    "library(broom)\n",
    "library(sjPlot);"
   ]
  },
  {
   "cell_type": "markdown",
   "id": "909ba964",
   "metadata": {},
   "source": [
    "## Load data"
   ]
  },
  {
   "cell_type": "code",
   "execution_count": 2,
   "id": "aecca01b",
   "metadata": {},
   "outputs": [],
   "source": [
    "nhanes <- read.csv(\"data/nhanes.csv\")"
   ]
  },
  {
   "cell_type": "markdown",
   "id": "d62cd215",
   "metadata": {},
   "source": [
    "## Set up survey design object"
   ]
  },
  {
   "cell_type": "code",
   "execution_count": 3,
   "id": "86a90203",
   "metadata": {},
   "outputs": [],
   "source": [
    "design <- svydesign(ids = ~masked.variance.psu, \n",
    "                           strata = ~masked.variance.stratum, \n",
    "                           weights = ~MEC10YR,\n",
    "                           nest = TRUE,\n",
    "                           data = nhanes)"
   ]
  },
  {
   "cell_type": "code",
   "execution_count": 4,
   "id": "4e6bce58",
   "metadata": {},
   "outputs": [
    {
     "name": "stdout",
     "output_type": "stream",
     "text": [
      "Stratified 1 - level Cluster Sampling design (with replacement)\n",
      "With (153) clusters.\n",
      "svydesign(ids = ~masked.variance.psu, strata = ~masked.variance.stratum, \n",
      "    weights = ~MEC10YR, nest = TRUE, data = nhanes)\n"
     ]
    }
   ],
   "source": [
    "# View the survey design object\n",
    "print(design)"
   ]
  },
  {
   "cell_type": "markdown",
   "id": "6d481d66",
   "metadata": {},
   "source": [
    "## Simple"
   ]
  },
  {
   "cell_type": "markdown",
   "id": "bc7ba21d",
   "metadata": {},
   "source": [
    "### Ferritin"
   ]
  },
  {
   "cell_type": "markdown",
   "id": "8b317cc8",
   "metadata": {
    "heading_collapsed": true
   },
   "source": [
    "#### Binary Predictor"
   ]
  },
  {
   "cell_type": "code",
   "execution_count": null,
   "id": "82783fff",
   "metadata": {
    "hidden": true
   },
   "outputs": [],
   "source": [
    "ferr_model_all <- svyglm(depression ~ ID_ferr,  \n",
    "                           design, \n",
    "                           family = quasibinomial())\n",
    "\n",
    "# Print the model summary\n",
    "summary(ferr_model_all)"
   ]
  },
  {
   "cell_type": "code",
   "execution_count": null,
   "id": "b292b8d5",
   "metadata": {
    "hidden": true
   },
   "outputs": [],
   "source": [
    "ferr_model_all <- svyglm(depression ~ ID_ferr * factor(low_income),  \n",
    "                           design, \n",
    "                           family = quasibinomial())\n",
    "\n",
    "# Print the model summary\n",
    "summary(ferr_model_all)"
   ]
  },
  {
   "cell_type": "code",
   "execution_count": null,
   "id": "62ca5bdd",
   "metadata": {
    "hidden": true
   },
   "outputs": [],
   "source": [
    "ferr_model_not_pregnant <- svyglm(depression ~ ID_ferr,  \n",
    "                           design, \n",
    "                           family = quasibinomial(),\n",
    "                           subset = (pregnancy.status == 0))\n",
    "\n",
    "# Print the model summary\n",
    "summary(ferr_model_not_pregnant)"
   ]
  },
  {
   "cell_type": "code",
   "execution_count": null,
   "id": "007ed967",
   "metadata": {
    "hidden": true
   },
   "outputs": [],
   "source": [
    "ferr_model_not_pregnant <- svyglm(depression ~ ID_ferr * factor(low_income),  \n",
    "                           design, \n",
    "                           family = quasibinomial(),\n",
    "                           subset = (pregnancy.status == 0))\n",
    "\n",
    "# Print the model summary\n",
    "summary(ferr_model_not_pregnant)"
   ]
  },
  {
   "cell_type": "code",
   "execution_count": null,
   "id": "b9c9a1ed",
   "metadata": {
    "hidden": true
   },
   "outputs": [],
   "source": [
    "ferr_model_preg_and_postpartum <- svyglm(depression ~ ID_ferr,  \n",
    "                                         design, \n",
    "                                         family = quasibinomial(),\n",
    "                                         subset = (pregnancy.status %in% c(1, 2)))\n",
    "\n",
    "# Print the model summary\n",
    "summary(ferr_model_preg_and_postpartum)"
   ]
  },
  {
   "cell_type": "code",
   "execution_count": null,
   "id": "d6954d08",
   "metadata": {
    "hidden": true
   },
   "outputs": [],
   "source": [
    "ferr_model_preg_and_postpartum <- svyglm(depression ~ ID_ferr * factor(low_income),  \n",
    "                                         design, \n",
    "                                         family = quasibinomial(),\n",
    "                                         subset = (pregnancy.status %in% c(1, 2)))\n",
    "\n",
    "# Print the model summary\n",
    "summary(ferr_model_preg_and_postpartum)\n"
   ]
  },
  {
   "cell_type": "code",
   "execution_count": null,
   "id": "95250149",
   "metadata": {
    "hidden": true,
    "scrolled": true
   },
   "outputs": [],
   "source": [
    "ferr_model_pregnant <- svyglm(depression ~ ID_ferr * factor(low_income),  \n",
    "                           design, \n",
    "                           family = quasibinomial(),\n",
    "                           subset = (pregnancy.status == 1))\n",
    "\n",
    "# Print the model summary\n",
    "summary(ferr_model_pregnant)"
   ]
  },
  {
   "cell_type": "code",
   "execution_count": null,
   "id": "5b3d12a6",
   "metadata": {
    "hidden": true,
    "scrolled": true
   },
   "outputs": [],
   "source": [
    "ferr_model_postpartum <- svyglm(depression ~ ID_ferr,  \n",
    "                           design, \n",
    "                           family = quasibinomial(),\n",
    "                           subset = (pregnancy.status == 2 & low_income==1))\n",
    "\n",
    "# Print the model summary\n",
    "summary(ferr_model_postpartum)"
   ]
  },
  {
   "cell_type": "markdown",
   "id": "e16941e5",
   "metadata": {
    "heading_collapsed": true
   },
   "source": [
    "### TfR"
   ]
  },
  {
   "cell_type": "code",
   "execution_count": null,
   "id": "d3e2744c",
   "metadata": {
    "hidden": true
   },
   "outputs": [],
   "source": [
    "tfr_model_all <- svyglm(depression ~ ID_tfr * factor(low_income),  \n",
    "                           design, \n",
    "                           family = quasibinomial())\n",
    "\n",
    "# Print the model summary\n",
    "summary(tfr_model_all)"
   ]
  },
  {
   "cell_type": "code",
   "execution_count": null,
   "id": "74f0a3b9",
   "metadata": {
    "hidden": true
   },
   "outputs": [],
   "source": [
    "tfr_model_not_pregnant <- svyglm(depression ~ ID_tfr * factor(low_income),  \n",
    "                           design, \n",
    "                           family = quasibinomial(),\n",
    "                           subset = (pregnancy.status == 0))\n",
    "\n",
    "# Print the model summary\n",
    "summary(tfr_model_not_pregnant)"
   ]
  },
  {
   "cell_type": "code",
   "execution_count": null,
   "id": "e82ceabc",
   "metadata": {
    "hidden": true
   },
   "outputs": [],
   "source": [
    "tfr_model_preg_and_postpartum <- svyglm(depression ~ ID_tfr * factor(low_income),  \n",
    "                                         design, \n",
    "                                         family = quasibinomial(),\n",
    "                                         subset = (pregnancy.status %in% c(1, 2)))\n",
    "\n",
    "# Print the model summary\n",
    "summary(tfr_model_preg_and_postpartum)"
   ]
  },
  {
   "cell_type": "code",
   "execution_count": null,
   "id": "cf29258f",
   "metadata": {
    "hidden": true
   },
   "outputs": [],
   "source": [
    "tfr_model_pregnant <- svyglm(depression ~ ID_tfr * factor(low_income),  \n",
    "                           design, \n",
    "                           family = quasibinomial(),\n",
    "                           subset = (pregnancy.status == 1))\n",
    "\n",
    "# Print the model summary\n",
    "summary(tfr_model_pregnant)"
   ]
  },
  {
   "cell_type": "code",
   "execution_count": null,
   "id": "94725847",
   "metadata": {
    "hidden": true
   },
   "outputs": [],
   "source": [
    "tfr_model_pregnant <- svyglm(depression ~ ID_tfr * factor(low_income),  \n",
    "                           design, \n",
    "                           family = quasibinomial(),\n",
    "                           subset = (pregnancy.status == 2))\n",
    "\n",
    "# Print the model summary\n",
    "summary(tfr_model_pregnant)"
   ]
  },
  {
   "cell_type": "markdown",
   "id": "d4a8970b",
   "metadata": {
    "heading_collapsed": true
   },
   "source": [
    "## Transferrin Receptor"
   ]
  },
  {
   "cell_type": "markdown",
   "id": "fae6a693",
   "metadata": {
    "hidden": true
   },
   "source": [
    "### N calculations"
   ]
  },
  {
   "cell_type": "markdown",
   "id": "b397b577",
   "metadata": {
    "hidden": true
   },
   "source": [
    "#### unweighted"
   ]
  },
  {
   "cell_type": "code",
   "execution_count": null,
   "id": "e64b8770",
   "metadata": {
    "hidden": true
   },
   "outputs": [],
   "source": [
    "#Calculate the number of observations with ID_tfr == 1 and low_income == 0\n",
    "# for each pregnancy.status category\n",
    "nhanes %>%\n",
    "  filter(ID_tfr == 1, low_income == 1) %>%\n",
    "  group_by(pregnancy.status) %>%\n",
    "  summarise(count = n())"
   ]
  },
  {
   "cell_type": "code",
   "execution_count": null,
   "id": "b0717e5e",
   "metadata": {
    "hidden": true
   },
   "outputs": [],
   "source": [
    "#Calculate the number of observations with ID_tfr == 1 and low_income == 1\n",
    "# for each pregnancy.status category\n",
    "nhanes %>%\n",
    "  filter(ID_tfr == 1, low_income == 1) %>%\n",
    "  group_by(pregnancy.status) %>%\n",
    "  summarise(count = n())"
   ]
  },
  {
   "cell_type": "markdown",
   "id": "0c4ed2a3",
   "metadata": {
    "hidden": true
   },
   "source": [
    "### Continuous predictor model"
   ]
  },
  {
   "cell_type": "markdown",
   "id": "5e74d0ca",
   "metadata": {
    "hidden": true
   },
   "source": [
    "#### Not pregnant"
   ]
  },
  {
   "cell_type": "code",
   "execution_count": null,
   "id": "99bf3de1",
   "metadata": {
    "hidden": true
   },
   "outputs": [],
   "source": [
    "# Fit the model on a subset where pregnancy.status = 0\n",
    "tfr_np_model  <- svyglm(depression ~ tfr, \n",
    "                           design = design, \n",
    "                           family = quasibinomial(),\n",
    "                           subset = (pregnancy.status == 0))\n",
    "\n",
    "# Print the model summary\n",
    "summary(tfr_np_model)"
   ]
  },
  {
   "cell_type": "markdown",
   "id": "6e6e4e8a",
   "metadata": {
    "hidden": true
   },
   "source": [
    "###### Model 1"
   ]
  },
  {
   "cell_type": "code",
   "execution_count": null,
   "id": "c9aa5510",
   "metadata": {
    "hidden": true
   },
   "outputs": [],
   "source": [
    "# Fit the model on a subset where pregnancy.status = 0\n",
    "tfr_np_model_cont1  <- svyglm(depression ~ tfr + low_income + tfr:low_income, \n",
    "                           design = design, \n",
    "                           family = quasibinomial(),\n",
    "                           subset = (pregnancy.status == 0))\n",
    "\n",
    "# Print the model summary\n",
    "summary(tfr_np_model_cont1)"
   ]
  },
  {
   "cell_type": "code",
   "execution_count": null,
   "id": "06a0a9e2",
   "metadata": {
    "hidden": true
   },
   "outputs": [],
   "source": [
    "# Extract the coefficients and standard errors\n",
    "coef_table <- coef(summary(tfr_np_model_cont1))\n",
    "\n",
    "# Calculate the odds ratios\n",
    "odds_ratios <- exp(coef_table[, \"Estimate\"])\n",
    "\n",
    "# Calculate the 95% confidence intervals\n",
    "ci_lower <- exp(coef_table[, \"Estimate\"] - 1.96 * coef_table[, \"Std. Error\"])\n",
    "ci_upper <- exp(coef_table[, \"Estimate\"] + 1.96 * coef_table[, \"Std. Error\"])\n",
    "\n",
    "# Combine the odds ratios and confidence intervals into a table\n",
    "or_table <- cbind(odds_ratios, ci_lower, ci_upper)\n",
    "colnames(or_table) <- c(\"Odds Ratio\", \"95% CI Lower\", \"95% CI Upper\")\n",
    "\n",
    "# Print the table\n",
    "print(or_table)"
   ]
  },
  {
   "cell_type": "code",
   "execution_count": null,
   "id": "f1d6360f",
   "metadata": {
    "hidden": true
   },
   "outputs": [],
   "source": [
    "# Model for non-low-income group (low_income == 0)\n",
    "model_non_low_income <- svyglm(formula = depression ~ tfr,\n",
    "                               design = design,\n",
    "                               subset = (pregnancy.status == 0 & low_income == 0),\n",
    "                               family = quasibinomial())\n",
    "\n",
    "# Model for low-income group (low_income == 1)\n",
    "model_low_income <- svyglm(formula = depression ~ tfr,\n",
    "                           design = design,\n",
    "                           subset = (pregnancy.status == 0 & low_income == 1),\n",
    "                           family = quasibinomial())\n",
    "\n",
    "# Print the summary of the models\n",
    "summary(model_non_low_income)\n",
    "summary(model_low_income)"
   ]
  },
  {
   "cell_type": "markdown",
   "id": "50ce8f75",
   "metadata": {
    "hidden": true
   },
   "source": [
    "##### Model 2"
   ]
  },
  {
   "cell_type": "code",
   "execution_count": null,
   "id": "18a88c0d",
   "metadata": {
    "hidden": true,
    "scrolled": true
   },
   "outputs": [],
   "source": [
    "# Fit the model on a subset where pregnancy.status = 0\n",
    "tfr_np_model_cont2  <- svyglm(depression ~ tfr + low_income + tfr:low_income + race.ethnicity + age + hscrp, \n",
    "                           design = design, \n",
    "                           family = quasibinomial(),\n",
    "                           subset = (pregnancy.status == 0))\n",
    "\n",
    "# Print the model summary\n",
    "summary(tfr_np_model_cont2)"
   ]
  },
  {
   "cell_type": "code",
   "execution_count": null,
   "id": "cdced3c9",
   "metadata": {
    "hidden": true
   },
   "outputs": [],
   "source": [
    "# Extract the coefficients and standard errors\n",
    "coef_table <- coef(summary(tfr_np_model_cont2))\n",
    "\n",
    "# Calculate the odds ratios\n",
    "odds_ratios <- exp(coef_table[, \"Estimate\"])\n",
    "\n",
    "# Calculate the 95% confidence intervals\n",
    "ci_lower <- exp(coef_table[, \"Estimate\"] - 1.96 * coef_table[, \"Std. Error\"])\n",
    "ci_upper <- exp(coef_table[, \"Estimate\"] + 1.96 * coef_table[, \"Std. Error\"])\n",
    "\n",
    "# Combine the odds ratios and confidence intervals into a table\n",
    "or_table <- cbind(odds_ratios, ci_lower, ci_upper)\n",
    "colnames(or_table) <- c(\"Odds Ratio\", \"95% CI Lower\", \"95% CI Upper\")\n",
    "\n",
    "# Print the table\n",
    "print(or_table)"
   ]
  },
  {
   "cell_type": "code",
   "execution_count": null,
   "id": "93316457",
   "metadata": {
    "hidden": true,
    "scrolled": true
   },
   "outputs": [],
   "source": [
    "# Model for non-low-income group (low_income == 0)\n",
    "model_non_low_income <- svyglm(formula = depression ~ tfr + race.ethnicity + age + hscrp,\n",
    "                               design = design,\n",
    "                               subset = (pregnancy.status == 0 & low_income == 0),\n",
    "                               family = quasibinomial())\n",
    "\n",
    "# Model for low-income group (low_income == 1)\n",
    "model_low_income <- svyglm(formula = depression ~ tfr + race.ethnicity + age + hscrp,\n",
    "                           design = design,\n",
    "                           subset = (pregnancy.status == 0 & low_income == 1),\n",
    "                           family = quasibinomial())\n",
    "\n",
    "# Print the summary of the models\n",
    "summary(model_non_low_income)\n",
    "summary(model_low_income)"
   ]
  },
  {
   "cell_type": "markdown",
   "id": "486f1edb",
   "metadata": {
    "hidden": true
   },
   "source": [
    "#### Pregnant"
   ]
  },
  {
   "cell_type": "code",
   "execution_count": null,
   "id": "526df83b",
   "metadata": {
    "hidden": true
   },
   "outputs": [],
   "source": [
    "# Fit the model on a subset where pregnancy.status = 0\n",
    "tfr_np_model  <- svyglm(depression ~ tfr, \n",
    "                           design = design, \n",
    "                           family = quasibinomial(),\n",
    "                           subset = (pregnancy.status == 1))\n",
    "\n",
    "# Print the model summary\n",
    "summary(tfr_np_model)"
   ]
  },
  {
   "cell_type": "markdown",
   "id": "74e44bd0",
   "metadata": {
    "hidden": true
   },
   "source": [
    "##### Model 1"
   ]
  },
  {
   "cell_type": "code",
   "execution_count": null,
   "id": "997d669c",
   "metadata": {
    "hidden": true,
    "scrolled": true
   },
   "outputs": [],
   "source": [
    "# Fit the binary predictor model on a subset where pregnancy.status = 1\n",
    "# Adjust for 'low_income' and include an interaction term between 'factor(ID_tfr)' and 'low_income'\n",
    "tfr_preg_model_cont1 <- svyglm(depression ~ tfr + low_income + tfr:low_income, \n",
    "                           design = design, \n",
    "                           family = quasibinomial(),\n",
    "                           subset = (pregnancy.status == 1))\n",
    "\n",
    "# Print the model summary\n",
    "summary(tfr_preg_model_cont1)"
   ]
  },
  {
   "cell_type": "code",
   "execution_count": null,
   "id": "44a50032",
   "metadata": {
    "hidden": true
   },
   "outputs": [],
   "source": [
    "# Extract the coefficients and standard errors\n",
    "coef_table <- coef(summary(tfr_preg_model_cont1))\n",
    "\n",
    "# Calculate the odds ratios\n",
    "odds_ratios <- exp(coef_table[, \"Estimate\"])\n",
    "\n",
    "# Calculate the 95% confidence intervals\n",
    "ci_lower <- exp(coef_table[, \"Estimate\"] - 1.96 * coef_table[, \"Std. Error\"])\n",
    "ci_upper <- exp(coef_table[, \"Estimate\"] + 1.96 * coef_table[, \"Std. Error\"])\n",
    "\n",
    "# Combine the odds ratios and confidence intervals into a table\n",
    "or_table <- cbind(odds_ratios, ci_lower, ci_upper)\n",
    "colnames(or_table) <- c(\"Odds Ratio\", \"95% CI Lower\", \"95% CI Upper\")\n",
    "\n",
    "# Print the table\n",
    "print(or_table)"
   ]
  },
  {
   "cell_type": "code",
   "execution_count": null,
   "id": "d4e24f33",
   "metadata": {
    "hidden": true
   },
   "outputs": [],
   "source": [
    "# Model for non-low-income group (low_income == 0)\n",
    "model_non_low_income <- svyglm(formula = depression ~ tfr,\n",
    "                               design = design,\n",
    "                               subset = (pregnancy.status == 1 & low_income == 0),\n",
    "                               family = quasibinomial())\n",
    "\n",
    "# Model for low-income group (low_income == 1)\n",
    "model_low_income <- svyglm(formula = depression ~ tfr,\n",
    "                           design = design,\n",
    "                           subset = (pregnancy.status == 1 & low_income == 1),\n",
    "                           family = quasibinomial())\n",
    "\n",
    "# Print the summary of the models\n",
    "summary(model_non_low_income)\n",
    "summary(model_low_income)"
   ]
  },
  {
   "cell_type": "markdown",
   "id": "a11f4880",
   "metadata": {
    "hidden": true
   },
   "source": [
    "##### Model 2"
   ]
  },
  {
   "cell_type": "code",
   "execution_count": null,
   "id": "efa023c1",
   "metadata": {
    "hidden": true
   },
   "outputs": [],
   "source": [
    "tfr_preg_model_cont2 <- svyglm(depression ~ tfr + low_income + tfr:low_income + race.ethnicity + age + hscrp, \n",
    "                           design = design, \n",
    "                           family = quasibinomial(),\n",
    "                           subset = (pregnancy.status == 1))\n",
    "\n",
    "# Print the model summary\n",
    "summary(tfr_preg_model_cont2)"
   ]
  },
  {
   "cell_type": "code",
   "execution_count": null,
   "id": "cdd90a65",
   "metadata": {
    "hidden": true
   },
   "outputs": [],
   "source": [
    "# Extract the coefficients and standard errors\n",
    "coef_table <- coef(summary(tfr_preg_model_cont2))\n",
    "\n",
    "# Calculate the odds ratios\n",
    "odds_ratios <- exp(coef_table[, \"Estimate\"])\n",
    "\n",
    "# Calculate the 95% confidence intervals\n",
    "ci_lower <- exp(coef_table[, \"Estimate\"] - 1.96 * coef_table[, \"Std. Error\"])\n",
    "ci_upper <- exp(coef_table[, \"Estimate\"] + 1.96 * coef_table[, \"Std. Error\"])\n",
    "\n",
    "# Combine the odds ratios and confidence intervals into a table\n",
    "or_table <- cbind(odds_ratios, ci_lower, ci_upper)\n",
    "colnames(or_table) <- c(\"Odds Ratio\", \"95% CI Lower\", \"95% CI Upper\")\n",
    "\n",
    "# Print the table\n",
    "print(or_table)"
   ]
  },
  {
   "cell_type": "code",
   "execution_count": null,
   "id": "b5835b48",
   "metadata": {
    "hidden": true
   },
   "outputs": [],
   "source": [
    "# Model for non-low-income group (low_income == 0)\n",
    "model_non_low_income <- svyglm(formula = depression ~ tfr + race.ethnicity + age + hscrp,\n",
    "                               design = design,\n",
    "                               subset = (pregnancy.status == 1 & low_income == 0),\n",
    "                               family = quasibinomial())\n",
    "\n",
    "# Model for low-income group (low_income == 1)\n",
    "model_low_income <- svyglm(formula = depression ~ tfr + race.ethnicity + age + hscrp,\n",
    "                           design = design,\n",
    "                           subset = (pregnancy.status == 1 & low_income == 1),\n",
    "                           family = quasibinomial())\n",
    "\n",
    "# Print the summary of the models\n",
    "summary(model_non_low_income)\n",
    "summary(model_low_income)"
   ]
  },
  {
   "cell_type": "markdown",
   "id": "0029aa2d",
   "metadata": {
    "hidden": true
   },
   "source": [
    "#### Postpartum"
   ]
  },
  {
   "cell_type": "code",
   "execution_count": null,
   "id": "a50ddb51",
   "metadata": {
    "hidden": true
   },
   "outputs": [],
   "source": [
    "# Fit the model on a subset where pregnancy.status = 0\n",
    "tfr_np_model  <- svyglm(depression ~ tfr, \n",
    "                           design = design, \n",
    "                           family = quasibinomial(),\n",
    "                           subset = (pregnancy.status == 2))\n",
    "\n",
    "# Print the model summary\n",
    "summary(tfr_np_model)"
   ]
  },
  {
   "cell_type": "markdown",
   "id": "69f76fcb",
   "metadata": {
    "hidden": true
   },
   "source": [
    "##### Model 1"
   ]
  },
  {
   "cell_type": "code",
   "execution_count": null,
   "id": "35dc00d4",
   "metadata": {
    "hidden": true
   },
   "outputs": [],
   "source": [
    "tfr_postpartum_model_cont1 <- svyglm(depression ~ tfr + low_income + tfr:low_income, \n",
    "                           design = design, \n",
    "                           family = quasibinomial(),\n",
    "                           subset = (pregnancy.status == 2))\n",
    "\n",
    "# Print the model summary\n",
    "summary(tfr_postpartum_model_cont1)"
   ]
  },
  {
   "cell_type": "code",
   "execution_count": null,
   "id": "5f7145f6",
   "metadata": {
    "hidden": true
   },
   "outputs": [],
   "source": [
    "# Extract the coefficients and standard errors\n",
    "coef_table <- coef(summary(tfr_postpartum_model_cont1))\n",
    "\n",
    "# Calculate the odds ratios\n",
    "odds_ratios <- exp(coef_table[, \"Estimate\"])\n",
    "\n",
    "# Calculate the 95% confidence intervals\n",
    "ci_lower <- exp(coef_table[, \"Estimate\"] - 1.96 * coef_table[, \"Std. Error\"])\n",
    "ci_upper <- exp(coef_table[, \"Estimate\"] + 1.96 * coef_table[, \"Std. Error\"])\n",
    "\n",
    "# Combine the odds ratios and confidence intervals into a table\n",
    "or_table <- cbind(odds_ratios, ci_lower, ci_upper)\n",
    "colnames(or_table) <- c(\"Odds Ratio\", \"95% CI Lower\", \"95% CI Upper\")\n",
    "\n",
    "# Print the table\n",
    "print(or_table)"
   ]
  },
  {
   "cell_type": "code",
   "execution_count": null,
   "id": "a6750a6f",
   "metadata": {
    "hidden": true
   },
   "outputs": [],
   "source": [
    "# Model for non-low-income group (low_income == 0)\n",
    "model_non_low_income <- svyglm(formula = depression ~ tfr,\n",
    "                               design = design,\n",
    "                               subset = (pregnancy.status == 2 & low_income == 0),\n",
    "                               family = quasibinomial())\n",
    "\n",
    "# Model for low-income group (low_income == 1)\n",
    "model_low_income <- svyglm(formula = depression ~ tfr,\n",
    "                           design = design,\n",
    "                           subset = (pregnancy.status == 2 & low_income == 1),\n",
    "                           family = quasibinomial())\n",
    "\n",
    "# Print the summary of the models\n",
    "summary(model_non_low_income)\n",
    "summary(model_low_income)"
   ]
  },
  {
   "cell_type": "markdown",
   "id": "b3178430",
   "metadata": {
    "hidden": true
   },
   "source": [
    "##### Model 2"
   ]
  },
  {
   "cell_type": "code",
   "execution_count": null,
   "id": "8fde56e7",
   "metadata": {
    "hidden": true
   },
   "outputs": [],
   "source": [
    "tfr_postpartum_model_cont2 <- svyglm(depression ~ tfr + low_income + tfr:low_income + race.ethnicity + age + hscrp, \n",
    "                           design = design, \n",
    "                           family = quasibinomial(),\n",
    "                           subset = (pregnancy.status == 2))\n",
    "\n",
    "# Print the model summary\n",
    "summary(tfr_postpartum_model_cont2)"
   ]
  },
  {
   "cell_type": "code",
   "execution_count": null,
   "id": "f53bf68c",
   "metadata": {
    "hidden": true
   },
   "outputs": [],
   "source": [
    "# Extract the coefficients and standard errors\n",
    "coef_table <- coef(summary(tfr_postpartum_model_cont2))\n",
    "\n",
    "# Calculate the odds ratios\n",
    "odds_ratios <- exp(coef_table[, \"Estimate\"])\n",
    "\n",
    "# Calculate the 95% confidence intervals\n",
    "ci_lower <- exp(coef_table[, \"Estimate\"] - 1.96 * coef_table[, \"Std. Error\"])\n",
    "ci_upper <- exp(coef_table[, \"Estimate\"] + 1.96 * coef_table[, \"Std. Error\"])\n",
    "\n",
    "# Combine the odds ratios and confidence intervals into a table\n",
    "or_table <- cbind(odds_ratios, ci_lower, ci_upper)\n",
    "colnames(or_table) <- c(\"Odds Ratio\", \"95% CI Lower\", \"95% CI Upper\")\n",
    "\n",
    "# Print the table\n",
    "print(or_table)"
   ]
  },
  {
   "cell_type": "code",
   "execution_count": null,
   "id": "d1a2e342",
   "metadata": {
    "hidden": true
   },
   "outputs": [],
   "source": [
    "# Model for non-low-income group (low_income == 0)\n",
    "model_non_low_income <- svyglm(formula = depression ~ tfr + race.ethnicity + age + hscrp,\n",
    "                               design = design,\n",
    "                               subset = (pregnancy.status == 2 & low_income == 0),\n",
    "                               family = quasibinomial())\n",
    "\n",
    "# Model for low-income group (low_income == 1)\n",
    "model_low_income <- svyglm(formula = depression ~ tfr + race.ethnicity + age + hscrp,\n",
    "                           design = design,\n",
    "                           subset = (pregnancy.status == 2 & low_income == 1),\n",
    "                           family = quasibinomial())\n",
    "\n",
    "# Print the summary of the models\n",
    "summary(model_non_low_income)\n",
    "summary(model_low_income)"
   ]
  },
  {
   "cell_type": "markdown",
   "id": "11b62d16",
   "metadata": {
    "heading_collapsed": true,
    "hidden": true
   },
   "source": [
    "### Tables"
   ]
  },
  {
   "cell_type": "code",
   "execution_count": null,
   "id": "aaa7e02e",
   "metadata": {
    "hidden": true
   },
   "outputs": [],
   "source": [
    "# Fit the models\n",
    "## Not pregnant group\n",
    "model_non_low_income_np <- svyglm(formula = depression ~ tfr,\n",
    "                                design = design,\n",
    "                                subset = (pregnancy.status == 0 & low_income == 0),\n",
    "                                family = quasibinomial())\n",
    "\n",
    "model_low_income_np <- svyglm(formula = depression ~ tfr,\n",
    "                            design = design,\n",
    "                            subset = (pregnancy.status == 0 & low_income == 1),\n",
    "                            family = quasibinomial())\n",
    "\n",
    "model_non_low_income_adj_np <- svyglm(formula = depression ~ tfr + race.ethnicity + age + hscrp,\n",
    "                                    design = design,\n",
    "                                    subset = (pregnancy.status == 0 & low_income == 0),\n",
    "                                    family = quasibinomial())\n",
    "\n",
    "model_low_income_adj_np <- svyglm(formula = depression ~ tfr + race.ethnicity + age + hscrp,\n",
    "                                design = design,\n",
    "                                subset = (pregnancy.status == 0 & low_income == 1),\n",
    "                                family = quasibinomial())\n",
    "\n",
    "## Pregnant group\n",
    "model_non_low_income_p <- svyglm(formula = depression ~ tfr,\n",
    "                                design = design,\n",
    "                                subset = (pregnancy.status == 1 & low_income == 0),\n",
    "                                family = quasibinomial())\n",
    "\n",
    "model_low_income_p <- svyglm(formula = depression ~ tfr,\n",
    "                            design = design,\n",
    "                            subset = (pregnancy.status == 1 & low_income == 1),\n",
    "                            family = quasibinomial())\n",
    "\n",
    "model_non_low_income_adj_p <- svyglm(formula = depression ~ tfr + race.ethnicity + age + hscrp,\n",
    "                                    design = design,\n",
    "                                    subset = (pregnancy.status == 1 & low_income == 0),\n",
    "                                    family = quasibinomial())\n",
    "\n",
    "model_low_income_adj_p <- svyglm(formula = depression ~ tfr + race.ethnicity + age + hscrp,\n",
    "                                design = design,\n",
    "                                subset = (pregnancy.status == 1 & low_income == 1),\n",
    "                                family = quasibinomial())\n",
    "\n",
    "## Postpartum group\n",
    "model_non_low_income_pp <- svyglm(formula = depression ~ tfr,\n",
    "                                design = design,\n",
    "                                subset = (pregnancy.status == 2 & low_income == 0),\n",
    "                                family = quasibinomial())\n",
    "\n",
    "model_low_income_pp <- svyglm(formula = depression ~ tfr,\n",
    "                            design = design,\n",
    "                            subset = (pregnancy.status == 2 & low_income == 1),\n",
    "                            family = quasibinomial())\n",
    "\n",
    "model_non_low_income_adj_pp <- svyglm(formula = depression ~ tfr + race.ethnicity + age + hscrp,\n",
    "                                    design = design,\n",
    "                                    subset = (pregnancy.status == 2 & low_income == 0),\n",
    "                                    family = quasibinomial())\n",
    "\n",
    "model_low_income_adj_pp <- svyglm(formula = depression ~ tfr + race.ethnicity + age + hscrp,\n",
    "                                design = design,\n",
    "                                subset = (pregnancy.status == 2 & low_income == 1),\n",
    "                                family = quasibinomial())"
   ]
  },
  {
   "cell_type": "code",
   "execution_count": null,
   "id": "f41136ad",
   "metadata": {
    "hidden": true
   },
   "outputs": [],
   "source": [
    "# Function to extract model results\n",
    "extract_model_results <- function(model_summary) {\n",
    "  result_table <- as.data.frame(model_summary$coefficients)\n",
    "  colnames(result_table) <- c(\"Estimate\", \"Std. Error\", \"t value\", \"P-value\")\n",
    "  result_table$`Odds Ratio` <- exp(result_table$Estimate)\n",
    "  result_table$`95% CI Lower` <- exp(result_table$Estimate - 1.96 * result_table$`Std. Error`)\n",
    "  result_table$`95% CI Upper` <- exp(result_table$Estimate + 1.96 * result_table$`Std. Error`)\n",
    "  result_table <- result_table[, c(\"Odds Ratio\", \"95% CI Lower\", \"95% CI Upper\", \"P-value\")]\n",
    "  row.names(result_table) <- make.names(row.names(result_table), unique = TRUE)\n",
    "  return(result_table)\n",
    "}\n",
    "\n",
    "# Print results for all models\n",
    "cat(\"Not pregnant, not low-income group:\\n\")\n",
    "knitr::kable(extract_model_results(summary(model_non_low_income_np)), digits = 3)\n",
    "\n",
    "cat(\"\\nNot pregnant, low-income group:\\n\")\n",
    "knitr::kable(extract_model_results(summary(model_low_income_np)), digits = 3)\n",
    "\n",
    "cat(\"\\nNot pregnant, not low-income group (adjusted):\\n\")\n",
    "knitr::kable(extract_model_results(summary(model_non_low_income_adj_np)), digits = 3)\n",
    "\n",
    "cat(\"\\nNot pregnant, low-income group (adjusted):\\n\")\n",
    "knitr::kable(extract_model_results(summary(model_low_income_adj_np)), digits = 3)\n",
    "\n",
    "cat(\"\\nPregnant, not low-income group:\\n\")\n",
    "knitr::kable(extract_model_results(summary(model_non_low_income_p)), digits = 3)\n",
    "\n",
    "cat(\"\\nPregnant, low-income group:\\n\")\n",
    "knitr::kable(extract_model_results(summary(model_low_income_p)), digits = 3)\n",
    "\n",
    "cat(\"\\nPregnant, not low-income group (adjusted):\\n\")\n",
    "knitr::kable(extract_model_results(summary(model_non_low_income_adj_p)), digits = 3)\n",
    "\n",
    "cat(\"\\nPregnant, low-income group (adjusted):\\n\")\n",
    "knitr::kable(extract_model_results(summary(model_low_income_adj_p)), digits = 3)\n",
    "\n",
    "cat(\"\\nPostpartum, not low-income group:\\n\")\n",
    "knitr::kable(extract_model_results(summary(model_non_low_income_pp)), digits = 3)\n",
    "\n",
    "cat(\"\\nPostpartum, low-income group:\\n\")\n",
    "knitr::kable(extract_model_results(summary(model_low_income_pp)), digits = 3)\n",
    "\n",
    "cat(\"\\nPostpartum, not low-income group (adjusted):\\n\")\n",
    "knitr::kable(extract_model_results(summary(model_non_low_income_adj_pp)), digits = 3)\n",
    "\n",
    "cat(\"\\nPostpartum, low-income group (adjusted):\\n\")\n",
    "knitr::kable(extract_model_results(summary(model_low_income_adj_pp)), digits = 3)"
   ]
  },
  {
   "cell_type": "code",
   "execution_count": null,
   "id": "8bdef77b",
   "metadata": {
    "hidden": true
   },
   "outputs": [],
   "source": []
  },
  {
   "cell_type": "markdown",
   "id": "6fe44dbe",
   "metadata": {},
   "source": [
    "## Ferritin"
   ]
  },
  {
   "cell_type": "markdown",
   "id": "13f6e06d",
   "metadata": {
    "heading_collapsed": true
   },
   "source": [
    "### Counts"
   ]
  },
  {
   "cell_type": "markdown",
   "id": "769bac04",
   "metadata": {
    "hidden": true
   },
   "source": [
    "#### unweighted"
   ]
  },
  {
   "cell_type": "code",
   "execution_count": null,
   "id": "73ec97a3",
   "metadata": {
    "hidden": true
   },
   "outputs": [],
   "source": [
    "#Calculate the number of observations with ID_ferr == 1 and low_income == 0\n",
    "# for each pregnancy.status category\n",
    "nhanes %>%\n",
    "  filter(ID_ferr == 1, low_income == 0) %>%\n",
    "  group_by(pregnancy.status) %>%\n",
    "  summarise(count = n())"
   ]
  },
  {
   "cell_type": "code",
   "execution_count": null,
   "id": "4ce1f9ae",
   "metadata": {
    "hidden": true
   },
   "outputs": [],
   "source": [
    "#Calculate the number of observations with ID_ferr == 1 and low_income == 1\n",
    "# for each pregnancy.status category\n",
    "nhanes %>%\n",
    "  filter(ID_ferr == 1, low_income == 1) %>%\n",
    "  group_by(pregnancy.status) %>%\n",
    "  summarise(count = n())"
   ]
  },
  {
   "cell_type": "code",
   "execution_count": null,
   "id": "41505d99",
   "metadata": {
    "hidden": true
   },
   "outputs": [],
   "source": [
    "#Calculate the number of observations with ID_ferr == 0 and low_income == 0\n",
    "# for each pregnancy.status category\n",
    "nhanes %>%\n",
    "  filter(ID_ferr == 0, low_income == 0) %>%\n",
    "  group_by(pregnancy.status) %>%\n",
    "  summarise(count = n())"
   ]
  },
  {
   "cell_type": "code",
   "execution_count": null,
   "id": "bfabdcdc",
   "metadata": {
    "hidden": true
   },
   "outputs": [],
   "source": [
    "#Calculate the number of observations with ID_ferr == 0 and low_income == 1\n",
    "# for each pregnancy.status category\n",
    "nhanes %>%\n",
    "  filter(ID_ferr == 0, low_income == 1) %>%\n",
    "  group_by(pregnancy.status) %>%\n",
    "  summarise(count = n())"
   ]
  },
  {
   "cell_type": "markdown",
   "id": "1fb4ed31",
   "metadata": {
    "heading_collapsed": true
   },
   "source": [
    "### Continuous predictor model"
   ]
  },
  {
   "cell_type": "code",
   "execution_count": null,
   "id": "818a0489",
   "metadata": {
    "hidden": true
   },
   "outputs": [],
   "source": [
    "ferr_model_all <- svyglm(depression ~ ferritin,  \n",
    "                           design, \n",
    "                           family = quasibinomial())\n",
    "\n",
    "# Print the model summary\n",
    "summary(ferr_model_all)"
   ]
  },
  {
   "cell_type": "markdown",
   "id": "147ba9e4",
   "metadata": {
    "hidden": true
   },
   "source": [
    "#### Not pregnant"
   ]
  },
  {
   "cell_type": "code",
   "execution_count": null,
   "id": "3b41452c",
   "metadata": {
    "hidden": true
   },
   "outputs": [],
   "source": [
    "# Fit the logistic regression model on a subset where pregnancy.status = 0\n",
    "# Adjust for 'low_income' and include an interaction term between 'ferritin' and 'low_income'\n",
    "ferr_np_model <- svyglm(depression ~ ferritin, \n",
    "                           design, \n",
    "                           family = quasibinomial(),\n",
    "                           subset = (pregnancy.status == 0))\n",
    "\n",
    "# Print the model summary to see the effects of 'ferritin', 'low_income', and their interaction on depression\n",
    "summary(ferr_np_model)"
   ]
  },
  {
   "cell_type": "markdown",
   "id": "10ec9cb6",
   "metadata": {
    "hidden": true
   },
   "source": [
    "##### Model 1"
   ]
  },
  {
   "cell_type": "code",
   "execution_count": null,
   "id": "684cbf3b",
   "metadata": {
    "hidden": true
   },
   "outputs": [],
   "source": [
    "# Fit the logistic regression model on a subset where pregnancy.status = 0\n",
    "# Adjust for 'low_income' and include an interaction term between 'ferritin' and 'low_income'\n",
    "ferr_np_model_cont1 <- svyglm(depression ~ ferritin + low_income + ferritin:low_income,  \n",
    "                           design, \n",
    "                           family = quasibinomial(),\n",
    "                           subset = (pregnancy.status == 0))\n",
    "\n",
    "# Print the model summary to see the effects of 'ferritin', 'low_income', and their interaction on depression\n",
    "summary(ferr_np_model_cont1)"
   ]
  },
  {
   "cell_type": "code",
   "execution_count": null,
   "id": "b748f52a",
   "metadata": {
    "hidden": true
   },
   "outputs": [],
   "source": [
    "# Extract the coefficients and standard errors\n",
    "coef_table <- coef(summary(ferr_np_model_cont1))\n",
    "\n",
    "# Calculate the odds ratios\n",
    "odds_ratios <- exp(coef_table[, \"Estimate\"])\n",
    "\n",
    "# Calculate the 95% confidence intervals\n",
    "ci_lower <- exp(coef_table[, \"Estimate\"] - 1.96 * coef_table[, \"Std. Error\"])\n",
    "ci_upper <- exp(coef_table[, \"Estimate\"] + 1.96 * coef_table[, \"Std. Error\"])\n",
    "\n",
    "# Combine the odds ratios and confidence intervals into a table\n",
    "or_table <- cbind(odds_ratios, ci_lower, ci_upper)\n",
    "colnames(or_table) <- c(\"Odds Ratio\", \"95% CI Lower\", \"95% CI Upper\")\n",
    "\n",
    "# Print the table\n",
    "print(or_table)"
   ]
  },
  {
   "cell_type": "markdown",
   "id": "dec4af59",
   "metadata": {
    "hidden": true
   },
   "source": [
    "##### Model 2"
   ]
  },
  {
   "cell_type": "code",
   "execution_count": null,
   "id": "a661086a",
   "metadata": {
    "hidden": true
   },
   "outputs": [],
   "source": [
    "# Fit the logistic regression model on a subset where pregnancy.status = 0\n",
    "# Adjust for 'low_income' and include an interaction term between 'ferritin' and 'low_income'\n",
    "ferr_np_model_cont2 <- svyglm(depression ~ ferritin + low_income + ferritin:low_income + race.ethnicity + age + hscrp, \n",
    "                           design, \n",
    "                           family = quasibinomial(),\n",
    "                           subset = (pregnancy.status == 0))\n",
    "\n",
    "# Print the model summary to see the effects of 'ferritin', 'low_income', and their interaction on depression\n",
    "summary(ferr_np_model_cont2)"
   ]
  },
  {
   "cell_type": "code",
   "execution_count": null,
   "id": "aeeba5e1",
   "metadata": {
    "hidden": true
   },
   "outputs": [],
   "source": [
    "# Extract the coefficients and standard errors\n",
    "coef_table <- coef(summary(ferr_np_model_cont2))\n",
    "\n",
    "# Calculate the odds ratios\n",
    "odds_ratios <- exp(coef_table[, \"Estimate\"])\n",
    "\n",
    "# Calculate the 95% confidence intervals\n",
    "ci_lower <- exp(coef_table[, \"Estimate\"] - 1.96 * coef_table[, \"Std. Error\"])\n",
    "ci_upper <- exp(coef_table[, \"Estimate\"] + 1.96 * coef_table[, \"Std. Error\"])\n",
    "\n",
    "# Combine the odds ratios and confidence intervals into a table\n",
    "or_table <- cbind(odds_ratios, ci_lower, ci_upper)\n",
    "colnames(or_table) <- c(\"Odds Ratio\", \"95% CI Lower\", \"95% CI Upper\")\n",
    "\n",
    "# Print the table\n",
    "print(or_table)"
   ]
  },
  {
   "cell_type": "markdown",
   "id": "da736d09",
   "metadata": {
    "heading_collapsed": true,
    "hidden": true
   },
   "source": [
    "#### Pregnant"
   ]
  },
  {
   "cell_type": "code",
   "execution_count": null,
   "id": "b8cdf870",
   "metadata": {
    "hidden": true
   },
   "outputs": [],
   "source": [
    "ferr_preg_model <- svyglm(depression ~ ferritin, \n",
    "                           design, \n",
    "                           family = quasibinomial(),\n",
    "                           subset = (pregnancy.status == 1))\n",
    "\n",
    "# Print the model summary to see the effects of 'ferritin', 'low_income', and their interaction on depression\n",
    "summary(ferr_preg_model)"
   ]
  },
  {
   "cell_type": "markdown",
   "id": "99e89312",
   "metadata": {
    "hidden": true
   },
   "source": [
    "##### Model 1"
   ]
  },
  {
   "cell_type": "code",
   "execution_count": null,
   "id": "aca89b42",
   "metadata": {
    "hidden": true
   },
   "outputs": [],
   "source": [
    "# Fit the logistic regression model on a subset where pregnancy.status = 1\n",
    "# Adjust for 'low_income' and include an interaction term between 'ferritin' and 'low_income'\n",
    "ferr_preg_model_cont1 <- svyglm(depression ~ ferritin + low_income + ferritin:low_income, \n",
    "                           design, \n",
    "                           family = quasibinomial(),\n",
    "                           subset = (pregnancy.status == 1))\n",
    "\n",
    "# Print the model summary to see the effects of 'ferritin', 'low_income', and their interaction on depression\n",
    "summary(ferr_preg_model_cont1)"
   ]
  },
  {
   "cell_type": "code",
   "execution_count": null,
   "id": "52a6e23f",
   "metadata": {
    "hidden": true
   },
   "outputs": [],
   "source": [
    "# Extract the coefficients and standard errors\n",
    "coef_table <- coef(summary(ferr_preg_model_cont1))\n",
    "\n",
    "# Calculate the odds ratios\n",
    "odds_ratios <- exp(coef_table[, \"Estimate\"])\n",
    "\n",
    "# Calculate the 95% confidence intervals\n",
    "ci_lower <- exp(coef_table[, \"Estimate\"] - 1.96 * coef_table[, \"Std. Error\"])\n",
    "ci_upper <- exp(coef_table[, \"Estimate\"] + 1.96 * coef_table[, \"Std. Error\"])\n",
    "\n",
    "# Combine the odds ratios and confidence intervals into a table\n",
    "or_table <- cbind(odds_ratios, ci_lower, ci_upper)\n",
    "colnames(or_table) <- c(\"Odds Ratio\", \"95% CI Lower\", \"95% CI Upper\")\n",
    "\n",
    "# Print the table\n",
    "print(or_table)"
   ]
  },
  {
   "cell_type": "markdown",
   "id": "8cfe3b55",
   "metadata": {
    "hidden": true
   },
   "source": [
    "##### Model 2"
   ]
  },
  {
   "cell_type": "code",
   "execution_count": null,
   "id": "db410038",
   "metadata": {
    "hidden": true
   },
   "outputs": [],
   "source": [
    "ferr_preg_model_cont2 <- svyglm(depression ~ ferritin + low_income + ferritin:low_income  + race.ethnicity + age + hscrp, \n",
    "                           design, \n",
    "                           family = quasibinomial(),\n",
    "                           subset = (pregnancy.status == 1))\n",
    "\n",
    "# Print the model summary to see the effects of 'ferritin', 'low_income', and their interaction on depression\n",
    "summary(ferr_preg_model_cont2)"
   ]
  },
  {
   "cell_type": "code",
   "execution_count": null,
   "id": "f324ac59",
   "metadata": {
    "hidden": true
   },
   "outputs": [],
   "source": [
    "# Extract the coefficients and standard errors\n",
    "coef_table <- coef(summary(ferr_preg_model_cont2))\n",
    "\n",
    "# Calculate the odds ratios\n",
    "odds_ratios <- exp(coef_table[, \"Estimate\"])\n",
    "\n",
    "# Calculate the 95% confidence intervals\n",
    "ci_lower <- exp(coef_table[, \"Estimate\"] - 1.96 * coef_table[, \"Std. Error\"])\n",
    "ci_upper <- exp(coef_table[, \"Estimate\"] + 1.96 * coef_table[, \"Std. Error\"])\n",
    "\n",
    "# Combine the odds ratios and confidence intervals into a table\n",
    "or_table <- cbind(odds_ratios, ci_lower, ci_upper)\n",
    "colnames(or_table) <- c(\"Odds Ratio\", \"95% CI Lower\", \"95% CI Upper\")\n",
    "\n",
    "# Print the table\n",
    "print(or_table)"
   ]
  },
  {
   "cell_type": "markdown",
   "id": "1cc7650d",
   "metadata": {
    "heading_collapsed": true,
    "hidden": true
   },
   "source": [
    "#### Postpartum"
   ]
  },
  {
   "cell_type": "code",
   "execution_count": null,
   "id": "d9d510a2",
   "metadata": {
    "hidden": true
   },
   "outputs": [],
   "source": [
    "ferr_postpartum_model <- svyglm(depression ~ ferritin, \n",
    "                           design, \n",
    "                           family = quasibinomial(),\n",
    "                           subset = (pregnancy.status == 2))\n",
    "\n",
    "# Print the model summary to see the effects of 'ferritin', 'low_income', and their interaction on depression\n",
    "summary(ferr_postpartum_model)"
   ]
  },
  {
   "cell_type": "markdown",
   "id": "996aebcc",
   "metadata": {
    "hidden": true
   },
   "source": [
    "##### Model 1"
   ]
  },
  {
   "cell_type": "code",
   "execution_count": null,
   "id": "1492a32e",
   "metadata": {
    "hidden": true
   },
   "outputs": [],
   "source": [
    "# Fit the logistic regression model on a subset where pregnancy.status = 2\n",
    "# Adjust for 'low_income' and include an interaction term between 'ferritin' and 'low_income'\n",
    "ferr_postpartum_model_cont1 <- svyglm(depression ~ ferritin + low_income + ferritin:low_income, \n",
    "                           design, \n",
    "                           family = quasibinomial(),\n",
    "                           subset = (pregnancy.status == 2))\n",
    "\n",
    "# Print the model summary to see the effects of 'ferritin', 'low_income', and their interaction on depression\n",
    "summary(ferr_postpartum_model_cont1)"
   ]
  },
  {
   "cell_type": "code",
   "execution_count": null,
   "id": "7c5e47d0",
   "metadata": {
    "hidden": true
   },
   "outputs": [],
   "source": [
    "# Extract the coefficients and standard errors\n",
    "coef_table <- coef(summary(ferr_postpartum_model_cont1))\n",
    "\n",
    "# Calculate the odds ratios\n",
    "odds_ratios <- exp(coef_table[, \"Estimate\"])\n",
    "\n",
    "# Calculate the 95% confidence intervals\n",
    "ci_lower <- exp(coef_table[, \"Estimate\"] - 1.96 * coef_table[, \"Std. Error\"])\n",
    "ci_upper <- exp(coef_table[, \"Estimate\"] + 1.96 * coef_table[, \"Std. Error\"])\n",
    "\n",
    "# Combine the odds ratios and confidence intervals into a table\n",
    "or_table <- cbind(odds_ratios, ci_lower, ci_upper)\n",
    "colnames(or_table) <- c(\"Odds Ratio\", \"95% CI Lower\", \"95% CI Upper\")\n",
    "\n",
    "# Print the table\n",
    "print(or_table)"
   ]
  },
  {
   "cell_type": "markdown",
   "id": "1094a14a",
   "metadata": {
    "hidden": true
   },
   "source": [
    "**Higher ferritin = higher risk of depression but only for low income??"
   ]
  },
  {
   "cell_type": "markdown",
   "id": "ce3d19dc",
   "metadata": {
    "hidden": true
   },
   "source": [
    "the log-odds of depression for low-income and non-low-income individuals separately:\n",
    "\n",
    "For non-low-income individuals (low_income = 0): The effect of ferritin is -0.01870.\n",
    "For low-income individuals (low_income = 1): The effect of ferritin is -0.01870 + 0.02596 = 0.00726.\n",
    "This indicates that for non-low-income individuals, a one-unit increase in ferritin is associated with a slight decrease in the log-odds of depression, while for low-income individuals, a one-unit increase in ferritin is associated with a slight increase in the log-odds of depression.\n",
    "\n",
    "To interpret the results in terms of odds ratios, you can exponentiate the coefficients. For example, exp(-0.01870) = 0.981, meaning that for non-low-income individuals, a one-unit increase in ferritin is associated with a 1.9% decrease in the odds of depression (although not statistically significant)."
   ]
  },
  {
   "cell_type": "markdown",
   "id": "3935608d",
   "metadata": {
    "hidden": true
   },
   "source": [
    "##### Stratified"
   ]
  },
  {
   "cell_type": "code",
   "execution_count": null,
   "id": "696daf33",
   "metadata": {
    "hidden": true
   },
   "outputs": [],
   "source": [
    "# Model for non-low-income group (low_income == 0)\n",
    "model_non_low_income <- svyglm(formula = depression ~ ferritin,\n",
    "                               design = design,\n",
    "                               subset = (pregnancy.status == 2 & low_income == 0),\n",
    "                               family = quasibinomial())\n",
    "\n",
    "# Model for low-income group (low_income == 1)\n",
    "model_low_income <- svyglm(formula = depression ~ ferritin,\n",
    "                           design = design,\n",
    "                           subset = (pregnancy.status == 2 & low_income == 1),\n",
    "                           family = quasibinomial())\n",
    "\n",
    "# Print the summary of the models\n",
    "summary(model_non_low_income)\n",
    "summary(model_low_income)"
   ]
  },
  {
   "cell_type": "markdown",
   "id": "cd998289",
   "metadata": {
    "hidden": true
   },
   "source": [
    "**Results interpretation: For non-low-income individuals, higher ferritin levels are associated with a slightly lower odds of depression**"
   ]
  },
  {
   "cell_type": "markdown",
   "id": "d6532d74",
   "metadata": {
    "hidden": true
   },
   "source": [
    "##### Model 2"
   ]
  },
  {
   "cell_type": "code",
   "execution_count": null,
   "id": "796cfe5a",
   "metadata": {
    "hidden": true
   },
   "outputs": [],
   "source": [
    "# Fit the logistic regression model on a subset where pregnancy.status = 2\n",
    "# Adjust for 'low_income' and include an interaction term between 'ferritin' and 'low_income'\n",
    "ferr_postpartum_model_cont2 <- svyglm(depression ~ ferritin + low_income + ferritin:low_income + race.ethnicity + age + hscrp, \n",
    "                           design, \n",
    "                           family = quasibinomial(),\n",
    "                           subset = (pregnancy.status == 2))\n",
    "\n",
    "# Print the model summary to see the effects of 'ferritin', 'low_income', and their interaction on depression\n",
    "summary(ferr_postpartum_model_cont2)"
   ]
  },
  {
   "cell_type": "code",
   "execution_count": null,
   "id": "8ac27f15",
   "metadata": {
    "hidden": true
   },
   "outputs": [],
   "source": [
    "# Extract the coefficients and standard errors\n",
    "coef_table <- coef(summary(ferr_postpartum_model_cont2))\n",
    "\n",
    "# Calculate the odds ratios\n",
    "odds_ratios <- exp(coef_table[, \"Estimate\"])\n",
    "\n",
    "# Calculate the 95% confidence intervals\n",
    "ci_lower <- exp(coef_table[, \"Estimate\"] - 1.96 * coef_table[, \"Std. Error\"])\n",
    "ci_upper <- exp(coef_table[, \"Estimate\"] + 1.96 * coef_table[, \"Std. Error\"])\n",
    "\n",
    "# Combine the odds ratios and confidence intervals into a table\n",
    "or_table <- cbind(odds_ratios, ci_lower, ci_upper)\n",
    "colnames(or_table) <- c(\"Odds Ratio\", \"95% CI Lower\", \"95% CI Upper\")\n",
    "\n",
    "# Print the table\n",
    "print(or_table)"
   ]
  },
  {
   "cell_type": "code",
   "execution_count": null,
   "id": "e8ddc5ed",
   "metadata": {
    "hidden": true
   },
   "outputs": [],
   "source": [
    "# Model for non-low-income group (low_income == 0)\n",
    "model_non_low_income <- svyglm(formula = depression ~ ferritin + race.ethnicity + age + hscrp,\n",
    "                               design = design,\n",
    "                               subset = (pregnancy.status == 2 & low_income == 0),\n",
    "                               family = quasibinomial())\n",
    "\n",
    "# Model for low-income group (low_income == 1)\n",
    "model_low_income <- svyglm(formula = depression ~ ferritin + race.ethnicity + age + hscrp,\n",
    "                           design = design,\n",
    "                           subset = (pregnancy.status == 2 & low_income == 1),\n",
    "                           family = quasibinomial())\n",
    "\n",
    "# Print the summary of the models\n",
    "summary(model_non_low_income)\n",
    "summary(model_low_income)"
   ]
  },
  {
   "cell_type": "markdown",
   "id": "e75bef4a",
   "metadata": {},
   "source": [
    "### Tables"
   ]
  },
  {
   "cell_type": "markdown",
   "id": "de19784e",
   "metadata": {},
   "source": [
    "#### Simple models"
   ]
  },
  {
   "cell_type": "markdown",
   "id": "4ba728b7",
   "metadata": {
    "heading_collapsed": true
   },
   "source": [
    "##### Crude"
   ]
  },
  {
   "cell_type": "code",
   "execution_count": null,
   "id": "d644511c",
   "metadata": {
    "hidden": true
   },
   "outputs": [],
   "source": [
    "ferr_model_all <- svyglm(depression ~ ID_ferr,  \n",
    "                           design, \n",
    "                           family = quasibinomial())\n",
    "\n",
    "ferr_model_np <- svyglm(depression ~ ID_ferr,  \n",
    "                                         design, \n",
    "                                         family = quasibinomial(),\n",
    "                                         subset = (pregnancy.status==0))\n",
    "\n",
    "\n",
    "ferr_model_preg <- svyglm(depression ~ ID_ferr,  \n",
    "                                         design, \n",
    "                                         family = quasibinomial(),\n",
    "                                         subset = (pregnancy.status==1))\n",
    "\n",
    "ferr_model_postpartum <- svyglm(depression ~ ID_ferr,  \n",
    "                                         design, \n",
    "                                         family = quasibinomial(),\n",
    "                                         subset = (pregnancy.status==2))"
   ]
  },
  {
   "cell_type": "code",
   "execution_count": null,
   "id": "3b38a492",
   "metadata": {
    "hidden": true
   },
   "outputs": [],
   "source": [
    "# Function to extract model results\n",
    "extract_model_results <- function(model_summary) {\n",
    "  result_table <- as.data.frame(model_summary$coefficients)\n",
    "  colnames(result_table) <- c(\"Estimate\", \"Std. Error\", \"t value\", \"P-value\")\n",
    "  result_table$`Odds Ratio` <- exp(result_table$Estimate)\n",
    "  result_table$`95% CI Lower` <- exp(result_table$Estimate - 1.96 * result_table$`Std. Error`)\n",
    "  result_table$`95% CI Upper` <- exp(result_table$Estimate + 1.96 * result_table$`Std. Error`)\n",
    "  result_table <- result_table[, c(\"Odds Ratio\", \"95% CI Lower\", \"95% CI Upper\", \"P-value\")]\n",
    "  row.names(result_table) <- make.names(row.names(result_table), unique = TRUE)\n",
    "  return(result_table)\n",
    "}\n",
    "\n",
    "# Print results for all models\n",
    "cat(\"All:\\n\")\n",
    "knitr::kable(extract_model_results(summary(ferr_model_all)), digits = 3)\n",
    "\n",
    "cat(\"\\nNot pregnant:\\n\")\n",
    "knitr::kable(extract_model_results(summary(ferr_model_np)), digits = 3)\n",
    "\n",
    "cat(\"\\nPregnant:\\n\")\n",
    "knitr::kable(extract_model_results(summary(ferr_model_preg)), digits = 3)\n",
    "\n",
    "cat(\"\\nPostpartum:\\n\")\n",
    "knitr::kable(extract_model_results(summary(ferr_model_postpartum)), digits = 3)\n",
    "\n"
   ]
  },
  {
   "cell_type": "markdown",
   "id": "f5f55233",
   "metadata": {
    "heading_collapsed": true
   },
   "source": [
    "##### Adjusted"
   ]
  },
  {
   "cell_type": "code",
   "execution_count": null,
   "id": "987d0397",
   "metadata": {
    "hidden": true
   },
   "outputs": [],
   "source": [
    "ferr_model_all <- svyglm(depression ~ ID_ferr + bmi + low_income + race.ethnicity + age + hscrp,  \n",
    "                           design, \n",
    "                           family = quasibinomial())\n",
    "\n",
    "ferr_model_np <- svyglm(depression ~ ID_ferr + bmi + low_income + race.ethnicity + age + hscrp,  \n",
    "                                         design, \n",
    "                                         family = quasibinomial(),\n",
    "                                         subset = (pregnancy.status==0))\n",
    "\n",
    "ferr_model_preg <- svyglm(depression ~ ID_ferr + bmi + low_income + race.ethnicity + age + hscrp,  \n",
    "                                         design, \n",
    "                                         family = quasibinomial(),\n",
    "                                         subset = (pregnancy.status==1))\n",
    "\n",
    "ferr_model_postpartum <- svyglm(depression ~ ID_ferr + bmi + low_income + race.ethnicity + age + hscrp,  \n",
    "                                         design, \n",
    "                                         family = quasibinomial(),\n",
    "                                         subset = (pregnancy.status==1))"
   ]
  },
  {
   "cell_type": "code",
   "execution_count": null,
   "id": "86d13870",
   "metadata": {
    "hidden": true
   },
   "outputs": [],
   "source": [
    "# Function to extract model results\n",
    "extract_model_results <- function(model_summary) {\n",
    "  result_table <- as.data.frame(model_summary$coefficients)\n",
    "  colnames(result_table) <- c(\"Estimate\", \"Std. Error\", \"t value\", \"P-value\")\n",
    "  result_table$`Odds Ratio` <- exp(result_table$Estimate)\n",
    "  result_table$`95% CI Lower` <- exp(result_table$Estimate - 1.96 * result_table$`Std. Error`)\n",
    "  result_table$`95% CI Upper` <- exp(result_table$Estimate + 1.96 * result_table$`Std. Error`)\n",
    "  result_table <- result_table[, c(\"Odds Ratio\", \"95% CI Lower\", \"95% CI Upper\", \"P-value\")]\n",
    "  row.names(result_table) <- make.names(row.names(result_table), unique = TRUE)\n",
    "  return(result_table)\n",
    "}\n",
    "\n",
    "# Print results for all models\n",
    "cat(\"All:\\n\")\n",
    "knitr::kable(extract_model_results(summary(ferr_model_all)), digits = 3)\n",
    "\n",
    "cat(\"\\nNot pregnant:\\n\")\n",
    "knitr::kable(extract_model_results(summary(ferr_model_np)), digits = 3)\n",
    "\n",
    "cat(\"\\nPregnant:\\n\")\n",
    "knitr::kable(extract_model_results(summary(ferr_model_preg)), digits = 3)\n",
    "\n",
    "cat(\"\\nPostpartum:\\n\")\n",
    "knitr::kable(extract_model_results(summary(ferr_model_postpartum)), digits = 3)"
   ]
  },
  {
   "cell_type": "markdown",
   "id": "d0e0fc0e",
   "metadata": {},
   "source": [
    "#### Cotinuous predictor stratified"
   ]
  },
  {
   "cell_type": "code",
   "execution_count": 17,
   "id": "79758ecf",
   "metadata": {},
   "outputs": [],
   "source": [
    "# Fit the models\n",
    "## all\n",
    "model_non_low_income_all <- svyglm(depression ~ ferritin,\n",
    "                                  design,\n",
    "                                  family = quasibinomial(),\n",
    "                                  subset = low_income == 0)\n",
    "\n",
    "model_low_income_all <- svyglm(depression ~ ferritin,\n",
    "                                  design,\n",
    "                                  family = quasibinomial(),\n",
    "                                  subset = low_income == 1)\n",
    "\n",
    "\n",
    "model_non_low_income_adj_all <- svyglm(depression ~ ferritin + bmi + race.ethnicity + age + hscrp,\n",
    "                                  design,\n",
    "                                  family = quasibinomial(),\n",
    "                                  subset = low_income == 0)\n",
    "\n",
    "model_low_income_adj_all <- svyglm(depression ~ ferritin + bmi + race.ethnicity + age + hscrp,\n",
    "                                  design,\n",
    "                                  family = quasibinomial(),\n",
    "                                  subset = low_income == 1)\n",
    "\n",
    "## Not pregnant group\n",
    "model_non_low_income_np <- svyglm(formula = depression ~ ferritin,\n",
    "                                design = design,\n",
    "                                subset = (pregnancy.status == 0 & low_income == 0),\n",
    "                                family = quasibinomial())\n",
    "\n",
    "model_low_income_np <- svyglm(formula = depression ~ ferritin,\n",
    "                            design = design,\n",
    "                            subset = (pregnancy.status == 0 & low_income == 1),\n",
    "                            family = quasibinomial())\n",
    "\n",
    "model_non_low_income_adj_np <- svyglm(formula = depression ~ ferritin + bmi + race.ethnicity + age + hscrp,\n",
    "                                    design = design,\n",
    "                                    subset = (pregnancy.status == 0 & low_income == 0),\n",
    "                                    family = quasibinomial())\n",
    "\n",
    "model_low_income_adj_np <- svyglm(formula = depression ~ ferritin + bmi + race.ethnicity + age + hscrp,\n",
    "                                design = design,\n",
    "                                subset = (pregnancy.status == 0 & low_income == 1),\n",
    "                                family = quasibinomial())\n",
    "\n",
    "## Pregnant group\n",
    "model_non_low_income_p <- svyglm(formula = depression ~ ferritin,\n",
    "                                design = design,\n",
    "                                subset = (pregnancy.status == 1 & low_income == 0),\n",
    "                                family = quasibinomial())\n",
    "\n",
    "model_low_income_p <- svyglm(formula = depression ~ ferritin,\n",
    "                            design = design,\n",
    "                            subset = (pregnancy.status == 1 & low_income == 1),\n",
    "                            family = quasibinomial())\n",
    "\n",
    "model_non_low_income_adj_p <- svyglm(formula = depression ~ ferritin + bmi + race.ethnicity + age + hscrp,\n",
    "                                    design = design,\n",
    "                                    subset = (pregnancy.status == 1 & low_income == 0),\n",
    "                                    family = quasibinomial())\n",
    "\n",
    "model_low_income_adj_p <- svyglm(formula = depression ~ ferritin + bmi + race.ethnicity + age + hscrp,\n",
    "                                design = design,\n",
    "                                subset = (pregnancy.status == 1 & low_income == 1),\n",
    "                                family = quasibinomial())\n",
    "\n",
    "## Postpartum group\n",
    "model_non_low_income_pp <- svyglm(formula = depression ~ ferritin,\n",
    "                                design = design,\n",
    "                                subset = (pregnancy.status == 2 & low_income == 0),\n",
    "                                family = quasibinomial())\n",
    "\n",
    "model_low_income_pp <- svyglm(formula = depression ~ ferritin,\n",
    "                            design = design,\n",
    "                            subset = (pregnancy.status == 2 & low_income == 1),\n",
    "                            family = quasibinomial())\n",
    "\n",
    "model_non_low_income_adj_pp <- svyglm(formula = depression ~ ferritin + bmi + race.ethnicity + age + hscrp,\n",
    "                                    design = design,\n",
    "                                    subset = (pregnancy.status == 2 & low_income == 0),\n",
    "                                    family = quasibinomial())\n",
    "\n",
    "model_low_income_adj_pp <- svyglm(formula = depression ~ ferritin + bmi + race.ethnicity + age + hscrp,\n",
    "                                design = design,\n",
    "                                subset = (pregnancy.status == 2 & low_income == 1),\n",
    "                                family = quasibinomial())"
   ]
  },
  {
   "cell_type": "code",
   "execution_count": 18,
   "id": "0c4c6d33",
   "metadata": {},
   "outputs": [
    {
     "name": "stdout",
     "output_type": "stream",
     "text": [
      "All, not low-income group:\n"
     ]
    },
    {
     "data": {
      "text/plain": [
       "\n",
       "\n",
       "|             | Odds Ratio| 95% CI Lower| 95% CI Upper| P-value|\n",
       "|:------------|----------:|------------:|------------:|-------:|\n",
       "|X.Intercept. |      0.068|        0.052|        0.088|   0.000|\n",
       "|ferritin     |      1.002|        0.999|        1.005|   0.242|"
      ]
     },
     "metadata": {},
     "output_type": "display_data"
    },
    {
     "name": "stdout",
     "output_type": "stream",
     "text": [
      "\n",
      "All, low-income group:\n"
     ]
    },
    {
     "data": {
      "text/plain": [
       "\n",
       "\n",
       "|             | Odds Ratio| 95% CI Lower| 95% CI Upper| P-value|\n",
       "|:------------|----------:|------------:|------------:|-------:|\n",
       "|X.Intercept. |      0.175|         0.15|        0.205|   0.000|\n",
       "|ferritin     |      1.001|         1.00|        1.003|   0.122|"
      ]
     },
     "metadata": {},
     "output_type": "display_data"
    },
    {
     "name": "stdout",
     "output_type": "stream",
     "text": [
      "\n",
      "All, not low-income group (adjusted):\n"
     ]
    },
    {
     "data": {
      "text/plain": [
       "\n",
       "\n",
       "|               | Odds Ratio| 95% CI Lower| 95% CI Upper| P-value|\n",
       "|:--------------|----------:|------------:|------------:|-------:|\n",
       "|X.Intercept.   |      0.031|        0.010|        0.094|   0.000|\n",
       "|ferritin       |      1.001|        0.998|        1.004|   0.374|\n",
       "|bmi            |      1.039|        1.017|        1.062|   0.001|\n",
       "|race.ethnicity |      0.965|        0.870|        1.070|   0.499|\n",
       "|age            |      0.994|        0.968|        1.020|   0.638|\n",
       "|hscrp          |      1.000|        0.976|        1.024|   0.970|"
      ]
     },
     "metadata": {},
     "output_type": "display_data"
    },
    {
     "name": "stdout",
     "output_type": "stream",
     "text": [
      "\n",
      "All, low-income group (adjusted):\n"
     ]
    },
    {
     "data": {
      "text/plain": [
       "\n",
       "\n",
       "|               | Odds Ratio| 95% CI Lower| 95% CI Upper| P-value|\n",
       "|:--------------|----------:|------------:|------------:|-------:|\n",
       "|X.Intercept.   |      0.042|        0.021|        0.086|   0.000|\n",
       "|ferritin       |      1.001|        0.999|        1.002|   0.381|\n",
       "|bmi            |      1.015|        1.000|        1.030|   0.060|\n",
       "|race.ethnicity |      1.083|        0.994|        1.179|   0.071|\n",
       "|age            |      1.023|        1.005|        1.042|   0.012|\n",
       "|hscrp          |      1.012|        0.998|        1.027|   0.086|"
      ]
     },
     "metadata": {},
     "output_type": "display_data"
    },
    {
     "name": "stdout",
     "output_type": "stream",
     "text": [
      "Not pregnant, not low-income group:\n"
     ]
    },
    {
     "data": {
      "text/plain": [
       "\n",
       "\n",
       "|             | Odds Ratio| 95% CI Lower| 95% CI Upper| P-value|\n",
       "|:------------|----------:|------------:|------------:|-------:|\n",
       "|X.Intercept. |      0.071|        0.053|        0.095|   0.000|\n",
       "|ferritin     |      1.002|        0.999|        1.005|   0.269|"
      ]
     },
     "metadata": {},
     "output_type": "display_data"
    },
    {
     "name": "stdout",
     "output_type": "stream",
     "text": [
      "\n",
      "Not pregnant, low-income group:\n"
     ]
    },
    {
     "data": {
      "text/plain": [
       "\n",
       "\n",
       "|             | Odds Ratio| 95% CI Lower| 95% CI Upper| P-value|\n",
       "|:------------|----------:|------------:|------------:|-------:|\n",
       "|X.Intercept. |      0.191|        0.161|        0.226|   0.000|\n",
       "|ferritin     |      1.001|        0.999|        1.002|   0.228|"
      ]
     },
     "metadata": {},
     "output_type": "display_data"
    },
    {
     "name": "stdout",
     "output_type": "stream",
     "text": [
      "\n",
      "Not pregnant, not low-income group (adjusted):\n"
     ]
    },
    {
     "data": {
      "text/plain": [
       "\n",
       "\n",
       "|               | Odds Ratio| 95% CI Lower| 95% CI Upper| P-value|\n",
       "|:--------------|----------:|------------:|------------:|-------:|\n",
       "|X.Intercept.   |      0.037|        0.011|        0.124|   0.000|\n",
       "|ferritin       |      1.001|        0.998|        1.005|   0.409|\n",
       "|bmi            |      1.038|        1.013|        1.062|   0.003|\n",
       "|race.ethnicity |      0.968|        0.867|        1.081|   0.562|\n",
       "|age            |      0.992|        0.965|        1.019|   0.540|\n",
       "|hscrp          |      0.995|        0.965|        1.026|   0.753|"
      ]
     },
     "metadata": {},
     "output_type": "display_data"
    },
    {
     "name": "stdout",
     "output_type": "stream",
     "text": [
      "\n",
      "Not pregnant, low-income group (adjusted):\n"
     ]
    },
    {
     "data": {
      "text/plain": [
       "\n",
       "\n",
       "|               | Odds Ratio| 95% CI Lower| 95% CI Upper| P-value|\n",
       "|:--------------|----------:|------------:|------------:|-------:|\n",
       "|X.Intercept.   |      0.043|        0.019|        0.095|   0.000|\n",
       "|ferritin       |      1.000|        0.999|        1.002|   0.861|\n",
       "|bmi            |      1.017|        1.001|        1.033|   0.044|\n",
       "|race.ethnicity |      1.083|        0.990|        1.185|   0.085|\n",
       "|age            |      1.023|        1.004|        1.043|   0.019|\n",
       "|hscrp          |      1.015|        1.000|        1.030|   0.054|"
      ]
     },
     "metadata": {},
     "output_type": "display_data"
    },
    {
     "name": "stdout",
     "output_type": "stream",
     "text": [
      "\n",
      "Pregnant, not low-income group:\n"
     ]
    },
    {
     "data": {
      "text/plain": [
       "\n",
       "\n",
       "|             | Odds Ratio| 95% CI Lower| 95% CI Upper| P-value|\n",
       "|:------------|----------:|------------:|------------:|-------:|\n",
       "|X.Intercept. |      0.043|        0.016|        0.113|   0.000|\n",
       "|ferritin     |      1.003|        0.990|        1.015|   0.696|"
      ]
     },
     "metadata": {},
     "output_type": "display_data"
    },
    {
     "name": "stdout",
     "output_type": "stream",
     "text": [
      "\n",
      "Pregnant, low-income group:\n"
     ]
    },
    {
     "data": {
      "text/plain": [
       "\n",
       "\n",
       "|             | Odds Ratio| 95% CI Lower| 95% CI Upper| P-value|\n",
       "|:------------|----------:|------------:|------------:|-------:|\n",
       "|X.Intercept. |      0.150|        0.082|        0.275|   0.000|\n",
       "|ferritin     |      0.993|        0.982|        1.004|   0.247|"
      ]
     },
     "metadata": {},
     "output_type": "display_data"
    },
    {
     "name": "stdout",
     "output_type": "stream",
     "text": [
      "\n",
      "Pregnant, not low-income group (adjusted):\n"
     ]
    },
    {
     "data": {
      "text/plain": [
       "\n",
       "\n",
       "|               | Odds Ratio| 95% CI Lower| 95% CI Upper| P-value|\n",
       "|:--------------|----------:|------------:|------------:|-------:|\n",
       "|X.Intercept.   |      0.006|        0.000|        0.099|   0.001|\n",
       "|ferritin       |      1.005|        0.995|        1.014|   0.323|\n",
       "|bmi            |      1.134|        1.058|        1.216|   0.001|\n",
       "|race.ethnicity |      0.920|        0.465|        1.820|   0.811|\n",
       "|age            |      0.923|        0.844|        1.009|   0.086|\n",
       "|hscrp          |      1.025|        0.987|        1.064|   0.212|"
      ]
     },
     "metadata": {},
     "output_type": "display_data"
    },
    {
     "name": "stdout",
     "output_type": "stream",
     "text": [
      "\n",
      "Pregnant, low-income group (adjusted):\n"
     ]
    },
    {
     "data": {
      "text/plain": [
       "\n",
       "\n",
       "|               | Odds Ratio| 95% CI Lower| 95% CI Upper| P-value|\n",
       "|:--------------|----------:|------------:|------------:|-------:|\n",
       "|X.Intercept.   |      0.040|        0.002|        0.698|   0.035|\n",
       "|ferritin       |      0.991|        0.981|        1.002|   0.126|\n",
       "|bmi            |      1.006|        0.927|        1.093|   0.884|\n",
       "|race.ethnicity |      1.027|        0.790|        1.337|   0.842|\n",
       "|age            |      1.040|        0.964|        1.123|   0.319|\n",
       "|hscrp          |      1.001|        0.955|        1.049|   0.977|"
      ]
     },
     "metadata": {},
     "output_type": "display_data"
    },
    {
     "name": "stdout",
     "output_type": "stream",
     "text": [
      "\n",
      "Postpartum, not low-income group:\n"
     ]
    },
    {
     "data": {
      "text/plain": [
       "\n",
       "\n",
       "|             | Odds Ratio| 95% CI Lower| 95% CI Upper| P-value|\n",
       "|:------------|----------:|------------:|------------:|-------:|\n",
       "|X.Intercept. |      0.087|        0.028|        0.273|   0.000|\n",
       "|ferritin     |      0.984|        0.967|        1.003|   0.104|"
      ]
     },
     "metadata": {},
     "output_type": "display_data"
    },
    {
     "name": "stdout",
     "output_type": "stream",
     "text": [
      "\n",
      "Postpartum, low-income group:\n"
     ]
    },
    {
     "data": {
      "text/plain": [
       "\n",
       "\n",
       "|             | Odds Ratio| 95% CI Lower| 95% CI Upper| P-value|\n",
       "|:------------|----------:|------------:|------------:|-------:|\n",
       "|X.Intercept. |      0.082|        0.049|        0.138|   0.000|\n",
       "|ferritin     |      1.007|        1.001|        1.013|   0.026|"
      ]
     },
     "metadata": {},
     "output_type": "display_data"
    },
    {
     "name": "stdout",
     "output_type": "stream",
     "text": [
      "\n",
      "Postpartum, not low-income group (adjusted):\n"
     ]
    },
    {
     "data": {
      "text/plain": [
       "\n",
       "\n",
       "|               | Odds Ratio| 95% CI Lower| 95% CI Upper| P-value|\n",
       "|:--------------|----------:|------------:|------------:|-------:|\n",
       "|X.Intercept.   |      0.019|        0.000|       10.838|   0.230|\n",
       "|ferritin       |      0.984|        0.959|        1.010|   0.226|\n",
       "|bmi            |      1.055|        0.951|        1.169|   0.321|\n",
       "|race.ethnicity |      0.879|        0.563|        1.371|   0.573|\n",
       "|age            |      1.003|        0.884|        1.138|   0.966|\n",
       "|hscrp          |      1.040|        0.950|        1.139|   0.400|"
      ]
     },
     "metadata": {},
     "output_type": "display_data"
    },
    {
     "name": "stdout",
     "output_type": "stream",
     "text": [
      "\n",
      "Postpartum, low-income group (adjusted):\n"
     ]
    },
    {
     "data": {
      "text/plain": [
       "\n",
       "\n",
       "|               | Odds Ratio| 95% CI Lower| 95% CI Upper| P-value|\n",
       "|:--------------|----------:|------------:|------------:|-------:|\n",
       "|X.Intercept.   |      2.711|        0.193|       38.142|   0.464|\n",
       "|ferritin       |      1.009|        1.002|        1.017|   0.023|\n",
       "|bmi            |      0.987|        0.913|        1.067|   0.747|\n",
       "|race.ethnicity |      1.069|        0.757|        1.509|   0.707|\n",
       "|age            |      0.874|        0.787|        0.971|   0.016|\n",
       "|hscrp          |      1.007|        0.924|        1.097|   0.878|"
      ]
     },
     "metadata": {},
     "output_type": "display_data"
    }
   ],
   "source": [
    "# Function to extract model results\n",
    "extract_model_results <- function(model_summary) {\n",
    "  result_table <- as.data.frame(model_summary$coefficients)\n",
    "  colnames(result_table) <- c(\"Estimate\", \"Std. Error\", \"t value\", \"P-value\")\n",
    "  result_table$`Odds Ratio` <- exp(result_table$Estimate)\n",
    "  result_table$`95% CI Lower` <- exp(result_table$Estimate - 1.96 * result_table$`Std. Error`)\n",
    "  result_table$`95% CI Upper` <- exp(result_table$Estimate + 1.96 * result_table$`Std. Error`)\n",
    "  result_table <- result_table[, c(\"Odds Ratio\", \"95% CI Lower\", \"95% CI Upper\", \"P-value\")]\n",
    "  row.names(result_table) <- make.names(row.names(result_table), unique = TRUE)\n",
    "  return(result_table)\n",
    "}\n",
    "\n",
    "# Print results for all models\n",
    "cat(\"All, not low-income group:\\n\")\n",
    "knitr::kable(extract_model_results(summary(model_non_low_income_all)), digits = 3)\n",
    "\n",
    "cat(\"\\nAll, low-income group:\\n\")\n",
    "knitr::kable(extract_model_results(summary(model_low_income_all)), digits = 3)\n",
    "\n",
    "cat(\"\\nAll, not low-income group (adjusted):\\n\")\n",
    "knitr::kable(extract_model_results(summary(model_non_low_income_adj_all)), digits = 3)\n",
    "\n",
    "cat(\"\\nAll, low-income group (adjusted):\\n\")\n",
    "knitr::kable(extract_model_results(summary(model_low_income_adj_all)), digits = 3)\n",
    "\n",
    "cat(\"Not pregnant, not low-income group:\\n\")\n",
    "knitr::kable(extract_model_results(summary(model_non_low_income_np)), digits = 3)\n",
    "\n",
    "cat(\"\\nNot pregnant, low-income group:\\n\")\n",
    "knitr::kable(extract_model_results(summary(model_low_income_np)), digits = 3)\n",
    "\n",
    "cat(\"\\nNot pregnant, not low-income group (adjusted):\\n\")\n",
    "knitr::kable(extract_model_results(summary(model_non_low_income_adj_np)), digits = 3)\n",
    "\n",
    "cat(\"\\nNot pregnant, low-income group (adjusted):\\n\")\n",
    "knitr::kable(extract_model_results(summary(model_low_income_adj_np)), digits = 3)\n",
    "\n",
    "cat(\"\\nPregnant, not low-income group:\\n\")\n",
    "knitr::kable(extract_model_results(summary(model_non_low_income_p)), digits = 3)\n",
    "\n",
    "cat(\"\\nPregnant, low-income group:\\n\")\n",
    "knitr::kable(extract_model_results(summary(model_low_income_p)), digits = 3)\n",
    "\n",
    "cat(\"\\nPregnant, not low-income group (adjusted):\\n\")\n",
    "knitr::kable(extract_model_results(summary(model_non_low_income_adj_p)), digits = 3)\n",
    "\n",
    "cat(\"\\nPregnant, low-income group (adjusted):\\n\")\n",
    "knitr::kable(extract_model_results(summary(model_low_income_adj_p)), digits = 3)\n",
    "\n",
    "cat(\"\\nPostpartum, not low-income group:\\n\")\n",
    "knitr::kable(extract_model_results(summary(model_non_low_income_pp)), digits = 3)\n",
    "\n",
    "cat(\"\\nPostpartum, low-income group:\\n\")\n",
    "knitr::kable(extract_model_results(summary(model_low_income_pp)), digits = 3)\n",
    "\n",
    "cat(\"\\nPostpartum, not low-income group (adjusted):\\n\")\n",
    "knitr::kable(extract_model_results(summary(model_non_low_income_adj_pp)), digits = 3)\n",
    "\n",
    "cat(\"\\nPostpartum, low-income group (adjusted):\\n\")\n",
    "knitr::kable(extract_model_results(summary(model_low_income_adj_pp)), digits = 3)"
   ]
  },
  {
   "cell_type": "markdown",
   "id": "a5d219d4",
   "metadata": {},
   "source": [
    "#### Binary Predictor stratified"
   ]
  },
  {
   "cell_type": "code",
   "execution_count": 13,
   "id": "ee7606c5",
   "metadata": {},
   "outputs": [],
   "source": [
    "# Fit the models\n",
    "## all\n",
    "model_non_low_income_all <- svyglm(depression ~ ID_ferr,\n",
    "                                  design,\n",
    "                                  family = quasibinomial(),\n",
    "                                  subset = low_income == 0)\n",
    "\n",
    "model_low_income_all <- svyglm(depression ~ ID_ferr,\n",
    "                                  design,\n",
    "                                  family = quasibinomial(),\n",
    "                                  subset = low_income == 1)\n",
    "\n",
    "\n",
    "model_non_low_income_adj_all <- svyglm(depression ~ ID_ferr + bmi + race.ethnicity + age + hscrp,\n",
    "                                  design,\n",
    "                                  family = quasibinomial(),\n",
    "                                  subset = low_income == 0)\n",
    "\n",
    "model_low_income_adj_all <- svyglm(depression ~ ID_ferr + bmi + race.ethnicity + age + hscrp,\n",
    "                                  design,\n",
    "                                  family = quasibinomial(),\n",
    "                                  subset = low_income == 1)\n",
    "\n",
    "## Not pregnant group\n",
    "model_non_low_income_np <- svyglm(formula = depression ~ ID_ferr,\n",
    "                                design = design,\n",
    "                                subset = (pregnancy.status == 0 & low_income == 0),\n",
    "                                family = quasibinomial())\n",
    "\n",
    "model_low_income_np <- svyglm(formula = depression ~ ID_ferr,\n",
    "                            design = design,\n",
    "                            subset = (pregnancy.status == 0 & low_income == 1),\n",
    "                            family = quasibinomial())\n",
    "\n",
    "model_non_low_income_adj_np <- svyglm(formula = depression ~ ID_ferr + bmi + race.ethnicity + age + hscrp,\n",
    "                                    design = design,\n",
    "                                    subset = (pregnancy.status == 0 & low_income == 0),\n",
    "                                    family = quasibinomial())\n",
    "\n",
    "model_low_income_adj_np <- svyglm(formula = depression ~ ID_ferr + bmi + race.ethnicity + age + hscrp,\n",
    "                                design = design,\n",
    "                                subset = (pregnancy.status == 0 & low_income == 1),\n",
    "                                family = quasibinomial())\n",
    "\n",
    "## Pregnant group\n",
    "model_non_low_income_p <- svyglm(formula = depression ~ ID_ferr,\n",
    "                                design = design,\n",
    "                                subset = (pregnancy.status == 1 & low_income == 0),\n",
    "                                family = quasibinomial())\n",
    "\n",
    "model_low_income_p <- svyglm(formula = depression ~ ID_ferr,\n",
    "                            design = design,\n",
    "                            subset = (pregnancy.status == 1 & low_income == 1),\n",
    "                            family = quasibinomial())\n",
    "\n",
    "model_non_low_income_adj_p <- svyglm(formula = depression ~ ID_ferr + bmi + race.ethnicity + age + hscrp,\n",
    "                                    design = design,\n",
    "                                    subset = (pregnancy.status == 1 & low_income == 0),\n",
    "                                    family = quasibinomial())\n",
    "\n",
    "model_low_income_adj_p <- svyglm(formula = depression ~ ID_ferr + bmi + race.ethnicity + age + hscrp,\n",
    "                                design = design,\n",
    "                                subset = (pregnancy.status == 1 & low_income == 1),\n",
    "                                family = quasibinomial())\n",
    "\n",
    "## Postpartum group\n",
    "model_non_low_income_pp <- svyglm(formula = depression ~ ID_ferr,\n",
    "                                design = design,\n",
    "                                subset = (pregnancy.status == 2 & low_income == 0),\n",
    "                                family = quasibinomial())\n",
    "\n",
    "model_low_income_pp <- svyglm(formula = depression ~ ID_ferr,\n",
    "                            design = design,\n",
    "                            subset = (pregnancy.status == 2 & low_income == 1),\n",
    "                            family = quasibinomial())\n",
    "\n",
    "model_non_low_income_adj_pp <- svyglm(formula = depression ~ ID_ferr + bmi + race.ethnicity + age + hscrp,\n",
    "                                    design = design,\n",
    "                                    subset = (pregnancy.status == 2 & low_income == 0),\n",
    "                                    family = quasibinomial())\n",
    "\n",
    "model_low_income_adj_pp <- svyglm(formula = depression ~ ID_ferr + bmi + race.ethnicity + age + hscrp,\n",
    "                                design = design,\n",
    "                                subset = (pregnancy.status == 2 & low_income == 1),\n",
    "                                family = quasibinomial())"
   ]
  },
  {
   "cell_type": "code",
   "execution_count": 14,
   "id": "2617fd0b",
   "metadata": {
    "scrolled": false
   },
   "outputs": [
    {
     "name": "stdout",
     "output_type": "stream",
     "text": [
      "All, not low-income group:\n"
     ]
    },
    {
     "data": {
      "text/plain": [
       "\n",
       "\n",
       "|             | Odds Ratio| 95% CI Lower| 95% CI Upper| P-value|\n",
       "|:------------|----------:|------------:|------------:|-------:|\n",
       "|X.Intercept. |      0.075|        0.061|        0.091|   0.000|\n",
       "|ID_ferr      |      1.065|        0.667|        1.698|   0.794|"
      ]
     },
     "metadata": {},
     "output_type": "display_data"
    },
    {
     "name": "stdout",
     "output_type": "stream",
     "text": [
      "\n",
      "All, low-income group:\n"
     ]
    },
    {
     "data": {
      "text/plain": [
       "\n",
       "\n",
       "|             | Odds Ratio| 95% CI Lower| 95% CI Upper| P-value|\n",
       "|:------------|----------:|------------:|------------:|-------:|\n",
       "|X.Intercept. |      0.193|        0.168|        0.221|   0.000|\n",
       "|ID_ferr      |      0.867|        0.624|        1.205|   0.399|"
      ]
     },
     "metadata": {},
     "output_type": "display_data"
    },
    {
     "name": "stdout",
     "output_type": "stream",
     "text": [
      "\n",
      "All, not low-income group (adjusted):\n"
     ]
    },
    {
     "data": {
      "text/plain": [
       "\n",
       "\n",
       "|               | Odds Ratio| 95% CI Lower| 95% CI Upper| P-value|\n",
       "|:--------------|----------:|------------:|------------:|-------:|\n",
       "|X.Intercept.   |      0.032|        0.010|        0.098|   0.000|\n",
       "|ID_ferr        |      1.095|        0.680|        1.764|   0.710|\n",
       "|bmi            |      1.040|        1.017|        1.063|   0.001|\n",
       "|race.ethnicity |      0.967|        0.872|        1.072|   0.525|\n",
       "|age            |      0.994|        0.969|        1.021|   0.679|\n",
       "|hscrp          |      1.001|        0.978|        1.025|   0.916|"
      ]
     },
     "metadata": {},
     "output_type": "display_data"
    },
    {
     "name": "stdout",
     "output_type": "stream",
     "text": [
      "\n",
      "All, low-income group (adjusted):\n"
     ]
    },
    {
     "data": {
      "text/plain": [
       "\n",
       "\n",
       "|               | Odds Ratio| 95% CI Lower| 95% CI Upper| P-value|\n",
       "|:--------------|----------:|------------:|------------:|-------:|\n",
       "|X.Intercept.   |      0.044|        0.021|        0.090|   0.000|\n",
       "|ID_ferr        |      0.887|        0.636|        1.236|   0.480|\n",
       "|bmi            |      1.015|        1.000|        1.030|   0.061|\n",
       "|race.ethnicity |      1.083|        0.994|        1.181|   0.073|\n",
       "|age            |      1.024|        1.007|        1.042|   0.008|\n",
       "|hscrp          |      1.013|        0.999|        1.027|   0.080|"
      ]
     },
     "metadata": {},
     "output_type": "display_data"
    },
    {
     "name": "stdout",
     "output_type": "stream",
     "text": [
      "Not pregnant, not low-income group:\n"
     ]
    },
    {
     "data": {
      "text/plain": [
       "\n",
       "\n",
       "|             | Odds Ratio| 95% CI Lower| 95% CI Upper| P-value|\n",
       "|:------------|----------:|------------:|------------:|-------:|\n",
       "|X.Intercept. |      0.078|        0.063|        0.096|   0.000|\n",
       "|ID_ferr      |      1.125|        0.703|        1.800|   0.626|"
      ]
     },
     "metadata": {},
     "output_type": "display_data"
    },
    {
     "name": "stdout",
     "output_type": "stream",
     "text": [
      "\n",
      "Not pregnant, low-income group:\n"
     ]
    },
    {
     "data": {
      "text/plain": [
       "\n",
       "\n",
       "|             | Odds Ratio| 95% CI Lower| 95% CI Upper| P-value|\n",
       "|:------------|----------:|------------:|------------:|-------:|\n",
       "|X.Intercept. |      0.204|        0.176|        0.236|   0.000|\n",
       "|ID_ferr      |      0.911|        0.634|        1.308|   0.615|"
      ]
     },
     "metadata": {},
     "output_type": "display_data"
    },
    {
     "name": "stdout",
     "output_type": "stream",
     "text": [
      "\n",
      "Not pregnant, not low-income group (adjusted):\n"
     ]
    },
    {
     "data": {
      "text/plain": [
       "\n",
       "\n",
       "|               | Odds Ratio| 95% CI Lower| 95% CI Upper| P-value|\n",
       "|:--------------|----------:|------------:|------------:|-------:|\n",
       "|X.Intercept.   |      0.039|        0.012|        0.129|   0.000|\n",
       "|ID_ferr        |      1.167|        0.725|        1.879|   0.526|\n",
       "|bmi            |      1.038|        1.014|        1.062|   0.003|\n",
       "|race.ethnicity |      0.970|        0.869|        1.083|   0.588|\n",
       "|age            |      0.992|        0.966|        1.019|   0.548|\n",
       "|hscrp          |      0.998|        0.968|        1.028|   0.878|"
      ]
     },
     "metadata": {},
     "output_type": "display_data"
    },
    {
     "name": "stdout",
     "output_type": "stream",
     "text": [
      "\n",
      "Not pregnant, low-income group (adjusted):\n"
     ]
    },
    {
     "data": {
      "text/plain": [
       "\n",
       "\n",
       "|               | Odds Ratio| 95% CI Lower| 95% CI Upper| P-value|\n",
       "|:--------------|----------:|------------:|------------:|-------:|\n",
       "|X.Intercept.   |      0.043|        0.019|        0.097|   0.000|\n",
       "|ID_ferr        |      0.927|        0.641|        1.340|   0.689|\n",
       "|bmi            |      1.017|        1.001|        1.033|   0.046|\n",
       "|race.ethnicity |      1.082|        0.988|        1.186|   0.094|\n",
       "|age            |      1.024|        1.005|        1.043|   0.015|\n",
       "|hscrp          |      1.015|        1.000|        1.030|   0.056|"
      ]
     },
     "metadata": {},
     "output_type": "display_data"
    },
    {
     "name": "stdout",
     "output_type": "stream",
     "text": [
      "\n",
      "Pregnant, not low-income group:\n"
     ]
    },
    {
     "data": {
      "text/plain": [
       "\n",
       "\n",
       "|             | Odds Ratio| 95% CI Lower| 95% CI Upper| P-value|\n",
       "|:------------|----------:|------------:|------------:|-------:|\n",
       "|X.Intercept. |      0.050|        0.024|        0.105|   0.000|\n",
       "|ID_ferr      |      0.771|        0.151|        3.953|   0.757|"
      ]
     },
     "metadata": {},
     "output_type": "display_data"
    },
    {
     "name": "stdout",
     "output_type": "stream",
     "text": [
      "\n",
      "Pregnant, low-income group:\n"
     ]
    },
    {
     "data": {
      "text/plain": [
       "\n",
       "\n",
       "|             | Odds Ratio| 95% CI Lower| 95% CI Upper| P-value|\n",
       "|:------------|----------:|------------:|------------:|-------:|\n",
       "|X.Intercept. |      0.119|        0.065|        0.217|    0.00|\n",
       "|ID_ferr      |      1.029|        0.425|        2.491|    0.95|"
      ]
     },
     "metadata": {},
     "output_type": "display_data"
    },
    {
     "name": "stdout",
     "output_type": "stream",
     "text": [
      "\n",
      "Pregnant, not low-income group (adjusted):\n"
     ]
    },
    {
     "data": {
      "text/plain": [
       "\n",
       "\n",
       "|               | Odds Ratio| 95% CI Lower| 95% CI Upper| P-value|\n",
       "|:--------------|----------:|------------:|------------:|-------:|\n",
       "|X.Intercept.   |      0.008|        0.000|        0.142|   0.002|\n",
       "|ID_ferr        |      0.776|        0.161|        3.729|   0.753|\n",
       "|bmi            |      1.135|        1.061|        1.214|   0.001|\n",
       "|race.ethnicity |      0.917|        0.466|        1.806|   0.804|\n",
       "|age            |      0.923|        0.848|        1.004|   0.071|\n",
       "|hscrp          |      1.022|        0.984|        1.061|   0.269|"
      ]
     },
     "metadata": {},
     "output_type": "display_data"
    },
    {
     "name": "stdout",
     "output_type": "stream",
     "text": [
      "\n",
      "Pregnant, low-income group (adjusted):\n"
     ]
    },
    {
     "data": {
      "text/plain": [
       "\n",
       "\n",
       "|               | Odds Ratio| 95% CI Lower| 95% CI Upper| P-value|\n",
       "|:--------------|----------:|------------:|------------:|-------:|\n",
       "|X.Intercept.   |      0.038|        0.002|        0.610|   0.028|\n",
       "|ID_ferr        |      1.118|        0.485|        2.580|   0.795|\n",
       "|bmi            |      1.005|        0.926|        1.091|   0.897|\n",
       "|race.ethnicity |      1.012|        0.784|        1.307|   0.928|\n",
       "|age            |      1.033|        0.960|        1.112|   0.393|\n",
       "|hscrp          |      1.001|        0.955|        1.050|   0.958|"
      ]
     },
     "metadata": {},
     "output_type": "display_data"
    },
    {
     "name": "stdout",
     "output_type": "stream",
     "text": [
      "\n",
      "Postpartum, not low-income group:\n"
     ]
    },
    {
     "data": {
      "text/plain": [
       "\n",
       "\n",
       "|             | Odds Ratio| 95% CI Lower| 95% CI Upper| P-value|\n",
       "|:------------|----------:|------------:|------------:|-------:|\n",
       "|X.Intercept. |      0.051|        0.019|        0.132|   0.000|\n",
       "|ID_ferr      |      0.308|        0.033|        2.909|   0.311|"
      ]
     },
     "metadata": {},
     "output_type": "display_data"
    },
    {
     "name": "stdout",
     "output_type": "stream",
     "text": [
      "\n",
      "Postpartum, low-income group:\n"
     ]
    },
    {
     "data": {
      "text/plain": [
       "\n",
       "\n",
       "|             | Odds Ratio| 95% CI Lower| 95% CI Upper| P-value|\n",
       "|:------------|----------:|------------:|------------:|-------:|\n",
       "|X.Intercept. |      0.121|        0.074|        0.197|   0.000|\n",
       "|ID_ferr      |      0.809|        0.247|        2.652|   0.728|"
      ]
     },
     "metadata": {},
     "output_type": "display_data"
    },
    {
     "name": "stdout",
     "output_type": "stream",
     "text": [
      "\n",
      "Postpartum, not low-income group (adjusted):\n"
     ]
    },
    {
     "data": {
      "text/plain": [
       "\n",
       "\n",
       "|               | Odds Ratio| 95% CI Lower| 95% CI Upper| P-value|\n",
       "|:--------------|----------:|------------:|------------:|-------:|\n",
       "|X.Intercept.   |      0.008|        0.000|        6.450|   0.167|\n",
       "|ID_ferr        |      0.297|        0.027|        3.336|   0.334|\n",
       "|bmi            |      1.076|        0.977|        1.185|   0.146|\n",
       "|race.ethnicity |      0.855|        0.560|        1.304|   0.472|\n",
       "|age            |      0.999|        0.869|        1.147|   0.985|\n",
       "|hscrp          |      1.023|        0.936|        1.117|   0.622|"
      ]
     },
     "metadata": {},
     "output_type": "display_data"
    },
    {
     "name": "stdout",
     "output_type": "stream",
     "text": [
      "\n",
      "Postpartum, low-income group (adjusted):\n"
     ]
    },
    {
     "data": {
      "text/plain": [
       "\n",
       "\n",
       "|               | Odds Ratio| 95% CI Lower| 95% CI Upper| P-value|\n",
       "|:--------------|----------:|------------:|------------:|-------:|\n",
       "|X.Intercept.   |      2.669|        0.192|       37.077|   0.469|\n",
       "|ID_ferr        |      0.818|        0.235|        2.841|   0.753|\n",
       "|bmi            |      0.984|        0.905|        1.069|   0.699|\n",
       "|race.ethnicity |      1.071|        0.736|        1.559|   0.720|\n",
       "|age            |      0.896|        0.813|        0.987|   0.032|\n",
       "|hscrp          |      1.008|        0.924|        1.098|   0.864|"
      ]
     },
     "metadata": {},
     "output_type": "display_data"
    }
   ],
   "source": [
    "# Function to extract model results\n",
    "extract_model_results <- function(model_summary) {\n",
    "  result_table <- as.data.frame(model_summary$coefficients)\n",
    "  colnames(result_table) <- c(\"Estimate\", \"Std. Error\", \"t value\", \"P-value\")\n",
    "  result_table$`Odds Ratio` <- exp(result_table$Estimate)\n",
    "  result_table$`95% CI Lower` <- exp(result_table$Estimate - 1.96 * result_table$`Std. Error`)\n",
    "  result_table$`95% CI Upper` <- exp(result_table$Estimate + 1.96 * result_table$`Std. Error`)\n",
    "  result_table <- result_table[, c(\"Odds Ratio\", \"95% CI Lower\", \"95% CI Upper\", \"P-value\")]\n",
    "  row.names(result_table) <- make.names(row.names(result_table), unique = TRUE)\n",
    "  return(result_table)\n",
    "}\n",
    "\n",
    "# Print results for all models\n",
    "cat(\"All, not low-income group:\\n\")\n",
    "knitr::kable(extract_model_results(summary(model_non_low_income_all)), digits = 3)\n",
    "\n",
    "cat(\"\\nAll, low-income group:\\n\")\n",
    "knitr::kable(extract_model_results(summary(model_low_income_all)), digits = 3)\n",
    "\n",
    "cat(\"\\nAll, not low-income group (adjusted):\\n\")\n",
    "knitr::kable(extract_model_results(summary(model_non_low_income_adj_all)), digits = 3)\n",
    "\n",
    "cat(\"\\nAll, low-income group (adjusted):\\n\")\n",
    "knitr::kable(extract_model_results(summary(model_low_income_adj_all)), digits = 3)\n",
    "\n",
    "cat(\"Not pregnant, not low-income group:\\n\")\n",
    "knitr::kable(extract_model_results(summary(model_non_low_income_np)), digits = 3)\n",
    "\n",
    "cat(\"\\nNot pregnant, low-income group:\\n\")\n",
    "knitr::kable(extract_model_results(summary(model_low_income_np)), digits = 3)\n",
    "\n",
    "cat(\"\\nNot pregnant, not low-income group (adjusted):\\n\")\n",
    "knitr::kable(extract_model_results(summary(model_non_low_income_adj_np)), digits = 3)\n",
    "\n",
    "cat(\"\\nNot pregnant, low-income group (adjusted):\\n\")\n",
    "knitr::kable(extract_model_results(summary(model_low_income_adj_np)), digits = 3)\n",
    "\n",
    "cat(\"\\nPregnant, not low-income group:\\n\")\n",
    "knitr::kable(extract_model_results(summary(model_non_low_income_p)), digits = 3)\n",
    "\n",
    "cat(\"\\nPregnant, low-income group:\\n\")\n",
    "knitr::kable(extract_model_results(summary(model_low_income_p)), digits = 3)\n",
    "\n",
    "cat(\"\\nPregnant, not low-income group (adjusted):\\n\")\n",
    "knitr::kable(extract_model_results(summary(model_non_low_income_adj_p)), digits = 3)\n",
    "\n",
    "cat(\"\\nPregnant, low-income group (adjusted):\\n\")\n",
    "knitr::kable(extract_model_results(summary(model_low_income_adj_p)), digits = 3)\n",
    "\n",
    "cat(\"\\nPostpartum, not low-income group:\\n\")\n",
    "knitr::kable(extract_model_results(summary(model_non_low_income_pp)), digits = 3)\n",
    "\n",
    "cat(\"\\nPostpartum, low-income group:\\n\")\n",
    "knitr::kable(extract_model_results(summary(model_low_income_pp)), digits = 3)\n",
    "\n",
    "cat(\"\\nPostpartum, not low-income group (adjusted):\\n\")\n",
    "knitr::kable(extract_model_results(summary(model_non_low_income_adj_pp)), digits = 3)\n",
    "\n",
    "cat(\"\\nPostpartum, low-income group (adjusted):\\n\")\n",
    "knitr::kable(extract_model_results(summary(model_low_income_adj_pp)), digits = 3)"
   ]
  },
  {
   "cell_type": "code",
   "execution_count": null,
   "id": "a123ae1b",
   "metadata": {},
   "outputs": [],
   "source": []
  },
  {
   "cell_type": "code",
   "execution_count": null,
   "id": "3874b220",
   "metadata": {},
   "outputs": [],
   "source": []
  }
 ],
 "metadata": {
  "kernelspec": {
   "display_name": "R",
   "language": "R",
   "name": "ir"
  },
  "language_info": {
   "codemirror_mode": "r",
   "file_extension": ".r",
   "mimetype": "text/x-r-source",
   "name": "R",
   "pygments_lexer": "r",
   "version": "4.3.2"
  }
 },
 "nbformat": 4,
 "nbformat_minor": 5
}
