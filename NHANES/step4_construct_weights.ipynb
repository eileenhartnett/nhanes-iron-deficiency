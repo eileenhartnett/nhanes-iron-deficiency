{
 "cells": [
  {
   "cell_type": "markdown",
   "id": "d10bcb2d",
   "metadata": {},
   "source": [
    "# NHANES - Construct 10 year sampling weights"
   ]
  },
  {
   "cell_type": "markdown",
   "id": "55a570a0",
   "metadata": {},
   "source": [
    "Purpose of this notebook: **State the importance of sampling weights and why we will use MEC in our analyses**"
   ]
  },
  {
   "cell_type": "markdown",
   "id": "5c4ecc35",
   "metadata": {},
   "source": [
    "## Import packages"
   ]
  },
  {
   "cell_type": "code",
   "execution_count": 1,
   "id": "ec751068",
   "metadata": {},
   "outputs": [],
   "source": [
    "import pandas as pd\n",
    "import numpy as np"
   ]
  },
  {
   "cell_type": "markdown",
   "id": "724080d4",
   "metadata": {},
   "source": [
    "## Load data"
   ]
  },
  {
   "cell_type": "code",
   "execution_count": 2,
   "id": "0e6797fc",
   "metadata": {},
   "outputs": [],
   "source": [
    "nhanes = pd.read_csv('data/nhanes.csv')"
   ]
  },
  {
   "cell_type": "markdown",
   "id": "fed7b4d9",
   "metadata": {},
   "source": [
    "## Construct sampling weights \n",
    "- For NHANES datasets, the use of sampling weights and sample design variables is necessary to obtain unbiased estimates and accurate standard errors and confidence intervals.\n",
    "https://wwwn.cdc.gov/nchs/nhanes/tutorials/VarianceEstimation.aspx\n",
    "\n",
    "- Constructing Weights when Combining Survey Cycles of Continuous NHANES, Combining 5 survey cycles (10 years)\n",
    "https://wwwn.cdc.gov/nchs/nhanes/tutorials/weighting.aspx"
   ]
  },
  {
   "cell_type": "markdown",
   "id": "9756bf5d",
   "metadata": {},
   "source": [
    "#### Construct Weights Combining Survey Cycles of Continuous NHANES, Combining 5 survey cycles (10 years)\n"
   ]
  },
  {
   "cell_type": "markdown",
   "id": "4f6e41e1",
   "metadata": {},
   "source": [
    "                                'WTINT2YR' = 'interview-weight',\n",
    "                                'WTMEC2YR' = 'mec-exam-weight',"
   ]
  },
  {
   "cell_type": "code",
   "execution_count": 3,
   "id": "262cbf97",
   "metadata": {},
   "outputs": [
    {
     "data": {
      "text/plain": [
       "6.0     1377\n",
       "4.0     1253\n",
       "9.0     1240\n",
       "5.0     1180\n",
       "10.0    1057\n",
       "Name: SDDSRVYR, dtype: int64"
      ]
     },
     "execution_count": 3,
     "metadata": {},
     "output_type": "execute_result"
    }
   ],
   "source": [
    "# SDDSRVYR represents the two-year data release cycle number\n",
    "nhanes['SDDSRVYR'].value_counts()"
   ]
  },
  {
   "cell_type": "code",
   "execution_count": 4,
   "id": "99adfc22",
   "metadata": {},
   "outputs": [],
   "source": [
    "nhanes['INT10YR']= 1/5 * nhanes['WTINT2YR']"
   ]
  },
  {
   "cell_type": "code",
   "execution_count": 5,
   "id": "6fd5991b",
   "metadata": {},
   "outputs": [],
   "source": [
    "nhanes['MEC10YR']= 1/5 * nhanes['WTMEC2YR']"
   ]
  },
  {
   "cell_type": "markdown",
   "id": "e90c3261",
   "metadata": {},
   "source": [
    "## Save csv"
   ]
  },
  {
   "cell_type": "code",
   "execution_count": 6,
   "id": "fb90294c",
   "metadata": {},
   "outputs": [],
   "source": [
    "nhanes.to_csv('data/nhanes.csv', index=False)"
   ]
  }
 ],
 "metadata": {
  "kernelspec": {
   "display_name": "Python 3 (ipykernel)",
   "language": "python",
   "name": "python3"
  },
  "language_info": {
   "codemirror_mode": {
    "name": "ipython",
    "version": 3
   },
   "file_extension": ".py",
   "mimetype": "text/x-python",
   "name": "python",
   "nbconvert_exporter": "python",
   "pygments_lexer": "ipython3",
   "version": "3.11.4"
  }
 },
 "nbformat": 4,
 "nbformat_minor": 5
}
