{
 "cells": [
  {
   "cell_type": "markdown",
   "id": "9eb32917",
   "metadata": {},
   "source": [
    "# NHANES - Explore and clean data"
   ]
  },
  {
   "cell_type": "markdown",
   "id": "bb2d3792",
   "metadata": {},
   "source": [
    "The purpose of this notebook is to examine the dataframe for any missing values, clean the data, and save the output as a single clean csv file"
   ]
  },
  {
   "cell_type": "markdown",
   "id": "7f8d6b64",
   "metadata": {},
   "source": [
    "## Import packages"
   ]
  },
  {
   "cell_type": "code",
   "execution_count": 3,
   "id": "0ce21c70",
   "metadata": {},
   "outputs": [],
   "source": [
    "import pandas as pd\n",
    "import numpy as np\n",
    "import matplotlib.pyplot as plt\n",
    "from scipy.stats import chi2_contingency"
   ]
  },
  {
   "cell_type": "markdown",
   "id": "da4701c9",
   "metadata": {},
   "source": [
    "## Load data"
   ]
  },
  {
   "cell_type": "code",
   "execution_count": 4,
   "id": "16d4e330",
   "metadata": {},
   "outputs": [],
   "source": [
    "nhanes = pd.read_csv('data/nhanes.csv')"
   ]
  },
  {
   "cell_type": "markdown",
   "id": "54066743",
   "metadata": {},
   "source": [
    "## Clean up dataset"
   ]
  },
  {
   "cell_type": "markdown",
   "id": "d5ae9283",
   "metadata": {},
   "source": [
    "### Explore outcome variable (dpq score) missing values "
   ]
  },
  {
   "cell_type": "code",
   "execution_count": 5,
   "id": "c99a0838",
   "metadata": {},
   "outputs": [
    {
     "data": {
      "text/plain": [
       "207"
      ]
     },
     "execution_count": 5,
     "metadata": {},
     "output_type": "execute_result"
    }
   ],
   "source": [
    "# Check how many missing outcome variable values\n",
    "nhanes['dpq_score'].isnull().sum()"
   ]
  },
  {
   "cell_type": "code",
   "execution_count": 6,
   "id": "b22b8c63",
   "metadata": {},
   "outputs": [],
   "source": [
    "# Is there a pattern to where the depression scores are missing or is it random?"
   ]
  },
  {
   "cell_type": "code",
   "execution_count": 7,
   "id": "8cb2d8e9",
   "metadata": {},
   "outputs": [
    {
     "data": {
      "text/plain": [
       "603"
      ]
     },
     "execution_count": 7,
     "metadata": {},
     "output_type": "execute_result"
    }
   ],
   "source": [
    "# Check how many missing predictor variable values\n",
    "nhanes['ferritin'].isnull().sum()"
   ]
  },
  {
   "cell_type": "code",
   "execution_count": 8,
   "id": "169c7788",
   "metadata": {},
   "outputs": [],
   "source": [
    "# How many rows are both ferritin and dpq scores null?"
   ]
  },
  {
   "cell_type": "code",
   "execution_count": 9,
   "id": "c2b889c9",
   "metadata": {},
   "outputs": [],
   "source": [
    "# Look at the overlap of ferritin null values and dpq score null values\n",
    "\n",
    "# Create a boolean mask for rows where both 'Column1' and 'Column2' are null\n",
    "mask = nhanes['ferritin'].isnull() & nhanes['dpq_score'].isnull()\n",
    "\n",
    "# Apply the mask to filter the DataFrame\n",
    "overlap_nulls_df = nhanes[mask]"
   ]
  },
  {
   "cell_type": "code",
   "execution_count": 10,
   "id": "25d3ab63",
   "metadata": {},
   "outputs": [
    {
     "data": {
      "text/plain": [
       "207"
      ]
     },
     "execution_count": 10,
     "metadata": {},
     "output_type": "execute_result"
    }
   ],
   "source": [
    "len(overlap_nulls_df)"
   ]
  },
  {
   "cell_type": "code",
   "execution_count": 11,
   "id": "aec08b75",
   "metadata": {},
   "outputs": [
    {
     "data": {
      "text/plain": [
       "6314"
      ]
     },
     "execution_count": 11,
     "metadata": {},
     "output_type": "execute_result"
    }
   ],
   "source": [
    "len(nhanes)"
   ]
  },
  {
   "cell_type": "code",
   "execution_count": 12,
   "id": "1a4dd252",
   "metadata": {},
   "outputs": [
    {
     "data": {
      "text/plain": [
       "0.03278428888184986"
      ]
     },
     "execution_count": 12,
     "metadata": {},
     "output_type": "execute_result"
    }
   ],
   "source": [
    "207/6314"
   ]
  },
  {
   "cell_type": "markdown",
   "id": "99a43444",
   "metadata": {},
   "source": [
    "**For all dpq scores that are null, ferritin is also null, so let's drop all null dpq rows and see how many null ferritin rows are left**"
   ]
  },
  {
   "cell_type": "code",
   "execution_count": 13,
   "id": "4f410eab",
   "metadata": {},
   "outputs": [],
   "source": [
    "nhanes = nhanes.dropna(subset=['dpq_score'])"
   ]
  },
  {
   "cell_type": "code",
   "execution_count": 14,
   "id": "a29e56d3",
   "metadata": {},
   "outputs": [
    {
     "data": {
      "text/plain": [
       "0"
      ]
     },
     "execution_count": 14,
     "metadata": {},
     "output_type": "execute_result"
    }
   ],
   "source": [
    "nhanes['dpq_score'].isnull().sum()"
   ]
  },
  {
   "cell_type": "code",
   "execution_count": 15,
   "id": "d2ce780b",
   "metadata": {},
   "outputs": [
    {
     "data": {
      "text/plain": [
       "396"
      ]
     },
     "execution_count": 15,
     "metadata": {},
     "output_type": "execute_result"
    }
   ],
   "source": [
    "nhanes['ferritin'].isnull().sum()"
   ]
  },
  {
   "cell_type": "code",
   "execution_count": 16,
   "id": "999eabfe",
   "metadata": {},
   "outputs": [
    {
     "data": {
      "text/plain": [
       "0.0    5212\n",
       "1.0     575\n",
       "2.0     320\n",
       "Name: pregnancy-status, dtype: int64"
      ]
     },
     "execution_count": 16,
     "metadata": {},
     "output_type": "execute_result"
    }
   ],
   "source": [
    "nhanes['pregnancy-status'].value_counts()"
   ]
  },
  {
   "cell_type": "code",
   "execution_count": 17,
   "id": "d8578ef5",
   "metadata": {},
   "outputs": [],
   "source": [
    "# Check null ferritin values\n",
    "ferritin_isnull = nhanes[nhanes['ferritin'].isnull()]"
   ]
  },
  {
   "cell_type": "code",
   "execution_count": 18,
   "id": "5e34163f",
   "metadata": {
    "scrolled": true
   },
   "outputs": [
    {
     "name": "stdout",
     "output_type": "stream",
     "text": [
      "<class 'pandas.core.frame.DataFrame'>\n",
      "Int64Index: 396 entries, 27 to 6103\n",
      "Data columns (total 20 columns):\n",
      " #   Column                   Non-Null Count  Dtype  \n",
      "---  ------                   --------------  -----  \n",
      " 0   SEQN                     396 non-null    float64\n",
      " 1   tfr                      5 non-null      float64\n",
      " 2   LBDTFRSI                 0 non-null      float64\n",
      " 3   SDDSRVYR                 396 non-null    float64\n",
      " 4   sex                      396 non-null    float64\n",
      " 5   age                      396 non-null    float64\n",
      " 6   race-ethnicity           396 non-null    float64\n",
      " 7   edu-level                396 non-null    float64\n",
      " 8   maritial-status          396 non-null    float64\n",
      " 9   household-income         296 non-null    float64\n",
      " 10  income-to-poverty-ratio  347 non-null    float64\n",
      " 11  pregnancy-status         396 non-null    float64\n",
      " 12  WTINT2YR                 396 non-null    float64\n",
      " 13  WTMEC2YR                 396 non-null    float64\n",
      " 14  masked-variance-psu      396 non-null    float64\n",
      " 15  masked-variance-stratum  396 non-null    float64\n",
      " 16  dpq_score                396 non-null    float64\n",
      " 17  months-postpartum        32 non-null     float64\n",
      " 18  ferritin                 0 non-null      float64\n",
      " 19  depression               396 non-null    int64  \n",
      "dtypes: float64(19), int64(1)\n",
      "memory usage: 65.0 KB\n"
     ]
    }
   ],
   "source": [
    "ferritin_isnull.info()"
   ]
  },
  {
   "cell_type": "markdown",
   "id": "330bc74a",
   "metadata": {},
   "source": [
    "### Check TFR missing values"
   ]
  },
  {
   "cell_type": "code",
   "execution_count": 19,
   "id": "7d28b0b8",
   "metadata": {},
   "outputs": [
    {
     "data": {
      "text/plain": [
       "423"
      ]
     },
     "execution_count": 19,
     "metadata": {},
     "output_type": "execute_result"
    }
   ],
   "source": [
    "nhanes['tfr'].isnull().sum()"
   ]
  },
  {
   "cell_type": "code",
   "execution_count": 20,
   "id": "01679463",
   "metadata": {},
   "outputs": [],
   "source": [
    "tfr_isnull = nhanes[nhanes['tfr'].isnull()]"
   ]
  },
  {
   "cell_type": "code",
   "execution_count": 21,
   "id": "a767a0b6",
   "metadata": {
    "scrolled": true
   },
   "outputs": [
    {
     "data": {
      "text/html": [
       "<div>\n",
       "<style scoped>\n",
       "    .dataframe tbody tr th:only-of-type {\n",
       "        vertical-align: middle;\n",
       "    }\n",
       "\n",
       "    .dataframe tbody tr th {\n",
       "        vertical-align: top;\n",
       "    }\n",
       "\n",
       "    .dataframe thead th {\n",
       "        text-align: right;\n",
       "    }\n",
       "</style>\n",
       "<table border=\"1\" class=\"dataframe\">\n",
       "  <thead>\n",
       "    <tr style=\"text-align: right;\">\n",
       "      <th></th>\n",
       "      <th>SEQN</th>\n",
       "      <th>tfr</th>\n",
       "      <th>LBDTFRSI</th>\n",
       "      <th>SDDSRVYR</th>\n",
       "      <th>sex</th>\n",
       "      <th>age</th>\n",
       "      <th>race-ethnicity</th>\n",
       "      <th>edu-level</th>\n",
       "      <th>maritial-status</th>\n",
       "      <th>household-income</th>\n",
       "      <th>income-to-poverty-ratio</th>\n",
       "      <th>pregnancy-status</th>\n",
       "      <th>WTINT2YR</th>\n",
       "      <th>WTMEC2YR</th>\n",
       "      <th>masked-variance-psu</th>\n",
       "      <th>masked-variance-stratum</th>\n",
       "      <th>dpq_score</th>\n",
       "      <th>months-postpartum</th>\n",
       "      <th>ferritin</th>\n",
       "      <th>depression</th>\n",
       "    </tr>\n",
       "  </thead>\n",
       "  <tbody>\n",
       "    <tr>\n",
       "      <th>27</th>\n",
       "      <td>31381.0</td>\n",
       "      <td>NaN</td>\n",
       "      <td>NaN</td>\n",
       "      <td>4.0</td>\n",
       "      <td>2.0</td>\n",
       "      <td>34.0</td>\n",
       "      <td>5.0</td>\n",
       "      <td>2.0</td>\n",
       "      <td>1.0</td>\n",
       "      <td>NaN</td>\n",
       "      <td>2.41</td>\n",
       "      <td>0.0</td>\n",
       "      <td>72642.691949</td>\n",
       "      <td>76094.488614</td>\n",
       "      <td>2.0</td>\n",
       "      <td>44.0</td>\n",
       "      <td>7.0</td>\n",
       "      <td>NaN</td>\n",
       "      <td>NaN</td>\n",
       "      <td>0</td>\n",
       "    </tr>\n",
       "    <tr>\n",
       "      <th>28</th>\n",
       "      <td>31383.0</td>\n",
       "      <td>NaN</td>\n",
       "      <td>NaN</td>\n",
       "      <td>4.0</td>\n",
       "      <td>2.0</td>\n",
       "      <td>27.0</td>\n",
       "      <td>3.0</td>\n",
       "      <td>3.0</td>\n",
       "      <td>1.0</td>\n",
       "      <td>NaN</td>\n",
       "      <td>4.22</td>\n",
       "      <td>0.0</td>\n",
       "      <td>66674.297133</td>\n",
       "      <td>70222.532080</td>\n",
       "      <td>2.0</td>\n",
       "      <td>54.0</td>\n",
       "      <td>6.0</td>\n",
       "      <td>NaN</td>\n",
       "      <td>NaN</td>\n",
       "      <td>0</td>\n",
       "    </tr>\n",
       "    <tr>\n",
       "      <th>33</th>\n",
       "      <td>31431.0</td>\n",
       "      <td>NaN</td>\n",
       "      <td>NaN</td>\n",
       "      <td>4.0</td>\n",
       "      <td>2.0</td>\n",
       "      <td>20.0</td>\n",
       "      <td>1.0</td>\n",
       "      <td>2.0</td>\n",
       "      <td>5.0</td>\n",
       "      <td>NaN</td>\n",
       "      <td>NaN</td>\n",
       "      <td>1.0</td>\n",
       "      <td>1547.159611</td>\n",
       "      <td>1537.424539</td>\n",
       "      <td>2.0</td>\n",
       "      <td>57.0</td>\n",
       "      <td>1.0</td>\n",
       "      <td>NaN</td>\n",
       "      <td>NaN</td>\n",
       "      <td>0</td>\n",
       "    </tr>\n",
       "    <tr>\n",
       "      <th>37</th>\n",
       "      <td>31502.0</td>\n",
       "      <td>NaN</td>\n",
       "      <td>NaN</td>\n",
       "      <td>4.0</td>\n",
       "      <td>2.0</td>\n",
       "      <td>38.0</td>\n",
       "      <td>3.0</td>\n",
       "      <td>3.0</td>\n",
       "      <td>1.0</td>\n",
       "      <td>NaN</td>\n",
       "      <td>1.92</td>\n",
       "      <td>0.0</td>\n",
       "      <td>95837.707862</td>\n",
       "      <td>100391.672914</td>\n",
       "      <td>2.0</td>\n",
       "      <td>46.0</td>\n",
       "      <td>0.0</td>\n",
       "      <td>NaN</td>\n",
       "      <td>NaN</td>\n",
       "      <td>0</td>\n",
       "    </tr>\n",
       "    <tr>\n",
       "      <th>75</th>\n",
       "      <td>31861.0</td>\n",
       "      <td>NaN</td>\n",
       "      <td>NaN</td>\n",
       "      <td>4.0</td>\n",
       "      <td>2.0</td>\n",
       "      <td>22.0</td>\n",
       "      <td>5.0</td>\n",
       "      <td>5.0</td>\n",
       "      <td>6.0</td>\n",
       "      <td>NaN</td>\n",
       "      <td>5.00</td>\n",
       "      <td>0.0</td>\n",
       "      <td>77329.946421</td>\n",
       "      <td>81717.303622</td>\n",
       "      <td>1.0</td>\n",
       "      <td>56.0</td>\n",
       "      <td>0.0</td>\n",
       "      <td>NaN</td>\n",
       "      <td>NaN</td>\n",
       "      <td>0</td>\n",
       "    </tr>\n",
       "    <tr>\n",
       "      <th>...</th>\n",
       "      <td>...</td>\n",
       "      <td>...</td>\n",
       "      <td>...</td>\n",
       "      <td>...</td>\n",
       "      <td>...</td>\n",
       "      <td>...</td>\n",
       "      <td>...</td>\n",
       "      <td>...</td>\n",
       "      <td>...</td>\n",
       "      <td>...</td>\n",
       "      <td>...</td>\n",
       "      <td>...</td>\n",
       "      <td>...</td>\n",
       "      <td>...</td>\n",
       "      <td>...</td>\n",
       "      <td>...</td>\n",
       "      <td>...</td>\n",
       "      <td>...</td>\n",
       "      <td>...</td>\n",
       "      <td>...</td>\n",
       "    </tr>\n",
       "    <tr>\n",
       "      <th>6063</th>\n",
       "      <td>93291.0</td>\n",
       "      <td>NaN</td>\n",
       "      <td>NaN</td>\n",
       "      <td>9.0</td>\n",
       "      <td>2.0</td>\n",
       "      <td>24.0</td>\n",
       "      <td>5.0</td>\n",
       "      <td>4.0</td>\n",
       "      <td>5.0</td>\n",
       "      <td>99.0</td>\n",
       "      <td>NaN</td>\n",
       "      <td>0.0</td>\n",
       "      <td>33328.911983</td>\n",
       "      <td>34812.142387</td>\n",
       "      <td>2.0</td>\n",
       "      <td>122.0</td>\n",
       "      <td>0.0</td>\n",
       "      <td>NaN</td>\n",
       "      <td>NaN</td>\n",
       "      <td>0</td>\n",
       "    </tr>\n",
       "    <tr>\n",
       "      <th>6067</th>\n",
       "      <td>93322.0</td>\n",
       "      <td>NaN</td>\n",
       "      <td>NaN</td>\n",
       "      <td>9.0</td>\n",
       "      <td>2.0</td>\n",
       "      <td>23.0</td>\n",
       "      <td>3.0</td>\n",
       "      <td>4.0</td>\n",
       "      <td>5.0</td>\n",
       "      <td>6.0</td>\n",
       "      <td>1.62</td>\n",
       "      <td>0.0</td>\n",
       "      <td>70690.643521</td>\n",
       "      <td>76003.688167</td>\n",
       "      <td>2.0</td>\n",
       "      <td>121.0</td>\n",
       "      <td>10.0</td>\n",
       "      <td>NaN</td>\n",
       "      <td>48.6</td>\n",
       "      <td>1</td>\n",
       "    </tr>\n",
       "    <tr>\n",
       "      <th>6098</th>\n",
       "      <td>93619.0</td>\n",
       "      <td>NaN</td>\n",
       "      <td>NaN</td>\n",
       "      <td>9.0</td>\n",
       "      <td>2.0</td>\n",
       "      <td>44.0</td>\n",
       "      <td>5.0</td>\n",
       "      <td>2.0</td>\n",
       "      <td>1.0</td>\n",
       "      <td>14.0</td>\n",
       "      <td>1.72</td>\n",
       "      <td>0.0</td>\n",
       "      <td>13508.737701</td>\n",
       "      <td>13721.095669</td>\n",
       "      <td>2.0</td>\n",
       "      <td>121.0</td>\n",
       "      <td>0.0</td>\n",
       "      <td>NaN</td>\n",
       "      <td>42.5</td>\n",
       "      <td>0</td>\n",
       "    </tr>\n",
       "    <tr>\n",
       "      <th>6099</th>\n",
       "      <td>93653.0</td>\n",
       "      <td>NaN</td>\n",
       "      <td>NaN</td>\n",
       "      <td>9.0</td>\n",
       "      <td>2.0</td>\n",
       "      <td>25.0</td>\n",
       "      <td>3.0</td>\n",
       "      <td>5.0</td>\n",
       "      <td>6.0</td>\n",
       "      <td>14.0</td>\n",
       "      <td>2.97</td>\n",
       "      <td>0.0</td>\n",
       "      <td>110170.177077</td>\n",
       "      <td>110393.459614</td>\n",
       "      <td>1.0</td>\n",
       "      <td>132.0</td>\n",
       "      <td>3.0</td>\n",
       "      <td>NaN</td>\n",
       "      <td>NaN</td>\n",
       "      <td>0</td>\n",
       "    </tr>\n",
       "    <tr>\n",
       "      <th>6103</th>\n",
       "      <td>93676.0</td>\n",
       "      <td>NaN</td>\n",
       "      <td>NaN</td>\n",
       "      <td>9.0</td>\n",
       "      <td>2.0</td>\n",
       "      <td>35.0</td>\n",
       "      <td>4.0</td>\n",
       "      <td>5.0</td>\n",
       "      <td>3.0</td>\n",
       "      <td>7.0</td>\n",
       "      <td>2.68</td>\n",
       "      <td>0.0</td>\n",
       "      <td>32944.356566</td>\n",
       "      <td>32682.220771</td>\n",
       "      <td>2.0</td>\n",
       "      <td>132.0</td>\n",
       "      <td>2.0</td>\n",
       "      <td>NaN</td>\n",
       "      <td>NaN</td>\n",
       "      <td>0</td>\n",
       "    </tr>\n",
       "  </tbody>\n",
       "</table>\n",
       "<p>423 rows × 20 columns</p>\n",
       "</div>"
      ],
      "text/plain": [
       "         SEQN  tfr  LBDTFRSI  SDDSRVYR  sex   age  race-ethnicity  edu-level  \\\n",
       "27    31381.0  NaN       NaN       4.0  2.0  34.0             5.0        2.0   \n",
       "28    31383.0  NaN       NaN       4.0  2.0  27.0             3.0        3.0   \n",
       "33    31431.0  NaN       NaN       4.0  2.0  20.0             1.0        2.0   \n",
       "37    31502.0  NaN       NaN       4.0  2.0  38.0             3.0        3.0   \n",
       "75    31861.0  NaN       NaN       4.0  2.0  22.0             5.0        5.0   \n",
       "...       ...  ...       ...       ...  ...   ...             ...        ...   \n",
       "6063  93291.0  NaN       NaN       9.0  2.0  24.0             5.0        4.0   \n",
       "6067  93322.0  NaN       NaN       9.0  2.0  23.0             3.0        4.0   \n",
       "6098  93619.0  NaN       NaN       9.0  2.0  44.0             5.0        2.0   \n",
       "6099  93653.0  NaN       NaN       9.0  2.0  25.0             3.0        5.0   \n",
       "6103  93676.0  NaN       NaN       9.0  2.0  35.0             4.0        5.0   \n",
       "\n",
       "      maritial-status  household-income  income-to-poverty-ratio  \\\n",
       "27                1.0               NaN                     2.41   \n",
       "28                1.0               NaN                     4.22   \n",
       "33                5.0               NaN                      NaN   \n",
       "37                1.0               NaN                     1.92   \n",
       "75                6.0               NaN                     5.00   \n",
       "...               ...               ...                      ...   \n",
       "6063              5.0              99.0                      NaN   \n",
       "6067              5.0               6.0                     1.62   \n",
       "6098              1.0              14.0                     1.72   \n",
       "6099              6.0              14.0                     2.97   \n",
       "6103              3.0               7.0                     2.68   \n",
       "\n",
       "      pregnancy-status       WTINT2YR       WTMEC2YR  masked-variance-psu  \\\n",
       "27                 0.0   72642.691949   76094.488614                  2.0   \n",
       "28                 0.0   66674.297133   70222.532080                  2.0   \n",
       "33                 1.0    1547.159611    1537.424539                  2.0   \n",
       "37                 0.0   95837.707862  100391.672914                  2.0   \n",
       "75                 0.0   77329.946421   81717.303622                  1.0   \n",
       "...                ...            ...            ...                  ...   \n",
       "6063               0.0   33328.911983   34812.142387                  2.0   \n",
       "6067               0.0   70690.643521   76003.688167                  2.0   \n",
       "6098               0.0   13508.737701   13721.095669                  2.0   \n",
       "6099               0.0  110170.177077  110393.459614                  1.0   \n",
       "6103               0.0   32944.356566   32682.220771                  2.0   \n",
       "\n",
       "      masked-variance-stratum  dpq_score  months-postpartum  ferritin  \\\n",
       "27                       44.0        7.0                NaN       NaN   \n",
       "28                       54.0        6.0                NaN       NaN   \n",
       "33                       57.0        1.0                NaN       NaN   \n",
       "37                       46.0        0.0                NaN       NaN   \n",
       "75                       56.0        0.0                NaN       NaN   \n",
       "...                       ...        ...                ...       ...   \n",
       "6063                    122.0        0.0                NaN       NaN   \n",
       "6067                    121.0       10.0                NaN      48.6   \n",
       "6098                    121.0        0.0                NaN      42.5   \n",
       "6099                    132.0        3.0                NaN       NaN   \n",
       "6103                    132.0        2.0                NaN       NaN   \n",
       "\n",
       "      depression  \n",
       "27             0  \n",
       "28             0  \n",
       "33             0  \n",
       "37             0  \n",
       "75             0  \n",
       "...          ...  \n",
       "6063           0  \n",
       "6067           1  \n",
       "6098           0  \n",
       "6099           0  \n",
       "6103           0  \n",
       "\n",
       "[423 rows x 20 columns]"
      ]
     },
     "execution_count": 21,
     "metadata": {},
     "output_type": "execute_result"
    }
   ],
   "source": [
    "tfr_isnull"
   ]
  },
  {
   "cell_type": "code",
   "execution_count": 22,
   "id": "eba60a49",
   "metadata": {},
   "outputs": [],
   "source": [
    "# Look at the overlap of tfr null values and dpq score null values\n",
    "\n",
    "# Create a boolean mask for rows where both 'Column1' and 'Column2' are null\n",
    "mask_tfr = nhanes['tfr'].isnull() & nhanes['dpq_score'].isnull()\n",
    "\n",
    "# Apply the mask to filter the DataFrame\n",
    "tfr_overlap_nulls_df = nhanes[mask_tfr]"
   ]
  },
  {
   "cell_type": "code",
   "execution_count": 23,
   "id": "cdafb14c",
   "metadata": {},
   "outputs": [
    {
     "name": "stdout",
     "output_type": "stream",
     "text": [
      "<class 'pandas.core.frame.DataFrame'>\n",
      "Int64Index: 0 entries\n",
      "Data columns (total 20 columns):\n",
      " #   Column                   Non-Null Count  Dtype  \n",
      "---  ------                   --------------  -----  \n",
      " 0   SEQN                     0 non-null      float64\n",
      " 1   tfr                      0 non-null      float64\n",
      " 2   LBDTFRSI                 0 non-null      float64\n",
      " 3   SDDSRVYR                 0 non-null      float64\n",
      " 4   sex                      0 non-null      float64\n",
      " 5   age                      0 non-null      float64\n",
      " 6   race-ethnicity           0 non-null      float64\n",
      " 7   edu-level                0 non-null      float64\n",
      " 8   maritial-status          0 non-null      float64\n",
      " 9   household-income         0 non-null      float64\n",
      " 10  income-to-poverty-ratio  0 non-null      float64\n",
      " 11  pregnancy-status         0 non-null      float64\n",
      " 12  WTINT2YR                 0 non-null      float64\n",
      " 13  WTMEC2YR                 0 non-null      float64\n",
      " 14  masked-variance-psu      0 non-null      float64\n",
      " 15  masked-variance-stratum  0 non-null      float64\n",
      " 16  dpq_score                0 non-null      float64\n",
      " 17  months-postpartum        0 non-null      float64\n",
      " 18  ferritin                 0 non-null      float64\n",
      " 19  depression               0 non-null      int64  \n",
      "dtypes: float64(19), int64(1)\n",
      "memory usage: 0.0 bytes\n"
     ]
    }
   ],
   "source": [
    "tfr_overlap_nulls_df.info()"
   ]
  },
  {
   "cell_type": "markdown",
   "id": "c7f5b099",
   "metadata": {},
   "source": [
    "notes: there is no overlap in tfr and dpq scores"
   ]
  },
  {
   "cell_type": "markdown",
   "id": "0a936653",
   "metadata": {},
   "source": [
    "### Standardize ferritin values across years"
   ]
  },
  {
   "cell_type": "markdown",
   "id": "5d1328ff",
   "metadata": {},
   "source": [
    "> Different years used different processes for processing ferritin"
   ]
  },
  {
   "cell_type": "markdown",
   "id": "14db0371",
   "metadata": {},
   "source": [
    "\"Serum Ft [15,16] and TfR [17,18] were analyzed using the immunoturbidimetric assay method via Roche kits on a Hitachi 912 clinical analyzer for 2005 to 2008 samples and on an Elecsys 170 for Ft [19] and Hitachi Mod P for TfR [20] for the 2009 to 2010 samples. Due to the use of different technologies for Ft assessment and following best-practice, concentrations were standardized using the formula,\n",
    " (https://wwwn.cdc.gov/Nchs/Nhanes/2009-2010/TFR_F.htm). \"\n",
    "\n",
    "https://www.sciencedirect.com/science/article/pii/S0022316623726187?via%3Dihub#sec2"
   ]
  },
  {
   "cell_type": "markdown",
   "id": "5163480c",
   "metadata": {},
   "source": [
    "- 3 different different methods were used across the years, need to standardize or go with less years"
   ]
  },
  {
   "cell_type": "markdown",
   "id": "343117c5",
   "metadata": {},
   "source": [
    "https://wwwn.cdc.gov/Nchs/Nhanes/2017-2018/FERTIN_J.htm#LBXFER\n",
    "\n",
    "The Roche Mod E170 analyzer was used for most of 2015-2016 and replaced with the Roche Cobas e601 analyzer in mid-2016. Randomly selected serum samples (n=188) from NHANES 2015-2016 participants, QC material, and proficiency testing specimens were measured using both instruments and the results were used to conduct the analysis. On average, ferritin values measured from the Roche e601 analyzer were 8.8% higher than values from the Roche Mod E170 (p<.0001). Data from the bridging study indicated the correlation coefficient (r) between the measurements was 0.999. Regression analyses were performed using Analyse-it, v4.30.4. Given that the data showed proportional differences in variability, a weighted Deming regression was chosen to adjust the ferritin results (ng/mL).The forward and backward equations are below:\n",
    "\n",
    "Forward:    Y (e601) = 0.2243 (95%CI: -0.0069 – 0.4554) + X (E170) * 1.079 (95%CI: 1.070 – 1.088)\n",
    "\n",
    "Backward:  Y (E170) = -0.2079 (95%CI: -0.4233 – 0.0074) + X (e601) * 0.9271 (95%CI: 0.9195 – 0.9348)\n",
    "\n",
    "These regression equations should be used when examining trends of ferritin data across 2015-2016 and 2009-2010 cycles, or combining 2015-2016 data with these previous cycles. For analysis involving 2015-2016 data and data collected prior to 2009-2010 cycle, please refer to the documentation accompanying the 2009 -2010 (FERTIN_F) and 2003-2004 (L06TFR_C) ferritin data for additional adjustments.\n",
    "\n",
    "Results in this 2015-2016 dataset from specimens analyzed using the Roche MOD E170 were adjusted using the above forward regression equation."
   ]
  },
  {
   "cell_type": "code",
   "execution_count": 24,
   "id": "695ed91d",
   "metadata": {
    "scrolled": false
   },
   "outputs": [
    {
     "data": {
      "text/plain": [
       "6.0     1377\n",
       "4.0     1253\n",
       "9.0     1240\n",
       "5.0     1180\n",
       "10.0    1057\n",
       "Name: SDDSRVYR, dtype: int64"
      ]
     },
     "execution_count": 24,
     "metadata": {},
     "output_type": "execute_result"
    }
   ],
   "source": [
    "nhanes['SDDSRVYR'].value_counts()"
   ]
  },
  {
   "cell_type": "markdown",
   "id": "d0de6e4a",
   "metadata": {},
   "source": [
    "4 = 2005-2006\n",
    "5 = 2006-2007\n",
    "6 = 2009-2010\n",
    "9 = 2015-2016\n",
    "10 = 2017-2018"
   ]
  },
  {
   "cell_type": "markdown",
   "id": "00bd1398",
   "metadata": {},
   "source": [
    "for years 2005-2006 and 2006-2007, values 4 and 5 in SDDSRVYR column respectively, transform ferritin column values using the following regression equation: \n",
    "E170 = 10**(0.989*Log10(Hitachi 912) + 0.049), where \"Hitachi 912\" refers to the current 'ferritin' value."
   ]
  },
  {
   "cell_type": "code",
   "execution_count": 25,
   "id": "ab2f03fe",
   "metadata": {},
   "outputs": [],
   "source": [
    "# Apply the transformation to the 'ferritin' column for specific 'SDDSRVYR' groups\n",
    "def transform_ferritin(row):\n",
    "    if row['SDDSRVYR'] in [4.0, 5.0]:\n",
    "        return 10**(0.989 * np.log10(row['ferritin']) + 0.049)\n",
    "    else:\n",
    "        return row['ferritin']"
   ]
  },
  {
   "cell_type": "code",
   "execution_count": 26,
   "id": "99af9e0b",
   "metadata": {},
   "outputs": [],
   "source": [
    "nhanes['transformed_ferritin'] = nhanes.apply(transform_ferritin, axis=1)"
   ]
  },
  {
   "cell_type": "markdown",
   "id": "8c7392fc",
   "metadata": {},
   "source": [
    "for values 4,5,6,9 in SDDSRVYR column respectively, transform values in  'transformed_ferritin' using the following forward equation, where \"E170\" refers to the current 'transform_ferritin' value:\n",
    "Y (e601) = 0.2243 (95%CI: -0.0069 – 0.4554) + X (E170) * 1.079 (95%CI: 1.070 – 1.088)"
   ]
  },
  {
   "cell_type": "code",
   "execution_count": 27,
   "id": "e1694d00",
   "metadata": {},
   "outputs": [],
   "source": [
    "# Apply the new transformation to the 'transformed_ferritin' column for specified 'SDDSRVYR' groups\n",
    "def apply_forward_equation(row):\n",
    "    if row['SDDSRVYR'] in [4.0, 5.0, 6.0, 9.0]:\n",
    "        return 0.2243 + (row['transformed_ferritin'] * 1.079)\n",
    "    else:\n",
    "        return row['transformed_ferritin']"
   ]
  },
  {
   "cell_type": "code",
   "execution_count": 28,
   "id": "55b6a0d2",
   "metadata": {},
   "outputs": [],
   "source": [
    "nhanes['transformed_ferritin'] = nhanes.apply(apply_forward_equation, axis=1)"
   ]
  },
  {
   "cell_type": "code",
   "execution_count": 29,
   "id": "4e69473a",
   "metadata": {},
   "outputs": [
    {
     "data": {
      "text/plain": [
       "count    5711.000000\n",
       "mean       51.989471\n",
       "std        57.450924\n",
       "min         1.040000\n",
       "25%        19.000000\n",
       "50%        37.000000\n",
       "75%        66.000000\n",
       "max      1720.000000\n",
       "Name: ferritin, dtype: float64"
      ]
     },
     "execution_count": 29,
     "metadata": {},
     "output_type": "execute_result"
    }
   ],
   "source": [
    "nhanes['ferritin'].describe()"
   ]
  },
  {
   "cell_type": "code",
   "execution_count": 30,
   "id": "9b431a3f",
   "metadata": {},
   "outputs": [
    {
     "data": {
      "text/plain": [
       "count    5711.000000\n",
       "mean       56.933053\n",
       "std        62.163773\n",
       "min         1.040000\n",
       "25%        21.285638\n",
       "50%        40.878436\n",
       "75%        72.517300\n",
       "max      1856.104300\n",
       "Name: transformed_ferritin, dtype: float64"
      ]
     },
     "execution_count": 30,
     "metadata": {},
     "output_type": "execute_result"
    }
   ],
   "source": [
    "nhanes['transformed_ferritin'].describe()"
   ]
  },
  {
   "cell_type": "markdown",
   "id": "881b3b70",
   "metadata": {},
   "source": [
    "### Check missing ferritin values"
   ]
  },
  {
   "cell_type": "markdown",
   "id": "8c210807",
   "metadata": {},
   "source": [
    "Is there a trend where the data is missing? Are hemoglobin levels also missing where ferritin is null?"
   ]
  },
  {
   "cell_type": "code",
   "execution_count": 31,
   "id": "a4cd16b9",
   "metadata": {},
   "outputs": [],
   "source": [
    "# Analyze the distribution of missing 'ferritin' values across different variables\n",
    "missing_value_analysis = nhanes[nhanes['ferritin'].isna()].describe(include='all')"
   ]
  },
  {
   "cell_type": "code",
   "execution_count": 32,
   "id": "77184c07",
   "metadata": {},
   "outputs": [],
   "source": [
    "# For a more detailed pattern analysis, let's check the proportion of missing values by 'SDDSRVYR'\n",
    "missing_by_sddsrvyr = nhanes.groupby('SDDSRVYR')['ferritin'].apply(lambda x: x.isna().mean())"
   ]
  },
  {
   "cell_type": "code",
   "execution_count": 33,
   "id": "07b475b3",
   "metadata": {},
   "outputs": [
    {
     "data": {
      "text/plain": [
       "SDDSRVYR\n",
       "4.0     0.071828\n",
       "5.0     0.077119\n",
       "6.0     0.048656\n",
       "9.0     0.066129\n",
       "10.0    0.062441\n",
       "Name: ferritin, dtype: float64"
      ]
     },
     "execution_count": 33,
     "metadata": {},
     "output_type": "execute_result"
    }
   ],
   "source": [
    "missing_by_sddsrvyr"
   ]
  },
  {
   "cell_type": "code",
   "execution_count": 34,
   "id": "4ba1cd53",
   "metadata": {},
   "outputs": [],
   "source": [
    "missing_by_race_ethnicity = nhanes.groupby('race-ethnicity')['ferritin'].apply(lambda x: x.isna().mean())"
   ]
  },
  {
   "cell_type": "markdown",
   "id": "e31aee06",
   "metadata": {},
   "source": [
    "> - By Race-Ethnicity ('race-ethnicity'): The missing proportion of 'ferritin' values varies across different race-ethnicity groups, with the lowest missing rates in groups coded as 1.0 (5.0%) and 2.0 (4.8%), and the highest in group 4.0 (9.7%). This suggests that there might be a pattern in missingness related to race-ethnicity, with some groups having higher rates of missing data.\n",
    "\n",
    "> - However, the higher missing rate in the race-ethnicity group coded as 4.0 (Non-Hispanic Black) might warrant further investigation to understand the underlying reasons."
   ]
  },
  {
   "cell_type": "markdown",
   "id": "629ddd8b",
   "metadata": {},
   "source": [
    "#### Is there a statistically significant difference among the missing_by_race_ethnicity groups?"
   ]
  },
  {
   "cell_type": "markdown",
   "id": "58efb16d",
   "metadata": {},
   "source": [
    "To check this we can conduct a Chi-square test for independence:\n",
    "> The null hypothesis (H0) for the Chi-square test in this context is that there is no association between 'race-ethnicity' and the likelihood of 'ferritin' values being missing—that is, the proportion of missing 'ferritin' values is the same across all 'race-ethnicity' groups. The alternative hypothesis (Ha) is that there is an association, meaning the proportion of missing 'ferritin' values differs among the groups."
   ]
  },
  {
   "cell_type": "code",
   "execution_count": 35,
   "id": "9e9b12be",
   "metadata": {},
   "outputs": [],
   "source": [
    "# Create a contingency table of 'race-ethnicity' groups and missing status of 'ferritin'\n",
    "contingency_table = nhanes.groupby('race-ethnicity')['ferritin'].apply(lambda x: pd.Series([x.isna().sum(), \n",
    "                                                                                            x.notna().sum()], index=['Missing', 'Not Missing'])).unstack()"
   ]
  },
  {
   "cell_type": "code",
   "execution_count": 36,
   "id": "094d6974",
   "metadata": {},
   "outputs": [],
   "source": [
    "# Perform the Chi-square test for independence\n",
    "chi2, p_value, dof, expected = chi2_contingency(contingency_table)\n"
   ]
  },
  {
   "cell_type": "code",
   "execution_count": 37,
   "id": "e08249d2",
   "metadata": {},
   "outputs": [
    {
     "data": {
      "text/plain": [
       "(41.000047697771,\n",
       " 2.6877675431819974e-08,\n",
       " 4,\n",
       " array([[  81.50843295, 1175.49156705],\n",
       "        [  40.39757655,  582.60242345],\n",
       "        [ 146.15752415, 2107.84247585],\n",
       "        [  84.29670869, 1215.70329131],\n",
       "        [  43.63975766,  629.36024234]]))"
      ]
     },
     "execution_count": 37,
     "metadata": {},
     "output_type": "execute_result"
    }
   ],
   "source": [
    "chi2, p_value, dof, expected"
   ]
  },
  {
   "cell_type": "markdown",
   "id": "96c70322",
   "metadata": {},
   "source": [
    "The Chi-square test for independence resulted in a Chi-square statistic of approximately 41.00 with a p-value of approximately 2.6877675431819974e-08 and 4 degrees of freedom. Given that the p-value is significantly less than the common significance level of 0.05, we reject the null hypothesis. This suggests that there is a statistically significant difference in the proportion of missing 'ferritin' values among the different 'race-ethnicity' groups.\n",
    "\n",
    "> The analysis indicates that the likelihood of 'ferritin' values being missing is associated with the 'race-ethnicity' category of the respondents. This finding could be important for further analyses and in deciding how to handle the missing 'ferritin' values, as it suggests that the missingness may not be completely random."
   ]
  },
  {
   "cell_type": "markdown",
   "id": "07b34eaa",
   "metadata": {},
   "source": [
    "Given the finding that the likelihood of 'ferritin' values being missing is associated with the 'race-ethnicity' category, it's crucial to handle these missing values in a way that minimizes bias and retains as much information as possible. "
   ]
  },
  {
   "cell_type": "markdown",
   "id": "7ff5cba9",
   "metadata": {},
   "source": [
    "> **Be sure to mention this in the disscussion section: Imputation is likely preferable to preserve data points and maintain the representativeness of your dataset. However, the potential for bias by imputing data (or dropping null values) is important to consider, especially when using complex survey data such as NHANES.**"
   ]
  },
  {
   "cell_type": "markdown",
   "id": "6425a1e3",
   "metadata": {},
   "source": [
    "### Look also at household income and income-to-poverty ratio values"
   ]
  },
  {
   "cell_type": "code",
   "execution_count": 38,
   "id": "e3b1e1bb",
   "metadata": {},
   "outputs": [],
   "source": [
    "# Analyze the proportion of missing 'ferritin' values by 'household-income'\n",
    "missing_by_household_income = nhanes.groupby('household-income')['ferritin'].apply(lambda x: x.isna().mean())\n"
   ]
  },
  {
   "cell_type": "code",
   "execution_count": 39,
   "id": "03ec003b",
   "metadata": {},
   "outputs": [],
   "source": [
    "# Analyze the proportion of missing 'ferritin' values by 'income-to-poverty-ratio'\n",
    "# For a more granular analysis, categorize 'income-to-poverty-ratio' into quantiles\n",
    "nhanes['income_to_poverty_ratio_category'] = pd.qcut(nhanes['income-to-poverty-ratio'], q=4, duplicates='drop')\n",
    "missing_by_income_to_poverty_ratio = nhanes.groupby('income_to_poverty_ratio_category')['ferritin'].apply(lambda x: x.isna().mean())\n"
   ]
  },
  {
   "cell_type": "code",
   "execution_count": 40,
   "id": "918b840f",
   "metadata": {},
   "outputs": [
    {
     "data": {
      "text/plain": [
       "(household-income\n",
       " 1.0     0.120567\n",
       " 2.0     0.110497\n",
       " 3.0     0.072000\n",
       " 4.0     0.026144\n",
       " 5.0     0.060000\n",
       " 6.0     0.055357\n",
       " 7.0     0.067416\n",
       " 8.0     0.059585\n",
       " 9.0     0.051829\n",
       " 10.0    0.048583\n",
       " 12.0    0.100000\n",
       " 13.0    0.062500\n",
       " 14.0    0.048117\n",
       " 15.0    0.059155\n",
       " 77.0    0.116667\n",
       " 99.0    0.065217\n",
       " Name: ferritin, dtype: float64,\n",
       " income_to_poverty_ratio_category\n",
       " (-0.001, 0.96]    0.064631\n",
       " (0.96, 1.85]      0.064723\n",
       " (1.85, 3.63]      0.057325\n",
       " (3.63, 5.0]       0.060302\n",
       " Name: ferritin, dtype: float64)"
      ]
     },
     "execution_count": 40,
     "metadata": {},
     "output_type": "execute_result"
    }
   ],
   "source": [
    "missing_by_household_income, missing_by_income_to_poverty_ratio"
   ]
  },
  {
   "cell_type": "markdown",
   "id": "27faa487",
   "metadata": {},
   "source": [
    "The variation in missing 'ferritin' values across 'household-income' levels, especially the higher rates at lower income levels, might indicate economic factors play a role in the missingness of 'ferritin' data. However, the 'income-to-poverty-ratio' analysis suggests that the effect might not be as pronounced across broader economic categories.\n",
    "The findings suggest that economic status, particularly at extreme levels of income, could influence the likelihood of 'ferritin' data being missing. This might reflect access to healthcare, participation in certain parts of the survey, or other socio-economic factors influencing data collection."
   ]
  },
  {
   "cell_type": "markdown",
   "id": "b9934341",
   "metadata": {},
   "source": [
    "### Check missing tfr values"
   ]
  },
  {
   "cell_type": "code",
   "execution_count": 41,
   "id": "ec2465a4",
   "metadata": {},
   "outputs": [],
   "source": [
    "# Is there a trend among the null tfr scores?\n",
    "tfr_missing_by_sddsrvyr = nhanes.groupby('SDDSRVYR')['tfr'].apply(lambda x: x.isna().mean())\n",
    "tfr_missing_by_race_ethnicity = nhanes.groupby('race-ethnicity')['tfr'].apply(lambda x: x.isna().mean())"
   ]
  },
  {
   "cell_type": "code",
   "execution_count": 42,
   "id": "e681f36c",
   "metadata": {},
   "outputs": [
    {
     "data": {
      "text/plain": [
       "SDDSRVYR\n",
       "4.0     0.071828\n",
       "5.0     0.075424\n",
       "6.0     0.048656\n",
       "9.0     0.084677\n",
       "10.0    0.068117\n",
       "Name: tfr, dtype: float64"
      ]
     },
     "execution_count": 42,
     "metadata": {},
     "output_type": "execute_result"
    }
   ],
   "source": [
    "tfr_missing_by_sddsrvyr"
   ]
  },
  {
   "cell_type": "code",
   "execution_count": 43,
   "id": "a102edc0",
   "metadata": {
    "scrolled": false
   },
   "outputs": [
    {
     "data": {
      "text/plain": [
       "race-ethnicity\n",
       "1.0    0.052506\n",
       "2.0    0.051364\n",
       "3.0    0.055457\n",
       "4.0    0.101538\n",
       "5.0    0.101040\n",
       "Name: tfr, dtype: float64"
      ]
     },
     "execution_count": 43,
     "metadata": {},
     "output_type": "execute_result"
    }
   ],
   "source": [
    "tfr_missing_by_race_ethnicity"
   ]
  },
  {
   "cell_type": "markdown",
   "id": "e00710e2",
   "metadata": {},
   "source": [
    "### Combine race and ethnicity categories based on previous paper"
   ]
  },
  {
   "cell_type": "markdown",
   "id": "500e7de2",
   "metadata": {},
   "source": [
    "previous paper Hispanic, NH White, NH Black (ridereth1) explain the reasoning for this and the potential bias, as well as future directions... we will include 'other' as it seems odd not to..."
   ]
  },
  {
   "cell_type": "code",
   "execution_count": 44,
   "id": "8017d46c",
   "metadata": {},
   "outputs": [],
   "source": [
    "# Combine groups 1 and 2\n",
    "nhanes['race-ethnicity'] = nhanes['race-ethnicity'].replace([1, 2], 1)"
   ]
  },
  {
   "cell_type": "code",
   "execution_count": 46,
   "id": "9208082d",
   "metadata": {},
   "outputs": [
    {
     "data": {
      "text/plain": [
       "3.0    2254\n",
       "1.0    1880\n",
       "4.0    1300\n",
       "5.0     673\n",
       "Name: race-ethnicity, dtype: int64"
      ]
     },
     "execution_count": 46,
     "metadata": {},
     "output_type": "execute_result"
    }
   ],
   "source": [
    "nhanes['race-ethnicity'].value_counts()"
   ]
  },
  {
   "cell_type": "markdown",
   "id": "e90c3261",
   "metadata": {},
   "source": [
    "## Save csv"
   ]
  },
  {
   "cell_type": "code",
   "execution_count": 51,
   "id": "fb90294c",
   "metadata": {},
   "outputs": [],
   "source": [
    "nhanes.to_csv('data/nhanes.csv', index=False)"
   ]
  }
 ],
 "metadata": {
  "kernelspec": {
   "display_name": "Python 3 (ipykernel)",
   "language": "python",
   "name": "python3"
  },
  "language_info": {
   "codemirror_mode": {
    "name": "ipython",
    "version": 3
   },
   "file_extension": ".py",
   "mimetype": "text/x-python",
   "name": "python",
   "nbconvert_exporter": "python",
   "pygments_lexer": "ipython3",
   "version": "3.11.4"
  }
 },
 "nbformat": 4,
 "nbformat_minor": 5
}
