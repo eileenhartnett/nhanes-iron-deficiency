{
 "cells": [
  {
   "cell_type": "markdown",
   "id": "d460b4c5",
   "metadata": {},
   "source": [
    "# NHANES EDA - Data Exploration and Summary Stats"
   ]
  },
  {
   "cell_type": "markdown",
   "id": "7d7e9b3b",
   "metadata": {},
   "source": [
    "The purpose of this notebook is the visually explore the aggregated data from the csv file created in step 1, as well as to determine summary statistics. "
   ]
  },
  {
   "cell_type": "markdown",
   "id": "1403b74a",
   "metadata": {},
   "source": [
    "## Import Packages"
   ]
  },
  {
   "cell_type": "code",
   "execution_count": 17,
   "id": "73df6853",
   "metadata": {},
   "outputs": [],
   "source": [
    "import pandas as pd\n",
    "import numpy as np\n",
    "import seaborn as sns\n",
    "import matplotlib.pyplot as plt"
   ]
  },
  {
   "cell_type": "markdown",
   "id": "28a24a2d",
   "metadata": {},
   "source": [
    "## Load Data"
   ]
  },
  {
   "cell_type": "code",
   "execution_count": 18,
   "id": "5a64ba04",
   "metadata": {},
   "outputs": [],
   "source": [
    "data = pd.read_csv('data/nhanes.csv')"
   ]
  },
  {
   "cell_type": "markdown",
   "id": "b2cfe6d3",
   "metadata": {},
   "source": [
    "## Table 1"
   ]
  },
  {
   "cell_type": "code",
   "execution_count": 19,
   "id": "1489e97b",
   "metadata": {},
   "outputs": [
    {
     "name": "stdout",
     "output_type": "stream",
     "text": [
      "By Race-Ethnicity:\n",
      "    custom_pregnancy_group  race-ethnicity  Count   Mean_Age  % Standard Error\n",
      "0            Not-Pregnant             1.0   1010  32.405941          0.713657\n",
      "1            Not-Pregnant             2.0    532  32.667293          0.960058\n",
      "2            Not-Pregnant             3.0   1948  32.574949          0.507926\n",
      "3            Not-Pregnant             4.0   1129  32.607617          0.659764\n",
      "4            Not-Pregnant             5.0    593  32.892074          0.904159\n",
      "5              Postpartum             1.0     86  29.209302          2.373077\n",
      "6              Postpartum             2.0     50  27.400000          2.965894\n",
      "7              Postpartum             3.0    100  28.630000          1.898010\n",
      "8              Postpartum             4.0     75  27.026667          2.185283\n",
      "9              Postpartum             5.0     25  29.480000          2.524195\n",
      "10               Pregnant             1.0    161  27.217391          1.499615\n",
      "11               Pregnant             2.0     41  27.804878          3.182833\n",
      "12               Pregnant             3.0    206  28.072816          1.246123\n",
      "13               Pregnant             4.0     96  27.875000          2.141061\n",
      "14               Pregnant             5.0     55  31.072727          2.167906\n",
      "\n",
      "By Low Income:\n",
      "   custom_pregnancy_group  Low_Income  Count   Mean_Age  % Standard Error\n",
      "0           Not-Pregnant       False   2869  32.984664          0.405818\n",
      "1           Not-Pregnant        True   2343  32.117371          0.475168\n",
      "2             Postpartum       False    138  29.239130          1.501315\n",
      "3             Postpartum        True    198  27.646465          1.504828\n",
      "4               Pregnant       False    307  28.596091          1.008809\n",
      "5               Pregnant        True    252  27.424603          1.292852\n",
      "\n",
      "By Education Level:\n",
      "    custom_pregnancy_group  edu-level  Count   Mean_Age  % Standard Error\n",
      "0            Not-Pregnant        1.0    359  35.169916          0.979839\n",
      "1            Not-Pregnant        2.0    680  33.114706          0.819861\n",
      "2            Not-Pregnant        3.0   1056  31.763258          0.727515\n",
      "3            Not-Pregnant        4.0   1840  31.744022          0.555627\n",
      "4            Not-Pregnant        5.0   1272  33.484277          0.556982\n",
      "5            Not-Pregnant        9.0      5  39.400000          4.139469\n",
      "6              Postpartum        1.0     25  30.760000          4.931348\n",
      "7              Postpartum        2.0     58  26.172414          2.822645\n",
      "8              Postpartum        3.0     85  26.317647          2.052052\n",
      "9              Postpartum        4.0    107  28.785047          1.793244\n",
      "10             Postpartum        5.0     61  31.229508          1.686094\n",
      "11               Pregnant        1.0     52  28.500000          2.448113\n",
      "12               Pregnant        2.0    101  26.316832          2.054948\n",
      "13               Pregnant        3.0    120  26.491667          1.818454\n",
      "14               Pregnant        4.0    165  27.848485          1.486173\n",
      "15               Pregnant        5.0    121  31.206612          1.173670\n"
     ]
    }
   ],
   "source": [
    "# Mapping pregnancy and postpartum status correctly\n",
    "data['custom_pregnancy_group'] = data.apply(\n",
    "    lambda x: 'Postpartum' if x['postpartum'] == 1 else ('Pregnant' if x['pregnancy-status'] == 1 else 'Not-Pregnant'), \n",
    "    axis=1\n",
    ")\n",
    "\n",
    "# Determine Low Income status based on income-to-poverty ratio\n",
    "data['Low_Income'] = data['income-to-poverty-ratio'] < 1.85\n",
    "\n",
    "# Function to calculate descriptive statistics\n",
    "def calculate_statistics(df, group, condition):\n",
    "    stats = df.groupby([group, condition]).agg(\n",
    "        Count=('age', 'count'),\n",
    "        Mean_Age=('age', 'mean')\n",
    "    ).reset_index()\n",
    "    stats['% Standard Error'] = df.groupby([group, condition])['age'].apply(\n",
    "        lambda x: (x.std() / np.sqrt(x.count())) / x.mean() * 100).reset_index(drop=True)\n",
    "    \n",
    "    return stats\n",
    "\n",
    "# Calculating statistics for each group by Race-Ethnicity\n",
    "stats_race_ethnicity = calculate_statistics(data, 'custom_pregnancy_group', 'race-ethnicity')\n",
    "\n",
    "# Calculating statistics for each group by Low Income\n",
    "stats_low_income = calculate_statistics(data, 'custom_pregnancy_group', 'Low_Income')\n",
    "\n",
    "# Calculating statistics for each group by Education Level\n",
    "stats_education_level = calculate_statistics(data, 'custom_pregnancy_group', 'edu-level')\n",
    "\n",
    "# Displaying the results\n",
    "print(\"By Race-Ethnicity:\\n\", stats_race_ethnicity)\n",
    "print(\"\\nBy Low Income:\\n\", stats_low_income)\n",
    "print(\"\\nBy Education Level:\\n\", stats_education_level)\n"
   ]
  },
  {
   "cell_type": "code",
   "execution_count": null,
   "id": "feadd96c",
   "metadata": {},
   "outputs": [],
   "source": [
    "## create it in R instead \n",
    "# https://cran.r-project.org/web/packages/tableone/tableone.pdf"
   ]
  },
  {
   "cell_type": "markdown",
   "id": "091249e3",
   "metadata": {},
   "source": [
    "### class imbalance - can either address, and/or look at depression scores on continous scale\n"
   ]
  },
  {
   "cell_type": "code",
   "execution_count": null,
   "id": "773f3432",
   "metadata": {},
   "outputs": [],
   "source": []
  },
  {
   "cell_type": "code",
   "execution_count": null,
   "id": "0c53973f",
   "metadata": {},
   "outputs": [],
   "source": []
  },
  {
   "cell_type": "markdown",
   "id": "bfebd3d9",
   "metadata": {},
   "source": [
    "## Explore Data"
   ]
  },
  {
   "cell_type": "markdown",
   "id": "9d311ecd",
   "metadata": {},
   "source": [
    "### Demographics"
   ]
  },
  {
   "cell_type": "code",
   "execution_count": null,
   "id": "ca1cb68b",
   "metadata": {},
   "outputs": [],
   "source": [
    "# Age distribution\n",
    "plt.figure(figsize=(10, 6))\n",
    "plt.hist(nhanes['age'], bins=10, color='skyblue', edgecolor='black')\n",
    "plt.title('Distribution of Ages in NHANES Dataset')\n",
    "plt.xlabel('Age')\n",
    "plt.ylabel('Frequency')\n",
    "plt.grid(axis='y', alpha=0.75)\n",
    "plt.show()"
   ]
  },
  {
   "cell_type": "code",
   "execution_count": null,
   "id": "bf893891",
   "metadata": {},
   "outputs": [],
   "source": [
    "# average age of pregnant vs not pregnant\n",
    "nhanes['pregnancy-status']"
   ]
  },
  {
   "cell_type": "code",
   "execution_count": null,
   "id": "85bba6c7",
   "metadata": {},
   "outputs": [],
   "source": [
    "# Pregnancy and age\n",
    "pregnant_participants = nhanes[nhanes['pregnancy-status']== 1]"
   ]
  },
  {
   "cell_type": "code",
   "execution_count": null,
   "id": "391518a1",
   "metadata": {},
   "outputs": [],
   "source": [
    "# Plot the distribution of ages for pregnant participants\n",
    "plt.figure(figsize=(10, 6))\n",
    "plt.hist(pregnant_participants['age'], bins=15, color='salmon', edgecolor='black')\n",
    "plt.title('Distribution of Ages for Pregnant Participants in NHANES Dataset')\n",
    "plt.xlabel('Age')\n",
    "plt.ylabel('Frequency')\n",
    "plt.grid(axis='y', alpha=0.75)\n",
    "plt.show()\n"
   ]
  },
  {
   "cell_type": "code",
   "execution_count": null,
   "id": "148c852b",
   "metadata": {},
   "outputs": [],
   "source": [
    "nhanes['depression'].value_counts()"
   ]
  },
  {
   "cell_type": "code",
   "execution_count": null,
   "id": "9b6a12e4",
   "metadata": {},
   "outputs": [],
   "source": [
    "# There is a class imbalance in the outcome variable "
   ]
  },
  {
   "cell_type": "code",
   "execution_count": null,
   "id": "c3bfe4ac",
   "metadata": {},
   "outputs": [],
   "source": []
  },
  {
   "cell_type": "code",
   "execution_count": null,
   "id": "22b3e316",
   "metadata": {},
   "outputs": [],
   "source": []
  },
  {
   "cell_type": "code",
   "execution_count": null,
   "id": "dfd481dd",
   "metadata": {},
   "outputs": [],
   "source": []
  }
 ],
 "metadata": {
  "kernelspec": {
   "display_name": "Python 3 (ipykernel)",
   "language": "python",
   "name": "python3"
  },
  "language_info": {
   "codemirror_mode": {
    "name": "ipython",
    "version": 3
   },
   "file_extension": ".py",
   "mimetype": "text/x-python",
   "name": "python",
   "nbconvert_exporter": "python",
   "pygments_lexer": "ipython3",
   "version": "3.11.4"
  }
 },
 "nbformat": 4,
 "nbformat_minor": 5
}
