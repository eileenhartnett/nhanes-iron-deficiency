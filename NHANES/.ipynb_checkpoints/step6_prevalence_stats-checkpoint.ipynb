{
 "cells": [
  {
   "cell_type": "markdown",
   "id": "9b04c93d",
   "metadata": {},
   "source": [
    "# NHANES - Prevalence statistics"
   ]
  },
  {
   "cell_type": "markdown",
   "id": "eff5c2aa",
   "metadata": {},
   "source": [
    "## Load libraries"
   ]
  },
  {
   "cell_type": "code",
   "execution_count": 2,
   "id": "952ef48b",
   "metadata": {},
   "outputs": [],
   "source": [
    "library(dplyr)\n",
    "library(ggplot2)\n",
    "library(survey)\n",
    "library(table1);"
   ]
  },
  {
   "cell_type": "markdown",
   "id": "ced0a7b5",
   "metadata": {},
   "source": [
    "## Load data"
   ]
  },
  {
   "cell_type": "code",
   "execution_count": 3,
   "id": "1f725eba",
   "metadata": {},
   "outputs": [],
   "source": [
    "nhanes <- read.csv(\"data/nhanes.csv\")"
   ]
  },
  {
   "cell_type": "markdown",
   "id": "4eaa82a5",
   "metadata": {},
   "source": [
    "## Set up survey design object\n"
   ]
  },
  {
   "cell_type": "code",
   "execution_count": 4,
   "id": "1c308112",
   "metadata": {},
   "outputs": [],
   "source": [
    "design <- svydesign(ids = ~masked.variance.psu, \n",
    "                           strata = ~masked.variance.stratum, \n",
    "                           weights = ~MEC10YR,\n",
    "                           nest = TRUE,\n",
    "                           data = nhanes)"
   ]
  },
  {
   "cell_type": "code",
   "execution_count": 5,
   "id": "a4c62c5b",
   "metadata": {},
   "outputs": [
    {
     "name": "stdout",
     "output_type": "stream",
     "text": [
      "Stratified 1 - level Cluster Sampling design (with replacement)\n",
      "With (153) clusters.\n",
      "svydesign(ids = ~masked.variance.psu, strata = ~masked.variance.stratum, \n",
      "    weights = ~MEC10YR, nest = TRUE, data = nhanes)\n"
     ]
    }
   ],
   "source": [
    "# View the survey design object\n",
    "print(design)"
   ]
  },
  {
   "cell_type": "markdown",
   "id": "daa9cce7",
   "metadata": {},
   "source": [
    "## Calculate N & median values for TFR and FT by pregnancy_status"
   ]
  },
  {
   "cell_type": "markdown",
   "id": "83d85ffd",
   "metadata": {
    "heading_collapsed": true
   },
   "source": [
    "### TfR"
   ]
  },
  {
   "cell_type": "markdown",
   "id": "996a84b4",
   "metadata": {
    "hidden": true
   },
   "source": [
    "#### N"
   ]
  },
  {
   "cell_type": "code",
   "execution_count": null,
   "id": "0d6058d3",
   "metadata": {
    "hidden": true
   },
   "outputs": [],
   "source": [
    "# N for ID (TfR >= 8.3 mg/l) by pregnancy status\n",
    "n_id_tfr_by_pregnancy <- nhanes %>%\n",
    "  group_by(pregnancy.status) %>%\n",
    "  summarise(ID_tfr = sum(ID_tfr == 1))\n",
    "\n",
    "# Print the results\n",
    "print(n_id_tfr_by_pregnancy)"
   ]
  },
  {
   "cell_type": "markdown",
   "id": "f712586d",
   "metadata": {
    "hidden": true
   },
   "source": [
    "#### Medians"
   ]
  },
  {
   "cell_type": "code",
   "execution_count": null,
   "id": "75badf2c",
   "metadata": {
    "hidden": true
   },
   "outputs": [],
   "source": [
    "# TfR medians by pregnancy status\n",
    "medians <- svyby(~tfr, by = ~pregnancy.status, design, svyquantile, c(0.5), na.rm = TRUE)\n",
    "print(medians)"
   ]
  },
  {
   "cell_type": "code",
   "execution_count": null,
   "id": "0b85bceb",
   "metadata": {
    "hidden": true
   },
   "outputs": [],
   "source": [
    "# Medians by depression status and pregnancy status\n",
    "medians_by_pregnancy_and_depression <- svyby(~tfr, by = ~pregnancy.status + depression, \n",
    "                                             design, svyquantile, c(0.5), na.rm = TRUE)\n",
    "\n",
    "print(medians_by_pregnancy_and_depression)"
   ]
  },
  {
   "cell_type": "markdown",
   "id": "53983ea8",
   "metadata": {
    "hidden": true
   },
   "source": [
    "#### Prevalence"
   ]
  },
  {
   "cell_type": "code",
   "execution_count": null,
   "id": "7a8b65b8",
   "metadata": {
    "hidden": true
   },
   "outputs": [],
   "source": [
    "# Calculate the prevalence of tfr >= 8.3 for each pregnancy status category\n",
    "prevalence_by_pregnancy_status <- svyby(~ID_tfr, ~pregnancy.status, design, svymean, na.rm = TRUE)\n"
   ]
  },
  {
   "cell_type": "code",
   "execution_count": null,
   "id": "ede52ee0",
   "metadata": {
    "hidden": true
   },
   "outputs": [],
   "source": [
    "# Print the results\n",
    "print(prevalence_by_pregnancy_status)"
   ]
  },
  {
   "cell_type": "code",
   "execution_count": null,
   "id": "cb2ed7e9",
   "metadata": {
    "hidden": true
   },
   "outputs": [],
   "source": [
    "prevalence_by_pregnancy_and_depression <- svyby(~ID_tfr, \n",
    "                                                ~pregnancy.status + depression, \n",
    "                                                design, svymean, na.rm = TRUE)\n"
   ]
  },
  {
   "cell_type": "code",
   "execution_count": null,
   "id": "8a66a499",
   "metadata": {
    "hidden": true,
    "scrolled": false
   },
   "outputs": [],
   "source": [
    "# Print the results\n",
    "print(prevalence_by_pregnancy_and_depression)"
   ]
  },
  {
   "cell_type": "markdown",
   "id": "12da1fb0",
   "metadata": {
    "heading_collapsed": true
   },
   "source": [
    "### Rao Scott Chi-Square test"
   ]
  },
  {
   "cell_type": "markdown",
   "id": "a0404bb9",
   "metadata": {
    "hidden": true
   },
   "source": [
    "#### ID TfR >= 8.3 Prevalence"
   ]
  },
  {
   "cell_type": "code",
   "execution_count": null,
   "id": "65779e22",
   "metadata": {
    "hidden": true
   },
   "outputs": [],
   "source": [
    "# Create a new design object for non-pregnant group (pregnancy.status == 0)\n",
    "design_not_pregnant <- subset(design, pregnancy.status == 0)"
   ]
  },
  {
   "cell_type": "code",
   "execution_count": null,
   "id": "8ee03792",
   "metadata": {
    "hidden": true
   },
   "outputs": [],
   "source": [
    "# Not pregnant group: Perform the Rao-Scott chi-squared test\n",
    "result <- svychisq(~ID_tfr + depression, design = design_not_pregnant)\n",
    "\n",
    "# Print the test result\n",
    "print(result)"
   ]
  },
  {
   "cell_type": "code",
   "execution_count": null,
   "id": "a81c3edc",
   "metadata": {
    "hidden": true
   },
   "outputs": [],
   "source": [
    "# Create a new design object for pregnant group (pregnancy.status == 1)\n",
    "design_pregnant <- subset(design, pregnancy.status == 1)"
   ]
  },
  {
   "cell_type": "code",
   "execution_count": null,
   "id": "4e4b867f",
   "metadata": {
    "hidden": true
   },
   "outputs": [],
   "source": [
    "# Pregnant group: Perform the Rao-Scott chi-squared test\n",
    "result <- svychisq(~ID_tfr + depression, design = design_pregnant)\n",
    "\n",
    "# Print the test result\n",
    "print(result)"
   ]
  },
  {
   "cell_type": "code",
   "execution_count": null,
   "id": "9b3b9aa7",
   "metadata": {
    "hidden": true
   },
   "outputs": [],
   "source": [
    "# Create a new design object for postpartum group (pregnancy.status == 2)\n",
    "design_postpartum <- subset(design, pregnancy.status == 2)"
   ]
  },
  {
   "cell_type": "code",
   "execution_count": null,
   "id": "e28b2c92",
   "metadata": {
    "hidden": true,
    "scrolled": true
   },
   "outputs": [],
   "source": [
    "# Postpartum group: Perform the Rao-Scott chi-squared test\n",
    "result <- svychisq(~ID_tfr + depression, design = design_postpartum)\n",
    "\n",
    "# Print the test result\n",
    "print(result)"
   ]
  },
  {
   "cell_type": "markdown",
   "id": "e3bc77a1",
   "metadata": {},
   "source": [
    "### Ferritin"
   ]
  },
  {
   "cell_type": "code",
   "execution_count": 6,
   "id": "f1e90228",
   "metadata": {},
   "outputs": [
    {
     "name": "stdout",
     "output_type": "stream",
     "text": [
      "\u001b[90m# A tibble: 3 × 2\u001b[39m\n",
      "  pregnancy.status ID_ferr\n",
      "             \u001b[3m\u001b[90m<dbl>\u001b[39m\u001b[23m   \u001b[3m\u001b[90m<int>\u001b[39m\u001b[23m\n",
      "\u001b[90m1\u001b[39m                0     743\n",
      "\u001b[90m2\u001b[39m                1     150\n",
      "\u001b[90m3\u001b[39m                2      70\n"
     ]
    }
   ],
   "source": [
    "# N for low ferritin by pregnancy status \n",
    "n_id_ferr_by_pregnancy <- nhanes %>%\n",
    "  group_by(pregnancy.status) %>%\n",
    "  summarise(ID_ferr = sum(ID_ferr == 1))\n",
    "\n",
    "# Print the results\n",
    "print(n_id_ferr_by_pregnancy)"
   ]
  },
  {
   "cell_type": "markdown",
   "id": "4c868667",
   "metadata": {},
   "source": [
    "#### Medians"
   ]
  },
  {
   "cell_type": "code",
   "execution_count": 7,
   "id": "6504482c",
   "metadata": {
    "scrolled": true
   },
   "outputs": [
    {
     "name": "stdout",
     "output_type": "stream",
     "text": [
      "  pregnancy.status ferritin se.ferritin\n",
      "0                0 46.61798   0.7322269\n",
      "1                1 30.43630   1.7497517\n",
      "2                2 37.43045   1.8812405\n"
     ]
    }
   ],
   "source": [
    "# ferritin medians by pregnancy status\n",
    "medians_ferr <- svyby(~ferritin, by = ~pregnancy.status, design, svyquantile, c(0.5), na.rm = TRUE)\n",
    "print(medians_ferr)"
   ]
  },
  {
   "cell_type": "code",
   "execution_count": 8,
   "id": "7e4d1b06",
   "metadata": {},
   "outputs": [
    {
     "name": "stdout",
     "output_type": "stream",
     "text": [
      "    pregnancy.status depression ferritin se.ferritin\n",
      "0.0                0          0 46.61798   0.6502434\n",
      "1.0                1          0 30.43630   1.8282070\n",
      "2.0                2          0 37.43045   2.0447228\n",
      "0.1                0          1 49.21090   3.2154018\n",
      "1.1                1          1 35.12984   8.1085087\n",
      "2.1                2          1 31.51530   6.2605453\n"
     ]
    }
   ],
   "source": [
    "# Medians by depression status and pregnancy status\n",
    "medians_by_pregnancy_and_depression_ferr <- svyby(~ferritin, by = ~pregnancy.status + depression, \n",
    "                                             design, svyquantile, c(0.5), na.rm = TRUE)\n",
    "\n",
    "print(medians_by_pregnancy_and_depression_ferr)"
   ]
  },
  {
   "cell_type": "markdown",
   "id": "b72833df",
   "metadata": {},
   "source": [
    "#### Prevalence"
   ]
  },
  {
   "cell_type": "code",
   "execution_count": 9,
   "id": "84ffb550",
   "metadata": {},
   "outputs": [
    {
     "name": "stdout",
     "output_type": "stream",
     "text": [
      "  pregnancy.status   ID_ferr         se\n",
      "0                0 0.1253447 0.00451530\n",
      "1                1 0.2268897 0.02593807\n",
      "2                2 0.1622995 0.02950532\n"
     ]
    }
   ],
   "source": [
    "# Calculate the prevalence of ID ferr  for each pregnancy status category\n",
    "prevalence_by_pregnancy_status_ferr <- svyby(~ID_ferr, ~pregnancy.status, \n",
    "                                             design, svymean, na.rm = TRUE)\n",
    "print(prevalence_by_pregnancy_status_ferr)"
   ]
  },
  {
   "cell_type": "code",
   "execution_count": 10,
   "id": "c2425285",
   "metadata": {},
   "outputs": [],
   "source": [
    "prevalence_by_pregnancy_and_depression_ferr <- svyby(~ID_ferr, \n",
    "                                                ~pregnancy.status + depression, \n",
    "                                                design, svymean, na.rm = TRUE)"
   ]
  },
  {
   "cell_type": "code",
   "execution_count": 11,
   "id": "5e2575f1",
   "metadata": {},
   "outputs": [
    {
     "name": "stdout",
     "output_type": "stream",
     "text": [
      "    pregnancy.status depression   ID_ferr          se\n",
      "0.0                0          0 0.1248613 0.004937327\n",
      "1.0                1          0 0.2247528 0.026815083\n",
      "2.0                2          0 0.1645061 0.030973769\n",
      "0.1                0          1 0.1293349 0.014655558\n",
      "1.1                1          1 0.2556869 0.075889190\n",
      "2.1                2          1 0.1345304 0.062678824\n"
     ]
    }
   ],
   "source": [
    "print(prevalence_by_pregnancy_and_depression_ferr)"
   ]
  },
  {
   "cell_type": "code",
   "execution_count": 12,
   "id": "17c86525",
   "metadata": {},
   "outputs": [],
   "source": [
    "# Create a new design object for non-pregnant group (pregnancy.status == 0)\n",
    "design_not_pregnant <- subset(design, pregnancy.status == 0)"
   ]
  },
  {
   "cell_type": "code",
   "execution_count": 13,
   "id": "a4bb32c0",
   "metadata": {},
   "outputs": [
    {
     "name": "stdout",
     "output_type": "stream",
     "text": [
      "\n",
      "\tPearson's X^2: Rao & Scott adjustment\n",
      "\n",
      "data:  svychisq(~ID_ferr + depression, design = design_not_pregnant)\n",
      "F = 0.080284, ndf = 1, ddf = 77, p-value = 0.7777\n",
      "\n"
     ]
    }
   ],
   "source": [
    "# Not Pregnant group: Perform the Rao-Scott chi-squared test\n",
    "result <- svychisq(~ID_ferr + depression, design = design_not_pregnant)\n",
    "\n",
    "# Print the test result\n",
    "print(result)"
   ]
  },
  {
   "cell_type": "code",
   "execution_count": 14,
   "id": "8c8fb47e",
   "metadata": {},
   "outputs": [],
   "source": [
    "# Create a new design object for pregnant group (pregnancy.status == 1)\n",
    "design_pregnant <- subset(design, pregnancy.status == 1)"
   ]
  },
  {
   "cell_type": "code",
   "execution_count": 15,
   "id": "a50a37eb",
   "metadata": {},
   "outputs": [
    {
     "name": "stdout",
     "output_type": "stream",
     "text": [
      "\n",
      "\tPearson's X^2: Rao & Scott adjustment\n",
      "\n",
      "data:  svychisq(~ID_ferr + depression, design = design_pregnant)\n",
      "F = 0.16677, ndf = 1, ddf = 62, p-value = 0.6844\n",
      "\n"
     ]
    }
   ],
   "source": [
    "# Pregnant group: Perform the Rao-Scott chi-squared test\n",
    "result <- svychisq(~ID_ferr + depression, design = design_pregnant)\n",
    "\n",
    "# Print the test result\n",
    "print(result)"
   ]
  },
  {
   "cell_type": "code",
   "execution_count": 16,
   "id": "f42fdf1c",
   "metadata": {},
   "outputs": [],
   "source": [
    "# Create a new design object for postpartum group (pregnancy.status == 2)\n",
    "design_postpartum <- subset(design, pregnancy.status == 2)"
   ]
  },
  {
   "cell_type": "code",
   "execution_count": 17,
   "id": "2c44d8a9",
   "metadata": {
    "scrolled": true
   },
   "outputs": [
    {
     "name": "stdout",
     "output_type": "stream",
     "text": [
      "\n",
      "\tPearson's X^2: Rao & Scott adjustment\n",
      "\n",
      "data:  svychisq(~ID_ferr + depression, design = design_postpartum)\n",
      "F = 0.17906, ndf = 1, ddf = 62, p-value = 0.6736\n",
      "\n"
     ]
    }
   ],
   "source": [
    "# Postpartum group: Perform the Rao-Scott chi-squared test\n",
    "result <- svychisq(~ID_ferr + depression, design = design_postpartum)\n",
    "\n",
    "# Print the test result\n",
    "print(result)"
   ]
  },
  {
   "cell_type": "code",
   "execution_count": null,
   "id": "55fa09c1",
   "metadata": {},
   "outputs": [],
   "source": []
  },
  {
   "cell_type": "code",
   "execution_count": null,
   "id": "ae0bba1a",
   "metadata": {},
   "outputs": [],
   "source": []
  }
 ],
 "metadata": {
  "kernelspec": {
   "display_name": "R",
   "language": "R",
   "name": "ir"
  },
  "language_info": {
   "codemirror_mode": "r",
   "file_extension": ".r",
   "mimetype": "text/x-r-source",
   "name": "R",
   "pygments_lexer": "r",
   "version": "4.3.2"
  }
 },
 "nbformat": 4,
 "nbformat_minor": 5
}
