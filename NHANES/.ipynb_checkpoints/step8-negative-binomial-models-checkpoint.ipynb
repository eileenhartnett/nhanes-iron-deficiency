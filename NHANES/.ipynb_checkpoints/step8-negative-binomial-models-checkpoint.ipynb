{
 "cells": [
  {
   "cell_type": "markdown",
   "id": "69be5b7a",
   "metadata": {},
   "source": [
    "# NHANES - Negative Binomial Models"
   ]
  },
  {
   "cell_type": "markdown",
   "id": "b589089e",
   "metadata": {},
   "source": [
    "## Load libraries"
   ]
  },
  {
   "cell_type": "code",
   "execution_count": 2,
   "id": "ee00ee0a",
   "metadata": {},
   "outputs": [],
   "source": [
    "library(dplyr)\n",
    "library(ggplot2)\n",
    "library(survey)\n",
    "library(MASS)\n",
    "library(coefplot)\n",
    "library(broom)\n",
    "library(forcats);"
   ]
  },
  {
   "cell_type": "markdown",
   "id": "ced0a7b5",
   "metadata": {},
   "source": [
    "## Load data"
   ]
  },
  {
   "cell_type": "code",
   "execution_count": 3,
   "id": "1f725eba",
   "metadata": {},
   "outputs": [],
   "source": [
    "nhanes <- read.csv(\"data/nhanes.csv\")"
   ]
  },
  {
   "cell_type": "markdown",
   "id": "4eaa82a5",
   "metadata": {},
   "source": [
    "## Set up survey design object\n"
   ]
  },
  {
   "cell_type": "code",
   "execution_count": 4,
   "id": "1c308112",
   "metadata": {},
   "outputs": [],
   "source": [
    "design <- svydesign(ids = ~masked.variance.psu, \n",
    "                           strata = ~masked.variance.stratum, \n",
    "                           weights = ~MEC10YR,\n",
    "                           nest = TRUE,\n",
    "                           data = nhanes)"
   ]
  },
  {
   "cell_type": "code",
   "execution_count": 5,
   "id": "a4c62c5b",
   "metadata": {
    "scrolled": true
   },
   "outputs": [
    {
     "name": "stdout",
     "output_type": "stream",
     "text": [
      "Stratified 1 - level Cluster Sampling design (with replacement)\n",
      "With (153) clusters.\n",
      "svydesign(ids = ~masked.variance.psu, strata = ~masked.variance.stratum, \n",
      "    weights = ~MEC10YR, nest = TRUE, data = nhanes)\n"
     ]
    }
   ],
   "source": [
    "# View the survey design object\n",
    "print(design)"
   ]
  },
  {
   "cell_type": "markdown",
   "id": "e6e6251d",
   "metadata": {
    "heading_collapsed": true
   },
   "source": [
    "## Model selection"
   ]
  },
  {
   "cell_type": "markdown",
   "id": "cc1b10c6",
   "metadata": {
    "hidden": true
   },
   "source": [
    "### Test for overdispersion"
   ]
  },
  {
   "cell_type": "code",
   "execution_count": null,
   "id": "ef1b872f",
   "metadata": {
    "hidden": true
   },
   "outputs": [],
   "source": [
    "# Fit a Poisson model\n",
    "model_poisson <- svyglm(dpq_score ~ ferritin, design = design, family = poisson())\n",
    "\n",
    "# Calculate Pearson residuals\n",
    "residuals <- residuals(model_poisson, type = \"pearson\")\n",
    "\n",
    "# Assess overdispersion by comparing the variance of residuals to 1\n",
    "overdispersion_index <- var(residuals)\n",
    "print(overdispersion_index)"
   ]
  },
  {
   "cell_type": "markdown",
   "id": "faa49227",
   "metadata": {
    "hidden": true
   },
   "source": [
    "#### Not Pregnant"
   ]
  },
  {
   "cell_type": "code",
   "execution_count": null,
   "id": "eafab4be",
   "metadata": {
    "hidden": true
   },
   "outputs": [],
   "source": [
    "# Assuming 'design' is your original survey design object\n",
    "design_subset <- subset(design, pregnancy.status == 0)\n",
    "\n",
    "\n",
    "model_poisson_subset <- svyglm(dpq_score ~ ferritin, \n",
    "                               design = design_subset, \n",
    "                               family = poisson())"
   ]
  },
  {
   "cell_type": "code",
   "execution_count": null,
   "id": "59d000fd",
   "metadata": {
    "hidden": true
   },
   "outputs": [],
   "source": [
    "# Calculate Pearson residuals for the subsetted model\n",
    "residuals_subset <- residuals(model_poisson_subset, type = \"pearson\")\n",
    "\n",
    "# Assess overdispersion by comparing the variance of residuals to 1\n",
    "overdispersion_index_subset <- var(residuals_subset)\n",
    "print(overdispersion_index_subset)\n"
   ]
  },
  {
   "cell_type": "markdown",
   "id": "f8d00d36",
   "metadata": {
    "hidden": true
   },
   "source": [
    "#### Pregnant"
   ]
  },
  {
   "cell_type": "code",
   "execution_count": null,
   "id": "5130bd42",
   "metadata": {
    "hidden": true
   },
   "outputs": [],
   "source": [
    "# Assuming 'design' is your original survey design object\n",
    "design_subset <- subset(design, pregnancy.status == 1)\n",
    "\n",
    "\n",
    "model_poisson_subset <- svyglm(dpq_score ~ ferritin, \n",
    "                               design = design_subset, \n",
    "                               family = poisson())\n"
   ]
  },
  {
   "cell_type": "code",
   "execution_count": null,
   "id": "afa4bc48",
   "metadata": {
    "hidden": true
   },
   "outputs": [],
   "source": [
    "# Calculate Pearson residuals for the subsetted model\n",
    "residuals_subset <- residuals(model_poisson_subset, type = \"pearson\")\n",
    "\n",
    "# Assess overdispersion by comparing the variance of residuals to 1\n",
    "overdispersion_index_subset <- var(residuals_subset)\n",
    "print(overdispersion_index_subset)"
   ]
  },
  {
   "cell_type": "markdown",
   "id": "1c280f4b",
   "metadata": {
    "hidden": true
   },
   "source": [
    "#### Postpartum"
   ]
  },
  {
   "cell_type": "code",
   "execution_count": null,
   "id": "c1b42aff",
   "metadata": {
    "hidden": true
   },
   "outputs": [],
   "source": [
    "# Assuming 'design' is your original survey design object\n",
    "design_subset <- subset(design, pregnancy.status == 2)\n",
    "\n",
    "\n",
    "model_poisson_subset <- svyglm(dpq_score ~ ferritin, \n",
    "                               design = design_subset, \n",
    "                               family = poisson())\n"
   ]
  },
  {
   "cell_type": "code",
   "execution_count": null,
   "id": "142eb1bd",
   "metadata": {
    "hidden": true
   },
   "outputs": [],
   "source": [
    "# Calculate Pearson residuals for the subsetted model\n",
    "residuals_subset <- residuals(model_poisson_subset, type = \"pearson\")\n",
    "\n",
    "# Assess overdispersion by comparing the variance of residuals to 1\n",
    "overdispersion_index_subset <- var(residuals_subset)\n",
    "print(overdispersion_index_subset)"
   ]
  },
  {
   "cell_type": "markdown",
   "id": "694b8472",
   "metadata": {
    "hidden": true
   },
   "source": [
    "**The above results (>1) show evidence of overdispersion: overdispersion in count data, which occurs when the variance exceeds the mean, violates the assumptions of the Poisson distribution, so we will need to use either a quasipoisson model or a negative binomial model**"
   ]
  },
  {
   "cell_type": "markdown",
   "id": "e437430b",
   "metadata": {
    "hidden": true
   },
   "source": [
    "### Test for model selection"
   ]
  },
  {
   "cell_type": "markdown",
   "id": "8d5cfa1b",
   "metadata": {
    "hidden": true
   },
   "source": [
    "#### Ferritin"
   ]
  },
  {
   "cell_type": "code",
   "execution_count": null,
   "id": "8d9a959f",
   "metadata": {
    "hidden": true
   },
   "outputs": [],
   "source": [
    "# Fit model 1: \n",
    "model1 <- svyglm(dpq_score ~ ferritin, \n",
    "                 design, family = quasipoisson(),\n",
    "                 subset = (pregnancy.status == 1))\n",
    "\n",
    "# Fit model 2: \n",
    "model2 <- svyglm(dpq_score ~ ferritin * factor(low_income), \n",
    "                 design, family = quasipoisson(),\n",
    "                 subset = (pregnancy.status == 1))\n",
    "\n",
    "# Fit model 3: \n",
    "model3 <- svyglm(dpq_score ~ ferritin * factor(low_income), \n",
    "                 design, family = negative.binomial(1), #theta = 1\n",
    "                 subset = (pregnancy.status == 1))\n"
   ]
  },
  {
   "cell_type": "code",
   "execution_count": null,
   "id": "bb117497",
   "metadata": {
    "hidden": true,
    "scrolled": true
   },
   "outputs": [],
   "source": [
    "# Calculate BIC manually for each model\n",
    "n <- sum(weights(design))  # Sample size\n",
    "k1 <- length(coef(model1))  # Number of parameters in model1\n",
    "k2 <- length(coef(model2))  # Number of parameters in model2\n",
    "k3 <- length(coef(model3))  # Number of parameters in model3\n",
    "\n",
    "bic1 <- -2 * logLik(model1) + log(n) * k1\n",
    "bic2 <- -2 * logLik(model2) + log(n) * k2\n",
    "bic3 <- -2 * logLik(model3) + log(n) * k3\n",
    "\n",
    "# Create a data frame to store the AIC and BIC values\n",
    "model_comparison <- data.frame(\n",
    "  Model = c(\"Model 1\", \"Model 2\", \"Model 3\"),\n",
    "  BIC = c(bic1, bic2, bic3)\n",
    ")\n",
    "\n",
    "# Print the model comparison table\n",
    "print(model_comparison)"
   ]
  },
  {
   "cell_type": "markdown",
   "id": "829b2fc4",
   "metadata": {
    "hidden": true
   },
   "source": [
    "**Model 3 (negative-binomial) has a lower BIC value compared to Models 1 and 2, suggesting a better model fit when considering both the likelihood of the model and the complexity (number of parameters).** "
   ]
  },
  {
   "cell_type": "markdown",
   "id": "8bf3cb82",
   "metadata": {
    "hidden": true
   },
   "source": [
    "#### Transferrin Receptor (tfr)"
   ]
  },
  {
   "cell_type": "code",
   "execution_count": null,
   "id": "9caa2b38",
   "metadata": {
    "hidden": true
   },
   "outputs": [],
   "source": [
    "# Fit model 1: \n",
    "model1 <- svyglm(dpq_score ~ tfr, \n",
    "                 design, family = quasipoisson(),\n",
    "                 subset = (pregnancy.status == 1))\n",
    "\n",
    "# Fit model 2: \n",
    "model2 <- svyglm(dpq_score ~ tfr * factor(low_income), \n",
    "                 design, family = quasipoisson(),\n",
    "                 subset = (pregnancy.status == 1))\n",
    "\n",
    "# Fit model 3: \n",
    "model3 <- svyglm(dpq_score ~ tfr * factor(low_income), \n",
    "                 design, family = negative.binomial(1), #theta = 1\n",
    "                 subset = (pregnancy.status == 1))"
   ]
  },
  {
   "cell_type": "code",
   "execution_count": null,
   "id": "1550020f",
   "metadata": {
    "hidden": true
   },
   "outputs": [],
   "source": [
    "# Calculate BIC manually for each model\n",
    "n <- sum(weights(design))  # Sample size\n",
    "k1 <- length(coef(model1))  # Number of parameters in model1\n",
    "k2 <- length(coef(model2))  # Number of parameters in model2\n",
    "k3 <- length(coef(model3))  # Number of parameters in model3\n",
    "\n",
    "bic1 <- -2 * logLik(model1) + log(n) * k1\n",
    "bic2 <- -2 * logLik(model2) + log(n) * k2\n",
    "bic3 <- -2 * logLik(model3) + log(n) * k3\n",
    "\n",
    "# Create a data frame to store the AIC and BIC values\n",
    "model_comparison <- data.frame(\n",
    "  Model = c(\"Model 1\", \"Model 2\", \"Model 3\"),\n",
    "  BIC = c(bic1, bic2, bic3)\n",
    ")\n",
    "\n",
    "# Print the model comparison table\n",
    "print(model_comparison)"
   ]
  },
  {
   "cell_type": "markdown",
   "id": "0cd25d66",
   "metadata": {
    "hidden": true
   },
   "source": [
    "**Model 3 (negative-binomial), again, is the preferred model**"
   ]
  },
  {
   "cell_type": "markdown",
   "id": "8e6a16b5",
   "metadata": {},
   "source": [
    "## Negative binomial regression models"
   ]
  },
  {
   "cell_type": "markdown",
   "id": "2741ec54",
   "metadata": {
    "heading_collapsed": true
   },
   "source": [
    "### TfR"
   ]
  },
  {
   "cell_type": "markdown",
   "id": "552a56b9",
   "metadata": {
    "heading_collapsed": true,
    "hidden": true
   },
   "source": [
    "#### N for ID_tfr = 1"
   ]
  },
  {
   "cell_type": "code",
   "execution_count": null,
   "id": "ec78dcf5",
   "metadata": {
    "hidden": true
   },
   "outputs": [],
   "source": [
    "# Low N for these categories below, not sure if model above results are useful"
   ]
  },
  {
   "cell_type": "markdown",
   "id": "def11a59",
   "metadata": {
    "hidden": true
   },
   "source": [
    "##### Not Pregnant"
   ]
  },
  {
   "cell_type": "code",
   "execution_count": null,
   "id": "53c614ce",
   "metadata": {
    "hidden": true
   },
   "outputs": [],
   "source": [
    "count_overlap <- nrow(subset(nhanes, pregnancy.status == 0 & low_income == 0 & ID_tfr == 0))\n",
    "\n",
    "# Print the count\n",
    "print(count_overlap)"
   ]
  },
  {
   "cell_type": "code",
   "execution_count": null,
   "id": "b4fa6160",
   "metadata": {
    "hidden": true
   },
   "outputs": [],
   "source": [
    "count_overlap <- nrow(subset(nhanes, pregnancy.status == 0 & low_income == 0 & ID_tfr == 1))\n",
    "\n",
    "# Print the count\n",
    "print(count_overlap)"
   ]
  },
  {
   "cell_type": "code",
   "execution_count": null,
   "id": "8f20ed0f",
   "metadata": {
    "hidden": true
   },
   "outputs": [],
   "source": [
    "count_overlap <- nrow(subset(nhanes, pregnancy.status == 0 & low_income == 1 & ID_tfr == 1))\n",
    "\n",
    "# Print the count\n",
    "print(count_overlap)"
   ]
  },
  {
   "cell_type": "code",
   "execution_count": null,
   "id": "bb144852",
   "metadata": {
    "hidden": true
   },
   "outputs": [],
   "source": [
    "count_overlap <- nrow(subset(nhanes, pregnancy.status == 0 & low_income == 1 & ID_tfr == 0))\n",
    "\n",
    "# Print the count\n",
    "print(count_overlap)"
   ]
  },
  {
   "cell_type": "markdown",
   "id": "7da61817",
   "metadata": {
    "hidden": true
   },
   "source": [
    "##### Pregnant"
   ]
  },
  {
   "cell_type": "code",
   "execution_count": null,
   "id": "34dd3ea0",
   "metadata": {
    "hidden": true
   },
   "outputs": [],
   "source": [
    "# Overlap count \n",
    "count_overlap <- nrow(subset(nhanes, pregnancy.status == 1 & low_income == 1 & ID_tfr == 1))\n",
    "\n",
    "# Print the count\n",
    "print(count_overlap)"
   ]
  },
  {
   "cell_type": "code",
   "execution_count": null,
   "id": "71270e02",
   "metadata": {
    "hidden": true
   },
   "outputs": [],
   "source": [
    "# Overlap count \n",
    "count_overlap <- nrow(subset(nhanes, pregnancy.status == 1 & low_income == 1 & ID_tfr == 0))\n",
    "\n",
    "# Print the count\n",
    "print(count_overlap)"
   ]
  },
  {
   "cell_type": "code",
   "execution_count": null,
   "id": "30952257",
   "metadata": {
    "hidden": true
   },
   "outputs": [],
   "source": [
    "# Overlap count \n",
    "count_overlap <- nrow(subset(nhanes, pregnancy.status == 1 & low_income == 0 & ID_tfr == 1))\n",
    "\n",
    "# Print the count\n",
    "print(count_overlap)"
   ]
  },
  {
   "cell_type": "code",
   "execution_count": null,
   "id": "81e08c9c",
   "metadata": {
    "hidden": true
   },
   "outputs": [],
   "source": [
    "# Overlap count \n",
    "count_overlap <- nrow(subset(nhanes, pregnancy.status == 1 & low_income == 0 & ID_tfr == 0))\n",
    "\n",
    "# Print the count\n",
    "print(count_overlap)"
   ]
  },
  {
   "cell_type": "markdown",
   "id": "f81cedbe",
   "metadata": {
    "hidden": true
   },
   "source": [
    "##### Postpartum"
   ]
  },
  {
   "cell_type": "code",
   "execution_count": null,
   "id": "9e45ead0",
   "metadata": {
    "hidden": true
   },
   "outputs": [],
   "source": [
    "# Overlap count \n",
    "count_overlap <- nrow(subset(nhanes, pregnancy.status == 2 & low_income == 1 & ID_tfr == 1))\n",
    "\n",
    "# Print the count\n",
    "print(count_overlap)"
   ]
  },
  {
   "cell_type": "code",
   "execution_count": null,
   "id": "238a8d11",
   "metadata": {
    "hidden": true
   },
   "outputs": [],
   "source": [
    "# Overlap count \n",
    "count_overlap <- nrow(subset(nhanes, pregnancy.status == 2 & low_income == 0 & ID_tfr == 1))\n",
    "\n",
    "# Print the count\n",
    "print(count_overlap)"
   ]
  },
  {
   "cell_type": "code",
   "execution_count": null,
   "id": "46a97c6d",
   "metadata": {
    "hidden": true
   },
   "outputs": [],
   "source": [
    "# Overlap count \n",
    "count_overlap <- nrow(subset(nhanes, pregnancy.status == 2 & low_income == 0 & ID_tfr == 0))\n",
    "\n",
    "# Print the count\n",
    "print(count_overlap)"
   ]
  },
  {
   "cell_type": "code",
   "execution_count": null,
   "id": "5cd14fc8",
   "metadata": {
    "hidden": true
   },
   "outputs": [],
   "source": [
    "# Overlap count \n",
    "count_overlap <- nrow(subset(nhanes, pregnancy.status == 2 & low_income == 1 & ID_tfr == 0))\n",
    "\n",
    "# Print the count\n",
    "print(count_overlap)"
   ]
  },
  {
   "cell_type": "markdown",
   "id": "90c931ac",
   "metadata": {
    "heading_collapsed": true
   },
   "source": [
    "### Predictor: ID_tfr, Outcome: dpq_score"
   ]
  },
  {
   "cell_type": "code",
   "execution_count": null,
   "id": "df307a9a",
   "metadata": {
    "hidden": true
   },
   "outputs": [],
   "source": [
    "# Fit the negative binomial regression model \n",
    "model_id_tfr_np1 <- svyglm(dpq_score ~ ID_tfr * factor(low_income), \n",
    "                                design, \n",
    "                                family = negative.binomial(1),\n",
    "                                subset = (pregnancy.status == 0))\n",
    "# Print the model summary\n",
    "summary(model_id_tfr_np1)"
   ]
  },
  {
   "cell_type": "code",
   "execution_count": null,
   "id": "6b367237",
   "metadata": {
    "hidden": true
   },
   "outputs": [],
   "source": [
    "# Get the coefficients\n",
    "coefficients <- coef(model_id_tfr_np1)\n",
    "\n",
    "# Calculate the incidence rate ratios (IRRs)\n",
    "irrs <- exp(coefficients)"
   ]
  },
  {
   "cell_type": "code",
   "execution_count": null,
   "id": "5789db4d",
   "metadata": {
    "hidden": true
   },
   "outputs": [],
   "source": [
    "irrs"
   ]
  },
  {
   "cell_type": "code",
   "execution_count": null,
   "id": "e0cade2c",
   "metadata": {
    "hidden": true
   },
   "outputs": [],
   "source": [
    "# Fit the negative binomial regression model \n",
    "model_id_tfr_np2 <- svyglm(dpq_score ~ ID_tfr * factor(low_income) + race.ethnicity + age + hscrp, \n",
    "                                design, \n",
    "                                family = negative.binomial(1),\n",
    "                                subset = (pregnancy.status == 0))\n",
    "\n",
    "# Print the model summary\n",
    "summary(model_id_tfr_np2)\n"
   ]
  },
  {
   "cell_type": "code",
   "execution_count": null,
   "id": "4ba65ed6",
   "metadata": {
    "hidden": true
   },
   "outputs": [],
   "source": [
    "# Get the coefficients\n",
    "coefficients <- coef(model_id_tfr_np2)\n",
    "\n",
    "# Calculate the incidence rate ratios (IRRs)\n",
    "irrs <- exp(coefficients)\n",
    "\n",
    "irrs"
   ]
  },
  {
   "cell_type": "code",
   "execution_count": null,
   "id": "ab8b87ee",
   "metadata": {
    "hidden": true
   },
   "outputs": [],
   "source": [
    "# Fit the negative binomial regression model \n",
    "model_id_tfr_p1 <- svyglm(dpq_score ~ ID_tfr * factor(low_income), \n",
    "                                design, \n",
    "                                family = negative.binomial(1),\n",
    "                                subset = (pregnancy.status == 1))\n",
    "# Print the model summary\n",
    "summary(model_id_tfr_p1)"
   ]
  },
  {
   "cell_type": "code",
   "execution_count": null,
   "id": "7e47d14f",
   "metadata": {
    "hidden": true
   },
   "outputs": [],
   "source": [
    "# Fit the negative binomial regression model \n",
    "model_id_tfr_p2 <- svyglm(dpq_score ~ ID_tfr * factor(low_income)+ race.ethnicity + age + hscrp, \n",
    "                                design, \n",
    "                                family = negative.binomial(1),\n",
    "                                subset = (pregnancy.status == 1))\n",
    "# Print the model summary\n",
    "summary(model_id_tfr_p2)"
   ]
  },
  {
   "cell_type": "code",
   "execution_count": null,
   "id": "67bdcedd",
   "metadata": {
    "hidden": true
   },
   "outputs": [],
   "source": [
    "# Fit the negative binomial regression model \n",
    "model_id_tfr_pp1 <- svyglm(dpq_score ~ ID_tfr * factor(low_income), \n",
    "                                design, \n",
    "                                family = negative.binomial(1),\n",
    "                                subset = (pregnancy.status == 2))\n",
    "# Print the model summary\n",
    "summary(model_id_tfr_pp1)"
   ]
  },
  {
   "cell_type": "code",
   "execution_count": null,
   "id": "330b1eb8",
   "metadata": {
    "hidden": true
   },
   "outputs": [],
   "source": [
    "# Get the coefficients\n",
    "coefficients <- coef(model_id_tfr_pp1)\n",
    "\n",
    "# Calculate the incidence rate ratios (IRRs)\n",
    "irrs <- exp(coefficients)\n",
    "\n",
    "irrs"
   ]
  },
  {
   "cell_type": "code",
   "execution_count": null,
   "id": "6d635cb4",
   "metadata": {
    "hidden": true
   },
   "outputs": [],
   "source": [
    "# Fit the negative binomial regression model \n",
    "model_id_tfr_pp2 <- svyglm(dpq_score ~ ID_tfr * factor(low_income)+ race.ethnicity + age + hscrp, \n",
    "                                design, \n",
    "                                family = negative.binomial(1),\n",
    "                                subset = (pregnancy.status == 2))\n",
    "# Print the model summary\n",
    "summary(model_id_tfr_pp2)"
   ]
  },
  {
   "cell_type": "code",
   "execution_count": null,
   "id": "79f823f5",
   "metadata": {
    "hidden": true
   },
   "outputs": [],
   "source": [
    "# Get the coefficients\n",
    "coefficients <- coef(model_id_tfr_pp2)\n",
    "\n",
    "# Calculate the incidence rate ratios (IRRs)\n",
    "irrs <- exp(coefficients)\n",
    "\n",
    "irrs"
   ]
  },
  {
   "cell_type": "markdown",
   "id": "6c9b23e1",
   "metadata": {
    "hidden": true
   },
   "source": [
    "#### Stratified"
   ]
  },
  {
   "cell_type": "code",
   "execution_count": null,
   "id": "fd38ada8",
   "metadata": {
    "hidden": true
   },
   "outputs": [],
   "source": [
    "# Fit the model for low_income = 0\n",
    "model_tfr_low_income_0 <- svyglm(dpq_score ~ ID_tfr,\n",
    "                                  design,\n",
    "                                  family = negative.binomial(1),\n",
    "                                  subset = pregnancy.status == 2 & low_income == 0)\n",
    "\n",
    "# Fit the model for low_income = 1\n",
    "model_tfr_low_income_1 <- svyglm(dpq_score ~ ID_tfr,\n",
    "                                  design,\n",
    "                                  family = negative.binomial(1),\n",
    "                                  subset = pregnancy.status == 2 & low_income == 1)\n",
    "\n",
    "# Print the model summaries\n",
    "cat(\"Model for low_income = 0:\\n\")\n",
    "summary(model_tfr_low_income_0)\n",
    "\n",
    "cat(\"\\nModel for low_income = 1:\\n\")\n",
    "summary(model_tfr_low_income_1)"
   ]
  },
  {
   "cell_type": "code",
   "execution_count": null,
   "id": "2baf9727",
   "metadata": {
    "hidden": true
   },
   "outputs": [],
   "source": [
    "# Fit the model for low_income = 0\n",
    "model_tfr_low_income_0 <- svyglm(dpq_score ~ ID_tfr + race.ethnicity + age + hscrp,\n",
    "                                  design,\n",
    "                                  family = negative.binomial(1),,\n",
    "                                  subset = (pregnancy.status == 2 & low_income == 0))\n",
    "\n",
    "# Fit the model for low_income = 1\n",
    "model_tfr_low_income_1 <- svyglm(dpq_score ~ ID_tfr + race.ethnicity + age + hscrp,\n",
    "                                  design,\n",
    "                                  family = negative.binomial(1),,\n",
    "                                  subset = (pregnancy.status == 2 & low_income == 1))\n",
    "\n",
    "# Print the model summaries\n",
    "cat(\"Model for low_income = 0:\\n\")\n",
    "summary(model_tfr_low_income_0)\n",
    "\n",
    "cat(\"\\nModel for low_income = 1:\\n\")\n",
    "summary(model_tfr_low_income_1)"
   ]
  },
  {
   "cell_type": "code",
   "execution_count": null,
   "id": "5a2c008a",
   "metadata": {
    "hidden": true
   },
   "outputs": [],
   "source": [
    "# Get the coefficients\n",
    "coefficients <- coef(model_tfr_low_income_0)\n",
    "\n",
    "# Calculate the incidence rate ratios (IRRs)\n",
    "irrs <- exp(coefficients)\n",
    "\n",
    "irrs"
   ]
  },
  {
   "cell_type": "code",
   "execution_count": null,
   "id": "831571ac",
   "metadata": {
    "hidden": true
   },
   "outputs": [],
   "source": [
    "# Get the coefficients\n",
    "coefficients <- coef(model_tfr_low_income_1)\n",
    "\n",
    "# Calculate the incidence rate ratios (IRRs)\n",
    "irrs <- exp(coefficients)\n",
    "\n",
    "irrs"
   ]
  },
  {
   "cell_type": "markdown",
   "id": "c13409c0",
   "metadata": {
    "heading_collapsed": true
   },
   "source": [
    "### Predictor: tfr, Outcome: dpq_score\n"
   ]
  },
  {
   "cell_type": "code",
   "execution_count": null,
   "id": "9ef5af8c",
   "metadata": {
    "hidden": true
   },
   "outputs": [],
   "source": [
    "# Fit the negative binomial regression model \n",
    "model_tfr_adjusted_np <- svyglm(dpq_score ~ tfr * factor(low_income), \n",
    "                                design, \n",
    "                                family = negative.binomial(1),\n",
    "                                subset = (pregnancy.status == 0))\n",
    "# Print the model summary\n",
    "summary(model_tfr_adjusted_np)"
   ]
  },
  {
   "cell_type": "code",
   "execution_count": null,
   "id": "7ae25e36",
   "metadata": {
    "hidden": true
   },
   "outputs": [],
   "source": [
    "# Get the coefficients\n",
    "coefficients <- coef(model_tfr_adjusted_np)\n",
    "\n",
    "# Calculate the incidence rate ratios (IRRs)\n",
    "irrs <- exp(coefficients)\n",
    "\n",
    "irrs"
   ]
  },
  {
   "cell_type": "code",
   "execution_count": null,
   "id": "6c0347c3",
   "metadata": {
    "hidden": true
   },
   "outputs": [],
   "source": [
    "# Fit the negative binomial regression model \n",
    "model_tfr_adjusted_np2 <- svyglm(dpq_score ~ tfr * factor(low_income)+ race.ethnicity + age + hscrp, \n",
    "                                design, \n",
    "                                family = negative.binomial(1),\n",
    "                                subset = (pregnancy.status == 0))\n",
    "# Print the model summary\n",
    "summary(model_tfr_adjusted_np2)"
   ]
  },
  {
   "cell_type": "code",
   "execution_count": null,
   "id": "9e74c6b3",
   "metadata": {
    "hidden": true
   },
   "outputs": [],
   "source": [
    "# Get the coefficients\n",
    "coefficients <- coef(model_tfr_adjusted_np2)\n",
    "\n",
    "# Calculate the incidence rate ratios (IRRs)\n",
    "irrs <- exp(coefficients)\n",
    "\n",
    "irrs"
   ]
  },
  {
   "cell_type": "code",
   "execution_count": null,
   "id": "f57c14c8",
   "metadata": {
    "hidden": true
   },
   "outputs": [],
   "source": [
    "# Fit the negative binomial regression model \n",
    "model_tfr_adjusted_p <- svyglm(dpq_score ~ tfr * factor(low_income), \n",
    "                                design, \n",
    "                                family = negative.binomial(1),\n",
    "                                subset = (pregnancy.status == 1))\n",
    "# Print the model summary\n",
    "summary(model_tfr_adjusted_p)"
   ]
  },
  {
   "cell_type": "code",
   "execution_count": null,
   "id": "9f77d0f9",
   "metadata": {
    "hidden": true
   },
   "outputs": [],
   "source": [
    "# Fit the negative binomial regression model \n",
    "model_tfr_adjusted_p2 <- svyglm(dpq_score ~ tfr * factor(low_income)+ race.ethnicity + age + hscrp,  \n",
    "                                design, \n",
    "                                family = negative.binomial(1),\n",
    "                                subset = (pregnancy.status == 1))\n",
    "# Print the model summary\n",
    "summary(model_tfr_adjusted_p2)"
   ]
  },
  {
   "cell_type": "code",
   "execution_count": null,
   "id": "873f62b7",
   "metadata": {
    "hidden": true,
    "scrolled": true
   },
   "outputs": [],
   "source": [
    "# Fit the negative binomial regression model \n",
    "model_tfr_adjusted_pp <- svyglm(dpq_score ~ tfr * factor(low_income), \n",
    "                                design, \n",
    "                                family = negative.binomial(1),\n",
    "                                subset = (pregnancy.status == 2))\n",
    "# Print the model summary\n",
    "summary(model_tfr_adjusted_pp)"
   ]
  },
  {
   "cell_type": "code",
   "execution_count": null,
   "id": "c23ccfc0",
   "metadata": {
    "hidden": true
   },
   "outputs": [],
   "source": [
    "# Get the coefficients\n",
    "coefficients <- coef(model_tfr_adjusted_pp)\n",
    "\n",
    "# Calculate the incidence rate ratios (IRRs)\n",
    "irrs <- exp(coefficients)\n",
    "\n",
    "irrs"
   ]
  },
  {
   "cell_type": "code",
   "execution_count": null,
   "id": "56c82b1c",
   "metadata": {
    "hidden": true
   },
   "outputs": [],
   "source": [
    "# Fit the negative binomial regression model \n",
    "model_tfr_adjusted_pp2 <- svyglm(dpq_score ~ tfr * factor(low_income)+ race.ethnicity + age + hscrp, \n",
    "                                design, \n",
    "                                family = negative.binomial(1),\n",
    "                                subset = (pregnancy.status == 2))\n",
    "# Print the model summary\n",
    "summary(model_tfr_adjusted_pp2)"
   ]
  },
  {
   "cell_type": "code",
   "execution_count": null,
   "id": "debf0cdc",
   "metadata": {
    "hidden": true
   },
   "outputs": [],
   "source": [
    "# Get the coefficients\n",
    "coefficients <- coef(model_tfr_adjusted_pp2)\n",
    "\n",
    "# Calculate the incidence rate ratios (IRRs)\n",
    "irrs <- exp(coefficients)\n",
    "\n",
    "irrs"
   ]
  },
  {
   "cell_type": "markdown",
   "id": "f8437381",
   "metadata": {
    "hidden": true
   },
   "source": [
    "#### Stratified"
   ]
  },
  {
   "cell_type": "code",
   "execution_count": null,
   "id": "7a0d8c66",
   "metadata": {
    "hidden": true
   },
   "outputs": [],
   "source": [
    "# Fit the model for low_income = 0\n",
    "model_tfr_low_income_0 <- svyglm(dpq_score ~ tfr + race.ethnicity + age + hscrp,\n",
    "                                  design,\n",
    "                                  family = negative.binomial(1),,\n",
    "                                  subset = (pregnancy.status == 2 & low_income == 0))\n",
    "\n",
    "# Fit the model for low_income = 1\n",
    "model_tfr_low_income_1 <- svyglm(dpq_score ~ tfr + race.ethnicity + age + hscrp,\n",
    "                                  design,\n",
    "                                  family = negative.binomial(1),,\n",
    "                                  subset = (pregnancy.status == 2 & low_income == 1))\n"
   ]
  },
  {
   "cell_type": "code",
   "execution_count": null,
   "id": "b7a0cbdc",
   "metadata": {
    "hidden": true
   },
   "outputs": [],
   "source": [
    "# Print the model summaries\n",
    "cat(\"Model for low_income = 0:\\n\")\n",
    "summary(model_tfr_low_income_0)\n",
    "\n",
    "cat(\"\\nModel for low_income = 1:\\n\")\n",
    "summary(model_tfr_low_income_1)"
   ]
  },
  {
   "cell_type": "code",
   "execution_count": null,
   "id": "87cc3b5e",
   "metadata": {
    "hidden": true
   },
   "outputs": [],
   "source": [
    "# Get the coefficients\n",
    "coefficients <- coef(model_tfr_low_income_0)\n",
    "\n",
    "# Calculate the incidence rate ratios (IRRs)\n",
    "irrs <- exp(coefficients)\n",
    "\n",
    "irrs"
   ]
  },
  {
   "cell_type": "code",
   "execution_count": null,
   "id": "02e39c1f",
   "metadata": {
    "hidden": true
   },
   "outputs": [],
   "source": [
    "# Get the coefficients\n",
    "coefficients <- coef(model_tfr_low_income_1)\n",
    "\n",
    "# Calculate the incidence rate ratios (IRRs)\n",
    "irrs <- exp(coefficients)\n",
    "\n",
    "irrs"
   ]
  },
  {
   "cell_type": "markdown",
   "id": "9e7b028d",
   "metadata": {
    "heading_collapsed": true
   },
   "source": [
    "### Table"
   ]
  },
  {
   "cell_type": "code",
   "execution_count": null,
   "id": "13f5fad5",
   "metadata": {
    "hidden": true
   },
   "outputs": [],
   "source": [
    "# Fit the models\n",
    "## Not pregnant group\n",
    "model_non_low_income_np <- svyglm(dpq_score ~ tfr,\n",
    "                                  design,\n",
    "                                  family = negative.binomial(1),,\n",
    "                                  subset = (pregnancy.status == 0 & low_income == 0))\n",
    "\n",
    "model_low_income_np <- svyglm(dpq_score ~ tfr,\n",
    "                                  design,\n",
    "                                  family = negative.binomial(1),,\n",
    "                                  subset = (pregnancy.status == 0 & low_income == 1))\n",
    "\n",
    "\n",
    "model_non_low_income_adj_np <- svyglm(dpq_score ~ tfr + race.ethnicity + age + hscrp,\n",
    "                                  design,\n",
    "                                  family = negative.binomial(1),,\n",
    "                                  subset = (pregnancy.status == 0 & low_income == 0))\n",
    "\n",
    "model_low_income_adj_np <- svyglm(dpq_score ~ tfr + race.ethnicity + age + hscrp,\n",
    "                                  design,\n",
    "                                  family = negative.binomial(1),,\n",
    "                                  subset = (pregnancy.status == 0 & low_income == 1))\n",
    "\n",
    "\n",
    "\n",
    "## Pregnant group\n",
    "model_non_low_income_p <- svyglm(dpq_score ~ tfr,\n",
    "                                  design,\n",
    "                                  family = negative.binomial(1),,\n",
    "                                  subset = (pregnancy.status == 1 & low_income == 0))\n",
    "\n",
    "model_low_income_p <- svyglm(dpq_score ~ tfr,\n",
    "                                  design,\n",
    "                                  family = negative.binomial(1),,\n",
    "                                  subset = (pregnancy.status == 1 & low_income == 1))\n",
    "\n",
    "\n",
    "model_non_low_income_adj_p <- svyglm(dpq_score ~ tfr + race.ethnicity + age + hscrp,\n",
    "                                  design,\n",
    "                                  family = negative.binomial(1),,\n",
    "                                  subset = (pregnancy.status == 1 & low_income == 0))\n",
    "\n",
    "model_low_income_adj_p <- svyglm(dpq_score ~ tfr + race.ethnicity + age + hscrp,\n",
    "                                  design,\n",
    "                                  family = negative.binomial(1),,\n",
    "                                  subset = (pregnancy.status == 1 & low_income == 1))\n",
    "\n",
    "\n",
    "## Postpartum group\n",
    "\n",
    "model_non_low_income_pp <- svyglm(dpq_score ~ tfr,\n",
    "                                  design,\n",
    "                                  family = negative.binomial(1),,\n",
    "                                  subset = (pregnancy.status == 2 & low_income == 0))\n",
    "\n",
    "model_low_income_pp <- svyglm(dpq_score ~ tfr,\n",
    "                                  design,\n",
    "                                  family = negative.binomial(1),,\n",
    "                                  subset = (pregnancy.status == 2 & low_income == 1))\n",
    "\n",
    "\n",
    "model_non_low_income_adj_pp <- svyglm(dpq_score ~ tfr + race.ethnicity + age + hscrp,\n",
    "                                  design,\n",
    "                                  family = negative.binomial(1),,\n",
    "                                  subset = (pregnancy.status == 2 & low_income == 0))\n",
    "\n",
    "model_low_income_adj_pp <- svyglm(dpq_score ~ tfr + race.ethnicity + age + hscrp,\n",
    "                                  design,\n",
    "                                  family = negative.binomial(1),,\n",
    "                                  subset = (pregnancy.status == 2 & low_income == 1))\n",
    "\n"
   ]
  },
  {
   "cell_type": "code",
   "execution_count": null,
   "id": "a5d583fb",
   "metadata": {
    "hidden": true
   },
   "outputs": [],
   "source": [
    "# Function to extract model results\n",
    "extract_model_results <- function(model_summary) {\n",
    "  result_table <- as.data.frame(model_summary$coefficients)\n",
    "  colnames(result_table) <- c(\"Estimate\", \"Std. Error\", \"z value\", \"P-value\")\n",
    "  result_table$IRR <- exp(result_table$Estimate)\n",
    "  result_table$`95% CI Lower` <- exp(result_table$Estimate - 1.96 * result_table$`Std. Error`)\n",
    "  result_table$`95% CI Upper` <- exp(result_table$Estimate + 1.96 * result_table$`Std. Error`)\n",
    "  result_table <- result_table[, c(\"IRR\", \"95% CI Lower\", \"95% CI Upper\", \"P-value\")]\n",
    "  row.names(result_table) <- make.names(row.names(result_table), unique = TRUE)\n",
    "  return(result_table)\n",
    "}\n",
    "\n",
    "# Print results for all models\n",
    "cat(\"Not pregnant, not low-income group:\\n\")\n",
    "knitr::kable(extract_model_results(summary(model_non_low_income_np)), digits = 3)\n",
    "\n",
    "cat(\"\\nNot pregnant, low-income group:\\n\")\n",
    "knitr::kable(extract_model_results(summary(model_low_income_np)), digits = 3)\n",
    "\n",
    "cat(\"\\nNot pregnant, not low-income group (adjusted):\\n\")\n",
    "knitr::kable(extract_model_results(summary(model_non_low_income_adj_np)), digits = 3)\n",
    "\n",
    "cat(\"\\nNot pregnant, low-income group (adjusted):\\n\")\n",
    "knitr::kable(extract_model_results(summary(model_low_income_adj_np)), digits = 3)\n",
    "\n",
    "cat(\"\\nPregnant, not low-income group:\\n\")\n",
    "knitr::kable(extract_model_results(summary(model_non_low_income_p)), digits = 3)\n",
    "\n",
    "cat(\"\\nPregnant, low-income group:\\n\")\n",
    "knitr::kable(extract_model_results(summary(model_low_income_p)), digits = 3)\n",
    "\n",
    "cat(\"\\nPregnant, not low-income group (adjusted):\\n\")\n",
    "knitr::kable(extract_model_results(summary(model_non_low_income_adj_p)), digits = 3)\n",
    "\n",
    "cat(\"\\nPregnant, low-income group (adjusted):\\n\")\n",
    "knitr::kable(extract_model_results(summary(model_low_income_adj_p)), digits = 3)\n",
    "\n",
    "cat(\"\\nPostpartum, all:\\n\")\n",
    "knitr::kable(extract_model_results(summary(model_pp)), digits = 3)\n",
    "\n",
    "cat(\"\\nPostpartum, not low-income group:\\n\")\n",
    "knitr::kable(extract_model_results(summary(model_non_low_income_pp)), digits = 3)\n",
    "\n",
    "cat(\"\\nPostpartum, low-income group:\\n\")\n",
    "knitr::kable(extract_model_results(summary(model_low_income_pp)), digits = 3)\n",
    "\n",
    "cat(\"\\nPostpartum, not low-income group (adjusted):\\n\")\n",
    "knitr::kable(extract_model_results(summary(model_non_low_income_adj_pp)), digits = 3)\n",
    "\n",
    "cat(\"\\nPostpartum, low-income group (adjusted):\\n\")\n",
    "knitr::kable(extract_model_results(summary(model_low_income_adj_pp)), digits = 3)"
   ]
  },
  {
   "cell_type": "code",
   "execution_count": null,
   "id": "0bb5777e",
   "metadata": {
    "hidden": true
   },
   "outputs": [],
   "source": []
  },
  {
   "cell_type": "markdown",
   "id": "9fba30a5",
   "metadata": {},
   "source": [
    "### Ferritin"
   ]
  },
  {
   "cell_type": "markdown",
   "id": "2c5e0e9b",
   "metadata": {
    "heading_collapsed": true
   },
   "source": [
    "#### N for iron deficiency based on ferritin levels"
   ]
  },
  {
   "cell_type": "markdown",
   "id": "0d220aa9",
   "metadata": {
    "heading_collapsed": true,
    "hidden": true
   },
   "source": [
    "##### Not Pregnant"
   ]
  },
  {
   "cell_type": "code",
   "execution_count": null,
   "id": "0daa3034",
   "metadata": {
    "hidden": true
   },
   "outputs": [],
   "source": [
    "# Overlap count \n",
    "count_overlap <- nrow(subset(nhanes, pregnancy.status == 0 & low_income == 0 & ID_ferr == 0))\n",
    "\n",
    "# Print the count\n",
    "print(count_overlap)"
   ]
  },
  {
   "cell_type": "code",
   "execution_count": null,
   "id": "c5411a54",
   "metadata": {
    "hidden": true
   },
   "outputs": [],
   "source": [
    "# Overlap count \n",
    "count_overlap <- nrow(subset(nhanes, pregnancy.status == 0 & low_income == 0 & ID_tfr == 1))\n",
    "\n",
    "# Print the count\n",
    "print(count_overlap)"
   ]
  },
  {
   "cell_type": "code",
   "execution_count": null,
   "id": "53295150",
   "metadata": {
    "hidden": true
   },
   "outputs": [],
   "source": [
    "# Overlap count \n",
    "count_overlap <- nrow(subset(nhanes, pregnancy.status == 0 & low_income == 1 & ID_tfr == 0))\n",
    "\n",
    "# Print the count\n",
    "print(count_overlap)"
   ]
  },
  {
   "cell_type": "code",
   "execution_count": null,
   "id": "b2b187c7",
   "metadata": {
    "hidden": true
   },
   "outputs": [],
   "source": [
    "# Overlap count \n",
    "count_overlap <- nrow(subset(nhanes, pregnancy.status == 0 & low_income == 1 & ID_tfr == 1))\n",
    "\n",
    "# Print the count\n",
    "print(count_overlap)"
   ]
  },
  {
   "cell_type": "markdown",
   "id": "558d769e",
   "metadata": {
    "heading_collapsed": true,
    "hidden": true
   },
   "source": [
    "##### Pregnant"
   ]
  },
  {
   "cell_type": "code",
   "execution_count": null,
   "id": "139fc74b",
   "metadata": {
    "hidden": true
   },
   "outputs": [],
   "source": [
    "# Overlap count \n",
    "count_overlap <- nrow(subset(nhanes, pregnancy.status == 1 & low_income == 0 & ID_ferr == 0))\n",
    "\n",
    "# Print the count\n",
    "print(count_overlap)"
   ]
  },
  {
   "cell_type": "code",
   "execution_count": null,
   "id": "51c3e4b7",
   "metadata": {
    "hidden": true
   },
   "outputs": [],
   "source": [
    "# Overlap count \n",
    "count_overlap <- nrow(subset(nhanes, pregnancy.status == 1 & low_income == 1 & ID_ferr == 0))\n",
    "\n",
    "# Print the count\n",
    "print(count_overlap)"
   ]
  },
  {
   "cell_type": "code",
   "execution_count": null,
   "id": "0c9c52ed",
   "metadata": {
    "hidden": true
   },
   "outputs": [],
   "source": [
    "# Overlap count \n",
    "count_overlap <- nrow(subset(nhanes, pregnancy.status == 1 & low_income == 0 & ID_ferr == 1))\n",
    "\n",
    "# Print the count\n",
    "print(count_overlap)"
   ]
  },
  {
   "cell_type": "code",
   "execution_count": null,
   "id": "dd662e7b",
   "metadata": {
    "hidden": true
   },
   "outputs": [],
   "source": [
    "# Overlap count \n",
    "count_overlap <- nrow(subset(nhanes, pregnancy.status == 1 & low_income == 1 & ID_ferr == 1))\n",
    "\n",
    "# Print the count\n",
    "print(count_overlap)"
   ]
  },
  {
   "cell_type": "markdown",
   "id": "3364e743",
   "metadata": {
    "heading_collapsed": true,
    "hidden": true
   },
   "source": [
    "##### Postpartum"
   ]
  },
  {
   "cell_type": "code",
   "execution_count": null,
   "id": "f9e0bd6a",
   "metadata": {
    "hidden": true
   },
   "outputs": [],
   "source": [
    "# Overlap count \n",
    "count_overlap <- nrow(subset(nhanes, pregnancy.status == 2 & low_income == 0 & ID_ferr == 0))\n",
    "\n",
    "# Print the count\n",
    "print(count_overlap)"
   ]
  },
  {
   "cell_type": "code",
   "execution_count": null,
   "id": "4bf7d6a0",
   "metadata": {
    "hidden": true
   },
   "outputs": [],
   "source": [
    "# Overlap count \n",
    "count_overlap <- nrow(subset(nhanes, pregnancy.status == 2 & low_income == 1 & ID_ferr == 0))\n",
    "\n",
    "# Print the count\n",
    "print(count_overlap)"
   ]
  },
  {
   "cell_type": "code",
   "execution_count": null,
   "id": "a25afe79",
   "metadata": {
    "hidden": true
   },
   "outputs": [],
   "source": [
    "# Overlap count \n",
    "count_overlap <- nrow(subset(nhanes, pregnancy.status == 2 & low_income == 0 & ID_ferr == 1))\n",
    "\n",
    "# Print the count\n",
    "print(count_overlap)"
   ]
  },
  {
   "cell_type": "code",
   "execution_count": null,
   "id": "0d7397d2",
   "metadata": {
    "hidden": true
   },
   "outputs": [],
   "source": [
    "# Overlap count \n",
    "count_overlap <- nrow(subset(nhanes, pregnancy.status == 2 & low_income == 1 & ID_ferr == 1))\n",
    "\n",
    "# Print the count\n",
    "print(count_overlap)"
   ]
  },
  {
   "cell_type": "markdown",
   "id": "7b7207b7",
   "metadata": {
    "heading_collapsed": true
   },
   "source": [
    "### Predictor: ID_ferr, Outcome: dpq_score"
   ]
  },
  {
   "cell_type": "code",
   "execution_count": null,
   "id": "ee3bf5d8",
   "metadata": {
    "hidden": true
   },
   "outputs": [],
   "source": [
    "# Fit the negative binomial regression model \n",
    "model_id_ferr <- svyglm(dpq_score ~ ID_ferr, \n",
    "                                design, \n",
    "                                family = negative.binomial(1))\n",
    "\n",
    "# Print the model summary\n",
    "summary(model_id_ferr)"
   ]
  },
  {
   "cell_type": "code",
   "execution_count": null,
   "id": "dd175dd5",
   "metadata": {
    "hidden": true
   },
   "outputs": [],
   "source": [
    "# Fit the negative binomial regression model \n",
    "model_id_ferr_interaction <- svyglm(depression ~ ID_ferr * factor(low_income), \n",
    "                                design, \n",
    "                                family = negative.binomial(1))\n",
    "\n",
    "# Print the model summary\n",
    "summary(model_id_ferr_interaction)"
   ]
  },
  {
   "cell_type": "code",
   "execution_count": null,
   "id": "0982117f",
   "metadata": {
    "hidden": true
   },
   "outputs": [],
   "source": [
    "# Fit the negative binomial regression model \n",
    "model_id_ferr_adjusted_np <- svyglm(dpq_score ~ ID_ferr, \n",
    "                                design, \n",
    "                                family = negative.binomial(1),\n",
    "                                subset = (pregnancy.status == 0))\n",
    "# Print the model summary\n",
    "summary(model_id_ferr_adjusted_np)"
   ]
  },
  {
   "cell_type": "code",
   "execution_count": null,
   "id": "eb549810",
   "metadata": {
    "hidden": true
   },
   "outputs": [],
   "source": [
    "# Fit the negative binomial regression model \n",
    "model_id_ferr_adjusted_np <- svyglm(dpq_score ~ ID_ferr  * factor(low_income), \n",
    "                                design, \n",
    "                                family = negative.binomial(1),\n",
    "                                subset = (pregnancy.status == 0))\n",
    "# Print the model summary\n",
    "summary(model_id_ferr_adjusted_np)"
   ]
  },
  {
   "cell_type": "code",
   "execution_count": null,
   "id": "06eeceb5",
   "metadata": {
    "hidden": true
   },
   "outputs": [],
   "source": [
    "# Get the coefficients\n",
    "coefficients <- coef(model_id_ferr_adjusted_np )\n",
    "\n",
    "# Calculate the incidence rate ratios (IRRs)\n",
    "irrs <- exp(coefficients)\n",
    "\n",
    "irrs"
   ]
  },
  {
   "cell_type": "code",
   "execution_count": null,
   "id": "f224937a",
   "metadata": {
    "hidden": true
   },
   "outputs": [],
   "source": [
    "# Fit the negative binomial regression model \n",
    "model_id_ferr_adjusted_np2 <- svyglm(dpq_score ~ ID_ferr + low_income + race.ethnicity + age + hscrp, \n",
    "                                design, \n",
    "                                family = negative.binomial(1),\n",
    "                                subset = (pregnancy.status == 0))\n",
    "# Print the model summary\n",
    "summary(model_id_ferr_adjusted_np2)"
   ]
  },
  {
   "cell_type": "code",
   "execution_count": null,
   "id": "a0a41a00",
   "metadata": {
    "hidden": true
   },
   "outputs": [],
   "source": [
    "# Get the coefficients\n",
    "coefficients <- coef(model_id_ferr_adjusted_np2)\n",
    "\n",
    "# Calculate the incidence rate ratios (IRRs)\n",
    "irrs <- exp(coefficients)\n",
    "\n",
    "irrs"
   ]
  },
  {
   "cell_type": "code",
   "execution_count": null,
   "id": "78ce9a80",
   "metadata": {
    "hidden": true
   },
   "outputs": [],
   "source": [
    "# Fit the negative binomial regression model combining pregnancy_status 1 and 2\n",
    "model_id_ferr_both <- svyglm(dpq_score ~ ID_ferr, \n",
    "                                   design, \n",
    "                                   family = negative.binomial(1),\n",
    "                                   subset = (pregnancy.status %in% c(1, 2)))\n",
    "\n",
    "# Print the model summary\n",
    "summary(model_id_ferr_both)"
   ]
  },
  {
   "cell_type": "code",
   "execution_count": null,
   "id": "4ac6e5a6",
   "metadata": {
    "hidden": true
   },
   "outputs": [],
   "source": [
    "# Fit the negative binomial regression model combining pregnancy_status 1 and 2\n",
    "model_id_ferr_both <- svyglm(dpq_score ~ ID_ferr, \n",
    "                                   design, \n",
    "                                   family = negative.binomial(1),\n",
    "                                   subset = (pregnancy.status %in% c(1, 2)))\n",
    "\n",
    "# Print the model summary\n",
    "summary(model_id_ferr_both)"
   ]
  },
  {
   "cell_type": "code",
   "execution_count": null,
   "id": "77040a65",
   "metadata": {
    "hidden": true
   },
   "outputs": [],
   "source": [
    "# Fit the negative binomial regression model \n",
    "model_id_ferr_adjusted_p <- svyglm(dpq_score ~ ID_ferr, \n",
    "                                design, \n",
    "                                family = negative.binomial(1),\n",
    "                                subset = (pregnancy.status == 1))\n",
    "# Print the model summary\n",
    "summary(model_id_ferr_adjusted_p)"
   ]
  },
  {
   "cell_type": "code",
   "execution_count": null,
   "id": "b0852331",
   "metadata": {
    "hidden": true
   },
   "outputs": [],
   "source": [
    "# Fit the negative binomial regression model \n",
    "model_id_ferr_adjusted_p <- svyglm(dpq_score ~ ID_ferr, \n",
    "                                design, \n",
    "                                family = negative.binomial(1),\n",
    "                                subset = (pregnancy.status == 1 & low_income==0))\n",
    "# Print the model summary\n",
    "summary(model_id_ferr_adjusted_p)"
   ]
  },
  {
   "cell_type": "code",
   "execution_count": null,
   "id": "4f4c8f9f",
   "metadata": {
    "hidden": true
   },
   "outputs": [],
   "source": [
    "# Fit the negative binomial regression model \n",
    "model_id_ferr_adjusted_p2 <- svyglm(dpq_score ~ ID_ferr + low_income + race.ethnicity + age + hscrp,\n",
    "                                design, \n",
    "                                family = negative.binomial(1),\n",
    "                                subset = (pregnancy.status == 1))\n",
    "# Print the model summary\n",
    "summary(model_id_ferr_adjusted_p2)"
   ]
  },
  {
   "cell_type": "code",
   "execution_count": null,
   "id": "bff44f83",
   "metadata": {
    "hidden": true
   },
   "outputs": [],
   "source": [
    "# Fit the negative binomial regression model \n",
    "model_id_ferr_adjusted_pp <- svyglm(dpq_score ~ ID_ferr, \n",
    "                                design, \n",
    "                                family = negative.binomial(1),\n",
    "                                subset = (pregnancy.status == 2))\n",
    "# Print the model summary\n",
    "summary(model_id_ferr_adjusted_pp)"
   ]
  },
  {
   "cell_type": "code",
   "execution_count": null,
   "id": "bcb4a00c",
   "metadata": {
    "hidden": true
   },
   "outputs": [],
   "source": [
    "# Fit the negative binomial regression model \n",
    "model_id_ferr_adjusted_pp <- svyglm(dpq_score ~ ID_ferr * factor(low_income), \n",
    "                                design, \n",
    "                                family = negative.binomial(1),\n",
    "                                subset = (pregnancy.status == 2))\n",
    "# Print the model summary\n",
    "summary(model_id_ferr_adjusted_pp)"
   ]
  },
  {
   "cell_type": "code",
   "execution_count": null,
   "id": "a418d320",
   "metadata": {
    "hidden": true
   },
   "outputs": [],
   "source": [
    "# Fit the negative binomial regression model \n",
    "model_id_ferr_adjusted_pp2 <- svyglm(dpq_score ~ ID_ferr * factor(low_income) + race.ethnicity + age + hscrp,\n",
    "                                design, \n",
    "                                family = negative.binomial(1),\n",
    "                                subset = (pregnancy.status == 2))\n",
    "# Print the model summary\n",
    "summary(model_id_ferr_adjusted_pp2)"
   ]
  },
  {
   "cell_type": "code",
   "execution_count": null,
   "id": "483696a8",
   "metadata": {
    "hidden": true
   },
   "outputs": [],
   "source": [
    "# Get the coefficients\n",
    "coefficients <- coef(model_id_ferr_adjusted_pp2)\n",
    "\n",
    "# Calculate the incidence rate ratios (IRRs)\n",
    "irrs <- exp(coefficients)\n",
    "\n",
    "irrs"
   ]
  },
  {
   "cell_type": "markdown",
   "id": "8f1a24b4",
   "metadata": {
    "hidden": true
   },
   "source": [
    "##### Stratified "
   ]
  },
  {
   "cell_type": "code",
   "execution_count": null,
   "id": "a8ae950d",
   "metadata": {
    "hidden": true
   },
   "outputs": [],
   "source": [
    "# Fit the model for low_income = 0\n",
    "model_tfr_low_income_0 <- svyglm(dpq_score ~ ID_ferr + race.ethnicity + age + hscrp,\n",
    "                                  design,\n",
    "                                  family = negative.binomial(1),\n",
    "                                  subset = (pregnancy.status == 0 & low_income == 0))\n",
    "\n",
    "# Fit the model for low_income = 1\n",
    "model_tfr_low_income_1 <- svyglm(dpq_score ~ ID_ferr + race.ethnicity + age + hscrp,\n",
    "                                  design,\n",
    "                                  family = negative.binomial(1),,\n",
    "                                  subset = (pregnancy.status == 0 & low_income == 1))\n"
   ]
  },
  {
   "cell_type": "code",
   "execution_count": null,
   "id": "e75ee6a1",
   "metadata": {
    "hidden": true
   },
   "outputs": [],
   "source": [
    "# Print the model summaries\n",
    "cat(\"Model for low_income = 0:\\n\")\n",
    "summary(model_tfr_low_income_0)\n",
    "\n",
    "cat(\"\\nModel for low_income = 1:\\n\")\n",
    "summary(model_tfr_low_income_1)"
   ]
  },
  {
   "cell_type": "code",
   "execution_count": null,
   "id": "4b75ba0a",
   "metadata": {
    "hidden": true
   },
   "outputs": [],
   "source": [
    "# Get the coefficients\n",
    "coefficients <- coef(model_tfr_low_income_0)\n",
    "\n",
    "# Calculate the incidence rate ratios (IRRs)\n",
    "irrs <- exp(coefficients)\n",
    "\n",
    "irrs"
   ]
  },
  {
   "cell_type": "code",
   "execution_count": null,
   "id": "8f9a5129",
   "metadata": {
    "hidden": true
   },
   "outputs": [],
   "source": [
    "# Get the coefficients\n",
    "coefficients <- coef(model_tfr_low_income_1)\n",
    "\n",
    "# Calculate the incidence rate ratios (IRRs)\n",
    "irrs <- exp(coefficients)\n",
    "\n",
    "irrs"
   ]
  },
  {
   "cell_type": "markdown",
   "id": "709ee671",
   "metadata": {
    "heading_collapsed": true
   },
   "source": [
    "### Predictor: ferritin, Outcome: dpq_score"
   ]
  },
  {
   "cell_type": "code",
   "execution_count": null,
   "id": "b11cb2f9",
   "metadata": {
    "hidden": true
   },
   "outputs": [],
   "source": [
    "# Fit the negative binomial regression model \n",
    "model_ferr_adjusted_np <- svyglm(dpq_score ~ ferritin * factor(low_income), \n",
    "                                design, \n",
    "                                family = negative.binomial(1),\n",
    "                                subset = (pregnancy.status == 0))\n",
    "# Print the model summary\n",
    "summary(model_ferr_adjusted_np)"
   ]
  },
  {
   "cell_type": "code",
   "execution_count": null,
   "id": "e4eed8db",
   "metadata": {
    "hidden": true
   },
   "outputs": [],
   "source": [
    "# Get the coefficients\n",
    "coefficients <- coef(model_ferr_adjusted_np)\n",
    "\n",
    "# Calculate the incidence rate ratios (IRRs)\n",
    "irrs <- exp(coefficients)\n",
    "\n",
    "irrs"
   ]
  },
  {
   "cell_type": "code",
   "execution_count": null,
   "id": "5f24947c",
   "metadata": {
    "hidden": true
   },
   "outputs": [],
   "source": [
    "# Fit the negative binomial regression model \n",
    "model_ferr_adjusted_np2 <- svyglm(dpq_score ~ ferritin * factor(low_income) + race.ethnicity +age +hscrp, \n",
    "                                design, \n",
    "                                family = negative.binomial(1),\n",
    "                                subset = (pregnancy.status == 0))\n",
    "# Print the model summary\n",
    "summary(model_ferr_adjusted_np2)"
   ]
  },
  {
   "cell_type": "code",
   "execution_count": null,
   "id": "c02f3b5b",
   "metadata": {
    "hidden": true
   },
   "outputs": [],
   "source": [
    "# Get the coefficients\n",
    "coefficients <- coef(model_ferr_adjusted_np2)\n",
    "\n",
    "# Calculate the incidence rate ratios (IRRs)\n",
    "irrs <- exp(coefficients)\n",
    "\n",
    "irrs"
   ]
  },
  {
   "cell_type": "code",
   "execution_count": null,
   "id": "d183b25c",
   "metadata": {
    "hidden": true
   },
   "outputs": [],
   "source": [
    "# Fit the negative binomial regression model \n",
    "model_ferr_adjusted_p <- svyglm(dpq_score ~ ferritin * factor(low_income), \n",
    "                                design, \n",
    "                                family = negative.binomial(1),\n",
    "                                subset = (pregnancy.status == 1))\n",
    "# Print the model summary\n",
    "summary(model_ferr_adjusted_p)"
   ]
  },
  {
   "cell_type": "code",
   "execution_count": null,
   "id": "6b4b58ae",
   "metadata": {
    "hidden": true
   },
   "outputs": [],
   "source": [
    "# Get the coefficients\n",
    "coefficients <- coef(model_ferr_adjusted_p)\n",
    "\n",
    "# Calculate the incidence rate ratios (IRRs)\n",
    "irrs <- exp(coefficients)\n",
    "\n",
    "irrs"
   ]
  },
  {
   "cell_type": "code",
   "execution_count": null,
   "id": "68495115",
   "metadata": {
    "hidden": true
   },
   "outputs": [],
   "source": [
    "# Fit the negative binomial regression model \n",
    "model_ferr_adjusted_p2 <- svyglm(dpq_score ~ ferritin * factor(low_income)+ race.ethnicity +age +hscrp, \n",
    "                                design, \n",
    "                                family = negative.binomial(1),\n",
    "                                subset = (pregnancy.status == 1))\n",
    "# Print the model summary\n",
    "summary(model_ferr_adjusted_p2)"
   ]
  },
  {
   "cell_type": "code",
   "execution_count": null,
   "id": "e4c204d1",
   "metadata": {
    "hidden": true
   },
   "outputs": [],
   "source": [
    "# Get the coefficients\n",
    "coefficients <- coef(model_ferr_adjusted_p2)\n",
    "\n",
    "# Calculate the incidence rate ratios (IRRs)\n",
    "irrs <- exp(coefficients)\n",
    "\n",
    "irrs"
   ]
  },
  {
   "cell_type": "code",
   "execution_count": null,
   "id": "2b7f3462",
   "metadata": {
    "hidden": true
   },
   "outputs": [],
   "source": [
    "# Fit the negative binomial regression model \n",
    "model_ferr_adjusted_pp <- svyglm(dpq_score ~ ferritin * factor(low_income), \n",
    "                                design, \n",
    "                                family = negative.binomial(1),\n",
    "                                subset = (pregnancy.status == 2))\n",
    "# Print the model summary\n",
    "summary(model_ferr_adjusted_pp)"
   ]
  },
  {
   "cell_type": "code",
   "execution_count": null,
   "id": "c96dccab",
   "metadata": {
    "hidden": true
   },
   "outputs": [],
   "source": [
    "# Get the coefficients\n",
    "coefficients <- coef(model_ferr_adjusted_pp)\n",
    "\n",
    "# Calculate the incidence rate ratios (IRRs)\n",
    "irrs <- exp(coefficients)\n",
    "irrs"
   ]
  },
  {
   "cell_type": "code",
   "execution_count": null,
   "id": "5bc05821",
   "metadata": {
    "hidden": true
   },
   "outputs": [],
   "source": [
    "# Fit the negative binomial regression model \n",
    "model_ferr_adjusted_pp2 <- svyglm(dpq_score ~ ferritin * factor(low_income) + race.ethnicity +age +hscrp, \n",
    "                                design,  \n",
    "                                family = negative.binomial(1),\n",
    "                                subset = (pregnancy.status == 2))\n",
    "# Print the model summary\n",
    "summary(model_ferr_adjusted_pp2)"
   ]
  },
  {
   "cell_type": "code",
   "execution_count": null,
   "id": "59d8694f",
   "metadata": {
    "hidden": true
   },
   "outputs": [],
   "source": [
    "# Get the coefficients\n",
    "coefficients <- coef(model_ferr_adjusted_pp2)\n",
    "\n",
    "# Calculate the incidence rate ratios (IRRs)\n",
    "irrs <- exp(coefficients)\n",
    "irrs"
   ]
  },
  {
   "cell_type": "markdown",
   "id": "5346b2ae",
   "metadata": {
    "hidden": true
   },
   "source": [
    "##### Stratified"
   ]
  },
  {
   "cell_type": "code",
   "execution_count": null,
   "id": "2e2f3900",
   "metadata": {
    "hidden": true,
    "scrolled": true
   },
   "outputs": [],
   "source": [
    "# Fit the model for low_income = 0\n",
    "model_ferr_low_income_0 <- svyglm(dpq_score ~ ferritin + race.ethnicity +age +hscrp, \n",
    "                                  design,\n",
    "                                  family = negative.binomial(1),,\n",
    "                                  subset = (pregnancy.status == 2 & low_income == 0))\n",
    "\n",
    "# Fit the model for low_income = 1\n",
    "model_ferr_low_income_1 <- svyglm(dpq_score ~ ferritin + race.ethnicity +age +hscrp,\n",
    "                                  design,\n",
    "                                  family = negative.binomial(1),,\n",
    "                                  subset = (pregnancy.status == 2 & low_income == 1))\n",
    "\n",
    "\n",
    "# Print the model summaries\n",
    "cat(\"Model for low_income = 0:\\n\")\n",
    "summary(model_ferr_low_income_0)\n",
    "\n",
    "cat(\"\\nModel for low_income = 1:\\n\")\n",
    "summary(model_ferr_low_income_1)"
   ]
  },
  {
   "cell_type": "code",
   "execution_count": null,
   "id": "73f7b5ca",
   "metadata": {
    "hidden": true
   },
   "outputs": [],
   "source": [
    "# Get the coefficients\n",
    "coefficients <- coef(model_ferr_low_income_0)\n",
    "\n",
    "# Calculate the incidence rate ratios (IRRs)\n",
    "irrs <- exp(coefficients)"
   ]
  },
  {
   "cell_type": "code",
   "execution_count": null,
   "id": "5bdfa943",
   "metadata": {
    "hidden": true
   },
   "outputs": [],
   "source": [
    "irrs"
   ]
  },
  {
   "cell_type": "code",
   "execution_count": null,
   "id": "fb115f04",
   "metadata": {
    "hidden": true
   },
   "outputs": [],
   "source": [
    "# Get the coefficients\n",
    "coefficients <- coef(model_ferr_low_income_1)\n",
    "\n",
    "# Calculate the incidence rate ratios (IRRs)\n",
    "irrs <- exp(coefficients)"
   ]
  },
  {
   "cell_type": "code",
   "execution_count": null,
   "id": "fbfa2d28",
   "metadata": {
    "hidden": true,
    "scrolled": true
   },
   "outputs": [],
   "source": [
    "irrs"
   ]
  },
  {
   "cell_type": "markdown",
   "id": "e6a704a6",
   "metadata": {
    "hidden": true
   },
   "source": [
    "#### Correct for multiple comparisons"
   ]
  },
  {
   "cell_type": "code",
   "execution_count": null,
   "id": "93ccfcbe",
   "metadata": {
    "hidden": true
   },
   "outputs": [],
   "source": [
    "# Fit the negative binomial regression model\n",
    "model_ferr_adjusted_pp2 <- svyglm(dpq_score ~ ferritin * factor(low_income) + race.ethnicity + age + hscrp,\n",
    "                                  design,\n",
    "                                  family = negative.binomial(1),\n",
    "                                  subset = (pregnancy.status == 2))\n",
    "\n",
    "# Extract the coefficients and p-values from the model summary\n",
    "model_summary <- summary(model_ferr_adjusted_pp2)\n",
    "coefficients <- coef(model_summary)\n",
    "p_values <- coefficients[, \"Pr(>|t|)\"]\n",
    "\n",
    "# Apply the Bonferroni correction for multiple comparison correction\n",
    "adjusted_p_values <- p.adjust(p_values, method = \"bonferroni\")\n",
    "\n",
    "# Create a new data frame with the corrected p-values\n",
    "adjusted_coefficients <- cbind(coefficients, adjusted_p_values)\n",
    "colnames(adjusted_coefficients)[ncol(adjusted_coefficients)] <- \"Adjusted Pr(>|t|)\"\n",
    "\n",
    "# Print the adjusted coefficients and p-values\n",
    "adjusted_coefficients"
   ]
  },
  {
   "cell_type": "markdown",
   "id": "410aebef",
   "metadata": {},
   "source": [
    "### Table"
   ]
  },
  {
   "cell_type": "markdown",
   "id": "f9e8edbe",
   "metadata": {},
   "source": [
    "#### Simple models"
   ]
  },
  {
   "cell_type": "markdown",
   "id": "40726933",
   "metadata": {
    "heading_collapsed": true
   },
   "source": [
    "##### crude"
   ]
  },
  {
   "cell_type": "code",
   "execution_count": null,
   "id": "7fc62d3f",
   "metadata": {
    "hidden": true
   },
   "outputs": [],
   "source": [
    "model_id_ferr <- svyglm(dpq_score ~ ID_ferr, \n",
    "                                design, \n",
    "                                family = negative.binomial(1))\n",
    "\n",
    "\n",
    "model_id_ferr_np <- svyglm(dpq_score ~ ID_ferr, \n",
    "                                design, \n",
    "                                family = negative.binomial(1),\n",
    "                                subset = (pregnancy.status == 0))\n",
    "\n",
    "model_id_ferr_p <- svyglm(dpq_score ~ ID_ferr, \n",
    "                                design, \n",
    "                                family = negative.binomial(1),\n",
    "                                subset = (pregnancy.status == 1))\n",
    "\n",
    "model_id_ferr_pp <- svyglm(dpq_score ~ ID_ferr, \n",
    "                                design, \n",
    "                                family = negative.binomial(1),\n",
    "                                subset = (pregnancy.status == 2))\n"
   ]
  },
  {
   "cell_type": "code",
   "execution_count": null,
   "id": "27dfaaaa",
   "metadata": {
    "hidden": true
   },
   "outputs": [],
   "source": [
    "# Function to extract model results\n",
    "extract_model_results <- function(model_summary) {\n",
    "  result_table <- as.data.frame(model_summary$coefficients)\n",
    "  colnames(result_table) <- c(\"Estimate\", \"Std. Error\", \"z value\", \"P-value\")\n",
    "  result_table$IRR <- exp(result_table$Estimate)\n",
    "  result_table$`95% CI Lower` <- exp(result_table$Estimate - 1.96 * result_table$`Std. Error`)\n",
    "  result_table$`95% CI Upper` <- exp(result_table$Estimate + 1.96 * result_table$`Std. Error`)\n",
    "  result_table <- result_table[, c(\"IRR\", \"95% CI Lower\", \"95% CI Upper\", \"P-value\")]\n",
    "  row.names(result_table) <- make.names(row.names(result_table), unique = TRUE)\n",
    "  return(result_table)\n",
    "}\n",
    "\n",
    "# Print results for all models\n",
    "cat(\"All:\\n\")\n",
    "knitr::kable(extract_model_results(summary(model_id_ferr)), digits = 3)\n",
    "\n",
    "cat(\"\\nNot pregnant:\\n\")\n",
    "knitr::kable(extract_model_results(summary(model_id_ferr_np)), digits = 3)\n",
    "\n",
    "cat(\"\\npregnant:\\n\")\n",
    "knitr::kable(extract_model_results(summary(model_id_ferr_p)), digits = 3)\n",
    "\n",
    "cat(\"\\npostpartum:\\n\")\n",
    "knitr::kable(extract_model_results(summary(model_id_ferr_pp)), digits = 3)\n"
   ]
  },
  {
   "cell_type": "markdown",
   "id": "33183e37",
   "metadata": {
    "heading_collapsed": true
   },
   "source": [
    "##### Adjusted"
   ]
  },
  {
   "cell_type": "code",
   "execution_count": null,
   "id": "1777aa6b",
   "metadata": {
    "hidden": true
   },
   "outputs": [],
   "source": [
    "model_id_ferr <- svyglm(dpq_score ~ ID_ferr + bmi + low_income + race.ethnicity + age + hscrp, \n",
    "                                design, \n",
    "                                family = negative.binomial(1))\n",
    "\n",
    "\n",
    "model_id_ferr_np <- svyglm(dpq_score ~ ID_ferr + bmi + low_income + race.ethnicity + age + hscrp, \n",
    "                                design, \n",
    "                                family = negative.binomial(1),\n",
    "                                subset = (pregnancy.status == 0))\n",
    "\n",
    "model_id_ferr_p <- svyglm(dpq_score ~ ID_ferr + bmi + low_income + race.ethnicity + age + hscrp, \n",
    "                                design, \n",
    "                                family = negative.binomial(1),\n",
    "                                subset = (pregnancy.status == 1))\n",
    "\n",
    "model_id_ferr_pp <- svyglm(dpq_score ~ ID_ferr + bmi + low_income + race.ethnicity + age + hscrp, \n",
    "                                design, \n",
    "                                family = negative.binomial(1),\n",
    "                                subset = (pregnancy.status == 2))\n"
   ]
  },
  {
   "cell_type": "code",
   "execution_count": null,
   "id": "6be8cdb7",
   "metadata": {
    "hidden": true
   },
   "outputs": [],
   "source": [
    "# Function to extract model results\n",
    "extract_model_results <- function(model_summary) {\n",
    "  result_table <- as.data.frame(model_summary$coefficients)\n",
    "  colnames(result_table) <- c(\"Estimate\", \"Std. Error\", \"z value\", \"P-value\")\n",
    "  result_table$IRR <- exp(result_table$Estimate)\n",
    "  result_table$`95% CI Lower` <- exp(result_table$Estimate - 1.96 * result_table$`Std. Error`)\n",
    "  result_table$`95% CI Upper` <- exp(result_table$Estimate + 1.96 * result_table$`Std. Error`)\n",
    "  result_table <- result_table[, c(\"IRR\", \"95% CI Lower\", \"95% CI Upper\", \"P-value\")]\n",
    "  row.names(result_table) <- make.names(row.names(result_table), unique = TRUE)\n",
    "  return(result_table)\n",
    "}\n",
    "\n",
    "# Print results for all models\n",
    "cat(\"All:\\n\")\n",
    "knitr::kable(extract_model_results(summary(model_id_ferr)), digits = 3)\n",
    "\n",
    "cat(\"\\nNot pregnant:\\n\")\n",
    "knitr::kable(extract_model_results(summary(model_id_ferr_np)), digits = 3)\n",
    "\n",
    "cat(\"\\npregnant:\\n\")\n",
    "knitr::kable(extract_model_results(summary(model_id_ferr_p)), digits = 3)\n",
    "\n",
    "cat(\"\\npostpartum:\\n\")\n",
    "knitr::kable(extract_model_results(summary(model_id_ferr_pp)), digits = 3)\n"
   ]
  },
  {
   "cell_type": "markdown",
   "id": "40a8584a",
   "metadata": {
    "heading_collapsed": true
   },
   "source": [
    "#### stratified"
   ]
  },
  {
   "cell_type": "code",
   "execution_count": null,
   "id": "75b6f251",
   "metadata": {
    "hidden": true
   },
   "outputs": [],
   "source": [
    "# Fit the models\n",
    "## all\n",
    "model_non_low_income_all <- svyglm(dpq_score ~ ID_ferr,\n",
    "                                  design,\n",
    "                                  family = negative.binomial(1),\n",
    "                                  subset = low_income == 0)\n",
    "\n",
    "model_low_income_all <- svyglm(dpq_score ~ ID_ferr,\n",
    "                                  design,\n",
    "                                  family = negative.binomial(1),\n",
    "                                  subset = low_income == 1)\n",
    "\n",
    "\n",
    "model_non_low_income_adj_all <- svyglm(dpq_score ~ ID_ferr + bmi + race.ethnicity + age + hscrp,\n",
    "                                  design,\n",
    "                                  family = negative.binomial(1),\n",
    "                                  subset = low_income == 0)\n",
    "\n",
    "model_low_income_adj_all <- svyglm(dpq_score ~ ID_ferr + bmi + race.ethnicity + age + hscrp,\n",
    "                                  design,\n",
    "                                  family = negative.binomial(1),\n",
    "                                  subset = low_income == 1)\n",
    "\n",
    "## Not pregnant group\n",
    "model_non_low_income_np <- svyglm(dpq_score ~ ID_ferr,\n",
    "                                  design,\n",
    "                                  family = negative.binomial(1),,\n",
    "                                  subset = (pregnancy.status == 0 & low_income == 0))\n",
    "\n",
    "model_low_income_np <- svyglm(dpq_score ~ ID_ferr,\n",
    "                                  design,\n",
    "                                  family = negative.binomial(1),,\n",
    "                                  subset = (pregnancy.status == 0 & low_income == 1))\n",
    "\n",
    "\n",
    "model_non_low_income_adj_np <- svyglm(dpq_score ~ ID_ferr + bmi +race.ethnicity + age + hscrp,\n",
    "                                  design,\n",
    "                                  family = negative.binomial(1),,\n",
    "                                  subset = (pregnancy.status == 0 & low_income == 0))\n",
    "\n",
    "model_low_income_adj_np <- svyglm(dpq_score ~ ID_ferr + bmi + race.ethnicity + age + hscrp,\n",
    "                                  design,\n",
    "                                  family = negative.binomial(1),,\n",
    "                                  subset = (pregnancy.status == 0 & low_income == 1))\n",
    "\n",
    "\n",
    "\n",
    "## Pregnant group\n",
    "model_non_low_income_p <- svyglm(dpq_score ~ ID_ferr,\n",
    "                                  design,\n",
    "                                  family = negative.binomial(1),,\n",
    "                                  subset = (pregnancy.status == 1 & low_income == 0))\n",
    "\n",
    "model_low_income_p <- svyglm(dpq_score ~ ID_ferr,\n",
    "                                  design,\n",
    "                                  family = negative.binomial(1),,\n",
    "                                  subset = (pregnancy.status == 1 & low_income == 1))\n",
    "\n",
    "\n",
    "model_non_low_income_adj_p <- svyglm(dpq_score ~ ID_ferr + bmi + race.ethnicity + age + hscrp,\n",
    "                                  design,\n",
    "                                  family = negative.binomial(1),,\n",
    "                                  subset = (pregnancy.status == 1 & low_income == 0))\n",
    "\n",
    "model_low_income_adj_p <- svyglm(dpq_score ~ ID_ferr + bmi + race.ethnicity + age + hscrp,\n",
    "                                  design,\n",
    "                                  family = negative.binomial(1),,\n",
    "                                  subset = (pregnancy.status == 1 & low_income == 1))\n",
    "\n",
    "\n",
    "## Postpartum group\n",
    "\n",
    "model_non_low_income_pp <- svyglm(dpq_score ~ ID_ferr,\n",
    "                                  design,\n",
    "                                  family = negative.binomial(1),,\n",
    "                                  subset = (pregnancy.status == 2 & low_income == 0))\n",
    "\n",
    "model_low_income_pp <- svyglm(dpq_score ~ ID_ferr,\n",
    "                                  design,\n",
    "                                  family = negative.binomial(1),,\n",
    "                                  subset = (pregnancy.status == 2 & low_income == 1))\n",
    "\n",
    "\n",
    "model_non_low_income_adj_pp <- svyglm(dpq_score ~ ID_ferr + bmi + race.ethnicity + age + hscrp,\n",
    "                                  design,\n",
    "                                  family = negative.binomial(1),,\n",
    "                                  subset = (pregnancy.status == 2 & low_income == 0))\n",
    "\n",
    "model_low_income_adj_pp <- svyglm(dpq_score ~ ID_ferr + bmi + race.ethnicity + age + hscrp,\n",
    "                                  design,\n",
    "                                  family = negative.binomial(1),,\n",
    "                                  subset = (pregnancy.status == 2 & low_income == 1))\n"
   ]
  },
  {
   "cell_type": "code",
   "execution_count": null,
   "id": "222eb582",
   "metadata": {
    "hidden": true
   },
   "outputs": [],
   "source": [
    "# Function to extract model results\n",
    "extract_model_results <- function(model_summary) {\n",
    "  result_table <- as.data.frame(model_summary$coefficients)\n",
    "  colnames(result_table) <- c(\"Estimate\", \"Std. Error\", \"z value\", \"P-value\")\n",
    "  result_table$IRR <- exp(result_table$Estimate)\n",
    "  result_table$`95% CI Lower` <- exp(result_table$Estimate - 1.96 * result_table$`Std. Error`)\n",
    "  result_table$`95% CI Upper` <- exp(result_table$Estimate + 1.96 * result_table$`Std. Error`)\n",
    "  result_table <- result_table[, c(\"IRR\", \"95% CI Lower\", \"95% CI Upper\", \"P-value\")]\n",
    "  row.names(result_table) <- make.names(row.names(result_table), unique = TRUE)\n",
    "  return(result_table)\n",
    "}\n",
    "\n",
    "# Print results for all models\n",
    "cat(\"All women, not low-income group:\\n\")\n",
    "knitr::kable(extract_model_results(summary(model_non_low_income_all)), digits = 3)\n",
    "\n",
    "cat(\"\\nAll women, low-income group:\\n\")\n",
    "knitr::kable(extract_model_results(summary(model_low_income_all)), digits = 3)\n",
    "\n",
    "cat(\"\\nAll women, not low-income group (adjusted):\\n\")\n",
    "knitr::kable(extract_model_results(summary(model_non_low_income_adj_all)), digits = 3)\n",
    "\n",
    "cat(\"\\nAll women, low-income group (adjusted):\\n\")\n",
    "knitr::kable(extract_model_results(summary(model_low_income_adj_all)), digits = 3)\n",
    "\n",
    "cat(\"Not pregnant, not low-income group:\\n\")\n",
    "knitr::kable(extract_model_results(summary(model_non_low_income_np)), digits = 3)\n",
    "\n",
    "cat(\"\\nNot pregnant, low-income group:\\n\")\n",
    "knitr::kable(extract_model_results(summary(model_low_income_np)), digits = 3)\n",
    "\n",
    "cat(\"\\nNot pregnant, not low-income group (adjusted):\\n\")\n",
    "knitr::kable(extract_model_results(summary(model_non_low_income_adj_np)), digits = 3)\n",
    "\n",
    "cat(\"\\nNot pregnant, low-income group (adjusted):\\n\")\n",
    "knitr::kable(extract_model_results(summary(model_low_income_adj_np)), digits = 3)\n",
    "\n",
    "cat(\"\\nPregnant, not low-income group:\\n\")\n",
    "knitr::kable(extract_model_results(summary(model_non_low_income_p)), digits = 3)\n",
    "\n",
    "cat(\"\\nPregnant, low-income group:\\n\")\n",
    "knitr::kable(extract_model_results(summary(model_low_income_p)), digits = 3)\n",
    "\n",
    "cat(\"\\nPregnant, not low-income group (adjusted):\\n\")\n",
    "knitr::kable(extract_model_results(summary(model_non_low_income_adj_p)), digits = 3)\n",
    "\n",
    "cat(\"\\nPregnant, low-income group (adjusted):\\n\")\n",
    "knitr::kable(extract_model_results(summary(model_low_income_adj_p)), digits = 3)\n",
    "\n",
    "cat(\"\\nPostpartum, not low-income group:\\n\")\n",
    "knitr::kable(extract_model_results(summary(model_non_low_income_pp)), digits = 3)\n",
    "\n",
    "cat(\"\\nPostpartum, low-income group:\\n\")\n",
    "knitr::kable(extract_model_results(summary(model_low_income_pp)), digits = 3)\n",
    "\n",
    "cat(\"\\nPostpartum, not low-income group (adjusted):\\n\")\n",
    "knitr::kable(extract_model_results(summary(model_non_low_income_adj_pp)), digits = 3)\n",
    "\n",
    "cat(\"\\nPostpartum, low-income group (adjusted):\\n\")\n",
    "knitr::kable(extract_model_results(summary(model_low_income_adj_pp)), digits = 3)"
   ]
  },
  {
   "cell_type": "code",
   "execution_count": null,
   "id": "09b5d876",
   "metadata": {
    "hidden": true
   },
   "outputs": [],
   "source": []
  },
  {
   "cell_type": "markdown",
   "id": "1e3d99f3",
   "metadata": {},
   "source": [
    "#### Ferritin stratified"
   ]
  },
  {
   "cell_type": "code",
   "execution_count": 6,
   "id": "b3924a8f",
   "metadata": {},
   "outputs": [],
   "source": [
    "# Fit the models\n",
    "## all\n",
    "model_non_low_income_all <- svyglm(dpq_score ~ ferritin,\n",
    "                                  design,\n",
    "                                  family = negative.binomial(1),\n",
    "                                  subset = low_income == 0)\n",
    "\n",
    "model_low_income_all <- svyglm(dpq_score ~ ferritin,\n",
    "                                  design,\n",
    "                                  family = negative.binomial(1),\n",
    "                                  subset = low_income == 1)\n",
    "\n",
    "\n",
    "model_non_low_income_adj_all <- svyglm(dpq_score ~ ferritin + bmi + race.ethnicity + age + hscrp,\n",
    "                                  design,\n",
    "                                  family = negative.binomial(1),\n",
    "                                  subset = low_income == 0)\n",
    "\n",
    "model_low_income_adj_all <- svyglm(dpq_score ~ ferritin + bmi + race.ethnicity + age + hscrp,\n",
    "                                  design,\n",
    "                                  family = negative.binomial(1),\n",
    "                                  subset = low_income == 1)\n",
    "\n",
    "## Not pregnant group\n",
    "model_non_low_income_np <- svyglm(dpq_score ~ ferritin,\n",
    "                                  design,\n",
    "                                  family = negative.binomial(1),,\n",
    "                                  subset = (pregnancy.status == 0 & low_income == 0))\n",
    "\n",
    "model_low_income_np <- svyglm(dpq_score ~ ferritin,\n",
    "                                  design,\n",
    "                                  family = negative.binomial(1),,\n",
    "                                  subset = (pregnancy.status == 0 & low_income == 1))\n",
    "\n",
    "\n",
    "model_non_low_income_adj_np <- svyglm(dpq_score ~ ferritin + bmi + race.ethnicity + age + hscrp,\n",
    "                                  design,\n",
    "                                  family = negative.binomial(1),,\n",
    "                                  subset = (pregnancy.status == 0 & low_income == 0))\n",
    "\n",
    "model_low_income_adj_np <- svyglm(dpq_score ~ ferritin + bmi + race.ethnicity + age + hscrp,\n",
    "                                  design,\n",
    "                                  family = negative.binomial(1),,\n",
    "                                  subset = (pregnancy.status == 0 & low_income == 1))\n",
    "\n",
    "\n",
    "\n",
    "## Pregnant group\n",
    "model_non_low_income_p <- svyglm(dpq_score ~ ferritin,\n",
    "                                  design,\n",
    "                                  family = negative.binomial(1),,\n",
    "                                  subset = (pregnancy.status == 1 & low_income == 0))\n",
    "\n",
    "model_low_income_p <- svyglm(dpq_score ~ ferritin,\n",
    "                                  design,\n",
    "                                  family = negative.binomial(1),,\n",
    "                                  subset = (pregnancy.status == 1 & low_income == 1))\n",
    "\n",
    "\n",
    "model_non_low_income_adj_p <- svyglm(dpq_score ~ ferritin + bmi + race.ethnicity + age + hscrp,\n",
    "                                  design,\n",
    "                                  family = negative.binomial(1),,\n",
    "                                  subset = (pregnancy.status == 1 & low_income == 0))\n",
    "\n",
    "model_low_income_adj_p <- svyglm(dpq_score ~ ferritin + bmi + race.ethnicity + age + hscrp,\n",
    "                                  design,\n",
    "                                  family = negative.binomial(1),,\n",
    "                                  subset = (pregnancy.status == 1 & low_income == 1))\n",
    "\n",
    "\n",
    "## Postpartum group\n",
    "\n",
    "model_non_low_income_pp <- svyglm(dpq_score ~ ferritin,\n",
    "                                  design,\n",
    "                                  family = negative.binomial(1),,\n",
    "                                  subset = (pregnancy.status == 2 & low_income == 0))\n",
    "\n",
    "model_low_income_pp <- svyglm(dpq_score ~ ferritin,\n",
    "                                  design,\n",
    "                                  family = negative.binomial(1),,\n",
    "                                  subset = (pregnancy.status == 2 & low_income == 1))\n",
    "\n",
    "\n",
    "model_non_low_income_adj_pp <- svyglm(dpq_score ~ ferritin + bmi + race.ethnicity + age + hscrp,\n",
    "                                  design,\n",
    "                                  family = negative.binomial(1),,\n",
    "                                  subset = (pregnancy.status == 2 & low_income == 0))\n",
    "\n",
    "model_low_income_adj_pp <- svyglm(dpq_score ~ ferritin + bmi + race.ethnicity + age + hscrp,\n",
    "                                  design,\n",
    "                                  family = negative.binomial(1),,\n",
    "                                  subset = (pregnancy.status == 2 & low_income == 1))\n"
   ]
  },
  {
   "cell_type": "code",
   "execution_count": 7,
   "id": "2854404f",
   "metadata": {},
   "outputs": [
    {
     "name": "stdout",
     "output_type": "stream",
     "text": [
      "All, not low-income group:\n"
     ]
    },
    {
     "data": {
      "text/plain": [
       "\n",
       "\n",
       "|             |   IRR| 95% CI Lower| 95% CI Upper| P-value|\n",
       "|:------------|-----:|------------:|------------:|-------:|\n",
       "|X.Intercept. | 2.749|        2.524|        2.994|   0.000|\n",
       "|ferritin     | 1.001|        1.000|        1.002|   0.133|"
      ]
     },
     "metadata": {},
     "output_type": "display_data"
    },
    {
     "name": "stdout",
     "output_type": "stream",
     "text": [
      "\n",
      "All, low-income group:\n"
     ]
    },
    {
     "data": {
      "text/plain": [
       "\n",
       "\n",
       "|             |   IRR| 95% CI Lower| 95% CI Upper| P-value|\n",
       "|:------------|-----:|------------:|------------:|-------:|\n",
       "|X.Intercept. | 3.973|        3.697|        4.270|   0.000|\n",
       "|ferritin     | 1.001|        1.000|        1.002|   0.012|"
      ]
     },
     "metadata": {},
     "output_type": "display_data"
    },
    {
     "name": "stdout",
     "output_type": "stream",
     "text": [
      "\n",
      "All, not low-income group (adjusted):\n"
     ]
    },
    {
     "data": {
      "text/plain": [
       "\n",
       "\n",
       "|               |   IRR| 95% CI Lower| 95% CI Upper| P-value|\n",
       "|:--------------|-----:|------------:|------------:|-------:|\n",
       "|X.Intercept.   | 1.825|        1.275|        2.610|   0.002|\n",
       "|ferritin       | 1.001|        1.000|        1.002|   0.206|\n",
       "|bmi            | 1.021|        1.013|        1.029|   0.000|\n",
       "|race.ethnicity | 0.990|        0.952|        1.029|   0.617|\n",
       "|age            | 0.996|        0.987|        1.004|   0.331|\n",
       "|hscrp          | 0.998|        0.989|        1.007|   0.609|"
      ]
     },
     "metadata": {},
     "output_type": "display_data"
    },
    {
     "name": "stdout",
     "output_type": "stream",
     "text": [
      "\n",
      "All, low-income group (adjusted):\n"
     ]
    },
    {
     "data": {
      "text/plain": [
       "\n",
       "\n",
       "|               |   IRR| 95% CI Lower| 95% CI Upper| P-value|\n",
       "|:--------------|-----:|------------:|------------:|-------:|\n",
       "|X.Intercept.   | 1.730|        1.304|        2.296|   0.000|\n",
       "|ferritin       | 1.000|        1.000|        1.001|   0.304|\n",
       "|bmi            | 1.012|        1.006|        1.018|   0.000|\n",
       "|race.ethnicity | 1.044|        1.003|        1.086|   0.036|\n",
       "|age            | 1.012|        1.005|        1.019|   0.002|\n",
       "|hscrp          | 1.004|        0.997|        1.011|   0.291|"
      ]
     },
     "metadata": {},
     "output_type": "display_data"
    },
    {
     "name": "stdout",
     "output_type": "stream",
     "text": [
      "Not pregnant, not low-income group:\n"
     ]
    },
    {
     "data": {
      "text/plain": [
       "\n",
       "\n",
       "|             |   IRR| 95% CI Lower| 95% CI Upper| P-value|\n",
       "|:------------|-----:|------------:|------------:|-------:|\n",
       "|X.Intercept. | 2.727|        2.486|        2.992|   0.000|\n",
       "|ferritin     | 1.001|        1.000|        1.002|   0.082|"
      ]
     },
     "metadata": {},
     "output_type": "display_data"
    },
    {
     "name": "stdout",
     "output_type": "stream",
     "text": [
      "\n",
      "Not pregnant, low-income group:\n"
     ]
    },
    {
     "data": {
      "text/plain": [
       "\n",
       "\n",
       "|             |   IRR| 95% CI Lower| 95% CI Upper| P-value|\n",
       "|:------------|-----:|------------:|------------:|-------:|\n",
       "|X.Intercept. | 4.084|        3.759|        4.436|   0.000|\n",
       "|ferritin     | 1.001|        1.000|        1.002|   0.041|"
      ]
     },
     "metadata": {},
     "output_type": "display_data"
    },
    {
     "name": "stdout",
     "output_type": "stream",
     "text": [
      "\n",
      "Not pregnant, not low-income group (adjusted):\n"
     ]
    },
    {
     "data": {
      "text/plain": [
       "\n",
       "\n",
       "|               |   IRR| 95% CI Lower| 95% CI Upper| P-value|\n",
       "|:--------------|-----:|------------:|------------:|-------:|\n",
       "|X.Intercept.   | 1.886|        1.272|        2.796|   0.002|\n",
       "|ferritin       | 1.001|        1.000|        1.002|   0.172|\n",
       "|bmi            | 1.020|        1.011|        1.028|   0.000|\n",
       "|race.ethnicity | 0.995|        0.955|        1.037|   0.823|\n",
       "|age            | 0.995|        0.986|        1.005|   0.333|\n",
       "|hscrp          | 0.998|        0.987|        1.010|   0.752|"
      ]
     },
     "metadata": {},
     "output_type": "display_data"
    },
    {
     "name": "stdout",
     "output_type": "stream",
     "text": [
      "\n",
      "Not pregnant, low-income group (adjusted):\n"
     ]
    },
    {
     "data": {
      "text/plain": [
       "\n",
       "\n",
       "|               |   IRR| 95% CI Lower| 95% CI Upper| P-value|\n",
       "|:--------------|-----:|------------:|------------:|-------:|\n",
       "|X.Intercept.   | 1.552|        1.122|        2.148|   0.010|\n",
       "|ferritin       | 1.000|        0.999|        1.001|   0.642|\n",
       "|bmi            | 1.013|        1.007|        1.020|   0.000|\n",
       "|race.ethnicity | 1.053|        1.011|        1.098|   0.016|\n",
       "|age            | 1.014|        1.006|        1.022|   0.001|\n",
       "|hscrp          | 1.003|        0.996|        1.011|   0.342|"
      ]
     },
     "metadata": {},
     "output_type": "display_data"
    },
    {
     "name": "stdout",
     "output_type": "stream",
     "text": [
      "\n",
      "Pregnant, not low-income group:\n"
     ]
    },
    {
     "data": {
      "text/plain": [
       "\n",
       "\n",
       "|             |   IRR| 95% CI Lower| 95% CI Upper| P-value|\n",
       "|:------------|-----:|------------:|------------:|-------:|\n",
       "|X.Intercept. | 3.157|        2.442|        4.081|   0.000|\n",
       "|ferritin     | 0.998|        0.994|        1.003|   0.536|"
      ]
     },
     "metadata": {},
     "output_type": "display_data"
    },
    {
     "name": "stdout",
     "output_type": "stream",
     "text": [
      "\n",
      "Pregnant, low-income group:\n"
     ]
    },
    {
     "data": {
      "text/plain": [
       "\n",
       "\n",
       "|             |   IRR| 95% CI Lower| 95% CI Upper| P-value|\n",
       "|:------------|-----:|------------:|------------:|-------:|\n",
       "|X.Intercept. | 4.236|        3.457|        5.191|    0.00|\n",
       "|ferritin     | 0.997|        0.994|        1.000|    0.03|"
      ]
     },
     "metadata": {},
     "output_type": "display_data"
    },
    {
     "name": "stdout",
     "output_type": "stream",
     "text": [
      "\n",
      "Pregnant, not low-income group (adjusted):\n"
     ]
    },
    {
     "data": {
      "text/plain": [
       "\n",
       "\n",
       "|               |   IRR| 95% CI Lower| 95% CI Upper| P-value|\n",
       "|:--------------|-----:|------------:|------------:|-------:|\n",
       "|X.Intercept.   | 1.686|        0.662|        4.295|   0.281|\n",
       "|ferritin       | 0.999|        0.995|        1.003|   0.655|\n",
       "|bmi            | 1.030|        1.007|        1.054|   0.015|\n",
       "|race.ethnicity | 0.970|        0.845|        1.113|   0.662|\n",
       "|age            | 0.994|        0.963|        1.026|   0.712|\n",
       "|hscrp          | 0.995|        0.985|        1.004|   0.289|"
      ]
     },
     "metadata": {},
     "output_type": "display_data"
    },
    {
     "name": "stdout",
     "output_type": "stream",
     "text": [
      "\n",
      "Pregnant, low-income group (adjusted):\n"
     ]
    },
    {
     "data": {
      "text/plain": [
       "\n",
       "\n",
       "|               |   IRR| 95% CI Lower| 95% CI Upper| P-value|\n",
       "|:--------------|-----:|------------:|------------:|-------:|\n",
       "|X.Intercept.   | 2.948|        1.204|        7.220|   0.025|\n",
       "|ferritin       | 0.996|        0.993|        0.999|   0.015|\n",
       "|bmi            | 1.010|        0.987|        1.033|   0.414|\n",
       "|race.ethnicity | 0.953|        0.876|        1.036|   0.266|\n",
       "|age            | 1.010|        0.981|        1.040|   0.507|\n",
       "|hscrp          | 0.991|        0.971|        1.012|   0.426|"
      ]
     },
     "metadata": {},
     "output_type": "display_data"
    },
    {
     "name": "stdout",
     "output_type": "stream",
     "text": [
      "\n",
      "Postpartum, not low-income group:\n"
     ]
    },
    {
     "data": {
      "text/plain": [
       "\n",
       "\n",
       "|             |   IRR| 95% CI Lower| 95% CI Upper| P-value|\n",
       "|:------------|-----:|------------:|------------:|-------:|\n",
       "|X.Intercept. | 3.277|        2.356|        4.557|   0.000|\n",
       "|ferritin     | 0.996|        0.992|        1.000|   0.042|"
      ]
     },
     "metadata": {},
     "output_type": "display_data"
    },
    {
     "name": "stdout",
     "output_type": "stream",
     "text": [
      "\n",
      "Postpartum, low-income group:\n"
     ]
    },
    {
     "data": {
      "text/plain": [
       "\n",
       "\n",
       "|             |   IRR| 95% CI Lower| 95% CI Upper| P-value|\n",
       "|:------------|-----:|------------:|------------:|-------:|\n",
       "|X.Intercept. | 3.182|         2.59|        3.909|   0.000|\n",
       "|ferritin     | 1.003|         1.00|        1.006|   0.089|"
      ]
     },
     "metadata": {},
     "output_type": "display_data"
    },
    {
     "name": "stdout",
     "output_type": "stream",
     "text": [
      "\n",
      "Postpartum, not low-income group (adjusted):\n"
     ]
    },
    {
     "data": {
      "text/plain": [
       "\n",
       "\n",
       "|               |   IRR| 95% CI Lower| 95% CI Upper| P-value|\n",
       "|:--------------|-----:|------------:|------------:|-------:|\n",
       "|X.Intercept.   | 1.371|        0.375|        5.017|   0.637|\n",
       "|ferritin       | 0.997|        0.994|        1.001|   0.190|\n",
       "|bmi            | 1.042|        1.019|        1.066|   0.001|\n",
       "|race.ethnicity | 0.921|        0.808|        1.049|   0.225|\n",
       "|age            | 0.995|        0.960|        1.032|   0.788|\n",
       "|hscrp          | 0.990|        0.957|        1.024|   0.579|"
      ]
     },
     "metadata": {},
     "output_type": "display_data"
    },
    {
     "name": "stdout",
     "output_type": "stream",
     "text": [
      "\n",
      "Postpartum, low-income group (adjusted):\n"
     ]
    },
    {
     "data": {
      "text/plain": [
       "\n",
       "\n",
       "|               |    IRR| 95% CI Lower| 95% CI Upper| P-value|\n",
       "|:--------------|------:|------------:|------------:|-------:|\n",
       "|X.Intercept.   | 12.695|        4.707|       34.238|   0.000|\n",
       "|ferritin       |  1.004|        1.001|        1.006|   0.014|\n",
       "|bmi            |  0.999|        0.971|        1.028|   0.967|\n",
       "|race.ethnicity |  0.972|        0.858|        1.099|   0.649|\n",
       "|age            |  0.948|        0.922|        0.975|   0.001|\n",
       "|hscrp          |  1.015|        0.977|        1.054|   0.448|"
      ]
     },
     "metadata": {},
     "output_type": "display_data"
    }
   ],
   "source": [
    "# Function to extract model results\n",
    "extract_model_results <- function(model_summary) {\n",
    "  result_table <- as.data.frame(model_summary$coefficients)\n",
    "  colnames(result_table) <- c(\"Estimate\", \"Std. Error\", \"z value\", \"P-value\")\n",
    "  result_table$IRR <- exp(result_table$Estimate)\n",
    "  result_table$`95% CI Lower` <- exp(result_table$Estimate - 1.96 * result_table$`Std. Error`)\n",
    "  result_table$`95% CI Upper` <- exp(result_table$Estimate + 1.96 * result_table$`Std. Error`)\n",
    "  result_table <- result_table[, c(\"IRR\", \"95% CI Lower\", \"95% CI Upper\", \"P-value\")]\n",
    "  row.names(result_table) <- make.names(row.names(result_table), unique = TRUE)\n",
    "  return(result_table)\n",
    "}\n",
    "\n",
    "# Print results for all models\n",
    "cat(\"All, not low-income group:\\n\")\n",
    "knitr::kable(extract_model_results(summary(model_non_low_income_all)), digits = 3)\n",
    "\n",
    "cat(\"\\nAll, low-income group:\\n\")\n",
    "knitr::kable(extract_model_results(summary(model_low_income_all)), digits = 3)\n",
    "\n",
    "cat(\"\\nAll, not low-income group (adjusted):\\n\")\n",
    "knitr::kable(extract_model_results(summary(model_non_low_income_adj_all)), digits = 3)\n",
    "\n",
    "cat(\"\\nAll, low-income group (adjusted):\\n\")\n",
    "knitr::kable(extract_model_results(summary(model_low_income_adj_all)), digits = 3)\n",
    "\n",
    "\n",
    "cat(\"Not pregnant, not low-income group:\\n\")\n",
    "knitr::kable(extract_model_results(summary(model_non_low_income_np)), digits = 3)\n",
    "\n",
    "cat(\"\\nNot pregnant, low-income group:\\n\")\n",
    "knitr::kable(extract_model_results(summary(model_low_income_np)), digits = 3)\n",
    "\n",
    "cat(\"\\nNot pregnant, not low-income group (adjusted):\\n\")\n",
    "knitr::kable(extract_model_results(summary(model_non_low_income_adj_np)), digits = 3)\n",
    "\n",
    "cat(\"\\nNot pregnant, low-income group (adjusted):\\n\")\n",
    "knitr::kable(extract_model_results(summary(model_low_income_adj_np)), digits = 3)\n",
    "\n",
    "cat(\"\\nPregnant, not low-income group:\\n\")\n",
    "knitr::kable(extract_model_results(summary(model_non_low_income_p)), digits = 3)\n",
    "\n",
    "cat(\"\\nPregnant, low-income group:\\n\")\n",
    "knitr::kable(extract_model_results(summary(model_low_income_p)), digits = 3)\n",
    "\n",
    "cat(\"\\nPregnant, not low-income group (adjusted):\\n\")\n",
    "knitr::kable(extract_model_results(summary(model_non_low_income_adj_p)), digits = 3)\n",
    "\n",
    "cat(\"\\nPregnant, low-income group (adjusted):\\n\")\n",
    "knitr::kable(extract_model_results(summary(model_low_income_adj_p)), digits = 3)\n",
    "\n",
    "cat(\"\\nPostpartum, not low-income group:\\n\")\n",
    "knitr::kable(extract_model_results(summary(model_non_low_income_pp)), digits = 3)\n",
    "\n",
    "cat(\"\\nPostpartum, low-income group:\\n\")\n",
    "knitr::kable(extract_model_results(summary(model_low_income_pp)), digits = 3)\n",
    "\n",
    "cat(\"\\nPostpartum, not low-income group (adjusted):\\n\")\n",
    "knitr::kable(extract_model_results(summary(model_non_low_income_adj_pp)), digits = 3)\n",
    "\n",
    "cat(\"\\nPostpartum, low-income group (adjusted):\\n\")\n",
    "knitr::kable(extract_model_results(summary(model_low_income_adj_pp)), digits = 3)"
   ]
  },
  {
   "cell_type": "markdown",
   "id": "73b0befd",
   "metadata": {},
   "source": [
    "## Plots"
   ]
  },
  {
   "cell_type": "markdown",
   "id": "7e5e3dde",
   "metadata": {
    "heading_collapsed": true
   },
   "source": [
    "### Forest Plots"
   ]
  },
  {
   "cell_type": "code",
   "execution_count": null,
   "id": "bf52a253",
   "metadata": {
    "hidden": true
   },
   "outputs": [],
   "source": [
    "# Tidy the model outputs and add a model identifier\n",
    "tidy_model_ferr <- tidy(model_ferr_adjusted_pp, conf.int = TRUE) %>%\n",
    "  mutate(model = \"Model Ferr\")\n",
    "\n",
    "tidy_model_id_tfr <- tidy(model_id_tfr_adjusted_pp, conf.int = TRUE) %>%\n",
    "  mutate(model = \"Model ID TFR\")\n"
   ]
  },
  {
   "cell_type": "code",
   "execution_count": null,
   "id": "9e4e1673",
   "metadata": {
    "hidden": true
   },
   "outputs": [],
   "source": [
    "# Combine the results\n",
    "combined_models <- bind_rows(tidy_model_ferr, tidy_model_id_tfr)\n"
   ]
  },
  {
   "cell_type": "code",
   "execution_count": null,
   "id": "b0de20d4",
   "metadata": {
    "hidden": true
   },
   "outputs": [],
   "source": [
    "# Plotting\n",
    "ggplot(combined_models, aes(y = term, x = estimate, xmin = conf.low, xmax = conf.high, color = model)) +\n",
    "  geom_point() +\n",
    "  geom_errorbarh(height = 0.1) +\n",
    "  facet_wrap(~model, scales = \"free\", ncol = 1) +\n",
    "  labs(x = \"Coefficient Estimate\", y = \"Term\", title = \"Forest Plot of Model Coefficients\") +\n",
    "  theme_minimal() +\n",
    "  theme(legend.position = \"bottom\", axis.text.y = element_text(size = 8), strip.background = element_blank(), strip.text.x = element_text(size = 10, face = \"bold\"))"
   ]
  },
  {
   "cell_type": "markdown",
   "id": "1d081061",
   "metadata": {},
   "source": [
    "### Plots of stratified postpartum model results"
   ]
  },
  {
   "cell_type": "code",
   "execution_count": 8,
   "id": "55f99058",
   "metadata": {},
   "outputs": [],
   "source": [
    "# Stratified models that I want to plot\n",
    "\n",
    "## all\n",
    "model_non_low_income_all <- svyglm(dpq_score ~ ferritin,\n",
    "                                  design,\n",
    "                                  family = negative.binomial(1),\n",
    "                                  subset = low_income == 0)\n",
    "\n",
    "model_low_income_all <- svyglm(dpq_score ~ ferritin,\n",
    "                                  design,\n",
    "                                  family = negative.binomial(1),\n",
    "                                  subset = low_income == 1)\n",
    "\n",
    "\n",
    "model_non_low_income_adj_all <- svyglm(dpq_score ~ ferritin + bmi + race.ethnicity + age + hscrp,\n",
    "                                  design,\n",
    "                                  family = negative.binomial(1),\n",
    "                                  subset = low_income == 0)\n",
    "\n",
    "model_low_income_adj_all <- svyglm(dpq_score ~ ferritin + bmi + race.ethnicity + age + hscrp,\n",
    "                                  design,\n",
    "                                  family = negative.binomial(1),\n",
    "                                  subset = low_income == 1)\n",
    "\n",
    "## Not pregnant group\n",
    "model_non_low_income_np <- svyglm(dpq_score ~ ferritin,\n",
    "                                  design,\n",
    "                                  family = negative.binomial(1),,\n",
    "                                  subset = (pregnancy.status == 0 & low_income == 0))\n",
    "\n",
    "model_low_income_np <- svyglm(dpq_score ~ ferritin,\n",
    "                                  design,\n",
    "                                  family = negative.binomial(1),,\n",
    "                                  subset = (pregnancy.status == 0 & low_income == 1))\n",
    "\n",
    "\n",
    "model_non_low_income_adj_np <- svyglm(dpq_score ~ ferritin + bmi + race.ethnicity + age + hscrp,\n",
    "                                  design,\n",
    "                                  family = negative.binomial(1),,\n",
    "                                  subset = (pregnancy.status == 0 & low_income == 0))\n",
    "\n",
    "model_low_income_adj_np <- svyglm(dpq_score ~ ferritin + bmi + race.ethnicity + age + hscrp,\n",
    "                                  design,\n",
    "                                  family = negative.binomial(1),,\n",
    "                                  subset = (pregnancy.status == 0 & low_income == 1))\n",
    "\n",
    "\n",
    "\n",
    "## Pregnant group\n",
    "model_non_low_income_p <- svyglm(dpq_score ~ ferritin,\n",
    "                                  design,\n",
    "                                  family = negative.binomial(1),,\n",
    "                                  subset = (pregnancy.status == 1 & low_income == 0))\n",
    "\n",
    "model_low_income_p <- svyglm(dpq_score ~ ferritin,\n",
    "                                  design,\n",
    "                                  family = negative.binomial(1),,\n",
    "                                  subset = (pregnancy.status == 1 & low_income == 1))\n",
    "\n",
    "\n",
    "model_non_low_income_adj_p <- svyglm(dpq_score ~ ferritin + bmi + race.ethnicity + age + hscrp,\n",
    "                                  design,\n",
    "                                  family = negative.binomial(1),,\n",
    "                                  subset = (pregnancy.status == 1 & low_income == 0))\n",
    "\n",
    "model_low_income_adj_p <- svyglm(dpq_score ~ ferritin + bmi + race.ethnicity + age + hscrp,\n",
    "                                  design,\n",
    "                                  family = negative.binomial(1),,\n",
    "                                  subset = (pregnancy.status == 1 & low_income == 1))\n",
    "\n",
    "\n",
    "## Postpartum group\n",
    "\n",
    "model_non_low_income_pp <- svyglm(dpq_score ~ ferritin,\n",
    "                                  design,\n",
    "                                  family = negative.binomial(1),,\n",
    "                                  subset = (pregnancy.status == 2 & low_income == 0))\n",
    "\n",
    "model_low_income_pp <- svyglm(dpq_score ~ ferritin,\n",
    "                                  design,\n",
    "                                  family = negative.binomial(1),,\n",
    "                                  subset = (pregnancy.status == 2 & low_income == 1))\n",
    "\n",
    "\n",
    "model_non_low_income_adj_pp <- svyglm(dpq_score ~ ferritin + bmi + race.ethnicity + age + hscrp,\n",
    "                                  design,\n",
    "                                  family = negative.binomial(1),,\n",
    "                                  subset = (pregnancy.status == 2 & low_income == 0))\n",
    "\n",
    "model_low_income_adj_pp <- svyglm(dpq_score ~ ferritin + bmi + race.ethnicity + age + hscrp,\n",
    "                                  design,\n",
    "                                  family = negative.binomial(1),,\n",
    "                                  subset = (pregnancy.status == 2 & low_income == 1))\n"
   ]
  },
  {
   "cell_type": "code",
   "execution_count": 9,
   "id": "47c82657",
   "metadata": {},
   "outputs": [],
   "source": [
    "# Tidy the model outputs for Ferritin\n",
    "tidy_models <- list(\n",
    "  model_non_low_income_all = tidy(model_non_low_income_all, conf.int = TRUE) %>%\n",
    "    filter(term == \"ferritin\") %>%\n",
    "    mutate(group = \"Non-low income\", model = \"All\"),\n",
    "  \n",
    "  model_low_income_all = tidy(model_low_income_all, conf.int = TRUE) %>%\n",
    "    filter(term == \"ferritin\") %>%\n",
    "    mutate(group = \"Low income\", model = \"All\"),\n",
    "  \n",
    "  model_non_low_income_adj_all = tidy(model_non_low_income_adj_all, conf.int = TRUE) %>%\n",
    "    filter(term == \"ferritin\") %>%\n",
    "    mutate(group = \"Non-low income\", model = \"Adjusted (all)\"),\n",
    "  \n",
    "  model_low_income_adj_all = tidy(model_low_income_adj_all, conf.int = TRUE) %>%\n",
    "    filter(term == \"ferritin\") %>%\n",
    "    mutate(group = \"Low income\", model = \"Adjusted (all)\"),\n",
    "  \n",
    "  model_non_low_income_np = tidy(model_non_low_income_np, conf.int = TRUE) %>%\n",
    "    filter(term == \"ferritin\") %>%\n",
    "    mutate(group = \"Non-low income\", model = \"Not pregnant\"),\n",
    "  \n",
    "  model_low_income_np = tidy(model_low_income_np, conf.int = TRUE) %>%\n",
    "    filter(term == \"ferritin\") %>%\n",
    "    mutate(group = \"Low income\", model = \"Not pregnant\"),\n",
    "  \n",
    "  model_non_low_income_adj_np = tidy(model_non_low_income_adj_np, conf.int = TRUE) %>%\n",
    "    filter(term == \"ferritin\") %>%\n",
    "    mutate(group = \"Non-low income\", model = \"Adjusted (not pregnant)\"),\n",
    "  \n",
    "  model_low_income_adj_np = tidy(model_low_income_adj_np, conf.int = TRUE) %>%\n",
    "    filter(term == \"ferritin\") %>%\n",
    "    mutate(group = \"Low income\", model = \"Adjusted (not pregnant)\"),\n",
    "  \n",
    "  model_non_low_income_p = tidy(model_non_low_income_p, conf.int = TRUE) %>%\n",
    "    filter(term == \"ferritin\") %>%\n",
    "    mutate(group = \"Non-low income\", model = \"Pregnant\"),\n",
    "  \n",
    "  model_low_income_p = tidy(model_low_income_p, conf.int = TRUE) %>%\n",
    "    filter(term == \"ferritin\") %>%\n",
    "    mutate(group = \"Low income\", model = \"Pregnant\"),\n",
    "  \n",
    "  model_non_low_income_adj_p = tidy(model_non_low_income_adj_p, conf.int = TRUE) %>%\n",
    "    filter(term == \"ferritin\") %>%\n",
    "    mutate(group = \"Non-low income\", model = \"Adjusted (pregnant)\"),\n",
    "  \n",
    "  model_low_income_adj_p = tidy(model_low_income_adj_p, conf.int = TRUE) %>%\n",
    "    filter(term == \"ferritin\") %>%\n",
    "    mutate(group = \"Low income\", model = \"Adjusted (pregnant)\"),\n",
    "  \n",
    "  model_non_low_income_pp = tidy(model_non_low_income_pp, conf.int = TRUE) %>%\n",
    "    filter(term == \"ferritin\") %>%\n",
    "    mutate(group = \"Non-low income\", model = \"Postpartum\"),\n",
    "  \n",
    "  model_low_income_pp = tidy(model_low_income_pp, conf.int = TRUE) %>%\n",
    "    filter(term == \"ferritin\") %>%\n",
    "    mutate(group = \"Low income\", model = \"Postpartum\"),\n",
    "  \n",
    "  model_non_low_income_adj_pp = tidy(model_non_low_income_adj_pp, conf.int = TRUE) %>%\n",
    "    filter(term == \"ferritin\") %>%\n",
    "    mutate(group = \"Non-low income\", model = \"Adjusted (postpartum)\"),\n",
    "  \n",
    "  model_low_income_adj_pp = tidy(model_low_income_adj_pp, conf.int = TRUE) %>%\n",
    "    filter(term == \"ferritin\") %>%\n",
    "    mutate(group = \"Low income\", model = \"Adjusted (postpartum)\")\n",
    ")"
   ]
  },
  {
   "cell_type": "code",
   "execution_count": 22,
   "id": "addb51f7",
   "metadata": {},
   "outputs": [
    {
     "data": {
      "image/png": "[encoded data removed]",
      "text/plain": [
       "plot without title"
      ]
     },
     "metadata": {
      "image/png": {
       "height": 420,
       "width": 420
      }
     },
     "output_type": "display_data"
    }
   ],
   "source": [
    "# Combine the tidy data frames\n",
    "combined_models <- bind_rows(tidy_models)\n",
    "\n",
    "# Transform the estimates and confidence intervals\n",
    "combined_models <- combined_models %>%\n",
    "  mutate(\n",
    "    estimate = exp(estimate), # Convert log coefficients to IRRs\n",
    "    conf.low = exp(conf.low), # Convert lower CI bound to IRR\n",
    "    conf.high = exp(conf.high), # Convert upper CI bound to IRR\n",
    "    model = fct_relevel(model, \"All\", \n",
    "                        \"Not pregnant\", \n",
    "                        \"Pregnant\", \n",
    "                        \"Postpartum\",\n",
    "                        \"Adjusted (all)\", \n",
    "                        \"Adjusted (not pregnant)\", \n",
    "                        \"Adjusted (pregnant)\", \n",
    "                        \"Adjusted (postpartum)\"),\n",
    "    significant = p.value < 0.05, # Add a new column indicating significance\n",
    "    significance_label = ifelse(significant, \"*\", \"\") # Mark significant results with an asterisk\n",
    "  )\n",
    "\n",
    "# Create the plot with adjusted model positions and individual data points\n",
    "p <- ggplot(combined_models, aes(x = model, y = estimate, color = group)) +\n",
    "  geom_point(position = position_dodge(width = 0.5), size = 3) +\n",
    "  geom_errorbar(aes(ymin = conf.low, ymax = conf.high), width = 0.2,\n",
    "                position = position_dodge(width = 0.5)) +\n",
    "  geom_text(aes(label = significance_label), vjust = -1, size = 7, color = \"black\") +\n",
    "  scale_color_manual(values = c(\"darkseagreen4\", \"plum4\")) + # Set custom colors for the groups\n",
    "  scale_y_continuous(name = \"Incidence Rate Ratio (IRR)\") +\n",
    "  theme_bw(base_size = 18) + # Increase base font size for better readability\n",
    "  theme(axis.text.x = element_text(angle = 90, hjust = 1, vjust = 0.5, size = 16), # Adjust the angle, justification, and size\n",
    "        axis.text.y = element_text(size = 16)) + # Increase font size for y axis ticks\n",
    "  ggtitle(\"Figure 1. Incidence Rate Ratios of Depressive Symptoms Scores\") +\n",
    "  xlab(\"Pregnancy Status Groups\") \n",
    "\n",
    "# Print the plot\n",
    "print(p)\n"
   ]
  },
  {
   "cell_type": "code",
   "execution_count": 23,
   "id": "f952f85d",
   "metadata": {},
   "outputs": [],
   "source": [
    "# Save the plot with increased dimensions\n",
    "ggsave(\"figures/figure1.png\", p, width = 12, height = 8)"
   ]
  },
  {
   "cell_type": "code",
   "execution_count": null,
   "id": "6503c91e",
   "metadata": {
    "scrolled": true
   },
   "outputs": [],
   "source": [
    "combined_models"
   ]
  },
  {
   "cell_type": "code",
   "execution_count": null,
   "id": "ca659c4f",
   "metadata": {},
   "outputs": [],
   "source": []
  },
  {
   "cell_type": "code",
   "execution_count": null,
   "id": "0f92d8da",
   "metadata": {},
   "outputs": [],
   "source": []
  },
  {
   "cell_type": "code",
   "execution_count": null,
   "id": "7d4ff1d6",
   "metadata": {},
   "outputs": [],
   "source": []
  },
  {
   "cell_type": "code",
   "execution_count": null,
   "id": "57be7dcf",
   "metadata": {},
   "outputs": [],
   "source": []
  },
  {
   "cell_type": "code",
   "execution_count": null,
   "id": "582e4666",
   "metadata": {},
   "outputs": [],
   "source": []
  },
  {
   "cell_type": "markdown",
   "id": "01bb2a37",
   "metadata": {
    "heading_collapsed": true
   },
   "source": [
    "### Plotting interaction in postpartum group"
   ]
  },
  {
   "cell_type": "code",
   "execution_count": null,
   "id": "e2b838e0",
   "metadata": {
    "hidden": true
   },
   "outputs": [],
   "source": [
    "#tfr"
   ]
  },
  {
   "cell_type": "code",
   "execution_count": null,
   "id": "5229af95",
   "metadata": {
    "hidden": true
   },
   "outputs": [],
   "source": [
    "# Since ID_tfr is binomial, we assume two levels (e.g., 0 and 1)\n",
    "# Generate a new data frame for prediction\n",
    "prediction_data <- expand.grid(\n",
    "  ID_tfr = c(0, 1), # Replace with actual levels if different\n",
    "  low_income = levels(factor(nhanes$low_income))\n",
    ")\n",
    "\n",
    "# Predict dpq_score using the model\n",
    "# Note: We use type = \"link\" because we want to work on the scale of the linear predictor for negative binomial\n",
    "prediction_data$predicted_dpq_score <- predict(model_id_tfr_adjusted_pp, newdata = prediction_data, type = \"response\")\n",
    "\n",
    "# Convert factors to character for better plotting\n",
    "prediction_data$ID_tfr <- as.character(prediction_data$ID_tfr)\n",
    "prediction_data$low_income <- as.character(prediction_data$low_income)\n",
    "\n",
    "# Interaction plot\n",
    "ggplot(prediction_data, aes(x = ID_tfr, y = predicted_dpq_score, fill = low_income)) +\n",
    "  geom_bar(stat = \"identity\", position = position_dodge()) +\n",
    "  labs(\n",
    "    x = \"ID_tfr Level\",\n",
    "    y = \"Predicted Depression Score\",\n",
    "    fill = \"Low Income Status\"\n",
    "  ) +\n",
    "  scale_fill_brewer(palette = \"Paired\") +\n",
    "  theme_minimal() +\n",
    "  theme(\n",
    "    axis.title.x = element_text(size = 12),\n",
    "    axis.title.y = element_text(size = 12),\n",
    "    legend.title = element_text(size = 12)\n",
    "  )\n"
   ]
  },
  {
   "cell_type": "code",
   "execution_count": null,
   "id": "99273e0f",
   "metadata": {
    "hidden": true
   },
   "outputs": [],
   "source": [
    "# ID_Ferr"
   ]
  },
  {
   "cell_type": "code",
   "execution_count": null,
   "id": "5490d2cb",
   "metadata": {
    "hidden": true
   },
   "outputs": [],
   "source": [
    "# Since ID_ferr is binomial, we assume two levels (e.g., 0 and 1)\n",
    "# Generate a new data frame for prediction\n",
    "prediction_data <- expand.grid(\n",
    "  ID_ferr = c(0, 1), # Replace with actual levels if different\n",
    "  low_income = levels(factor(nhanes$low_income))\n",
    ")\n",
    "\n",
    "# Predict dpq_score using the model\n",
    "# Note: We use type = \"response\" to get predictions on the original count scale\n",
    "prediction_data$predicted_dpq_score <- predict(model_id_ferr_adjusted_pp, newdata = prediction_data, type = \"response\")\n",
    "\n",
    "# Convert factors to character for better plotting\n",
    "prediction_data$ID_ferr <- as.character(prediction_data$ID_ferr)\n",
    "prediction_data$low_income <- as.character(prediction_data$low_income)\n",
    "\n",
    "# Interaction plot\n",
    "ggplot(prediction_data, aes(x = ID_ferr, y = predicted_dpq_score, fill = low_income)) +\n",
    "  geom_bar(stat = \"identity\", position = position_dodge()) +\n",
    "  labs(\n",
    "    x = \"ID_ferr Level\",\n",
    "    y = \"Predicted Depression Score\",\n",
    "    fill = \"Low Income Status\"\n",
    "  ) +\n",
    "  scale_fill_brewer(palette = \"Paired\") +\n",
    "  theme_minimal() +\n",
    "  theme(\n",
    "    axis.title.x = element_text(size = 12),\n",
    "    axis.title.y = element_text(size = 12),\n",
    "    legend.title = element_text(size = 12)\n",
    "  )\n"
   ]
  },
  {
   "cell_type": "code",
   "execution_count": null,
   "id": "9cbf2192",
   "metadata": {
    "hidden": true
   },
   "outputs": [],
   "source": []
  },
  {
   "cell_type": "code",
   "execution_count": null,
   "id": "46752bdd",
   "metadata": {
    "hidden": true
   },
   "outputs": [],
   "source": []
  },
  {
   "cell_type": "markdown",
   "id": "7d2c4162",
   "metadata": {},
   "source": [
    "## Sanity checks"
   ]
  },
  {
   "cell_type": "markdown",
   "id": "a65aa485",
   "metadata": {
    "heading_collapsed": true
   },
   "source": [
    "### dpq_score count as a function of pregnancy status"
   ]
  },
  {
   "cell_type": "code",
   "execution_count": null,
   "id": "405d24a5",
   "metadata": {
    "hidden": true
   },
   "outputs": [],
   "source": [
    "# Model dpq_score count as a function of pregnancy status\n",
    "model_dpq_score_pregnancy <- svyglm(dpq_score ~ pregnancy.status, \n",
    "                                     design = design, \n",
    "                                     family = quasipoisson())\n",
    "\n",
    "# Print the summary of the model\n",
    "summary(model_dpq_score_pregnancy)\n"
   ]
  },
  {
   "cell_type": "code",
   "execution_count": null,
   "id": "6b4747c5",
   "metadata": {
    "hidden": true,
    "scrolled": true
   },
   "outputs": [],
   "source": [
    "# Limit pregnancy status to 0 and 1\n",
    "limited_design <- subset(design, pregnancy.status %in% c(0, 1))\n",
    "\n",
    "# Now, model using the limited design\n",
    "model_dpq_score_pregnancy <- svyglm(dpq_score ~ pregnancy.status, \n",
    "                                     design = limited_design, \n",
    "                                     family = quasipoisson())\n",
    "\n",
    "# Summary of the model\n",
    "summary(model_dpq_score_pregnancy)"
   ]
  },
  {
   "cell_type": "markdown",
   "id": "5830a179",
   "metadata": {
    "hidden": true
   },
   "source": [
    "pregnancy.status -0.44070: This coefficient represents the expected change in the log count of dpq_score when moving from non-pregnant (0) to pregnant (1). A value of -0.44070 suggests that being pregnant is associated with a decrease in the log count of dpq_score compared to not being pregnant, holding other variables constant. However, the p-value of 0.0559 indicates that this result is marginally significant; it's close to the conventional significance level of 0.05 but slightly above it. This suggests that there is a trend towards lower dpq_score counts among pregnant individuals compared to non-pregnant individuals, but the evidence is not strong enough to conclusively reject the null hypothesis of no difference at the 5% significance level."
   ]
  },
  {
   "cell_type": "markdown",
   "id": "58eb946a",
   "metadata": {
    "heading_collapsed": true
   },
   "source": [
    "### dpq_score count as a function of low income"
   ]
  },
  {
   "cell_type": "code",
   "execution_count": null,
   "id": "d195576d",
   "metadata": {
    "hidden": true
   },
   "outputs": [],
   "source": [
    "# Model dpq_score count as a function of low income\n",
    "model_dpq_score_check <- svyglm(dpq_score ~ low_income, \n",
    "                                     design = design, \n",
    "                                     family = quasipoisson())\n",
    "\n",
    "# Print the summary of the model\n",
    "summary(model_dpq_score_check)\n"
   ]
  },
  {
   "cell_type": "markdown",
   "id": "db1dec04",
   "metadata": {},
   "source": [
    "### dpq_score count as a function of iron deficiency"
   ]
  },
  {
   "cell_type": "code",
   "execution_count": null,
   "id": "6fba3d91",
   "metadata": {},
   "outputs": [],
   "source": []
  },
  {
   "cell_type": "code",
   "execution_count": null,
   "id": "0ad8961a",
   "metadata": {},
   "outputs": [],
   "source": [
    "model_ferritin_dpq <- svyglm(formula = dpq_score ~ ferritin,\n",
    "                             design = design,\n",
    "                             subset = (pregnancy.status == 2),\n",
    "                             family = gaussian())\n",
    "\n",
    "summary(model_ferritin_dpq)"
   ]
  },
  {
   "cell_type": "code",
   "execution_count": null,
   "id": "130bf5dc",
   "metadata": {},
   "outputs": [],
   "source": [
    "# Create a new data frame with the subset of interest\n",
    "data_pp <- subset(nhanes, pregnancy.status == 2)\n",
    "\n",
    "# Create a scatterplot with a fitted linear regression line\n",
    "ggplot(data_pp, aes(x = ferritin, y = dpq_score)) +\n",
    "  geom_point() +\n",
    "  geom_smooth(method = \"lm\", se = FALSE) +\n",
    "  labs(x = \"Ferritin\", y = \"DPQ Score\",\n",
    "       title = \"Relationship between Ferritin and DPQ Score in Postpartum Women\") +\n",
    "  theme_minimal()"
   ]
  },
  {
   "cell_type": "code",
   "execution_count": null,
   "id": "a421e419",
   "metadata": {},
   "outputs": [],
   "source": []
  },
  {
   "cell_type": "code",
   "execution_count": null,
   "id": "45c0ccf9",
   "metadata": {},
   "outputs": [],
   "source": []
  },
  {
   "cell_type": "code",
   "execution_count": null,
   "id": "505cfdc2",
   "metadata": {},
   "outputs": [],
   "source": []
  },
  {
   "cell_type": "code",
   "execution_count": null,
   "id": "d0898d0e",
   "metadata": {},
   "outputs": [],
   "source": []
  },
  {
   "cell_type": "code",
   "execution_count": null,
   "id": "d3703281",
   "metadata": {},
   "outputs": [],
   "source": []
  },
  {
   "cell_type": "code",
   "execution_count": null,
   "id": "2d728b8b",
   "metadata": {},
   "outputs": [],
   "source": []
  },
  {
   "cell_type": "code",
   "execution_count": null,
   "id": "26f54374",
   "metadata": {},
   "outputs": [],
   "source": []
  },
  {
   "cell_type": "code",
   "execution_count": null,
   "id": "5234bdd4",
   "metadata": {},
   "outputs": [],
   "source": []
  },
  {
   "cell_type": "code",
   "execution_count": null,
   "id": "6ee2a67f",
   "metadata": {},
   "outputs": [],
   "source": []
  },
  {
   "cell_type": "code",
   "execution_count": null,
   "id": "06c2d7c7",
   "metadata": {},
   "outputs": [],
   "source": []
  },
  {
   "cell_type": "code",
   "execution_count": null,
   "id": "43cc57e9",
   "metadata": {},
   "outputs": [],
   "source": []
  },
  {
   "cell_type": "code",
   "execution_count": null,
   "id": "98aa396f",
   "metadata": {},
   "outputs": [],
   "source": []
  },
  {
   "cell_type": "code",
   "execution_count": null,
   "id": "0cbc67e7",
   "metadata": {},
   "outputs": [],
   "source": []
  },
  {
   "cell_type": "code",
   "execution_count": null,
   "id": "b2909b8a",
   "metadata": {},
   "outputs": [],
   "source": []
  },
  {
   "cell_type": "code",
   "execution_count": null,
   "id": "8bc55a5a",
   "metadata": {},
   "outputs": [],
   "source": []
  },
  {
   "cell_type": "code",
   "execution_count": null,
   "id": "227e78ec",
   "metadata": {},
   "outputs": [],
   "source": []
  }
 ],
 "metadata": {
  "kernelspec": {
   "display_name": "R",
   "language": "R",
   "name": "ir"
  },
  "language_info": {
   "codemirror_mode": "r",
   "file_extension": ".r",
   "mimetype": "text/x-r-source",
   "name": "R",
   "pygments_lexer": "r",
   "version": "4.3.2"
  }
 },
 "nbformat": 4,
 "nbformat_minor": 5
}
