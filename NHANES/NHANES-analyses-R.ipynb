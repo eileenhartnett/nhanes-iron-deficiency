{
 "cells": [
  {
   "cell_type": "markdown",
   "id": "9e4fc4a5",
   "metadata": {},
   "source": [
    "**Next steps to do:**\n",
    "- Use weights and recreate NHANES published numbers to make sure you are encorporating the weights correctly (may need to download or use a whole dataset for a 2 year period to do this)\n",
    "\n",
    "- Create desciptive statistics table\n",
    "\n",
    "- Run analyses\n"
   ]
  },
  {
   "cell_type": "markdown",
   "id": "bfbaeb12",
   "metadata": {},
   "source": [
    "## Load libraries"
   ]
  },
  {
   "cell_type": "code",
   "execution_count": 1,
   "id": "4c5937b9",
   "metadata": {
    "scrolled": true
   },
   "outputs": [
    {
     "name": "stderr",
     "output_type": "stream",
     "text": [
      "\n",
      "Attaching package: ‘dplyr’\n",
      "\n",
      "\n",
      "The following objects are masked from ‘package:stats’:\n",
      "\n",
      "    filter, lag\n",
      "\n",
      "\n",
      "The following objects are masked from ‘package:base’:\n",
      "\n",
      "    intersect, setdiff, setequal, union\n",
      "\n",
      "\n",
      "Loading required package: grid\n",
      "\n",
      "Loading required package: Matrix\n",
      "\n",
      "Loading required package: survival\n",
      "\n",
      "\n",
      "Attaching package: ‘survey’\n",
      "\n",
      "\n",
      "The following object is masked from ‘package:graphics’:\n",
      "\n",
      "    dotchart\n",
      "\n",
      "\n"
     ]
    }
   ],
   "source": [
    "library(dplyr)\n",
    "library(ggplot2)\n",
    "library(survey)"
   ]
  },
  {
   "cell_type": "markdown",
   "id": "2b71c26e",
   "metadata": {},
   "source": [
    "## Load data"
   ]
  },
  {
   "cell_type": "code",
   "execution_count": 2,
   "id": "b098440a",
   "metadata": {},
   "outputs": [],
   "source": [
    "nhanes <- read.csv(\"data/nhanes.csv\")"
   ]
  },
  {
   "cell_type": "code",
   "execution_count": 3,
   "id": "f1d5bc66",
   "metadata": {
    "scrolled": false
   },
   "outputs": [
    {
     "data": {
      "text/html": [
       "<table class=\"dataframe\">\n",
       "<caption>A data.frame: 6 × 23</caption>\n",
       "<thead>\n",
       "\t<tr><th></th><th scope=col>hemoglobin</th><th scope=col>SDDSRVYR</th><th scope=col>sex</th><th scope=col>age</th><th scope=col>race.ethnicity</th><th scope=col>edu.level</th><th scope=col>maritial.status</th><th scope=col>household.income</th><th scope=col>income.to.poverty.ratio</th><th scope=col>pregnancy.status</th><th scope=col>⋯</th><th scope=col>masked.variance.stratum</th><th scope=col>dpq_score</th><th scope=col>months.postpartum</th><th scope=col>ferritin</th><th scope=col>depression</th><th scope=col>transformed_ferritin</th><th scope=col>income_to_poverty_ratio_category</th><th scope=col>transformed_ferritin_imputed</th><th scope=col>INT10YR</th><th scope=col>MEC10YR</th></tr>\n",
       "\t<tr><th></th><th scope=col>&lt;dbl&gt;</th><th scope=col>&lt;dbl&gt;</th><th scope=col>&lt;dbl&gt;</th><th scope=col>&lt;dbl&gt;</th><th scope=col>&lt;dbl&gt;</th><th scope=col>&lt;dbl&gt;</th><th scope=col>&lt;dbl&gt;</th><th scope=col>&lt;dbl&gt;</th><th scope=col>&lt;dbl&gt;</th><th scope=col>&lt;dbl&gt;</th><th scope=col>⋯</th><th scope=col>&lt;dbl&gt;</th><th scope=col>&lt;dbl&gt;</th><th scope=col>&lt;dbl&gt;</th><th scope=col>&lt;dbl&gt;</th><th scope=col>&lt;int&gt;</th><th scope=col>&lt;dbl&gt;</th><th scope=col>&lt;chr&gt;</th><th scope=col>&lt;dbl&gt;</th><th scope=col>&lt;dbl&gt;</th><th scope=col>&lt;dbl&gt;</th></tr>\n",
       "</thead>\n",
       "<tbody>\n",
       "\t<tr><th scope=row>1</th><td>12.1</td><td>9</td><td>2</td><td>42</td><td>4</td><td>4</td><td>3</td><td> 7</td><td>1.23</td><td>1</td><td>⋯</td><td>126</td><td>8</td><td>0</td><td> 67.2</td><td>0</td><td> 72.7331</td><td>(0.96, 1.85]  </td><td> 72.7331</td><td>3525.535</td><td>3646.947</td></tr>\n",
       "\t<tr><th scope=row>2</th><td>13.1</td><td>9</td><td>2</td><td>32</td><td>1</td><td>4</td><td>1</td><td> 6</td><td>1.03</td><td>0</td><td>⋯</td><td>125</td><td>1</td><td>0</td><td> 70.6</td><td>0</td><td> 76.4017</td><td>(0.96, 1.85]  </td><td> 76.4017</td><td>4548.871</td><td>4711.433</td></tr>\n",
       "\t<tr><th scope=row>3</th><td>14.3</td><td>9</td><td>2</td><td>30</td><td>2</td><td>4</td><td>6</td><td>15</td><td>5.00</td><td>0</td><td>⋯</td><td>124</td><td>1</td><td>0</td><td>107.0</td><td>0</td><td>115.6773</td><td>(3.63, 5.0]   </td><td>115.6773</td><td>7395.684</td><td>7736.106</td></tr>\n",
       "\t<tr><th scope=row>4</th><td>12.4</td><td>9</td><td>2</td><td>24</td><td>5</td><td>5</td><td>5</td><td> 1</td><td>0.00</td><td>0</td><td>⋯</td><td>119</td><td>2</td><td>0</td><td> 35.0</td><td>0</td><td> 37.9893</td><td>(-0.001, 0.96]</td><td> 37.9893</td><td>3084.160</td><td>3602.003</td></tr>\n",
       "\t<tr><th scope=row>5</th><td>10.8</td><td>9</td><td>2</td><td>27</td><td>4</td><td>4</td><td>5</td><td> 8</td><td>2.12</td><td>0</td><td>⋯</td><td>132</td><td>0</td><td>0</td><td>125.0</td><td>0</td><td>135.0993</td><td>(1.85, 3.63]  </td><td>135.0993</td><td>7677.468</td><td>8684.866</td></tr>\n",
       "\t<tr><th scope=row>6</th><td>12.8</td><td>9</td><td>2</td><td>27</td><td>4</td><td>5</td><td>5</td><td>77</td><td>1.85</td><td>0</td><td>⋯</td><td>119</td><td>4</td><td>0</td><td> 67.8</td><td>0</td><td> 73.3805</td><td>              </td><td> 73.3805</td><td>6813.772</td><td>7707.438</td></tr>\n",
       "</tbody>\n",
       "</table>\n"
      ],
      "text/latex": [
       "A data.frame: 6 × 23\n",
       "\\begin{tabular}{r|lllllllllllllllllllll}\n",
       "  & hemoglobin & SDDSRVYR & sex & age & race.ethnicity & edu.level & maritial.status & household.income & income.to.poverty.ratio & pregnancy.status & ⋯ & masked.variance.stratum & dpq\\_score & months.postpartum & ferritin & depression & transformed\\_ferritin & income\\_to\\_poverty\\_ratio\\_category & transformed\\_ferritin\\_imputed & INT10YR & MEC10YR\\\\\n",
       "  & <dbl> & <dbl> & <dbl> & <dbl> & <dbl> & <dbl> & <dbl> & <dbl> & <dbl> & <dbl> & ⋯ & <dbl> & <dbl> & <dbl> & <dbl> & <int> & <dbl> & <chr> & <dbl> & <dbl> & <dbl>\\\\\n",
       "\\hline\n",
       "\t1 & 12.1 & 9 & 2 & 42 & 4 & 4 & 3 &  7 & 1.23 & 1 & ⋯ & 126 & 8 & 0 &  67.2 & 0 &  72.7331 & (0.96, 1.85{]}   &  72.7331 & 3525.535 & 3646.947\\\\\n",
       "\t2 & 13.1 & 9 & 2 & 32 & 1 & 4 & 1 &  6 & 1.03 & 0 & ⋯ & 125 & 1 & 0 &  70.6 & 0 &  76.4017 & (0.96, 1.85{]}   &  76.4017 & 4548.871 & 4711.433\\\\\n",
       "\t3 & 14.3 & 9 & 2 & 30 & 2 & 4 & 6 & 15 & 5.00 & 0 & ⋯ & 124 & 1 & 0 & 107.0 & 0 & 115.6773 & (3.63, 5.0{]}    & 115.6773 & 7395.684 & 7736.106\\\\\n",
       "\t4 & 12.4 & 9 & 2 & 24 & 5 & 5 & 5 &  1 & 0.00 & 0 & ⋯ & 119 & 2 & 0 &  35.0 & 0 &  37.9893 & (-0.001, 0.96{]} &  37.9893 & 3084.160 & 3602.003\\\\\n",
       "\t5 & 10.8 & 9 & 2 & 27 & 4 & 4 & 5 &  8 & 2.12 & 0 & ⋯ & 132 & 0 & 0 & 125.0 & 0 & 135.0993 & (1.85, 3.63{]}   & 135.0993 & 7677.468 & 8684.866\\\\\n",
       "\t6 & 12.8 & 9 & 2 & 27 & 4 & 5 & 5 & 77 & 1.85 & 0 & ⋯ & 119 & 4 & 0 &  67.8 & 0 &  73.3805 &                &  73.3805 & 6813.772 & 7707.438\\\\\n",
       "\\end{tabular}\n"
      ],
      "text/markdown": [
       "\n",
       "A data.frame: 6 × 23\n",
       "\n",
       "| <!--/--> | hemoglobin &lt;dbl&gt; | SDDSRVYR &lt;dbl&gt; | sex &lt;dbl&gt; | age &lt;dbl&gt; | race.ethnicity &lt;dbl&gt; | edu.level &lt;dbl&gt; | maritial.status &lt;dbl&gt; | household.income &lt;dbl&gt; | income.to.poverty.ratio &lt;dbl&gt; | pregnancy.status &lt;dbl&gt; | ⋯ ⋯ | masked.variance.stratum &lt;dbl&gt; | dpq_score &lt;dbl&gt; | months.postpartum &lt;dbl&gt; | ferritin &lt;dbl&gt; | depression &lt;int&gt; | transformed_ferritin &lt;dbl&gt; | income_to_poverty_ratio_category &lt;chr&gt; | transformed_ferritin_imputed &lt;dbl&gt; | INT10YR &lt;dbl&gt; | MEC10YR &lt;dbl&gt; |\n",
       "|---|---|---|---|---|---|---|---|---|---|---|---|---|---|---|---|---|---|---|---|---|---|\n",
       "| 1 | 12.1 | 9 | 2 | 42 | 4 | 4 | 3 |  7 | 1.23 | 1 | ⋯ | 126 | 8 | 0 |  67.2 | 0 |  72.7331 | (0.96, 1.85]   |  72.7331 | 3525.535 | 3646.947 |\n",
       "| 2 | 13.1 | 9 | 2 | 32 | 1 | 4 | 1 |  6 | 1.03 | 0 | ⋯ | 125 | 1 | 0 |  70.6 | 0 |  76.4017 | (0.96, 1.85]   |  76.4017 | 4548.871 | 4711.433 |\n",
       "| 3 | 14.3 | 9 | 2 | 30 | 2 | 4 | 6 | 15 | 5.00 | 0 | ⋯ | 124 | 1 | 0 | 107.0 | 0 | 115.6773 | (3.63, 5.0]    | 115.6773 | 7395.684 | 7736.106 |\n",
       "| 4 | 12.4 | 9 | 2 | 24 | 5 | 5 | 5 |  1 | 0.00 | 0 | ⋯ | 119 | 2 | 0 |  35.0 | 0 |  37.9893 | (-0.001, 0.96] |  37.9893 | 3084.160 | 3602.003 |\n",
       "| 5 | 10.8 | 9 | 2 | 27 | 4 | 4 | 5 |  8 | 2.12 | 0 | ⋯ | 132 | 0 | 0 | 125.0 | 0 | 135.0993 | (1.85, 3.63]   | 135.0993 | 7677.468 | 8684.866 |\n",
       "| 6 | 12.8 | 9 | 2 | 27 | 4 | 5 | 5 | 77 | 1.85 | 0 | ⋯ | 119 | 4 | 0 |  67.8 | 0 |  73.3805 | <!----> |  73.3805 | 6813.772 | 7707.438 |\n",
       "\n"
      ],
      "text/plain": [
       "  hemoglobin SDDSRVYR sex age race.ethnicity edu.level maritial.status\n",
       "1 12.1       9        2   42  4              4         3              \n",
       "2 13.1       9        2   32  1              4         1              \n",
       "3 14.3       9        2   30  2              4         6              \n",
       "4 12.4       9        2   24  5              5         5              \n",
       "5 10.8       9        2   27  4              4         5              \n",
       "6 12.8       9        2   27  4              5         5              \n",
       "  household.income income.to.poverty.ratio pregnancy.status ⋯\n",
       "1  7               1.23                    1                ⋯\n",
       "2  6               1.03                    0                ⋯\n",
       "3 15               5.00                    0                ⋯\n",
       "4  1               0.00                    0                ⋯\n",
       "5  8               2.12                    0                ⋯\n",
       "6 77               1.85                    0                ⋯\n",
       "  masked.variance.stratum dpq_score months.postpartum ferritin depression\n",
       "1 126                     8         0                  67.2    0         \n",
       "2 125                     1         0                  70.6    0         \n",
       "3 124                     1         0                 107.0    0         \n",
       "4 119                     2         0                  35.0    0         \n",
       "5 132                     0         0                 125.0    0         \n",
       "6 119                     4         0                  67.8    0         \n",
       "  transformed_ferritin income_to_poverty_ratio_category\n",
       "1  72.7331             (0.96, 1.85]                    \n",
       "2  76.4017             (0.96, 1.85]                    \n",
       "3 115.6773             (3.63, 5.0]                     \n",
       "4  37.9893             (-0.001, 0.96]                  \n",
       "5 135.0993             (1.85, 3.63]                    \n",
       "6  73.3805                                             \n",
       "  transformed_ferritin_imputed INT10YR  MEC10YR \n",
       "1  72.7331                     3525.535 3646.947\n",
       "2  76.4017                     4548.871 4711.433\n",
       "3 115.6773                     7395.684 7736.106\n",
       "4  37.9893                     3084.160 3602.003\n",
       "5 135.0993                     7677.468 8684.866\n",
       "6  73.3805                     6813.772 7707.438"
      ]
     },
     "metadata": {},
     "output_type": "display_data"
    }
   ],
   "source": [
    "head(nhanes)"
   ]
  },
  {
   "cell_type": "code",
   "execution_count": 4,
   "id": "1fa679cd",
   "metadata": {},
   "outputs": [
    {
     "data": {
      "text/html": [
       "<style>\n",
       ".list-inline {list-style: none; margin:0; padding: 0}\n",
       ".list-inline>li {display: inline-block}\n",
       ".list-inline>li:not(:last-child)::after {content: \"\\00b7\"; padding: 0 .5ex}\n",
       "</style>\n",
       "<ol class=list-inline><li>'hemoglobin'</li><li>'SDDSRVYR'</li><li>'sex'</li><li>'age'</li><li>'race.ethnicity'</li><li>'edu.level'</li><li>'maritial.status'</li><li>'household.income'</li><li>'income.to.poverty.ratio'</li><li>'pregnancy.status'</li><li>'WTINT2YR'</li><li>'WTMEC2YR'</li><li>'masked.variance.psu'</li><li>'masked.variance.stratum'</li><li>'dpq_score'</li><li>'months.postpartum'</li><li>'ferritin'</li><li>'depression'</li><li>'transformed_ferritin'</li><li>'income_to_poverty_ratio_category'</li><li>'transformed_ferritin_imputed'</li><li>'INT10YR'</li><li>'MEC10YR'</li></ol>\n"
      ],
      "text/latex": [
       "\\begin{enumerate*}\n",
       "\\item 'hemoglobin'\n",
       "\\item 'SDDSRVYR'\n",
       "\\item 'sex'\n",
       "\\item 'age'\n",
       "\\item 'race.ethnicity'\n",
       "\\item 'edu.level'\n",
       "\\item 'maritial.status'\n",
       "\\item 'household.income'\n",
       "\\item 'income.to.poverty.ratio'\n",
       "\\item 'pregnancy.status'\n",
       "\\item 'WTINT2YR'\n",
       "\\item 'WTMEC2YR'\n",
       "\\item 'masked.variance.psu'\n",
       "\\item 'masked.variance.stratum'\n",
       "\\item 'dpq\\_score'\n",
       "\\item 'months.postpartum'\n",
       "\\item 'ferritin'\n",
       "\\item 'depression'\n",
       "\\item 'transformed\\_ferritin'\n",
       "\\item 'income\\_to\\_poverty\\_ratio\\_category'\n",
       "\\item 'transformed\\_ferritin\\_imputed'\n",
       "\\item 'INT10YR'\n",
       "\\item 'MEC10YR'\n",
       "\\end{enumerate*}\n"
      ],
      "text/markdown": [
       "1. 'hemoglobin'\n",
       "2. 'SDDSRVYR'\n",
       "3. 'sex'\n",
       "4. 'age'\n",
       "5. 'race.ethnicity'\n",
       "6. 'edu.level'\n",
       "7. 'maritial.status'\n",
       "8. 'household.income'\n",
       "9. 'income.to.poverty.ratio'\n",
       "10. 'pregnancy.status'\n",
       "11. 'WTINT2YR'\n",
       "12. 'WTMEC2YR'\n",
       "13. 'masked.variance.psu'\n",
       "14. 'masked.variance.stratum'\n",
       "15. 'dpq_score'\n",
       "16. 'months.postpartum'\n",
       "17. 'ferritin'\n",
       "18. 'depression'\n",
       "19. 'transformed_ferritin'\n",
       "20. 'income_to_poverty_ratio_category'\n",
       "21. 'transformed_ferritin_imputed'\n",
       "22. 'INT10YR'\n",
       "23. 'MEC10YR'\n",
       "\n",
       "\n"
      ],
      "text/plain": [
       " [1] \"hemoglobin\"                       \"SDDSRVYR\"                        \n",
       " [3] \"sex\"                              \"age\"                             \n",
       " [5] \"race.ethnicity\"                   \"edu.level\"                       \n",
       " [7] \"maritial.status\"                  \"household.income\"                \n",
       " [9] \"income.to.poverty.ratio\"          \"pregnancy.status\"                \n",
       "[11] \"WTINT2YR\"                         \"WTMEC2YR\"                        \n",
       "[13] \"masked.variance.psu\"              \"masked.variance.stratum\"         \n",
       "[15] \"dpq_score\"                        \"months.postpartum\"               \n",
       "[17] \"ferritin\"                         \"depression\"                      \n",
       "[19] \"transformed_ferritin\"             \"income_to_poverty_ratio_category\"\n",
       "[21] \"transformed_ferritin_imputed\"     \"INT10YR\"                         \n",
       "[23] \"MEC10YR\"                         "
      ]
     },
     "metadata": {},
     "output_type": "display_data"
    }
   ],
   "source": [
    "colnames(nhanes)"
   ]
  },
  {
   "cell_type": "markdown",
   "id": "1c1aa9ce",
   "metadata": {},
   "source": [
    "## Set up survey design object"
   ]
  },
  {
   "cell_type": "code",
   "execution_count": null,
   "id": "fd24d2ff",
   "metadata": {},
   "outputs": [],
   "source": [
    "nhanes_design <- svydesign(ids = ~masked.variance.psu, \n",
    "                           strata = ~masked.variance.stratum, \n",
    "                           weights = ~MEC10YR,\n",
    "                           nest=TRUE,\n",
    "                           data = nhanes)"
   ]
  },
  {
   "cell_type": "code",
   "execution_count": null,
   "id": "61be2481",
   "metadata": {},
   "outputs": [],
   "source": [
    "# View the survey design object\n",
    "print(nhanes_design)"
   ]
  },
  {
   "cell_type": "code",
   "execution_count": null,
   "id": "a3397b3b",
   "metadata": {},
   "outputs": [],
   "source": [
    "age_mean_estimate <- svymean(~age, design = nhanes_design)"
   ]
  },
  {
   "cell_type": "code",
   "execution_count": null,
   "id": "a20fa008",
   "metadata": {},
   "outputs": [],
   "source": [
    "mean_estimate"
   ]
  },
  {
   "cell_type": "code",
   "execution_count": null,
   "id": "335233b3",
   "metadata": {},
   "outputs": [],
   "source": [
    "# Create a subset of the survey design for pregnant individuals\n",
    "nhanes_design_pregnant <- subset(nhanes_design, pregnancy.status == 1)"
   ]
  },
  {
   "cell_type": "code",
   "execution_count": null,
   "id": "8843f0e4",
   "metadata": {},
   "outputs": [],
   "source": [
    "# Calculate mean age for this subset\n",
    "mean_age_pregnant <- svymean(~age, nhanes_design_pregnant, na.rm = TRUE)"
   ]
  },
  {
   "cell_type": "code",
   "execution_count": null,
   "id": "f63f23fb",
   "metadata": {},
   "outputs": [],
   "source": [
    "# Display the result\n",
    "mean_age_pregnant"
   ]
  },
  {
   "cell_type": "markdown",
   "id": "91ace666",
   "metadata": {},
   "source": [
    "## Demographics"
   ]
  },
  {
   "cell_type": "code",
   "execution_count": null,
   "id": "8e07b0ad",
   "metadata": {},
   "outputs": [],
   "source": [
    "# recode race and ethnicity... "
   ]
  },
  {
   "cell_type": "code",
   "execution_count": null,
   "id": "bbad20b3",
   "metadata": {},
   "outputs": [],
   "source": [
    "colnames(nhanes)"
   ]
  },
  {
   "cell_type": "code",
   "execution_count": null,
   "id": "e5d0131e",
   "metadata": {},
   "outputs": [],
   "source": [
    "# Age\n",
    "age_mean <- svymean(~age, nhanes_design)\n",
    "age_median <- svyquantile(~age, nhanes_design, 0.5)  # Median is the 50th percentile\n",
    "\n",
    "print(age_mean)\n",
    "print(age_median)\n"
   ]
  },
  {
   "cell_type": "code",
   "execution_count": null,
   "id": "5377d6ff",
   "metadata": {},
   "outputs": [],
   "source": [
    "svyhist(~age, nhanes_design, main=\"Age Distribution\")"
   ]
  },
  {
   "cell_type": "code",
   "execution_count": null,
   "id": "e369f5b2",
   "metadata": {},
   "outputs": [],
   "source": [
    "# Extracting weights\n",
    "weights <- weights(nhanes_design)\n",
    "\n",
    "# Creating a weighted density plot\n",
    "ggplot(data.frame(age = nhanes_design$variables$age, weights = weights), aes(x = age, weight = weights)) +\n",
    "  geom_histogram(aes(y = ..density..), binwidth = 1, color = \"black\", fill = \"blue\") +\n",
    "  geom_density(color = \"red\") +\n",
    "  labs(x = \"Age\", y = \"Density\", title = \"Weighted Age Distribution\") +\n",
    "  theme_minimal();"
   ]
  },
  {
   "cell_type": "code",
   "execution_count": null,
   "id": "aff2267b",
   "metadata": {},
   "outputs": [],
   "source": [
    "# Table 1\n",
    "\n"
   ]
  },
  {
   "cell_type": "code",
   "execution_count": null,
   "id": "8d22f799",
   "metadata": {},
   "outputs": [],
   "source": []
  },
  {
   "cell_type": "code",
   "execution_count": null,
   "id": "ece4c04c",
   "metadata": {},
   "outputs": [],
   "source": []
  },
  {
   "cell_type": "code",
   "execution_count": null,
   "id": "8d843daf",
   "metadata": {},
   "outputs": [],
   "source": []
  },
  {
   "cell_type": "markdown",
   "id": "d8baee3b",
   "metadata": {},
   "source": [
    "## Prevalence"
   ]
  },
  {
   "cell_type": "code",
   "execution_count": null,
   "id": "3adf204f",
   "metadata": {},
   "outputs": [],
   "source": []
  },
  {
   "cell_type": "code",
   "execution_count": null,
   "id": "c1e5d430",
   "metadata": {},
   "outputs": [],
   "source": []
  },
  {
   "cell_type": "code",
   "execution_count": null,
   "id": "f898a83d",
   "metadata": {},
   "outputs": [],
   "source": []
  },
  {
   "cell_type": "code",
   "execution_count": null,
   "id": "c9f10a73",
   "metadata": {},
   "outputs": [],
   "source": []
  },
  {
   "cell_type": "markdown",
   "id": "8bd160d3",
   "metadata": {},
   "source": [
    "## Logistic Regression"
   ]
  },
  {
   "cell_type": "markdown",
   "id": "ddf76d00",
   "metadata": {},
   "source": [
    "Check for class imbalance in the outcome variable... how should we handle it?"
   ]
  },
  {
   "cell_type": "code",
   "execution_count": null,
   "id": "0b253bc3",
   "metadata": {},
   "outputs": [],
   "source": []
  },
  {
   "cell_type": "code",
   "execution_count": null,
   "id": "fd86e289",
   "metadata": {},
   "outputs": [],
   "source": []
  },
  {
   "cell_type": "markdown",
   "id": "71f20f1c",
   "metadata": {},
   "source": [
    "## Negative binomial model?"
   ]
  },
  {
   "cell_type": "markdown",
   "id": "d84b89e8",
   "metadata": {},
   "source": [
    "other paper chose the negative binomial model\n",
    "because the depressive symptoms count data showed overdispersion"
   ]
  },
  {
   "cell_type": "code",
   "execution_count": null,
   "id": "106ec1e8",
   "metadata": {},
   "outputs": [],
   "source": []
  },
  {
   "cell_type": "markdown",
   "id": "1fb1146f",
   "metadata": {},
   "source": [
    "## Notes"
   ]
  },
  {
   "cell_type": "code",
   "execution_count": null,
   "id": "060cb340",
   "metadata": {},
   "outputs": [],
   "source": [
    "# How should we handle class imbalance among depressed and not depressed?\n",
    "# Is there class imbalance among anemic and not anemic as well?"
   ]
  },
  {
   "cell_type": "code",
   "execution_count": null,
   "id": "aab5d427",
   "metadata": {},
   "outputs": [],
   "source": [
    "# Look at ferritin levels instead?\n",
    "https://neurosciencenews.com/iron-deficiency-mental-health-23368/#:~:text=Specifically%2C%20iron%20plays%20an%20important,schizophrenia%2C%20Levin%20and%20Gattari%20write."
   ]
  }
 ],
 "metadata": {
  "kernelspec": {
   "display_name": "R",
   "language": "R",
   "name": "ir"
  },
  "language_info": {
   "codemirror_mode": "r",
   "file_extension": ".r",
   "mimetype": "text/x-r-source",
   "name": "R",
   "pygments_lexer": "r",
   "version": "4.3.2"
  }
 },
 "nbformat": 4,
 "nbformat_minor": 5
}
