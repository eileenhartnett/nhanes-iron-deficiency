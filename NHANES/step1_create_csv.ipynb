{
 "cells": [
  {
   "cell_type": "markdown",
   "id": "f700999d",
   "metadata": {},
   "source": [
    "# NHANES - Create csv file"
   ]
  },
  {
   "cell_type": "markdown",
   "id": "5bbc1f54",
   "metadata": {},
   "source": [
    "This purpose of this notebook is to load the bloodcount and demographic datafiles from 2013-2018, combinine the files from different years, merge the lab data with the demographic data, some data cleaning, and save the output as a single clean csv file.\n",
    "\n",
    "*The years only go up to 2018 because the NHANES program suspended field operations in March 2020 due to the coronavirus disease 2019 (COVID-19) pandemic. As a result, data collection for the NHANES 2019-2020 cycle was not completed and the collected data are not nationally representative.* "
   ]
  },
  {
   "cell_type": "markdown",
   "id": "4818f1f3",
   "metadata": {
    "heading_collapsed": true
   },
   "source": [
    "## Links to XPT files and data codebooks"
   ]
  },
  {
   "cell_type": "markdown",
   "id": "42923ed0",
   "metadata": {
    "hidden": true
   },
   "source": [
    "**NHANES XPT files and data codebooks:**\n",
    "\n",
    "**2017-2018** \n",
    "- TFR https://wwwn.cdc.gov/Nchs/Nhanes/2017-2018/TFR_J.htm\n",
    "- Ferritin https://wwwn.cdc.gov/Nchs/Nhanes/2017-2018/FERTIN_J.htm\n",
    "- Demographics https://wwwn.cdc.gov/Nchs/Nhanes/2017-2018/DEMO_J.htm\n",
    "- Reproductive Health Questionnaire https://wwwn.cdc.gov/Nchs/Nhanes/2017-2018/RHQ_J.htm\n",
    "- Depression Score:https://wwwn.cdc.gov/Nchs/Nhanes/2017-2018/DPQ_J.htm\n",
    "\n",
    "**2015-2016** \n",
    "- TFR https://wwwn.cdc.gov/Nchs/Nhanes/2015-2016/TFR_I.htm\n",
    "- Ferritin https://wwwn.cdc.gov/Nchs/Nhanes/2015-2016/FERTIN_I.htm\n",
    "- Demographics https://wwwn.cdc.gov/Nchs/Nhanes/2015-2016/DEMO_I.htm\n",
    "- Reproductive Health Questionnaire https://wwwn.cdc.gov/Nchs/Nhanes/2015-2016/RHQ_I.htm\n",
    "- Depression Score:https://wwwn.cdc.gov/Nchs/Nhanes/2015-2016/DPQ_I.htm\n",
    "\n",
    "--------------------------------------\n",
    "****NEED TO EXCLUDE YEARS 2011-2014 as they don't have Ferritin and TfR measures****\n",
    "\n",
    "------------------------------------------------\n",
    "\n",
    "**2009-2010** \n",
    "- TFR https://wwwn.cdc.gov/Nchs/Nhanes/2009-2010/TFR_F.htm\n",
    "- Ferritin https://wwwn.cdc.gov/Nchs/Nhanes/2009-2010/FERTIN_F.htm\n",
    "- Demographics https://wwwn.cdc.gov/Nchs/Nhanes/2009-2010/DEMO_F.htm\n",
    "- Reproductive Health Questionnaire https://wwwn.cdc.gov/Nchs/Nhanes/2009-2010/RHQ_F.htm\n",
    "- Depression Score:https://wwwn.cdc.gov/Nchs/Nhanes/2009-2010/DPQ_F.htm\n",
    "\n",
    "**2007-2008** \n",
    "- TFR https://wwwn.cdc.gov/Nchs/Nhanes/2007-2008/TFR_E.htm\n",
    "- Ferritin https://wwwn.cdc.gov/Nchs/Nhanes/2007-2008/FERTIN_E.htm\n",
    "- Demographics https://wwwn.cdc.gov/Nchs/Nhanes/2007-2008/DEMO_E.htm\n",
    "- Reproductive Health Questionnaire https://wwwn.cdc.gov/Nchs/Nhanes/2007-2008/RHQ_E.htm\n",
    "- Depression Score:https://wwwn.cdc.gov/Nchs/Nhanes/2007-2008/DPQ_E.htm\n",
    "\n",
    "**2005-2006** \n",
    "- TFR https://wwwn.cdc.gov/Nchs/Nhanes/2005-2006/TFR_D.htm\n",
    "- Ferritin https://wwwn.cdc.gov/Nchs/Nhanes/2005-2006/FERTIN_D.htm\n",
    "- Demographics https://wwwn.cdc.gov/Nchs/Nhanes/2005-2006/DEMO_D.htm\n",
    "- Reproductive Health Questionnaire https://wwwn.cdc.gov/Nchs/Nhanes/2005-2006/RHQ_D.htm\n",
    "- Depression Score:https://wwwn.cdc.gov/Nchs/Nhanes/2005-2006/DPQ_D.htm\n"
   ]
  },
  {
   "cell_type": "markdown",
   "id": "5b6cec98",
   "metadata": {
    "heading_collapsed": true
   },
   "source": [
    "## Import packages"
   ]
  },
  {
   "cell_type": "code",
   "execution_count": 1,
   "id": "bd813a6f",
   "metadata": {
    "hidden": true
   },
   "outputs": [],
   "source": [
    "import pandas as pd\n",
    "import numpy as np\n",
    "import xport\n",
    "from glob import glob"
   ]
  },
  {
   "cell_type": "markdown",
   "id": "36507aa0",
   "metadata": {},
   "source": [
    "## Load Data Files"
   ]
  },
  {
   "cell_type": "markdown",
   "id": "725a3f56",
   "metadata": {},
   "source": [
    "### TFR Data"
   ]
  },
  {
   "cell_type": "code",
   "execution_count": 2,
   "id": "6be973f0",
   "metadata": {},
   "outputs": [],
   "source": [
    "tfr_files = glob('data/TFR*.XPT')\n",
    "\n",
    "tfr = pd.DataFrame()\n",
    "\n",
    "for file in tfr_files:\n",
    "    tfr_data = pd.read_sas(file, format='xport', encoding='utf-8')\n",
    "    tfr = tfr.append(tfr_data, ignore_index=True)"
   ]
  },
  {
   "cell_type": "markdown",
   "id": "1aa6d750",
   "metadata": {
    "heading_collapsed": true
   },
   "source": [
    "### Ferritin Data"
   ]
  },
  {
   "cell_type": "code",
   "execution_count": 3,
   "id": "9ce4276e",
   "metadata": {
    "hidden": true
   },
   "outputs": [],
   "source": [
    "fer_files = glob('data/FERTIN*.XPT')\n",
    "\n",
    "ferritin = pd.DataFrame()\n",
    "\n",
    "for file in fer_files:\n",
    "    fer_data = pd.read_sas(file, format='xport', encoding='utf-8')\n",
    "    ferritin = ferritin.append(fer_data, ignore_index=True)"
   ]
  },
  {
   "cell_type": "code",
   "execution_count": 4,
   "id": "d3ec8ae5",
   "metadata": {
    "hidden": true
   },
   "outputs": [],
   "source": [
    "# Keeping only the nanograms measure\n",
    "ferritin  = ferritin [['SEQN','LBXFER']]"
   ]
  },
  {
   "cell_type": "markdown",
   "id": "96f9bc20",
   "metadata": {
    "heading_collapsed": true
   },
   "source": [
    "### Demographic Data"
   ]
  },
  {
   "cell_type": "code",
   "execution_count": 5,
   "id": "8ac1e547",
   "metadata": {
    "hidden": true
   },
   "outputs": [],
   "source": [
    "demo_files = glob('data/DEMO*.XPT')\n",
    "\n",
    "demographics = pd.DataFrame()\n",
    "\n",
    "for file in demo_files:\n",
    "    demo_data = pd.read_sas(file, format='xport', encoding='utf-8')\n",
    "    demographics = demographics.append(demo_data, ignore_index=True)"
   ]
  },
  {
   "cell_type": "markdown",
   "id": "7dfa3657",
   "metadata": {
    "heading_collapsed": true
   },
   "source": [
    "### Reproductive Health Questionnaire (RHQ) Data"
   ]
  },
  {
   "cell_type": "code",
   "execution_count": 6,
   "id": "f7c3ab1a",
   "metadata": {
    "hidden": true
   },
   "outputs": [],
   "source": [
    "rhq_files = glob('data/RHQ*.XPT')\n",
    "\n",
    "rhq = pd.DataFrame()\n",
    "\n",
    "for file in rhq_files:\n",
    "    rhq_data = pd.read_sas(file, format='xport', encoding='utf-8')\n",
    "    rhq = rhq.append(rhq_data, ignore_index=True)"
   ]
  },
  {
   "cell_type": "code",
   "execution_count": 7,
   "id": "3bb04f52",
   "metadata": {
    "hidden": true
   },
   "outputs": [],
   "source": [
    "# Keep only the following variables: RHD143, RHQ197\n",
    "rhq = rhq[['SEQN','RHQ197']]"
   ]
  },
  {
   "cell_type": "markdown",
   "id": "e2ca0a83",
   "metadata": {
    "heading_collapsed": true
   },
   "source": [
    "### Depression Score Data"
   ]
  },
  {
   "cell_type": "code",
   "execution_count": 8,
   "id": "dc7c903a",
   "metadata": {
    "hidden": true
   },
   "outputs": [],
   "source": [
    "dpq_files = glob('data/DPQ*.XPT')\n",
    "\n",
    "dpq = pd.DataFrame()\n",
    "\n",
    "for file in dpq_files:\n",
    "    dpq_data = pd.read_sas(file, format='xport', encoding='utf-8')\n",
    "    dpq = dpq.append(dpq_data, ignore_index=True)"
   ]
  },
  {
   "cell_type": "markdown",
   "id": "686d2a5c",
   "metadata": {
    "heading_collapsed": true,
    "hidden": true
   },
   "source": [
    "#### Create the dpq score"
   ]
  },
  {
   "cell_type": "markdown",
   "id": "3a1aff34",
   "metadata": {
    "hidden": true
   },
   "source": [
    "There is a bug when reading in xport files where where on certain fields, 0.0 (floats) are read in as 5.397605e-79 (lowest IBM float value).\n"
   ]
  },
  {
   "cell_type": "code",
   "execution_count": 9,
   "id": "1ae51b30",
   "metadata": {
    "hidden": true,
    "scrolled": true
   },
   "outputs": [
    {
     "data": {
      "text/plain": [
       "5.397605e-79    19640\n",
       "1.000000e+00     4270\n",
       "2.000000e+00     1211\n",
       "3.000000e+00      945\n",
       "9.000000e+00       44\n",
       "7.000000e+00       12\n",
       "Name: DPQ010, dtype: int64"
      ]
     },
     "execution_count": 9,
     "metadata": {},
     "output_type": "execute_result"
    }
   ],
   "source": [
    "# See issue by checking value counts below\n",
    "dpq['DPQ010'].value_counts()"
   ]
  },
  {
   "cell_type": "code",
   "execution_count": 10,
   "id": "f796e1f9",
   "metadata": {
    "hidden": true
   },
   "outputs": [],
   "source": [
    "# Replace this value with 0\n",
    "dpq = dpq.replace(5.397605346934028e-79, 0)"
   ]
  },
  {
   "cell_type": "code",
   "execution_count": 11,
   "id": "6702df2d",
   "metadata": {
    "hidden": true,
    "scrolled": true
   },
   "outputs": [
    {
     "data": {
      "text/plain": [
       "0.0    19640\n",
       "1.0     4270\n",
       "2.0     1211\n",
       "3.0      945\n",
       "9.0       44\n",
       "7.0       12\n",
       "Name: DPQ010, dtype: int64"
      ]
     },
     "execution_count": 11,
     "metadata": {},
     "output_type": "execute_result"
    }
   ],
   "source": [
    "# Check that it worked\n",
    "dpq['DPQ010'].value_counts()"
   ]
  },
  {
   "cell_type": "code",
   "execution_count": 12,
   "id": "4586be4e",
   "metadata": {
    "hidden": true
   },
   "outputs": [],
   "source": [
    "# Replace value 7 (answer \"refused\") with 0\n",
    "dpq = dpq.replace(7, 0)"
   ]
  },
  {
   "cell_type": "code",
   "execution_count": 13,
   "id": "a9f7969f",
   "metadata": {
    "hidden": true
   },
   "outputs": [],
   "source": [
    "# Replace value 9 (answer \"don't know\") with 0\n",
    "dpq = dpq.replace(9, 0)"
   ]
  },
  {
   "cell_type": "markdown",
   "id": "ab3cc823",
   "metadata": {
    "heading_collapsed": true,
    "hidden": true
   },
   "source": [
    "#### Create new column and add depression variables to come up with score for each participant"
   ]
  },
  {
   "cell_type": "code",
   "execution_count": 14,
   "id": "6f7b4a02",
   "metadata": {
    "hidden": true,
    "scrolled": true
   },
   "outputs": [],
   "source": [
    "# Make SEQN column the index so that it's not included in dpq score\n",
    "dpq.set_index('SEQN', inplace=True)"
   ]
  },
  {
   "cell_type": "code",
   "execution_count": 15,
   "id": "c3426d1f",
   "metadata": {
    "hidden": true
   },
   "outputs": [],
   "source": [
    "# Select only numeric columns from 'dpq' DataFrame\n",
    "numeric_columns = dpq.select_dtypes(include='number')\n",
    "\n",
    "# Sum these numeric columns across rows to calculate 'dpq_score'\n",
    "dpq['dpq_score'] = numeric_columns.sum(axis=1)"
   ]
  },
  {
   "cell_type": "code",
   "execution_count": 16,
   "id": "b625a049",
   "metadata": {
    "hidden": true
   },
   "outputs": [],
   "source": [
    "# Reset the index to its original state\n",
    "dpq.reset_index(inplace=True)"
   ]
  },
  {
   "cell_type": "code",
   "execution_count": 17,
   "id": "52548022",
   "metadata": {
    "hidden": true
   },
   "outputs": [],
   "source": [
    "# Save only the SEQN and dpq_score column \n",
    "dpq = dpq[['SEQN','dpq_score']]"
   ]
  },
  {
   "cell_type": "markdown",
   "id": "327d78d4",
   "metadata": {
    "heading_collapsed": true
   },
   "source": [
    "## Merge data to create Main Dataframe"
   ]
  },
  {
   "cell_type": "code",
   "execution_count": 18,
   "id": "4fe85b78",
   "metadata": {
    "hidden": true
   },
   "outputs": [],
   "source": [
    "# Merging the DataFrames on 'SEQN' and 'file_name'\n",
    "nhanes = tfr.merge(demographics, on=['SEQN'], how='outer')"
   ]
  },
  {
   "cell_type": "code",
   "execution_count": 19,
   "id": "59e9f054",
   "metadata": {
    "hidden": true
   },
   "outputs": [],
   "source": [
    "nhanes = nhanes.merge(dpq, on=['SEQN'], how='outer')"
   ]
  },
  {
   "cell_type": "code",
   "execution_count": 20,
   "id": "239a7976",
   "metadata": {
    "hidden": true
   },
   "outputs": [],
   "source": [
    "nhanes = nhanes.merge(rhq, on=['SEQN'], how='outer')"
   ]
  },
  {
   "cell_type": "code",
   "execution_count": 21,
   "id": "8a2f3f1c",
   "metadata": {
    "hidden": true
   },
   "outputs": [],
   "source": [
    "nhanes = nhanes.merge(ferritin, on=['SEQN'], how='outer')"
   ]
  },
  {
   "cell_type": "markdown",
   "id": "c18d46dd",
   "metadata": {
    "heading_collapsed": true
   },
   "source": [
    "## Clean data & filter for variables of interest"
   ]
  },
  {
   "cell_type": "markdown",
   "id": "24b688af",
   "metadata": {
    "heading_collapsed": true,
    "hidden": true
   },
   "source": [
    "### Replace the bug scientific notation value with 0 in the main dataframe"
   ]
  },
  {
   "cell_type": "code",
   "execution_count": 22,
   "id": "39a35d86",
   "metadata": {
    "hidden": true
   },
   "outputs": [],
   "source": [
    "# Replace this value with 0 in the main dataframe\n",
    "nhanes = nhanes.replace(5.397605346934028e-79, 0)"
   ]
  },
  {
   "cell_type": "markdown",
   "id": "9e408d6f",
   "metadata": {
    "heading_collapsed": true,
    "hidden": true
   },
   "source": [
    "### Drop any non-female participants"
   ]
  },
  {
   "cell_type": "code",
   "execution_count": 23,
   "id": "c5c578cf",
   "metadata": {
    "hidden": true
   },
   "outputs": [],
   "source": [
    "# Values to filter rows on\n",
    "values_to_drop = [1,'.']"
   ]
  },
  {
   "cell_type": "code",
   "execution_count": 24,
   "id": "94d74d72",
   "metadata": {
    "hidden": true
   },
   "outputs": [],
   "source": [
    "# Filter and drop rows based on the value in column 'C'\n",
    "nhanes = nhanes[~nhanes['RIAGENDR'].isin(values_to_drop)]"
   ]
  },
  {
   "cell_type": "markdown",
   "id": "336c66d1",
   "metadata": {
    "hidden": true
   },
   "source": [
    "#### NHANES asked only pregnancy status for females between 20 and 44 years of age at the time of exam.\n",
    "> Drop any participants under the age of 20 and over the age of 44"
   ]
  },
  {
   "cell_type": "code",
   "execution_count": 25,
   "id": "6244b8f0",
   "metadata": {
    "hidden": true
   },
   "outputs": [],
   "source": [
    "# Define the column and threshold value\n",
    "column_to_check = 'RIDAGEYR'\n",
    "threshold_value = 20\n",
    "\n",
    "# Filter and drop rows where the value in column 'A' is less than 20\n",
    "nhanes = nhanes[nhanes[column_to_check] >= threshold_value]"
   ]
  },
  {
   "cell_type": "code",
   "execution_count": 26,
   "id": "ddebafb3",
   "metadata": {
    "hidden": true
   },
   "outputs": [],
   "source": [
    "# Define the column and threshold value\n",
    "column_to_check = 'RIDAGEYR'\n",
    "threshold_value = 44\n",
    "\n",
    "# Filter and drop rows where the value in column 'A' is less than 20\n",
    "nhanes = nhanes[nhanes[column_to_check] <= threshold_value]"
   ]
  },
  {
   "cell_type": "markdown",
   "id": "b2eeeaff",
   "metadata": {
    "heading_collapsed": true,
    "hidden": true
   },
   "source": [
    "### Rename columns to be more readable"
   ]
  },
  {
   "cell_type": "code",
   "execution_count": 27,
   "id": "8fdb116c",
   "metadata": {
    "hidden": true
   },
   "outputs": [],
   "source": [
    "nhanes = nhanes.rename(columns={'LBXHGB': 'hemoglobin', \n",
    "                                'RHQ197': 'months-postpartum',\n",
    "                                'RIAGENDR': 'sex',\n",
    "                                'RIDAGEYR': 'age',\n",
    "                                'RIDRETH1': 'race-ethnicity',\n",
    "                                'DMDEDUC2': 'edu-level',\n",
    "                                'DMDMARTL': 'maritial-status',\n",
    "                                'RIDEXPRG': 'pregnancy-status',\n",
    "                                'SDMVPSU': 'masked-variance-psu',\n",
    "                                'SDMVSTRA': 'masked-variance-stratum',\n",
    "                                'INDHHIN2': 'household-income',\n",
    "                                'INDFMPIR': 'income-to-poverty-ratio',\n",
    "                                'LBXFER': 'ferritin',\n",
    "                                'LBXTFR': 'tfr'}) "
   ]
  },
  {
   "cell_type": "code",
   "execution_count": 28,
   "id": "f110f73c",
   "metadata": {
    "hidden": true
   },
   "outputs": [],
   "source": [
    "nhanes.drop(columns = ['RIDRETH3','DMDEDUC3',\n",
    "                       'DMDHRAGE','INDFMIN2',\n",
    "                       'RIDSTATR','RIDAGEMN','RIDEXMON',\n",
    "                       'RIDEXAGM', 'DMQMILIZ', 'DMQADFC', \n",
    "                       'DMDBORN4','DMDCITZN', 'DMDYRSUS', \n",
    "                       'SIALANG','SIAPROXY','SIAINTRP',\n",
    "                       'FIALANG','FIAPROXY', 'FIAINTRP',\n",
    "                       'MIALANG', 'MIAPROXY', 'MIAINTRP',\n",
    "                       'AIALANGA','DMDHHSIZ','DMDFMSIZ',\n",
    "                       'DMDHHSZA','DMDHHSZB','DMDHHSZE',\n",
    "                       'DMDHRGND','DMDHRBR4', 'DMDHREDU', \n",
    "                       'DMDHRMAR','DMDHSEDU','DMDHRAGZ', \n",
    "                       'DMDHREDZ', 'DMDHRMAZ', 'DMDHSEDZ',\n",
    "                       'RIDAGEEX', 'DMDBORN', 'INDHHINC',\n",
    "                       'INDFMINC', 'DMDHRBRN',\n",
    "                       'DMQMILIT', 'DMDBORN2', 'DMDSCHOL', \n",
    "                       'DMDHRBR2', 'AIALANG'], inplace=True)"
   ]
  },
  {
   "cell_type": "markdown",
   "id": "2f28f309",
   "metadata": {
    "heading_collapsed": true,
    "hidden": true
   },
   "source": [
    "### Clean up 'pregnancy_status' column"
   ]
  },
  {
   "cell_type": "code",
   "execution_count": 29,
   "id": "898eb7da",
   "metadata": {
    "hidden": true
   },
   "outputs": [
    {
     "data": {
      "text/plain": [
       "2.0    5333\n",
       "1.0     586\n",
       "3.0     395\n",
       "Name: pregnancy-status, dtype: int64"
      ]
     },
     "execution_count": 29,
     "metadata": {},
     "output_type": "execute_result"
    }
   ],
   "source": [
    "# Pregnant q, 1=yes, 2=no\n",
    "nhanes['pregnancy-status'].value_counts()"
   ]
  },
  {
   "cell_type": "code",
   "execution_count": 30,
   "id": "670eb365",
   "metadata": {
    "hidden": true
   },
   "outputs": [],
   "source": [
    "# Pregnancy status, make 3 = NA\n",
    "nhanes['pregnancy-status'] = nhanes['pregnancy-status'].replace(3, 0)"
   ]
  },
  {
   "cell_type": "code",
   "execution_count": 31,
   "id": "6e51cc04",
   "metadata": {
    "hidden": true
   },
   "outputs": [],
   "source": [
    "# Pregnancy status, make 2 = 0\n",
    "nhanes['pregnancy-status'] = nhanes['pregnancy-status'].replace(2, 0)"
   ]
  },
  {
   "cell_type": "code",
   "execution_count": 32,
   "id": "d017aa2d",
   "metadata": {
    "hidden": true
   },
   "outputs": [],
   "source": [
    "# Pregnancy status, Make postpartum <13 months and are not pregnant = 2\n",
    "nhanes.loc[(nhanes['months-postpartum'] < 13) & (nhanes['pregnancy-status'] == 0), 'pregnancy-status'] = 2"
   ]
  },
  {
   "cell_type": "code",
   "execution_count": 33,
   "id": "406a32f0",
   "metadata": {
    "hidden": true,
    "scrolled": true
   },
   "outputs": [
    {
     "data": {
      "text/plain": [
       "0.0    5408\n",
       "1.0     586\n",
       "2.0     320\n",
       "Name: pregnancy-status, dtype: int64"
      ]
     },
     "execution_count": 33,
     "metadata": {},
     "output_type": "execute_result"
    }
   ],
   "source": [
    "nhanes['pregnancy-status'].value_counts()"
   ]
  },
  {
   "cell_type": "markdown",
   "id": "487cc2d4",
   "metadata": {
    "heading_collapsed": true,
    "hidden": true
   },
   "source": [
    "### Create depression threshold column"
   ]
  },
  {
   "cell_type": "code",
   "execution_count": 34,
   "id": "47ee707d",
   "metadata": {
    "hidden": true,
    "scrolled": true
   },
   "outputs": [],
   "source": [
    "# Score greater than or equal to 10 will be defined as depression\n",
    "nhanes['depression'] = (nhanes['dpq_score'] >= 10).astype(int)"
   ]
  },
  {
   "cell_type": "markdown",
   "id": "e90c3261",
   "metadata": {},
   "source": [
    "## Save csv"
   ]
  },
  {
   "cell_type": "code",
   "execution_count": 35,
   "id": "fb90294c",
   "metadata": {},
   "outputs": [],
   "source": [
    "nhanes.to_csv('data/nhanes.csv', index=False)"
   ]
  },
  {
   "cell_type": "code",
   "execution_count": null,
   "id": "ddf95963",
   "metadata": {},
   "outputs": [],
   "source": []
  }
 ],
 "metadata": {
  "kernelspec": {
   "display_name": "Python 3 (ipykernel)",
   "language": "python",
   "name": "python3"
  },
  "language_info": {
   "codemirror_mode": {
    "name": "ipython",
    "version": 3
   },
   "file_extension": ".py",
   "mimetype": "text/x-python",
   "name": "python",
   "nbconvert_exporter": "python",
   "pygments_lexer": "ipython3",
   "version": "3.11.4"
  }
 },
 "nbformat": 4,
 "nbformat_minor": 5
}
