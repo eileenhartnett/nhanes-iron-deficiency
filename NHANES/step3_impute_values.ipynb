{
 "cells": [
  {
   "cell_type": "markdown",
   "id": "820bfa33",
   "metadata": {},
   "source": [
    "# NHANES - Impute missing values"
   ]
  },
  {
   "cell_type": "markdown",
   "id": "9c9cf2a8",
   "metadata": {},
   "source": [
    "The purpose of this notebook is to impute missing values in variables of interest\n",
    "\n",
    "**NOTE: Document code to explain what is happening at each level of the KNN, why 5 neighbors, what's happening with scale, fit, transform, etc.**"
   ]
  },
  {
   "cell_type": "markdown",
   "id": "87230f44",
   "metadata": {},
   "source": [
    "## Import packages"
   ]
  },
  {
   "cell_type": "code",
   "execution_count": 1,
   "id": "6b6a6526",
   "metadata": {},
   "outputs": [],
   "source": [
    "import pandas as pd\n",
    "import numpy as np\n",
    "\n",
    "# For missing value imputation\n",
    "from sklearn.impute import KNNImputer\n",
    "from sklearn.preprocessing import MinMaxScaler"
   ]
  },
  {
   "cell_type": "markdown",
   "id": "ed92b0b7",
   "metadata": {},
   "source": [
    "## Load data"
   ]
  },
  {
   "cell_type": "code",
   "execution_count": 2,
   "id": "13ebacda",
   "metadata": {},
   "outputs": [],
   "source": [
    "nhanes = pd.read_csv('data/nhanes.csv')"
   ]
  },
  {
   "cell_type": "markdown",
   "id": "5d647140",
   "metadata": {},
   "source": [
    "## Create model "
   ]
  },
  {
   "cell_type": "markdown",
   "id": "0f2c3d24",
   "metadata": {},
   "source": [
    "###  Model-Based Imputation with k-NN "
   ]
  },
  {
   "cell_type": "markdown",
   "id": "0697460f",
   "metadata": {},
   "source": [
    "k-Nearest Neighbors (k-NN) method for imputation can effectively handle the nuances in the dataset by imputing missing 'ferritin' values based on the most similar respondents, considering a range of variables including 'race-ethnicity', 'household-income', and 'income-to-poverty-ratio'.\n",
    "\n",
    "> - Preparation: Before imputation, it's essential to ensure that all predictor variables used in the k-NN algorithm are appropriately scaled. This ensures that each variable contributes equally to the distance calculation.\n",
    "> - Choosing k: The choice of k (the number of neighbors) is crucial. A smaller k can make the imputation sensitive to noise, while a larger k might smooth out local variations too much. Cross-validation can help in selecting an optimal k value.\n",
    "> - Imputation: Perform the k-NN imputation, using available variables as predictors to impute missing 'transformed_ferritin' values."
   ]
  },
  {
   "cell_type": "markdown",
   "id": "1fec79a2",
   "metadata": {},
   "source": [
    "### Selecting columns for the imputation model"
   ]
  },
  {
   "cell_type": "code",
   "execution_count": 3,
   "id": "2c498a9a",
   "metadata": {},
   "outputs": [],
   "source": [
    "nhanes.loc[:, 'household-income'].fillna(nhanes['household-income'].median(), inplace=True)\n"
   ]
  },
  {
   "cell_type": "code",
   "execution_count": 4,
   "id": "54f23bc7",
   "metadata": {},
   "outputs": [],
   "source": [
    "nhanes.loc[:, 'income-to-poverty-ratio'].fillna(nhanes['income-to-poverty-ratio'].median(), \n",
    "                                                inplace=True)\n"
   ]
  },
  {
   "cell_type": "code",
   "execution_count": 5,
   "id": "95eb3966",
   "metadata": {},
   "outputs": [],
   "source": [
    "nhanes.set_index('SEQN', inplace=True)"
   ]
  },
  {
   "cell_type": "code",
   "execution_count": 6,
   "id": "9c602582",
   "metadata": {},
   "outputs": [],
   "source": [
    "imputation_features = nhanes[['transformed_ferritin',\n",
    "                              'tfr',\n",
    "                              'race-ethnicity', \n",
    "                              'household-income', \n",
    "                              'income-to-poverty-ratio']]"
   ]
  },
  {
   "cell_type": "code",
   "execution_count": 7,
   "id": "ea37e1e9",
   "metadata": {},
   "outputs": [
    {
     "data": {
      "text/html": [
       "<div>\n",
       "<style scoped>\n",
       "    .dataframe tbody tr th:only-of-type {\n",
       "        vertical-align: middle;\n",
       "    }\n",
       "\n",
       "    .dataframe tbody tr th {\n",
       "        vertical-align: top;\n",
       "    }\n",
       "\n",
       "    .dataframe thead th {\n",
       "        text-align: right;\n",
       "    }\n",
       "</style>\n",
       "<table border=\"1\" class=\"dataframe\">\n",
       "  <thead>\n",
       "    <tr style=\"text-align: right;\">\n",
       "      <th></th>\n",
       "      <th>transformed_ferritin</th>\n",
       "      <th>tfr</th>\n",
       "      <th>race-ethnicity</th>\n",
       "      <th>household-income</th>\n",
       "      <th>income-to-poverty-ratio</th>\n",
       "    </tr>\n",
       "    <tr>\n",
       "      <th>SEQN</th>\n",
       "      <th></th>\n",
       "      <th></th>\n",
       "      <th></th>\n",
       "      <th></th>\n",
       "      <th></th>\n",
       "    </tr>\n",
       "  </thead>\n",
       "  <tbody>\n",
       "    <tr>\n",
       "      <th>31131.0</th>\n",
       "      <td>102.546098</td>\n",
       "      <td>4.60</td>\n",
       "      <td>4.0</td>\n",
       "      <td>8.0</td>\n",
       "      <td>4.65</td>\n",
       "    </tr>\n",
       "    <tr>\n",
       "      <th>31152.0</th>\n",
       "      <td>24.754231</td>\n",
       "      <td>3.50</td>\n",
       "      <td>1.0</td>\n",
       "      <td>8.0</td>\n",
       "      <td>1.76</td>\n",
       "    </tr>\n",
       "    <tr>\n",
       "      <th>31153.0</th>\n",
       "      <td>40.878436</td>\n",
       "      <td>3.60</td>\n",
       "      <td>5.0</td>\n",
       "      <td>8.0</td>\n",
       "      <td>1.03</td>\n",
       "    </tr>\n",
       "    <tr>\n",
       "      <th>31156.0</th>\n",
       "      <td>103.683064</td>\n",
       "      <td>3.80</td>\n",
       "      <td>4.0</td>\n",
       "      <td>8.0</td>\n",
       "      <td>1.19</td>\n",
       "    </tr>\n",
       "    <tr>\n",
       "      <th>31160.0</th>\n",
       "      <td>29.370646</td>\n",
       "      <td>3.10</td>\n",
       "      <td>3.0</td>\n",
       "      <td>8.0</td>\n",
       "      <td>1.91</td>\n",
       "    </tr>\n",
       "    <tr>\n",
       "      <th>...</th>\n",
       "      <td>...</td>\n",
       "      <td>...</td>\n",
       "      <td>...</td>\n",
       "      <td>...</td>\n",
       "      <td>...</td>\n",
       "    </tr>\n",
       "    <tr>\n",
       "      <th>93665.0</th>\n",
       "      <td>94.744700</td>\n",
       "      <td>3.45</td>\n",
       "      <td>3.0</td>\n",
       "      <td>15.0</td>\n",
       "      <td>4.12</td>\n",
       "    </tr>\n",
       "    <tr>\n",
       "      <th>93676.0</th>\n",
       "      <td>NaN</td>\n",
       "      <td>NaN</td>\n",
       "      <td>4.0</td>\n",
       "      <td>7.0</td>\n",
       "      <td>2.68</td>\n",
       "    </tr>\n",
       "    <tr>\n",
       "      <th>93677.0</th>\n",
       "      <td>58.706100</td>\n",
       "      <td>2.73</td>\n",
       "      <td>3.0</td>\n",
       "      <td>12.0</td>\n",
       "      <td>1.76</td>\n",
       "    </tr>\n",
       "    <tr>\n",
       "      <th>93682.0</th>\n",
       "      <td>107.153200</td>\n",
       "      <td>1.71</td>\n",
       "      <td>5.0</td>\n",
       "      <td>15.0</td>\n",
       "      <td>5.00</td>\n",
       "    </tr>\n",
       "    <tr>\n",
       "      <th>93702.0</th>\n",
       "      <td>62.482600</td>\n",
       "      <td>2.05</td>\n",
       "      <td>3.0</td>\n",
       "      <td>10.0</td>\n",
       "      <td>3.54</td>\n",
       "    </tr>\n",
       "  </tbody>\n",
       "</table>\n",
       "<p>6107 rows × 5 columns</p>\n",
       "</div>"
      ],
      "text/plain": [
       "         transformed_ferritin   tfr  race-ethnicity  household-income  \\\n",
       "SEQN                                                                    \n",
       "31131.0            102.546098  4.60             4.0               8.0   \n",
       "31152.0             24.754231  3.50             1.0               8.0   \n",
       "31153.0             40.878436  3.60             5.0               8.0   \n",
       "31156.0            103.683064  3.80             4.0               8.0   \n",
       "31160.0             29.370646  3.10             3.0               8.0   \n",
       "...                       ...   ...             ...               ...   \n",
       "93665.0             94.744700  3.45             3.0              15.0   \n",
       "93676.0                   NaN   NaN             4.0               7.0   \n",
       "93677.0             58.706100  2.73             3.0              12.0   \n",
       "93682.0            107.153200  1.71             5.0              15.0   \n",
       "93702.0             62.482600  2.05             3.0              10.0   \n",
       "\n",
       "         income-to-poverty-ratio  \n",
       "SEQN                              \n",
       "31131.0                     4.65  \n",
       "31152.0                     1.76  \n",
       "31153.0                     1.03  \n",
       "31156.0                     1.19  \n",
       "31160.0                     1.91  \n",
       "...                          ...  \n",
       "93665.0                     4.12  \n",
       "93676.0                     2.68  \n",
       "93677.0                     1.76  \n",
       "93682.0                     5.00  \n",
       "93702.0                     3.54  \n",
       "\n",
       "[6107 rows x 5 columns]"
      ]
     },
     "execution_count": 7,
     "metadata": {},
     "output_type": "execute_result"
    }
   ],
   "source": [
    "imputation_features"
   ]
  },
  {
   "cell_type": "markdown",
   "id": "ec207fde",
   "metadata": {},
   "source": [
    "### Scale features"
   ]
  },
  {
   "cell_type": "code",
   "execution_count": 8,
   "id": "ff4a9b57",
   "metadata": {},
   "outputs": [],
   "source": [
    "# Features scaling to prepare for k-NN\n",
    "scaler = MinMaxScaler()"
   ]
  },
  {
   "cell_type": "code",
   "execution_count": 9,
   "id": "bb3fd37e",
   "metadata": {},
   "outputs": [],
   "source": [
    "imputation_features_scaled = pd.DataFrame(scaler.fit_transform(imputation_features), \n",
    "                                          columns=imputation_features.columns)"
   ]
  },
  {
   "cell_type": "code",
   "execution_count": 10,
   "id": "ebb9fb28",
   "metadata": {},
   "outputs": [],
   "source": [
    "# Applying k-NN imputation\n",
    "knn_imputer = KNNImputer(n_neighbors=5)"
   ]
  },
  {
   "cell_type": "code",
   "execution_count": 11,
   "id": "a583f202",
   "metadata": {},
   "outputs": [],
   "source": [
    "imputed_data = nhanes[['transformed_ferritin', 'tfr','race-ethnicity', \n",
    "                                   'household-income', \n",
    "                                   'income-to-poverty-ratio']].copy()\n"
   ]
  },
  {
   "cell_type": "code",
   "execution_count": 12,
   "id": "0f371fc7",
   "metadata": {},
   "outputs": [
    {
     "data": {
      "text/html": [
       "<div>\n",
       "<style scoped>\n",
       "    .dataframe tbody tr th:only-of-type {\n",
       "        vertical-align: middle;\n",
       "    }\n",
       "\n",
       "    .dataframe tbody tr th {\n",
       "        vertical-align: top;\n",
       "    }\n",
       "\n",
       "    .dataframe thead th {\n",
       "        text-align: right;\n",
       "    }\n",
       "</style>\n",
       "<table border=\"1\" class=\"dataframe\">\n",
       "  <thead>\n",
       "    <tr style=\"text-align: right;\">\n",
       "      <th></th>\n",
       "      <th>transformed_ferritin</th>\n",
       "      <th>tfr</th>\n",
       "      <th>race-ethnicity</th>\n",
       "      <th>household-income</th>\n",
       "      <th>income-to-poverty-ratio</th>\n",
       "    </tr>\n",
       "    <tr>\n",
       "      <th>SEQN</th>\n",
       "      <th></th>\n",
       "      <th></th>\n",
       "      <th></th>\n",
       "      <th></th>\n",
       "      <th></th>\n",
       "    </tr>\n",
       "  </thead>\n",
       "  <tbody>\n",
       "    <tr>\n",
       "      <th>31131.0</th>\n",
       "      <td>102.546098</td>\n",
       "      <td>4.60</td>\n",
       "      <td>4.0</td>\n",
       "      <td>8.0</td>\n",
       "      <td>4.65</td>\n",
       "    </tr>\n",
       "    <tr>\n",
       "      <th>31152.0</th>\n",
       "      <td>24.754231</td>\n",
       "      <td>3.50</td>\n",
       "      <td>1.0</td>\n",
       "      <td>8.0</td>\n",
       "      <td>1.76</td>\n",
       "    </tr>\n",
       "    <tr>\n",
       "      <th>31153.0</th>\n",
       "      <td>40.878436</td>\n",
       "      <td>3.60</td>\n",
       "      <td>5.0</td>\n",
       "      <td>8.0</td>\n",
       "      <td>1.03</td>\n",
       "    </tr>\n",
       "    <tr>\n",
       "      <th>31156.0</th>\n",
       "      <td>103.683064</td>\n",
       "      <td>3.80</td>\n",
       "      <td>4.0</td>\n",
       "      <td>8.0</td>\n",
       "      <td>1.19</td>\n",
       "    </tr>\n",
       "    <tr>\n",
       "      <th>31160.0</th>\n",
       "      <td>29.370646</td>\n",
       "      <td>3.10</td>\n",
       "      <td>3.0</td>\n",
       "      <td>8.0</td>\n",
       "      <td>1.91</td>\n",
       "    </tr>\n",
       "    <tr>\n",
       "      <th>...</th>\n",
       "      <td>...</td>\n",
       "      <td>...</td>\n",
       "      <td>...</td>\n",
       "      <td>...</td>\n",
       "      <td>...</td>\n",
       "    </tr>\n",
       "    <tr>\n",
       "      <th>93665.0</th>\n",
       "      <td>94.744700</td>\n",
       "      <td>3.45</td>\n",
       "      <td>3.0</td>\n",
       "      <td>15.0</td>\n",
       "      <td>4.12</td>\n",
       "    </tr>\n",
       "    <tr>\n",
       "      <th>93676.0</th>\n",
       "      <td>NaN</td>\n",
       "      <td>NaN</td>\n",
       "      <td>4.0</td>\n",
       "      <td>7.0</td>\n",
       "      <td>2.68</td>\n",
       "    </tr>\n",
       "    <tr>\n",
       "      <th>93677.0</th>\n",
       "      <td>58.706100</td>\n",
       "      <td>2.73</td>\n",
       "      <td>3.0</td>\n",
       "      <td>12.0</td>\n",
       "      <td>1.76</td>\n",
       "    </tr>\n",
       "    <tr>\n",
       "      <th>93682.0</th>\n",
       "      <td>107.153200</td>\n",
       "      <td>1.71</td>\n",
       "      <td>5.0</td>\n",
       "      <td>15.0</td>\n",
       "      <td>5.00</td>\n",
       "    </tr>\n",
       "    <tr>\n",
       "      <th>93702.0</th>\n",
       "      <td>62.482600</td>\n",
       "      <td>2.05</td>\n",
       "      <td>3.0</td>\n",
       "      <td>10.0</td>\n",
       "      <td>3.54</td>\n",
       "    </tr>\n",
       "  </tbody>\n",
       "</table>\n",
       "<p>6107 rows × 5 columns</p>\n",
       "</div>"
      ],
      "text/plain": [
       "         transformed_ferritin   tfr  race-ethnicity  household-income  \\\n",
       "SEQN                                                                    \n",
       "31131.0            102.546098  4.60             4.0               8.0   \n",
       "31152.0             24.754231  3.50             1.0               8.0   \n",
       "31153.0             40.878436  3.60             5.0               8.0   \n",
       "31156.0            103.683064  3.80             4.0               8.0   \n",
       "31160.0             29.370646  3.10             3.0               8.0   \n",
       "...                       ...   ...             ...               ...   \n",
       "93665.0             94.744700  3.45             3.0              15.0   \n",
       "93676.0                   NaN   NaN             4.0               7.0   \n",
       "93677.0             58.706100  2.73             3.0              12.0   \n",
       "93682.0            107.153200  1.71             5.0              15.0   \n",
       "93702.0             62.482600  2.05             3.0              10.0   \n",
       "\n",
       "         income-to-poverty-ratio  \n",
       "SEQN                              \n",
       "31131.0                     4.65  \n",
       "31152.0                     1.76  \n",
       "31153.0                     1.03  \n",
       "31156.0                     1.19  \n",
       "31160.0                     1.91  \n",
       "...                          ...  \n",
       "93665.0                     4.12  \n",
       "93676.0                     2.68  \n",
       "93677.0                     1.76  \n",
       "93682.0                     5.00  \n",
       "93702.0                     3.54  \n",
       "\n",
       "[6107 rows x 5 columns]"
      ]
     },
     "execution_count": 12,
     "metadata": {},
     "output_type": "execute_result"
    }
   ],
   "source": [
    "imputed_data"
   ]
  },
  {
   "cell_type": "code",
   "execution_count": 13,
   "id": "98d27ea3",
   "metadata": {},
   "outputs": [],
   "source": [
    "imputed_data = knn_imputer.fit_transform(imputation_features_scaled)"
   ]
  },
  {
   "cell_type": "code",
   "execution_count": 14,
   "id": "9563624d",
   "metadata": {},
   "outputs": [],
   "source": [
    "imputed_data_df = pd.DataFrame(imputed_data, columns=imputation_features.columns, \n",
    "                               index=imputation_features.index)"
   ]
  },
  {
   "cell_type": "code",
   "execution_count": 15,
   "id": "f1524d96",
   "metadata": {},
   "outputs": [
    {
     "data": {
      "text/html": [
       "<div>\n",
       "<style scoped>\n",
       "    .dataframe tbody tr th:only-of-type {\n",
       "        vertical-align: middle;\n",
       "    }\n",
       "\n",
       "    .dataframe tbody tr th {\n",
       "        vertical-align: top;\n",
       "    }\n",
       "\n",
       "    .dataframe thead th {\n",
       "        text-align: right;\n",
       "    }\n",
       "</style>\n",
       "<table border=\"1\" class=\"dataframe\">\n",
       "  <thead>\n",
       "    <tr style=\"text-align: right;\">\n",
       "      <th></th>\n",
       "      <th>transformed_ferritin</th>\n",
       "      <th>tfr</th>\n",
       "      <th>race-ethnicity</th>\n",
       "      <th>household-income</th>\n",
       "      <th>income-to-poverty-ratio</th>\n",
       "    </tr>\n",
       "    <tr>\n",
       "      <th>SEQN</th>\n",
       "      <th></th>\n",
       "      <th></th>\n",
       "      <th></th>\n",
       "      <th></th>\n",
       "      <th></th>\n",
       "    </tr>\n",
       "  </thead>\n",
       "  <tbody>\n",
       "    <tr>\n",
       "      <th>31131.0</th>\n",
       "      <td>0.054718</td>\n",
       "      <td>0.069030</td>\n",
       "      <td>0.75</td>\n",
       "      <td>0.071429</td>\n",
       "      <td>0.930</td>\n",
       "    </tr>\n",
       "    <tr>\n",
       "      <th>31152.0</th>\n",
       "      <td>0.012784</td>\n",
       "      <td>0.048507</td>\n",
       "      <td>0.00</td>\n",
       "      <td>0.071429</td>\n",
       "      <td>0.352</td>\n",
       "    </tr>\n",
       "    <tr>\n",
       "      <th>31153.0</th>\n",
       "      <td>0.021476</td>\n",
       "      <td>0.050373</td>\n",
       "      <td>1.00</td>\n",
       "      <td>0.071429</td>\n",
       "      <td>0.206</td>\n",
       "    </tr>\n",
       "    <tr>\n",
       "      <th>31156.0</th>\n",
       "      <td>0.055331</td>\n",
       "      <td>0.054104</td>\n",
       "      <td>0.75</td>\n",
       "      <td>0.071429</td>\n",
       "      <td>0.238</td>\n",
       "    </tr>\n",
       "    <tr>\n",
       "      <th>31160.0</th>\n",
       "      <td>0.015272</td>\n",
       "      <td>0.041045</td>\n",
       "      <td>0.50</td>\n",
       "      <td>0.071429</td>\n",
       "      <td>0.382</td>\n",
       "    </tr>\n",
       "    <tr>\n",
       "      <th>...</th>\n",
       "      <td>...</td>\n",
       "      <td>...</td>\n",
       "      <td>...</td>\n",
       "      <td>...</td>\n",
       "      <td>...</td>\n",
       "    </tr>\n",
       "    <tr>\n",
       "      <th>93665.0</th>\n",
       "      <td>0.050513</td>\n",
       "      <td>0.047575</td>\n",
       "      <td>0.50</td>\n",
       "      <td>0.142857</td>\n",
       "      <td>0.824</td>\n",
       "    </tr>\n",
       "    <tr>\n",
       "      <th>93676.0</th>\n",
       "      <td>0.029820</td>\n",
       "      <td>0.193657</td>\n",
       "      <td>0.75</td>\n",
       "      <td>0.061224</td>\n",
       "      <td>0.536</td>\n",
       "    </tr>\n",
       "    <tr>\n",
       "      <th>93677.0</th>\n",
       "      <td>0.031086</td>\n",
       "      <td>0.034142</td>\n",
       "      <td>0.50</td>\n",
       "      <td>0.112245</td>\n",
       "      <td>0.352</td>\n",
       "    </tr>\n",
       "    <tr>\n",
       "      <th>93682.0</th>\n",
       "      <td>0.057202</td>\n",
       "      <td>0.015112</td>\n",
       "      <td>1.00</td>\n",
       "      <td>0.142857</td>\n",
       "      <td>1.000</td>\n",
       "    </tr>\n",
       "    <tr>\n",
       "      <th>93702.0</th>\n",
       "      <td>0.033122</td>\n",
       "      <td>0.021455</td>\n",
       "      <td>0.50</td>\n",
       "      <td>0.091837</td>\n",
       "      <td>0.708</td>\n",
       "    </tr>\n",
       "  </tbody>\n",
       "</table>\n",
       "<p>6107 rows × 5 columns</p>\n",
       "</div>"
      ],
      "text/plain": [
       "         transformed_ferritin       tfr  race-ethnicity  household-income  \\\n",
       "SEQN                                                                        \n",
       "31131.0              0.054718  0.069030            0.75          0.071429   \n",
       "31152.0              0.012784  0.048507            0.00          0.071429   \n",
       "31153.0              0.021476  0.050373            1.00          0.071429   \n",
       "31156.0              0.055331  0.054104            0.75          0.071429   \n",
       "31160.0              0.015272  0.041045            0.50          0.071429   \n",
       "...                       ...       ...             ...               ...   \n",
       "93665.0              0.050513  0.047575            0.50          0.142857   \n",
       "93676.0              0.029820  0.193657            0.75          0.061224   \n",
       "93677.0              0.031086  0.034142            0.50          0.112245   \n",
       "93682.0              0.057202  0.015112            1.00          0.142857   \n",
       "93702.0              0.033122  0.021455            0.50          0.091837   \n",
       "\n",
       "         income-to-poverty-ratio  \n",
       "SEQN                              \n",
       "31131.0                    0.930  \n",
       "31152.0                    0.352  \n",
       "31153.0                    0.206  \n",
       "31156.0                    0.238  \n",
       "31160.0                    0.382  \n",
       "...                          ...  \n",
       "93665.0                    0.824  \n",
       "93676.0                    0.536  \n",
       "93677.0                    0.352  \n",
       "93682.0                    1.000  \n",
       "93702.0                    0.708  \n",
       "\n",
       "[6107 rows x 5 columns]"
      ]
     },
     "execution_count": 15,
     "metadata": {},
     "output_type": "execute_result"
    }
   ],
   "source": [
    "imputed_data_df"
   ]
  },
  {
   "cell_type": "code",
   "execution_count": 16,
   "id": "e954f8b9",
   "metadata": {},
   "outputs": [],
   "source": [
    "# Reverse scaling to get back to original scale for 'transformed_ferritin'\n",
    "imputed_data_df = pd.DataFrame(scaler.inverse_transform(imputed_data_df), \n",
    "                               columns=imputation_features.columns,\n",
    "                              index=imputation_features.index)"
   ]
  },
  {
   "cell_type": "code",
   "execution_count": 17,
   "id": "1d266679",
   "metadata": {},
   "outputs": [
    {
     "data": {
      "text/html": [
       "<div>\n",
       "<style scoped>\n",
       "    .dataframe tbody tr th:only-of-type {\n",
       "        vertical-align: middle;\n",
       "    }\n",
       "\n",
       "    .dataframe tbody tr th {\n",
       "        vertical-align: top;\n",
       "    }\n",
       "\n",
       "    .dataframe thead th {\n",
       "        text-align: right;\n",
       "    }\n",
       "</style>\n",
       "<table border=\"1\" class=\"dataframe\">\n",
       "  <thead>\n",
       "    <tr style=\"text-align: right;\">\n",
       "      <th></th>\n",
       "      <th>transformed_ferritin</th>\n",
       "      <th>tfr</th>\n",
       "      <th>race-ethnicity</th>\n",
       "      <th>household-income</th>\n",
       "      <th>income-to-poverty-ratio</th>\n",
       "    </tr>\n",
       "    <tr>\n",
       "      <th>SEQN</th>\n",
       "      <th></th>\n",
       "      <th></th>\n",
       "      <th></th>\n",
       "      <th></th>\n",
       "      <th></th>\n",
       "    </tr>\n",
       "  </thead>\n",
       "  <tbody>\n",
       "    <tr>\n",
       "      <th>31131.0</th>\n",
       "      <td>102.546098</td>\n",
       "      <td>4.60</td>\n",
       "      <td>4.0</td>\n",
       "      <td>8.0</td>\n",
       "      <td>4.65</td>\n",
       "    </tr>\n",
       "    <tr>\n",
       "      <th>31152.0</th>\n",
       "      <td>24.754231</td>\n",
       "      <td>3.50</td>\n",
       "      <td>1.0</td>\n",
       "      <td>8.0</td>\n",
       "      <td>1.76</td>\n",
       "    </tr>\n",
       "    <tr>\n",
       "      <th>31153.0</th>\n",
       "      <td>40.878436</td>\n",
       "      <td>3.60</td>\n",
       "      <td>5.0</td>\n",
       "      <td>8.0</td>\n",
       "      <td>1.03</td>\n",
       "    </tr>\n",
       "    <tr>\n",
       "      <th>31156.0</th>\n",
       "      <td>103.683064</td>\n",
       "      <td>3.80</td>\n",
       "      <td>4.0</td>\n",
       "      <td>8.0</td>\n",
       "      <td>1.19</td>\n",
       "    </tr>\n",
       "    <tr>\n",
       "      <th>31160.0</th>\n",
       "      <td>29.370646</td>\n",
       "      <td>3.10</td>\n",
       "      <td>3.0</td>\n",
       "      <td>8.0</td>\n",
       "      <td>1.91</td>\n",
       "    </tr>\n",
       "    <tr>\n",
       "      <th>...</th>\n",
       "      <td>...</td>\n",
       "      <td>...</td>\n",
       "      <td>...</td>\n",
       "      <td>...</td>\n",
       "      <td>...</td>\n",
       "    </tr>\n",
       "    <tr>\n",
       "      <th>93665.0</th>\n",
       "      <td>94.744700</td>\n",
       "      <td>3.45</td>\n",
       "      <td>3.0</td>\n",
       "      <td>15.0</td>\n",
       "      <td>4.12</td>\n",
       "    </tr>\n",
       "    <tr>\n",
       "      <th>93676.0</th>\n",
       "      <td>56.357127</td>\n",
       "      <td>11.28</td>\n",
       "      <td>4.0</td>\n",
       "      <td>7.0</td>\n",
       "      <td>2.68</td>\n",
       "    </tr>\n",
       "    <tr>\n",
       "      <th>93677.0</th>\n",
       "      <td>58.706100</td>\n",
       "      <td>2.73</td>\n",
       "      <td>3.0</td>\n",
       "      <td>12.0</td>\n",
       "      <td>1.76</td>\n",
       "    </tr>\n",
       "    <tr>\n",
       "      <th>93682.0</th>\n",
       "      <td>107.153200</td>\n",
       "      <td>1.71</td>\n",
       "      <td>5.0</td>\n",
       "      <td>15.0</td>\n",
       "      <td>5.00</td>\n",
       "    </tr>\n",
       "    <tr>\n",
       "      <th>93702.0</th>\n",
       "      <td>62.482600</td>\n",
       "      <td>2.05</td>\n",
       "      <td>3.0</td>\n",
       "      <td>10.0</td>\n",
       "      <td>3.54</td>\n",
       "    </tr>\n",
       "  </tbody>\n",
       "</table>\n",
       "<p>6107 rows × 5 columns</p>\n",
       "</div>"
      ],
      "text/plain": [
       "         transformed_ferritin    tfr  race-ethnicity  household-income  \\\n",
       "SEQN                                                                     \n",
       "31131.0            102.546098   4.60             4.0               8.0   \n",
       "31152.0             24.754231   3.50             1.0               8.0   \n",
       "31153.0             40.878436   3.60             5.0               8.0   \n",
       "31156.0            103.683064   3.80             4.0               8.0   \n",
       "31160.0             29.370646   3.10             3.0               8.0   \n",
       "...                       ...    ...             ...               ...   \n",
       "93665.0             94.744700   3.45             3.0              15.0   \n",
       "93676.0             56.357127  11.28             4.0               7.0   \n",
       "93677.0             58.706100   2.73             3.0              12.0   \n",
       "93682.0            107.153200   1.71             5.0              15.0   \n",
       "93702.0             62.482600   2.05             3.0              10.0   \n",
       "\n",
       "         income-to-poverty-ratio  \n",
       "SEQN                              \n",
       "31131.0                     4.65  \n",
       "31152.0                     1.76  \n",
       "31153.0                     1.03  \n",
       "31156.0                     1.19  \n",
       "31160.0                     1.91  \n",
       "...                          ...  \n",
       "93665.0                     4.12  \n",
       "93676.0                     2.68  \n",
       "93677.0                     1.76  \n",
       "93682.0                     5.00  \n",
       "93702.0                     3.54  \n",
       "\n",
       "[6107 rows x 5 columns]"
      ]
     },
     "execution_count": 17,
     "metadata": {},
     "output_type": "execute_result"
    }
   ],
   "source": [
    "imputed_data_df"
   ]
  },
  {
   "cell_type": "code",
   "execution_count": 18,
   "id": "d897b9a5",
   "metadata": {},
   "outputs": [
    {
     "name": "stdout",
     "output_type": "stream",
     "text": [
      "True\n",
      "True\n"
     ]
    }
   ],
   "source": [
    "print(nhanes.index.is_unique)\n",
    "print(imputed_data_df.index.is_unique)"
   ]
  },
  {
   "cell_type": "code",
   "execution_count": 19,
   "id": "c91dd42a",
   "metadata": {},
   "outputs": [
    {
     "data": {
      "text/plain": [
       "0"
      ]
     },
     "execution_count": 19,
     "metadata": {},
     "output_type": "execute_result"
    }
   ],
   "source": [
    "imputed_data_df['transformed_ferritin'].isnull().sum()"
   ]
  },
  {
   "cell_type": "code",
   "execution_count": 20,
   "id": "06df2041",
   "metadata": {},
   "outputs": [
    {
     "data": {
      "text/plain": [
       "0"
      ]
     },
     "execution_count": 20,
     "metadata": {},
     "output_type": "execute_result"
    }
   ],
   "source": [
    "imputed_data_df['tfr'].isnull().sum()"
   ]
  },
  {
   "cell_type": "code",
   "execution_count": 21,
   "id": "b58c6cdd",
   "metadata": {},
   "outputs": [
    {
     "name": "stdout",
     "output_type": "stream",
     "text": [
      "True\n"
     ]
    }
   ],
   "source": [
    "print(nhanes.index.equals(imputed_data_df.index))"
   ]
  },
  {
   "cell_type": "code",
   "execution_count": 22,
   "id": "a7582e61",
   "metadata": {},
   "outputs": [],
   "source": [
    "nhanes = nhanes.join(imputed_data_df[['transformed_ferritin','tfr']], \n",
    "                     how='left', rsuffix='_imputed')"
   ]
  },
  {
   "cell_type": "code",
   "execution_count": 23,
   "id": "622d997a",
   "metadata": {},
   "outputs": [
    {
     "data": {
      "text/plain": [
       "0"
      ]
     },
     "execution_count": 23,
     "metadata": {},
     "output_type": "execute_result"
    }
   ],
   "source": [
    "nhanes['transformed_ferritin_imputed'].isnull().sum()"
   ]
  },
  {
   "cell_type": "code",
   "execution_count": 24,
   "id": "047b9ea2",
   "metadata": {},
   "outputs": [
    {
     "data": {
      "text/plain": [
       "0"
      ]
     },
     "execution_count": 24,
     "metadata": {},
     "output_type": "execute_result"
    }
   ],
   "source": [
    "nhanes['tfr_imputed'].isnull().sum()"
   ]
  },
  {
   "cell_type": "code",
   "execution_count": 25,
   "id": "cca04b7e",
   "metadata": {},
   "outputs": [
    {
     "data": {
      "text/html": [
       "<div>\n",
       "<style scoped>\n",
       "    .dataframe tbody tr th:only-of-type {\n",
       "        vertical-align: middle;\n",
       "    }\n",
       "\n",
       "    .dataframe tbody tr th {\n",
       "        vertical-align: top;\n",
       "    }\n",
       "\n",
       "    .dataframe thead th {\n",
       "        text-align: right;\n",
       "    }\n",
       "</style>\n",
       "<table border=\"1\" class=\"dataframe\">\n",
       "  <thead>\n",
       "    <tr style=\"text-align: right;\">\n",
       "      <th></th>\n",
       "      <th>transformed_ferritin</th>\n",
       "      <th>transformed_ferritin_imputed</th>\n",
       "    </tr>\n",
       "  </thead>\n",
       "  <tbody>\n",
       "    <tr>\n",
       "      <th>count</th>\n",
       "      <td>5711.000000</td>\n",
       "      <td>6107.000000</td>\n",
       "    </tr>\n",
       "    <tr>\n",
       "      <th>mean</th>\n",
       "      <td>56.933053</td>\n",
       "      <td>56.922776</td>\n",
       "    </tr>\n",
       "    <tr>\n",
       "      <th>std</th>\n",
       "      <td>62.163773</td>\n",
       "      <td>60.441773</td>\n",
       "    </tr>\n",
       "    <tr>\n",
       "      <th>min</th>\n",
       "      <td>1.040000</td>\n",
       "      <td>1.040000</td>\n",
       "    </tr>\n",
       "    <tr>\n",
       "      <th>25%</th>\n",
       "      <td>21.285638</td>\n",
       "      <td>22.442494</td>\n",
       "    </tr>\n",
       "    <tr>\n",
       "      <th>50%</th>\n",
       "      <td>40.878436</td>\n",
       "      <td>42.027027</td>\n",
       "    </tr>\n",
       "    <tr>\n",
       "      <th>75%</th>\n",
       "      <td>72.517300</td>\n",
       "      <td>72.350750</td>\n",
       "    </tr>\n",
       "    <tr>\n",
       "      <th>max</th>\n",
       "      <td>1856.104300</td>\n",
       "      <td>1856.104300</td>\n",
       "    </tr>\n",
       "  </tbody>\n",
       "</table>\n",
       "</div>"
      ],
      "text/plain": [
       "       transformed_ferritin  transformed_ferritin_imputed\n",
       "count           5711.000000                   6107.000000\n",
       "mean              56.933053                     56.922776\n",
       "std               62.163773                     60.441773\n",
       "min                1.040000                      1.040000\n",
       "25%               21.285638                     22.442494\n",
       "50%               40.878436                     42.027027\n",
       "75%               72.517300                     72.350750\n",
       "max             1856.104300                   1856.104300"
      ]
     },
     "execution_count": 25,
     "metadata": {},
     "output_type": "execute_result"
    }
   ],
   "source": [
    "# Displaying a summary to verify the imputation\n",
    "nhanes[['transformed_ferritin', 'transformed_ferritin_imputed']].describe()"
   ]
  },
  {
   "cell_type": "code",
   "execution_count": 26,
   "id": "f5ec576e",
   "metadata": {},
   "outputs": [
    {
     "data": {
      "text/html": [
       "<div>\n",
       "<style scoped>\n",
       "    .dataframe tbody tr th:only-of-type {\n",
       "        vertical-align: middle;\n",
       "    }\n",
       "\n",
       "    .dataframe tbody tr th {\n",
       "        vertical-align: top;\n",
       "    }\n",
       "\n",
       "    .dataframe thead th {\n",
       "        text-align: right;\n",
       "    }\n",
       "</style>\n",
       "<table border=\"1\" class=\"dataframe\">\n",
       "  <thead>\n",
       "    <tr style=\"text-align: right;\">\n",
       "      <th></th>\n",
       "      <th>tfr</th>\n",
       "      <th>tfr_imputed</th>\n",
       "    </tr>\n",
       "  </thead>\n",
       "  <tbody>\n",
       "    <tr>\n",
       "      <th>count</th>\n",
       "      <td>5684.000000</td>\n",
       "      <td>6107.000000</td>\n",
       "    </tr>\n",
       "    <tr>\n",
       "      <th>mean</th>\n",
       "      <td>3.681332</td>\n",
       "      <td>3.687878</td>\n",
       "    </tr>\n",
       "    <tr>\n",
       "      <th>std</th>\n",
       "      <td>2.296492</td>\n",
       "      <td>2.238144</td>\n",
       "    </tr>\n",
       "    <tr>\n",
       "      <th>min</th>\n",
       "      <td>0.900000</td>\n",
       "      <td>0.900000</td>\n",
       "    </tr>\n",
       "    <tr>\n",
       "      <th>25%</th>\n",
       "      <td>2.500000</td>\n",
       "      <td>2.555000</td>\n",
       "    </tr>\n",
       "    <tr>\n",
       "      <th>50%</th>\n",
       "      <td>3.100000</td>\n",
       "      <td>3.160000</td>\n",
       "    </tr>\n",
       "    <tr>\n",
       "      <th>75%</th>\n",
       "      <td>4.062500</td>\n",
       "      <td>4.100000</td>\n",
       "    </tr>\n",
       "    <tr>\n",
       "      <th>max</th>\n",
       "      <td>54.500000</td>\n",
       "      <td>54.500000</td>\n",
       "    </tr>\n",
       "  </tbody>\n",
       "</table>\n",
       "</div>"
      ],
      "text/plain": [
       "               tfr  tfr_imputed\n",
       "count  5684.000000  6107.000000\n",
       "mean      3.681332     3.687878\n",
       "std       2.296492     2.238144\n",
       "min       0.900000     0.900000\n",
       "25%       2.500000     2.555000\n",
       "50%       3.100000     3.160000\n",
       "75%       4.062500     4.100000\n",
       "max      54.500000    54.500000"
      ]
     },
     "execution_count": 26,
     "metadata": {},
     "output_type": "execute_result"
    }
   ],
   "source": [
    "nhanes[['tfr', 'tfr_imputed']].describe()"
   ]
  },
  {
   "cell_type": "code",
   "execution_count": 27,
   "id": "7d847a67",
   "metadata": {},
   "outputs": [],
   "source": [
    "nhanes['months-postpartum']=nhanes['months-postpartum'].fillna(0)"
   ]
  },
  {
   "cell_type": "code",
   "execution_count": 28,
   "id": "ae0025e9",
   "metadata": {},
   "outputs": [
    {
     "data": {
      "text/plain": [
       "0"
      ]
     },
     "execution_count": 28,
     "metadata": {},
     "output_type": "execute_result"
    }
   ],
   "source": [
    "nhanes['months-postpartum'].isnull().sum()"
   ]
  },
  {
   "cell_type": "markdown",
   "id": "e90c3261",
   "metadata": {},
   "source": [
    "## Save csv"
   ]
  },
  {
   "cell_type": "code",
   "execution_count": 29,
   "id": "fb90294c",
   "metadata": {},
   "outputs": [],
   "source": [
    "nhanes.to_csv('data/nhanes.csv', index=False)"
   ]
  }
 ],
 "metadata": {
  "kernelspec": {
   "display_name": "Python 3 (ipykernel)",
   "language": "python",
   "name": "python3"
  },
  "language_info": {
   "codemirror_mode": {
    "name": "ipython",
    "version": 3
   },
   "file_extension": ".py",
   "mimetype": "text/x-python",
   "name": "python",
   "nbconvert_exporter": "python",
   "pygments_lexer": "ipython3",
   "version": "3.11.4"
  }
 },
 "nbformat": 4,
 "nbformat_minor": 5
}
