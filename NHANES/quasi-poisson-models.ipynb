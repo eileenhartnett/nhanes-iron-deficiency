{
 "cells": [
  {
   "cell_type": "markdown",
   "id": "69be5b7a",
   "metadata": {},
   "source": [
    "# NHANES - Quasi-Poisson Regression"
   ]
  },
  {
   "cell_type": "markdown",
   "id": "931d30ac",
   "metadata": {},
   "source": [
    "Poisson regression can also be used for analysis of cross‐sectional studies with binary outcomes to provide correct estimates of the prevalence ratio and is considered a better alternative than logistic regression, since the prevalence ratio is more interpretable and easier to communicate."
   ]
  },
  {
   "cell_type": "markdown",
   "id": "b589089e",
   "metadata": {},
   "source": [
    "## Load libraries"
   ]
  },
  {
   "cell_type": "code",
   "execution_count": 2,
   "id": "ee00ee0a",
   "metadata": {},
   "outputs": [],
   "source": [
    "library(dplyr)\n",
    "library(ggplot2)\n",
    "library(survey)\n",
    "library(MASS);"
   ]
  },
  {
   "cell_type": "markdown",
   "id": "ced0a7b5",
   "metadata": {},
   "source": [
    "## Load data"
   ]
  },
  {
   "cell_type": "code",
   "execution_count": 3,
   "id": "1f725eba",
   "metadata": {},
   "outputs": [],
   "source": [
    "nhanes <- read.csv(\"data/nhanes.csv\")"
   ]
  },
  {
   "cell_type": "markdown",
   "id": "4eaa82a5",
   "metadata": {},
   "source": [
    "## Set up survey design object\n"
   ]
  },
  {
   "cell_type": "code",
   "execution_count": 4,
   "id": "1c308112",
   "metadata": {},
   "outputs": [],
   "source": [
    "design <- svydesign(ids = ~masked.variance.psu, \n",
    "                           strata = ~masked.variance.stratum, \n",
    "                           weights = ~MEC10YR,\n",
    "                           nest = TRUE,\n",
    "                           data = nhanes)"
   ]
  },
  {
   "cell_type": "code",
   "execution_count": 5,
   "id": "a4c62c5b",
   "metadata": {
    "scrolled": true
   },
   "outputs": [
    {
     "name": "stdout",
     "output_type": "stream",
     "text": [
      "Stratified 1 - level Cluster Sampling design (with replacement)\n",
      "With (153) clusters.\n",
      "svydesign(ids = ~masked.variance.psu, strata = ~masked.variance.stratum, \n",
      "    weights = ~MEC10YR, nest = TRUE, data = nhanes)\n"
     ]
    }
   ],
   "source": [
    "# View the survey design object\n",
    "print(design)"
   ]
  },
  {
   "cell_type": "markdown",
   "id": "8e6a16b5",
   "metadata": {},
   "source": [
    "## Quasipoisson models"
   ]
  },
  {
   "cell_type": "markdown",
   "id": "453391ec",
   "metadata": {},
   "source": [
    "### Unadjusted"
   ]
  },
  {
   "cell_type": "markdown",
   "id": "86048740",
   "metadata": {
    "heading_collapsed": true
   },
   "source": [
    "##### Transferin receptor"
   ]
  },
  {
   "cell_type": "markdown",
   "id": "4fcf8b28",
   "metadata": {
    "hidden": true
   },
   "source": [
    "###### Not pregnant"
   ]
  },
  {
   "cell_type": "code",
   "execution_count": null,
   "id": "736f5c1d",
   "metadata": {
    "hidden": true
   },
   "outputs": [],
   "source": [
    "# Fit the model\n",
    "model_depression <- svyglm(depression ~ ID_tfr, \n",
    "                           design, \n",
    "                           family = quasipoisson(),\n",
    "                           subset = (pregnancy.status == 0))\n",
    "\n",
    "# Print the model summary\n",
    "summary(model_depression)"
   ]
  },
  {
   "cell_type": "markdown",
   "id": "3e8374f3",
   "metadata": {
    "hidden": true
   },
   "source": [
    "###### Pregnant"
   ]
  },
  {
   "cell_type": "code",
   "execution_count": null,
   "id": "97b83be5",
   "metadata": {
    "hidden": true
   },
   "outputs": [],
   "source": [
    "# Fit model\n",
    "model_depression <- svyglm(depression ~ ID_tfr, design, family = quasipoisson(),\n",
    "                           subset = (pregnancy.status == 1))\n",
    "\n",
    "# Print the model summary\n",
    "summary(model_depression)"
   ]
  },
  {
   "cell_type": "markdown",
   "id": "88be1216",
   "metadata": {
    "hidden": true
   },
   "source": [
    "###### Postpartum"
   ]
  },
  {
   "cell_type": "code",
   "execution_count": null,
   "id": "b3a68dac",
   "metadata": {
    "hidden": true
   },
   "outputs": [],
   "source": [
    "# Fit model\n",
    "model_depression <- svyglm(depression ~ ID_tfr, design, family = quasipoisson(),\n",
    "                           subset = (pregnancy.status == 2))\n",
    "\n",
    "# Print the model summary\n",
    "summary(model_depression)"
   ]
  },
  {
   "cell_type": "markdown",
   "id": "a8d1a887",
   "metadata": {
    "heading_collapsed": true
   },
   "source": [
    "#### Ferritin"
   ]
  },
  {
   "cell_type": "markdown",
   "id": "016f7a9b",
   "metadata": {
    "hidden": true
   },
   "source": [
    "###### Not pregnant"
   ]
  },
  {
   "cell_type": "code",
   "execution_count": null,
   "id": "1077e3ce",
   "metadata": {
    "hidden": true,
    "scrolled": true
   },
   "outputs": [],
   "source": [
    "# Fit the model\n",
    "model_depression <- svyglm(depression ~ ID_ferr, design, family = quasipoisson(),\n",
    "                           subset = (pregnancy.status == 0))\n",
    "\n",
    "# Print the model summary\n",
    "summary(model_depression)"
   ]
  },
  {
   "cell_type": "markdown",
   "id": "f576d64f",
   "metadata": {
    "hidden": true
   },
   "source": [
    "###### Pregnant"
   ]
  },
  {
   "cell_type": "code",
   "execution_count": null,
   "id": "c556b99d",
   "metadata": {
    "hidden": true
   },
   "outputs": [],
   "source": [
    "# Fit model\n",
    "model_depression <- svyglm(depression ~ ID_ferr, design, family = quasipoisson(),\n",
    "                           subset = (pregnancy.status == 1))\n",
    "\n",
    "# Print the model summary\n",
    "summary(model_depression)"
   ]
  },
  {
   "cell_type": "markdown",
   "id": "24a09470",
   "metadata": {
    "hidden": true
   },
   "source": [
    "###### Postpartum"
   ]
  },
  {
   "cell_type": "code",
   "execution_count": null,
   "id": "21f75934",
   "metadata": {
    "hidden": true
   },
   "outputs": [],
   "source": [
    "# Fit the negative binomial regression model\n",
    "model_depression <- svyglm(depression ~ ID_ferr, design, family = quasipoisson(),\n",
    "                           subset = (pregnancy.status == 2))\n",
    "\n",
    "# Print the model summary\n",
    "summary(model_depression)"
   ]
  },
  {
   "cell_type": "markdown",
   "id": "25b68a07",
   "metadata": {},
   "source": [
    "### Adjusted models: Low-income as an interaction term"
   ]
  },
  {
   "cell_type": "markdown",
   "id": "1464bbd0",
   "metadata": {},
   "source": [
    "#### Transferrin Receptor"
   ]
  },
  {
   "cell_type": "markdown",
   "id": "f620fa37",
   "metadata": {},
   "source": [
    "###### Not Pregnant"
   ]
  },
  {
   "cell_type": "code",
   "execution_count": 6,
   "id": "cabf670a",
   "metadata": {},
   "outputs": [
    {
     "data": {
      "text/plain": [
       "\n",
       "Call:\n",
       "svyglm(formula = depression ~ ID_tfr * factor(low_income), design = design, \n",
       "    subset = (pregnancy.status == 0), family = quasipoisson())\n",
       "\n",
       "Survey design:\n",
       "svydesign(ids = ~masked.variance.psu, strata = ~masked.variance.stratum, \n",
       "    weights = ~MEC10YR, nest = TRUE, data = nhanes)\n",
       "\n",
       "Coefficients:\n",
       "                           Estimate Std. Error t value Pr(>|t|)    \n",
       "(Intercept)                -2.62111    0.09971 -26.288  < 2e-16 ***\n",
       "ID_tfr                     -0.67041    0.49689  -1.349   0.1814    \n",
       "factor(low_income)1         0.80593    0.10503   7.673 5.37e-11 ***\n",
       "ID_tfr:factor(low_income)1  0.96748    0.55526   1.742   0.0856 .  \n",
       "---\n",
       "Signif. codes:  0 ‘***’ 0.001 ‘**’ 0.01 ‘*’ 0.05 ‘.’ 0.1 ‘ ’ 1\n",
       "\n",
       "(Dispersion parameter for quasipoisson family taken to be 0.8928366)\n",
       "\n",
       "Number of Fisher Scoring iterations: 6\n"
      ]
     },
     "metadata": {},
     "output_type": "display_data"
    }
   ],
   "source": [
    "# Fit the  model \n",
    "model_depression <- svyglm(depression ~ ID_tfr * factor(low_income), \n",
    "                           design, \n",
    "                           family = quasipoisson(),\n",
    "                           subset = (pregnancy.status == 0))\n",
    "\n",
    "# Print the model summary\n",
    "summary(model_depression)"
   ]
  },
  {
   "cell_type": "markdown",
   "id": "b68181f0",
   "metadata": {},
   "source": [
    "**Results Interpretation:**\n",
    "- factor(low_income)1 0.8424: This shows the difference in the log count of depression between low-income individuals and those not categorized as low income, keeping ID_tfr constant. The positive value indicates that being low income is associated with an increase in the log count of depression. This effect is statistically significant (p = 5.52e-11), strongly suggesting that low income is associated with higher depression counts.\n",
    "\n",
    "- The significant positive effect of low income on depression counts suggests that low-income status is a risk factor for higher counts of depression, independent of ID_tfr.\n",
    "\n",
    "- The model suggests a potential interaction between ID_tfr and low income, indicating that the effect of ID_tfr on depression might differ by income status, although this indications a possible trend as the interaction is not statistically significant.\n",
    "\n",
    "- The non-significant effect of ID_tfr alone suggests that, without considering income status, ID_tfr does not have a statistically significant association with depression counts in this analysis."
   ]
  },
  {
   "cell_type": "code",
   "execution_count": 7,
   "id": "cd8bb096",
   "metadata": {},
   "outputs": [
    {
     "data": {
      "text/plain": [
       "\n",
       "Call:\n",
       "svyglm(formula = depression ~ tfr * factor(low_income), design = design, \n",
       "    subset = (pregnancy.status == 0), family = quasipoisson())\n",
       "\n",
       "Survey design:\n",
       "svydesign(ids = ~masked.variance.psu, strata = ~masked.variance.stratum, \n",
       "    weights = ~MEC10YR, nest = TRUE, data = nhanes)\n",
       "\n",
       "Coefficients:\n",
       "                        Estimate Std. Error t value Pr(>|t|)    \n",
       "(Intercept)             -2.56158    0.16179 -15.833  < 2e-16 ***\n",
       "tfr                     -0.02011    0.03781  -0.532  0.59634    \n",
       "factor(low_income)1      0.68697    0.16917   4.061  0.00012 ***\n",
       "tfr:factor(low_income)1  0.03953    0.04038   0.979  0.33077    \n",
       "---\n",
       "Signif. codes:  0 ‘***’ 0.001 ‘**’ 0.01 ‘*’ 0.05 ‘.’ 0.1 ‘ ’ 1\n",
       "\n",
       "(Dispersion parameter for quasipoisson family taken to be 0.8927989)\n",
       "\n",
       "Number of Fisher Scoring iterations: 6\n"
      ]
     },
     "metadata": {},
     "output_type": "display_data"
    }
   ],
   "source": [
    "# Fit the negative binomial regression model \n",
    "model_depression <- svyglm(depression ~ tfr * factor(low_income), design, family = quasipoisson(),\n",
    "                           subset = (pregnancy.status == 0))\n",
    "\n",
    "# Print the model summary\n",
    "summary(model_depression)"
   ]
  },
  {
   "cell_type": "markdown",
   "id": "abd825ae",
   "metadata": {},
   "source": [
    "###### Pregnant"
   ]
  },
  {
   "cell_type": "code",
   "execution_count": 8,
   "id": "9b75117f",
   "metadata": {},
   "outputs": [
    {
     "data": {
      "text/plain": [
       "\n",
       "Call:\n",
       "svyglm(formula = depression ~ ID_tfr * factor(low_income), design = design, \n",
       "    subset = (pregnancy.status == 1), family = quasipoisson())\n",
       "\n",
       "Survey design:\n",
       "svydesign(ids = ~masked.variance.psu, strata = ~masked.variance.stratum, \n",
       "    weights = ~MEC10YR, nest = TRUE, data = nhanes)\n",
       "\n",
       "Coefficients:\n",
       "                           Estimate Std. Error t value Pr(>|t|)    \n",
       "(Intercept)                 -3.1534     0.3466  -9.097 7.88e-13 ***\n",
       "ID_tfr                       0.3786     1.1855   0.319   0.7506    \n",
       "factor(low_income)1          0.9780     0.3714   2.633   0.0108 *  \n",
       "ID_tfr:factor(low_income)1  -0.3969     1.3005  -0.305   0.7613    \n",
       "---\n",
       "Signif. codes:  0 ‘***’ 0.001 ‘**’ 0.01 ‘*’ 0.05 ‘.’ 0.1 ‘ ’ 1\n",
       "\n",
       "(Dispersion parameter for quasipoisson family taken to be 0.9325424)\n",
       "\n",
       "Number of Fisher Scoring iterations: 6\n"
      ]
     },
     "metadata": {},
     "output_type": "display_data"
    }
   ],
   "source": [
    "# Fit the negative binomial regression model \n",
    "model_depression <- svyglm(depression ~ ID_tfr * factor(low_income), \n",
    "                           design, family = quasipoisson(),\n",
    "                           subset = (pregnancy.status == 1))\n",
    "\n",
    "# Print the model summary\n",
    "summary(model_depression)"
   ]
  },
  {
   "cell_type": "markdown",
   "id": "0391c94b",
   "metadata": {},
   "source": [
    "**Results interpretation:**\n",
    "- factor(low_income)1 1.0181: This shows the difference in the log count of depression between low-income individuals and their non-low-income counterparts, keeping ID_tfr constant. The positive value indicates that low income is associated with an increase in the log count of depression. This effect is statistically significant (p = 0.0175), suggesting that low income is a risk factor for higher depression counts among pregnant individuals.\n",
    "\n",
    "- Main Effects: We found a significant association between low income and increased depression counts among pregnant individuals.\n",
    "\n",
    "- Interaction Effect: The model explored whether the effect of ID_tfr on depression varies by income level through an interaction term, but found no significant evidence to confirm this hypothesis in the data.\n",
    "\n",
    "- Significance and Impact: The lack of a significant association between ID_tfr and depression, both individually and in interaction with low income, suggests that, within this pregnant population subset, other factors associated with low income may be more critical drivers of depression than ID_tfr levels alone."
   ]
  },
  {
   "cell_type": "code",
   "execution_count": null,
   "id": "ec78dcf5",
   "metadata": {},
   "outputs": [],
   "source": [
    "# Low N for these categories below, not sure if model above results are useful"
   ]
  },
  {
   "cell_type": "code",
   "execution_count": null,
   "id": "34dd3ea0",
   "metadata": {},
   "outputs": [],
   "source": [
    "# Overlap count \n",
    "count_overlap <- nrow(subset(nhanes, pregnancy.status == 1 & low_income == 1 & ID_tfr == 1))\n",
    "\n",
    "# Print the count\n",
    "print(count_overlap)"
   ]
  },
  {
   "cell_type": "code",
   "execution_count": null,
   "id": "30952257",
   "metadata": {},
   "outputs": [],
   "source": [
    "# Overlap count \n",
    "count_overlap <- nrow(subset(nhanes, pregnancy.status == 1 & low_income == 0 & ID_tfr == 1))\n",
    "\n",
    "# Print the count\n",
    "print(count_overlap)"
   ]
  },
  {
   "cell_type": "code",
   "execution_count": null,
   "id": "81e08c9c",
   "metadata": {},
   "outputs": [],
   "source": [
    "# Overlap count \n",
    "count_overlap <- nrow(subset(nhanes, pregnancy.status == 1 & low_income == 0 & ID_tfr == 0))\n",
    "\n",
    "# Print the count\n",
    "print(count_overlap)"
   ]
  },
  {
   "cell_type": "code",
   "execution_count": 9,
   "id": "4291490a",
   "metadata": {},
   "outputs": [
    {
     "data": {
      "text/plain": [
       "\n",
       "Call:\n",
       "svyglm(formula = depression ~ tfr * factor(low_income), design = design, \n",
       "    subset = (pregnancy.status == 1), family = quasipoisson())\n",
       "\n",
       "Survey design:\n",
       "svydesign(ids = ~masked.variance.psu, strata = ~masked.variance.stratum, \n",
       "    weights = ~MEC10YR, nest = TRUE, data = nhanes)\n",
       "\n",
       "Coefficients:\n",
       "                        Estimate Std. Error t value Pr(>|t|)    \n",
       "(Intercept)              -3.6031     0.6603  -5.457 1.01e-06 ***\n",
       "tfr                       0.1365     0.1236   1.104   0.2741    \n",
       "factor(low_income)1       1.8241     0.8061   2.263   0.0273 *  \n",
       "tfr:factor(low_income)1  -0.2521     0.1738  -1.450   0.1523    \n",
       "---\n",
       "Signif. codes:  0 ‘***’ 0.001 ‘**’ 0.01 ‘*’ 0.05 ‘.’ 0.1 ‘ ’ 1\n",
       "\n",
       "(Dispersion parameter for quasipoisson family taken to be 0.9285795)\n",
       "\n",
       "Number of Fisher Scoring iterations: 6\n"
      ]
     },
     "metadata": {},
     "output_type": "display_data"
    }
   ],
   "source": [
    "# Fit the negative binomial regression model \n",
    "model_depression <- svyglm(depression ~ tfr * factor(low_income), \n",
    "                           design, family = quasipoisson(),\n",
    "                           subset = (pregnancy.status == 1))\n",
    "\n",
    "# Print the model summary\n",
    "summary(model_depression)"
   ]
  },
  {
   "cell_type": "markdown",
   "id": "b2bcc8d8",
   "metadata": {},
   "source": [
    "###### Postpartum"
   ]
  },
  {
   "cell_type": "code",
   "execution_count": null,
   "id": "9d1b2921",
   "metadata": {},
   "outputs": [],
   "source": [
    "# N.B. N < 30, there are only 11 partcipants who are in the low-income, postpartum, low tfr category so this \n",
    "# model's results should not be used to draw any conclusions"
   ]
  },
  {
   "cell_type": "code",
   "execution_count": 10,
   "id": "ef9aaa0b",
   "metadata": {},
   "outputs": [
    {
     "data": {
      "text/plain": [
       "\n",
       "Call:\n",
       "svyglm(formula = depression ~ ID_tfr * factor(low_income), design = design, \n",
       "    subset = (pregnancy.status == 2), family = quasipoisson())\n",
       "\n",
       "Survey design:\n",
       "svydesign(ids = ~masked.variance.psu, strata = ~masked.variance.stratum, \n",
       "    weights = ~MEC10YR, nest = TRUE, data = nhanes)\n",
       "\n",
       "Coefficients:\n",
       "                           Estimate Std. Error t value Pr(>|t|)    \n",
       "(Intercept)                 -2.6573     0.4117  -6.454 7.25e-08 ***\n",
       "ID_tfr                     -12.6453     0.8355 -15.136  < 2e-16 ***\n",
       "factor(low_income)1          0.1517     0.4760   0.319    0.751    \n",
       "ID_tfr:factor(low_income)1  11.9777     1.1765  10.181 3.84e-13 ***\n",
       "---\n",
       "Signif. codes:  0 ‘***’ 0.001 ‘**’ 0.01 ‘*’ 0.05 ‘.’ 0.1 ‘ ’ 1\n",
       "\n",
       "(Dispersion parameter for quasipoisson family taken to be 0.9234215)\n",
       "\n",
       "Number of Fisher Scoring iterations: 13\n"
      ]
     },
     "metadata": {},
     "output_type": "display_data"
    }
   ],
   "source": [
    "# Fit the negative binomial regression model \n",
    "model_depression <- svyglm(depression ~ ID_tfr * factor(low_income), \n",
    "                           design, family = quasipoisson(),\n",
    "                           subset = (pregnancy.status == 2))\n",
    "\n",
    "# Print the model summary\n",
    "summary(model_depression)"
   ]
  },
  {
   "cell_type": "markdown",
   "id": "e5195e0a",
   "metadata": {},
   "source": [
    "**Results interpretation:***\n",
    "\n",
    "- ID_tfr:factor(low_income)1 12.7710: This interaction term suggests a significant modification of the effect of ID_tfr on depression by low-income status. The positive value is large, and the highly significant p-value (1.01e-13) indicates that the relationship between ID_tfr and depression becomes substantially more positive (less negative or potentially even positive) among low-income individuals compared to those not low-income. Like the main effect of ID_tfr, this large coefficient suggests a dramatic change and should be interpreted with caution, possibly indicating data peculiarities or the need for a more nuanced model specification."
   ]
  },
  {
   "cell_type": "code",
   "execution_count": null,
   "id": "9e45ead0",
   "metadata": {},
   "outputs": [],
   "source": [
    "# Overlap count \n",
    "count_overlap <- nrow(subset(nhanes, pregnancy.status == 2 & low_income == 1 & ID_tfr == 1))\n",
    "\n",
    "# Print the count\n",
    "print(count_overlap)"
   ]
  },
  {
   "cell_type": "code",
   "execution_count": 11,
   "id": "fa7a9776",
   "metadata": {},
   "outputs": [
    {
     "data": {
      "text/plain": [
       "\n",
       "Call:\n",
       "svyglm(formula = depression ~ tfr * factor(low_income), design = design, \n",
       "    subset = (pregnancy.status == 2), family = quasipoisson())\n",
       "\n",
       "Survey design:\n",
       "svydesign(ids = ~masked.variance.psu, strata = ~masked.variance.stratum, \n",
       "    weights = ~MEC10YR, nest = TRUE, data = nhanes)\n",
       "\n",
       "Coefficients:\n",
       "                        Estimate Std. Error t value Pr(>|t|)  \n",
       "(Intercept)              -2.2019     1.0281  -2.142   0.0378 *\n",
       "tfr                      -0.1379     0.2493  -0.553   0.5830  \n",
       "factor(low_income)1      -0.1866     1.0893  -0.171   0.8648  \n",
       "tfr:factor(low_income)1   0.1046     0.2571   0.407   0.6860  \n",
       "---\n",
       "Signif. codes:  0 ‘***’ 0.001 ‘**’ 0.01 ‘*’ 0.05 ‘.’ 0.1 ‘ ’ 1\n",
       "\n",
       "(Dispersion parameter for quasipoisson family taken to be 0.9287077)\n",
       "\n",
       "Number of Fisher Scoring iterations: 6\n"
      ]
     },
     "metadata": {},
     "output_type": "display_data"
    }
   ],
   "source": [
    "# Fit the quasipoisson regression model \n",
    "model_depression <- svyglm(depression ~ tfr * factor(low_income), \n",
    "                           design, family = quasipoisson(),\n",
    "                           subset = (pregnancy.status == 2))\n",
    "\n",
    "# Print the model summary\n",
    "summary(model_depression)"
   ]
  },
  {
   "cell_type": "code",
   "execution_count": 30,
   "id": "09fbdea4",
   "metadata": {},
   "outputs": [],
   "source": [
    "# Get the coefficients\n",
    "coefficients <- coef(model_depression)"
   ]
  },
  {
   "cell_type": "markdown",
   "id": "147f13c2",
   "metadata": {},
   "source": [
    "#### Ferritin"
   ]
  },
  {
   "cell_type": "markdown",
   "id": "c02f8cd0",
   "metadata": {},
   "source": [
    "###### Not Pregnant"
   ]
  },
  {
   "cell_type": "code",
   "execution_count": 18,
   "id": "7e1fd681",
   "metadata": {
    "scrolled": true
   },
   "outputs": [
    {
     "data": {
      "text/plain": [
       "\n",
       "Call:\n",
       "svyglm(formula = depression ~ ID_ferr * factor(low_income), design = design, \n",
       "    subset = (pregnancy.status == 0), family = quasipoisson())\n",
       "\n",
       "Survey design:\n",
       "svydesign(ids = ~masked.variance.psu, strata = ~masked.variance.stratum, \n",
       "    weights = ~MEC10YR, nest = TRUE, data = nhanes)\n",
       "\n",
       "Coefficients:\n",
       "                            Estimate Std. Error t value Pr(>|t|)    \n",
       "(Intercept)                  -2.6470     0.1027 -25.772  < 2e-16 ***\n",
       "ID_ferr                       0.1430     0.2241   0.638    0.525    \n",
       "factor(low_income)1           0.8556     0.1056   8.102 8.32e-12 ***\n",
       "ID_ferr:factor(low_income)1  -0.2296     0.2794  -0.822    0.414    \n",
       "---\n",
       "Signif. codes:  0 ‘***’ 0.001 ‘**’ 0.01 ‘*’ 0.05 ‘.’ 0.1 ‘ ’ 1\n",
       "\n",
       "(Dispersion parameter for quasipoisson family taken to be 0.8928366)\n",
       "\n",
       "Number of Fisher Scoring iterations: 6\n"
      ]
     },
     "metadata": {},
     "output_type": "display_data"
    }
   ],
   "source": [
    "# Fit the negative binomial regression model \n",
    "model_depression <- svyglm(depression ~ ID_ferr * factor(low_income), \n",
    "                           design, family = quasipoisson(),\n",
    "                           subset = (pregnancy.status == 0))\n",
    "\n",
    "# Print the model summary\n",
    "summary(model_depression)"
   ]
  },
  {
   "cell_type": "markdown",
   "id": "c22a9fd9",
   "metadata": {},
   "source": [
    "**Results Interpetation:**\n",
    "- factor(low_income)1 0.8903: This shows the difference in the log count of depression between low-income individuals and those not classified as low income, keeping ID_ferr constant. The positive value indicates that being low income is associated with an increase in the log count of depression. This effect is statistically significant (p = 9.7e-12), strongly suggesting that low income is associated with higher depression counts.\n",
    "\n",
    "- ID_ferr:factor(low_income)1 -0.2159: This interaction term represents how the association between ID_ferr and depression changes for low-income individuals compared to those not in the low-income category. The interaction is not statistically significant (p = 0.472), indicating uncertainty about whether the relationship between ID_ferr and depression indeed differs by income status in this population."
   ]
  },
  {
   "cell_type": "markdown",
   "id": "6913bcb0",
   "metadata": {},
   "source": [
    "###### Pregnant"
   ]
  },
  {
   "cell_type": "code",
   "execution_count": 19,
   "id": "66f88ee1",
   "metadata": {},
   "outputs": [
    {
     "data": {
      "text/plain": [
       "\n",
       "Call:\n",
       "svyglm(formula = depression ~ ID_ferr * factor(low_income), design = design, \n",
       "    subset = (pregnancy.status == 1), family = quasipoisson())\n",
       "\n",
       "Survey design:\n",
       "svydesign(ids = ~masked.variance.psu, strata = ~masked.variance.stratum, \n",
       "    weights = ~MEC10YR, nest = TRUE, data = nhanes)\n",
       "\n",
       "Coefficients:\n",
       "                            Estimate Std. Error t value Pr(>|t|)    \n",
       "(Intercept)                  -3.1045     0.3819  -8.129 3.31e-11 ***\n",
       "ID_ferr                      -0.3044     0.7598  -0.401   0.6901    \n",
       "factor(low_income)1           0.9094     0.4208   2.161   0.0348 *  \n",
       "ID_ferr:factor(low_income)1   0.3629     0.8493   0.427   0.6707    \n",
       "---\n",
       "Signif. codes:  0 ‘***’ 0.001 ‘**’ 0.01 ‘*’ 0.05 ‘.’ 0.1 ‘ ’ 1\n",
       "\n",
       "(Dispersion parameter for quasipoisson family taken to be 0.9325424)\n",
       "\n",
       "Number of Fisher Scoring iterations: 6\n"
      ]
     },
     "metadata": {},
     "output_type": "display_data"
    }
   ],
   "source": [
    "# Fit the model\n",
    "model_depression1 <- svyglm(depression ~ ID_ferr * factor(low_income), \n",
    "                            design, family = quasipoisson(),\n",
    "                           subset = (pregnancy.status == 1))\n",
    "\n",
    "# Print the model summary\n",
    "summary(model_depression1)"
   ]
  },
  {
   "cell_type": "code",
   "execution_count": null,
   "id": "4f49c4fd",
   "metadata": {},
   "outputs": [],
   "source": [
    "exp(coef(model_depression1))\n"
   ]
  },
  {
   "cell_type": "code",
   "execution_count": null,
   "id": "9f9fcdf0",
   "metadata": {},
   "outputs": [],
   "source": [
    "exp(confint(model_depression1))"
   ]
  },
  {
   "cell_type": "code",
   "execution_count": null,
   "id": "3f67438d",
   "metadata": {},
   "outputs": [],
   "source": []
  },
  {
   "cell_type": "markdown",
   "id": "c799ee4b",
   "metadata": {},
   "source": [
    "####### N"
   ]
  },
  {
   "cell_type": "code",
   "execution_count": null,
   "id": "0daa3034",
   "metadata": {},
   "outputs": [],
   "source": [
    "# Overlap count \n",
    "count_overlap <- nrow(subset(nhanes, pregnancy.status == 1 & low_income == 1 & ID_ferr == 1))\n",
    "\n",
    "# Print the count\n",
    "print(count_overlap)"
   ]
  },
  {
   "cell_type": "code",
   "execution_count": null,
   "id": "c5411a54",
   "metadata": {},
   "outputs": [],
   "source": [
    "# Overlap count \n",
    "count_overlap <- nrow(subset(nhanes, pregnancy.status == 1 & low_income == 0 & ID_tfr == 1))\n",
    "\n",
    "# Print the count\n",
    "print(count_overlap)"
   ]
  },
  {
   "cell_type": "code",
   "execution_count": null,
   "id": "53295150",
   "metadata": {},
   "outputs": [],
   "source": [
    "# Overlap count \n",
    "count_overlap <- nrow(subset(nhanes, pregnancy.status == 1 & low_income == 0 & ID_tfr == 0))\n",
    "\n",
    "# Print the count\n",
    "print(count_overlap)"
   ]
  },
  {
   "cell_type": "markdown",
   "id": "cfb4a86c",
   "metadata": {},
   "source": [
    "###### Postpartum"
   ]
  },
  {
   "cell_type": "code",
   "execution_count": 20,
   "id": "60963e20",
   "metadata": {},
   "outputs": [
    {
     "data": {
      "text/plain": [
       "\n",
       "Call:\n",
       "svyglm(formula = depression ~ ID_ferr * factor(low_income), design = design, \n",
       "    subset = (pregnancy.status == 2), family = quasipoisson())\n",
       "\n",
       "Survey design:\n",
       "svydesign(ids = ~masked.variance.psu, strata = ~masked.variance.stratum, \n",
       "    weights = ~MEC10YR, nest = TRUE, data = nhanes)\n",
       "\n",
       "Coefficients:\n",
       "                            Estimate Std. Error t value Pr(>|t|)    \n",
       "(Intercept)                 -2.67379    0.47307  -5.652 1.09e-06 ***\n",
       "ID_ferr                      0.04734    0.71084   0.067    0.947    \n",
       "factor(low_income)1          0.29424    0.53671   0.548    0.586    \n",
       "ID_ferr:factor(low_income)1 -1.17889    1.12359  -1.049    0.300    \n",
       "---\n",
       "Signif. codes:  0 ‘***’ 0.001 ‘**’ 0.01 ‘*’ 0.05 ‘.’ 0.1 ‘ ’ 1\n",
       "\n",
       "(Dispersion parameter for quasipoisson family taken to be 0.9281597)\n",
       "\n",
       "Number of Fisher Scoring iterations: 6\n"
      ]
     },
     "metadata": {},
     "output_type": "display_data"
    }
   ],
   "source": [
    "# Fit the negative binomial regression w/ interaction term\n",
    "model_depression <- svyglm(depression ~ ID_ferr * factor(low_income), design, family = quasipoisson(),\n",
    "                           subset = (pregnancy.status == 2))\n",
    "\n",
    "# Print the model summary\n",
    "summary(model_depression)"
   ]
  },
  {
   "cell_type": "code",
   "execution_count": null,
   "id": "d7ed3bf3",
   "metadata": {},
   "outputs": [],
   "source": []
  },
  {
   "cell_type": "code",
   "execution_count": 21,
   "id": "e7125719",
   "metadata": {},
   "outputs": [
    {
     "data": {
      "text/plain": [
       "\n",
       "Call:\n",
       "svyglm(formula = dpq_score ~ ID_ferr * factor(low_income), design = design, \n",
       "    subset = (pregnancy.status == 0), family = quasipoisson())\n",
       "\n",
       "Survey design:\n",
       "svydesign(ids = ~masked.variance.psu, strata = ~masked.variance.stratum, \n",
       "    weights = ~MEC10YR, nest = TRUE, data = nhanes)\n",
       "\n",
       "Coefficients:\n",
       "                            Estimate Std. Error t value Pr(>|t|)    \n",
       "(Intercept)                  1.06317    0.03847  27.640  < 2e-16 ***\n",
       "ID_ferr                     -0.01062    0.07673  -0.138    0.890    \n",
       "factor(low_income)1          0.37841    0.04936   7.667 5.52e-11 ***\n",
       "ID_ferr:factor(low_income)1  0.01007    0.10690   0.094    0.925    \n",
       "---\n",
       "Signif. codes:  0 ‘***’ 0.001 ‘**’ 0.01 ‘*’ 0.05 ‘.’ 0.1 ‘ ’ 1\n",
       "\n",
       "(Dispersion parameter for quasipoisson family taken to be 5.950398)\n",
       "\n",
       "Number of Fisher Scoring iterations: 6\n"
      ]
     },
     "metadata": {},
     "output_type": "display_data"
    }
   ],
   "source": [
    "# Fit the model\n",
    "model_depression1 <- svyglm(dpq_score ~ ID_ferr * factor(low_income), \n",
    "                            design, family = quasipoisson(),\n",
    "                           subset = (pregnancy.status == 0))\n",
    "\n",
    "# Print the model summary\n",
    "summary(model_depression1)"
   ]
  },
  {
   "cell_type": "code",
   "execution_count": 23,
   "id": "a9e9e90e",
   "metadata": {},
   "outputs": [
    {
     "data": {
      "text/plain": [
       "\n",
       "Call:\n",
       "svyglm(formula = dpq_score ~ ID_ferr * factor(low_income), design = design, \n",
       "    subset = (pregnancy.status == 1), family = quasipoisson())\n",
       "\n",
       "Survey design:\n",
       "svydesign(ids = ~masked.variance.psu, strata = ~masked.variance.stratum, \n",
       "    weights = ~MEC10YR, nest = TRUE, data = nhanes)\n",
       "\n",
       "Coefficients:\n",
       "                            Estimate Std. Error t value Pr(>|t|)    \n",
       "(Intercept)                  1.11103    0.09020  12.318   <2e-16 ***\n",
       "ID_ferr                     -0.06971    0.21375  -0.326    0.745    \n",
       "factor(low_income)1          0.12785    0.12921   0.989    0.326    \n",
       "ID_ferr:factor(low_income)1  0.28639    0.25071   1.142    0.258    \n",
       "---\n",
       "Signif. codes:  0 ‘***’ 0.001 ‘**’ 0.01 ‘*’ 0.05 ‘.’ 0.1 ‘ ’ 1\n",
       "\n",
       "(Dispersion parameter for quasipoisson family taken to be 4.129307)\n",
       "\n",
       "Number of Fisher Scoring iterations: 5\n"
      ]
     },
     "metadata": {},
     "output_type": "display_data"
    }
   ],
   "source": [
    "# Fit the model\n",
    "model_depression1 <- svyglm(dpq_score ~ ID_ferr * factor(low_income), \n",
    "                            design, family = quasipoisson(),\n",
    "                           subset = (pregnancy.status == 1))\n",
    "\n",
    "# Print the model summary\n",
    "summary(model_depression1)"
   ]
  },
  {
   "cell_type": "code",
   "execution_count": 24,
   "id": "a1b91255",
   "metadata": {},
   "outputs": [
    {
     "data": {
      "text/plain": [
       "\n",
       "Call:\n",
       "svyglm(formula = dpq_score ~ ID_ferr * factor(low_income), design = design, \n",
       "    subset = (pregnancy.status == 2), family = quasipoisson())\n",
       "\n",
       "Survey design:\n",
       "svydesign(ids = ~masked.variance.psu, strata = ~masked.variance.stratum, \n",
       "    weights = ~MEC10YR, nest = TRUE, data = nhanes)\n",
       "\n",
       "Coefficients:\n",
       "                            Estimate Std. Error t value Pr(>|t|)    \n",
       "(Intercept)                   1.1854     0.1371   8.645 4.87e-11 ***\n",
       "ID_ferr                      -0.1195     0.2797  -0.427    0.671    \n",
       "factor(low_income)1           0.1066     0.1690   0.631    0.531    \n",
       "ID_ferr:factor(low_income)1  -0.3985     0.4026  -0.990    0.328    \n",
       "---\n",
       "Signif. codes:  0 ‘***’ 0.001 ‘**’ 0.01 ‘*’ 0.05 ‘.’ 0.1 ‘ ’ 1\n",
       "\n",
       "(Dispersion parameter for quasipoisson family taken to be 4.111556)\n",
       "\n",
       "Number of Fisher Scoring iterations: 5\n"
      ]
     },
     "metadata": {},
     "output_type": "display_data"
    }
   ],
   "source": [
    "# Fit the model\n",
    "model_depression1 <- svyglm(dpq_score ~ ID_ferr * factor(low_income), \n",
    "                            design, family = quasipoisson(),\n",
    "                           subset = (pregnancy.status == 2))\n",
    "\n",
    "# Print the model summary\n",
    "summary(model_depression1)"
   ]
  },
  {
   "cell_type": "code",
   "execution_count": 28,
   "id": "3b86546f",
   "metadata": {},
   "outputs": [
    {
     "data": {
      "text/plain": [
       "\n",
       "Call:\n",
       "svyglm(formula = dpq_score ~ ferritin * factor(low_income), design = design, \n",
       "    subset = (pregnancy.status == 2), family = quasipoisson())\n",
       "\n",
       "Survey design:\n",
       "svydesign(ids = ~masked.variance.psu, strata = ~masked.variance.stratum, \n",
       "    weights = ~MEC10YR, nest = TRUE, data = nhanes)\n",
       "\n",
       "Coefficients:\n",
       "                              Estimate Std. Error t value Pr(>|t|)    \n",
       "(Intercept)                   1.376035   0.173461   7.933 5.04e-10 ***\n",
       "ferritin                     -0.004691   0.002333  -2.011  0.05052 .  \n",
       "factor(low_income)1          -0.312326   0.183219  -1.705  0.09531 .  \n",
       "ferritin:factor(low_income)1  0.007614   0.002523   3.018  0.00422 ** \n",
       "---\n",
       "Signif. codes:  0 ‘***’ 0.001 ‘**’ 0.01 ‘*’ 0.05 ‘.’ 0.1 ‘ ’ 1\n",
       "\n",
       "(Dispersion parameter for quasipoisson family taken to be 4.007027)\n",
       "\n",
       "Number of Fisher Scoring iterations: 5\n"
      ]
     },
     "metadata": {},
     "output_type": "display_data"
    }
   ],
   "source": [
    "# Fit the model\n",
    "model_depression1 <- svyglm(dpq_score ~ ferritin * factor(low_income), \n",
    "                            design, family = quasipoisson(),\n",
    "                           subset = (pregnancy.status == 2))\n",
    "\n",
    "# Print the model summary\n",
    "summary(model_depression1)"
   ]
  },
  {
   "cell_type": "code",
   "execution_count": null,
   "id": "ded95487",
   "metadata": {},
   "outputs": [],
   "source": []
  },
  {
   "cell_type": "markdown",
   "id": "be339648",
   "metadata": {},
   "source": [
    "####### N"
   ]
  },
  {
   "cell_type": "code",
   "execution_count": null,
   "id": "3e031101",
   "metadata": {},
   "outputs": [],
   "source": [
    "# Overlap count \n",
    "count_overlap <- nrow(subset(nhanes, pregnancy.status == 2 & low_income == 1 & ID_ferr == 1))\n",
    "\n",
    "# Print the count\n",
    "print(count_overlap)"
   ]
  },
  {
   "cell_type": "code",
   "execution_count": null,
   "id": "a977e921",
   "metadata": {},
   "outputs": [],
   "source": [
    "# Overlap count \n",
    "count_overlap <- nrow(subset(nhanes, pregnancy.status == 2 & low_income == 0 & ID_tfr == 1))\n",
    "\n",
    "# Print the count\n",
    "print(count_overlap)"
   ]
  },
  {
   "cell_type": "code",
   "execution_count": null,
   "id": "c2b70707",
   "metadata": {},
   "outputs": [],
   "source": [
    "# Overlap count \n",
    "count_overlap <- nrow(subset(nhanes, pregnancy.status == 2 & low_income == 0 & ID_tfr == 0))\n",
    "\n",
    "# Print the count\n",
    "print(count_overlap)"
   ]
  },
  {
   "cell_type": "markdown",
   "id": "a3d34d4a",
   "metadata": {
    "heading_collapsed": true
   },
   "source": [
    "### Adjust for Race???????"
   ]
  },
  {
   "cell_type": "markdown",
   "id": "ba55e8dd",
   "metadata": {
    "hidden": true
   },
   "source": [
    "Small sample size per category, so I'm not sure this is the most reliable... Could look at the N breakdown per low income in each group which can tell us something, but would more data would produce more reliable models\n",
    "\n"
   ]
  },
  {
   "cell_type": "code",
   "execution_count": null,
   "id": "98c69393",
   "metadata": {
    "hidden": true
   },
   "outputs": [],
   "source": [
    "# Overlap count \n",
    "count_overlap <- nrow(subset(nhanes, pregnancy.status == 1 & low_income == 1 & race.ethnicity == 1))\n",
    "\n",
    "# Print the count\n",
    "print(count_overlap)"
   ]
  },
  {
   "cell_type": "code",
   "execution_count": null,
   "id": "8567fcbf",
   "metadata": {
    "hidden": true
   },
   "outputs": [],
   "source": [
    "# Overlap count \n",
    "count_overlap <- nrow(subset(nhanes, pregnancy.status == 1 & low_income == 0 & race.ethnicity == 1))\n",
    "\n",
    "# Print the count\n",
    "print(count_overlap)"
   ]
  },
  {
   "cell_type": "code",
   "execution_count": null,
   "id": "a521ac70",
   "metadata": {
    "hidden": true
   },
   "outputs": [],
   "source": [
    "# Overlap count \n",
    "count_overlap <- nrow(subset(nhanes, pregnancy.status == 1 & low_income == 1 & race.ethnicity == 3))\n",
    "\n",
    "# Print the count\n",
    "print(count_overlap)"
   ]
  },
  {
   "cell_type": "code",
   "execution_count": null,
   "id": "8ac75320",
   "metadata": {
    "hidden": true
   },
   "outputs": [],
   "source": [
    "# Overlap count \n",
    "count_overlap <- nrow(subset(nhanes, pregnancy.status == 1 & low_income == 0 & race.ethnicity == 3))\n",
    "\n",
    "# Print the count\n",
    "print(count_overlap)"
   ]
  },
  {
   "cell_type": "code",
   "execution_count": null,
   "id": "4aa09bf4",
   "metadata": {
    "hidden": true
   },
   "outputs": [],
   "source": [
    "# Overlap count \n",
    "count_overlap <- nrow(subset(nhanes, pregnancy.status == 1 & low_income == 1 & race.ethnicity == 4))\n",
    "\n",
    "# Print the count\n",
    "print(count_overlap)"
   ]
  },
  {
   "cell_type": "code",
   "execution_count": null,
   "id": "86417e85",
   "metadata": {
    "hidden": true
   },
   "outputs": [],
   "source": [
    "# Overlap count \n",
    "count_overlap <- nrow(subset(nhanes, pregnancy.status == 1 & low_income == 0 & race.ethnicity == 4))\n",
    "\n",
    "# Print the count\n",
    "print(count_overlap)"
   ]
  },
  {
   "cell_type": "code",
   "execution_count": null,
   "id": "9528388b",
   "metadata": {
    "hidden": true
   },
   "outputs": [],
   "source": [
    "# Overlap count \n",
    "count_overlap <- nrow(subset(nhanes, pregnancy.status == 1 & low_income == 1 & race.ethnicity == 5))\n",
    "\n",
    "# Print the count\n",
    "print(count_overlap)"
   ]
  },
  {
   "cell_type": "code",
   "execution_count": null,
   "id": "53884422",
   "metadata": {
    "hidden": true
   },
   "outputs": [],
   "source": [
    "# Overlap count \n",
    "count_overlap <- nrow(subset(nhanes, pregnancy.status == 1 & low_income == 0 & race.ethnicity == 5))\n",
    "\n",
    "# Print the count\n",
    "print(count_overlap)"
   ]
  },
  {
   "cell_type": "code",
   "execution_count": null,
   "id": "b2681a94",
   "metadata": {
    "hidden": true
   },
   "outputs": [],
   "source": []
  },
  {
   "cell_type": "code",
   "execution_count": null,
   "id": "d0c54852",
   "metadata": {
    "hidden": true
   },
   "outputs": [],
   "source": [
    "model_depression1 <- svyglm(depression ~ ID_ferr * factor(low_income) + factor(race.ethnicity), \n",
    "                            design = design, \n",
    "                            subset = (pregnancy.status == 1), \n",
    "                            family = quasipoisson())\n",
    "# Print the model summary\n",
    "summary(model_depression1)"
   ]
  },
  {
   "cell_type": "code",
   "execution_count": null,
   "id": "57a5752d",
   "metadata": {
    "hidden": true
   },
   "outputs": [],
   "source": []
  },
  {
   "cell_type": "code",
   "execution_count": null,
   "id": "df914b5d",
   "metadata": {
    "hidden": true
   },
   "outputs": [],
   "source": [
    "# Assuming 'race.ethnicity' is already a factor. If not, convert it first:\n",
    "nhanes$race.ethnicity <- factor(nhanes$race.ethnicity)\n",
    "\n",
    "# Change the reference level of 'race.ethnicity' to '3'\n",
    "nhanes$race.ethnicity <- relevel(nhanes$race.ethnicity, ref = \"3\")\n",
    "\n",
    "\n"
   ]
  },
  {
   "cell_type": "code",
   "execution_count": null,
   "id": "82b723cd",
   "metadata": {
    "hidden": true
   },
   "outputs": [],
   "source": [
    "design <- svydesign(ids = ~masked.variance.psu, \n",
    "                           strata = ~masked.variance.stratum, \n",
    "                           weights = ~MEC10YR,\n",
    "                           nest = TRUE,\n",
    "                           data = nhanes)"
   ]
  },
  {
   "cell_type": "code",
   "execution_count": null,
   "id": "7e1a9d9d",
   "metadata": {
    "hidden": true
   },
   "outputs": [],
   "source": [
    "# Now, fitting the model with the updated reference group\n",
    "model_depression1 <- svyglm(depression ~ ID_ferr * factor(low_income) * factor(race.ethnicity), \n",
    "                            design = design, \n",
    "                            subset = (pregnancy.status == 1), \n",
    "                            family = quasipoisson())\n",
    "\n",
    "summary(model_depression1)"
   ]
  },
  {
   "cell_type": "markdown",
   "id": "7d2c4162",
   "metadata": {
    "heading_collapsed": true
   },
   "source": [
    "## Sanity checks"
   ]
  },
  {
   "cell_type": "markdown",
   "id": "a65aa485",
   "metadata": {
    "heading_collapsed": true,
    "hidden": true
   },
   "source": [
    "### Depression count as a function of pregnancy status"
   ]
  },
  {
   "cell_type": "code",
   "execution_count": null,
   "id": "405d24a5",
   "metadata": {
    "hidden": true
   },
   "outputs": [],
   "source": [
    "# Model depression count as a function of pregnancy status\n",
    "model_depression_pregnancy <- svyglm(depression ~ pregnancy.status, \n",
    "                                     design = design, \n",
    "                                     family = quasipoisson())\n",
    "\n",
    "# Print the summary of the model\n",
    "summary(model_depression_pregnancy)\n"
   ]
  },
  {
   "cell_type": "code",
   "execution_count": null,
   "id": "6b4747c5",
   "metadata": {
    "hidden": true,
    "scrolled": true
   },
   "outputs": [],
   "source": [
    "# Limit pregnancy status to 0 and 1\n",
    "limited_design <- subset(design, pregnancy.status %in% c(0, 1))\n",
    "\n",
    "# Now, model using the limited design\n",
    "model_depression_pregnancy <- svyglm(depression ~ pregnancy.status, \n",
    "                                     design = limited_design, \n",
    "                                     family = quasipoisson())\n",
    "\n",
    "# Summary of the model\n",
    "summary(model_depression_pregnancy)"
   ]
  },
  {
   "cell_type": "markdown",
   "id": "5830a179",
   "metadata": {
    "hidden": true
   },
   "source": [
    "pregnancy.status -0.44070: This coefficient represents the expected change in the log count of depression when moving from non-pregnant (0) to pregnant (1). A value of -0.44070 suggests that being pregnant is associated with a decrease in the log count of depression compared to not being pregnant, holding other variables constant. However, the p-value of 0.0559 indicates that this result is marginally significant; it's close to the conventional significance level of 0.05 but slightly above it. This suggests that there is a trend towards lower depression counts among pregnant individuals compared to non-pregnant individuals, but the evidence is not strong enough to conclusively reject the null hypothesis of no difference at the 5% significance level."
   ]
  },
  {
   "cell_type": "markdown",
   "id": "58eb946a",
   "metadata": {
    "heading_collapsed": true,
    "hidden": true
   },
   "source": [
    "### Depression count as a function of low income"
   ]
  },
  {
   "cell_type": "code",
   "execution_count": null,
   "id": "d195576d",
   "metadata": {
    "hidden": true
   },
   "outputs": [],
   "source": [
    "# Model depression count as a function of low income\n",
    "model_depression_check <- svyglm(depression ~ low_income, \n",
    "                                     design = design, \n",
    "                                     family = quasipoisson())\n",
    "\n",
    "# Print the summary of the model\n",
    "summary(model_depression_check)\n"
   ]
  },
  {
   "cell_type": "markdown",
   "id": "db1dec04",
   "metadata": {
    "hidden": true
   },
   "source": [
    "### Depression count as a function of iron deficiency"
   ]
  },
  {
   "cell_type": "code",
   "execution_count": null,
   "id": "6fba3d91",
   "metadata": {
    "hidden": true
   },
   "outputs": [],
   "source": []
  },
  {
   "cell_type": "code",
   "execution_count": null,
   "id": "0ad8961a",
   "metadata": {
    "hidden": true
   },
   "outputs": [],
   "source": []
  },
  {
   "cell_type": "code",
   "execution_count": null,
   "id": "130bf5dc",
   "metadata": {
    "hidden": true
   },
   "outputs": [],
   "source": []
  },
  {
   "cell_type": "code",
   "execution_count": null,
   "id": "280eeb74",
   "metadata": {
    "hidden": true
   },
   "outputs": [],
   "source": []
  },
  {
   "cell_type": "code",
   "execution_count": null,
   "id": "a421e419",
   "metadata": {
    "hidden": true
   },
   "outputs": [],
   "source": []
  },
  {
   "cell_type": "code",
   "execution_count": null,
   "id": "45c0ccf9",
   "metadata": {
    "hidden": true
   },
   "outputs": [],
   "source": []
  },
  {
   "cell_type": "code",
   "execution_count": null,
   "id": "505cfdc2",
   "metadata": {
    "hidden": true
   },
   "outputs": [],
   "source": []
  },
  {
   "cell_type": "code",
   "execution_count": null,
   "id": "d0898d0e",
   "metadata": {
    "hidden": true
   },
   "outputs": [],
   "source": []
  },
  {
   "cell_type": "code",
   "execution_count": null,
   "id": "d3703281",
   "metadata": {
    "hidden": true
   },
   "outputs": [],
   "source": []
  },
  {
   "cell_type": "code",
   "execution_count": null,
   "id": "2d728b8b",
   "metadata": {
    "hidden": true
   },
   "outputs": [],
   "source": []
  },
  {
   "cell_type": "code",
   "execution_count": null,
   "id": "26f54374",
   "metadata": {
    "hidden": true
   },
   "outputs": [],
   "source": []
  },
  {
   "cell_type": "code",
   "execution_count": null,
   "id": "5234bdd4",
   "metadata": {
    "hidden": true
   },
   "outputs": [],
   "source": []
  },
  {
   "cell_type": "code",
   "execution_count": null,
   "id": "6ee2a67f",
   "metadata": {
    "hidden": true
   },
   "outputs": [],
   "source": []
  },
  {
   "cell_type": "code",
   "execution_count": null,
   "id": "06c2d7c7",
   "metadata": {
    "hidden": true
   },
   "outputs": [],
   "source": []
  },
  {
   "cell_type": "code",
   "execution_count": null,
   "id": "43cc57e9",
   "metadata": {
    "hidden": true
   },
   "outputs": [],
   "source": []
  },
  {
   "cell_type": "code",
   "execution_count": null,
   "id": "98aa396f",
   "metadata": {
    "hidden": true
   },
   "outputs": [],
   "source": []
  },
  {
   "cell_type": "code",
   "execution_count": null,
   "id": "0cbc67e7",
   "metadata": {
    "hidden": true
   },
   "outputs": [],
   "source": []
  },
  {
   "cell_type": "code",
   "execution_count": null,
   "id": "b2909b8a",
   "metadata": {
    "hidden": true
   },
   "outputs": [],
   "source": []
  },
  {
   "cell_type": "code",
   "execution_count": null,
   "id": "8bc55a5a",
   "metadata": {
    "hidden": true
   },
   "outputs": [],
   "source": []
  },
  {
   "cell_type": "code",
   "execution_count": null,
   "id": "227e78ec",
   "metadata": {
    "hidden": true
   },
   "outputs": [],
   "source": []
  }
 ],
 "metadata": {
  "kernelspec": {
   "display_name": "R",
   "language": "R",
   "name": "ir"
  },
  "language_info": {
   "codemirror_mode": "r",
   "file_extension": ".r",
   "mimetype": "text/x-r-source",
   "name": "R",
   "pygments_lexer": "r",
   "version": "4.3.2"
  }
 },
 "nbformat": 4,
 "nbformat_minor": 5
}
